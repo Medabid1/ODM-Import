{
 "cells": [
  {
   "cell_type": "code",
   "execution_count": 1,
   "metadata": {},
   "outputs": [],
   "source": [
    "import pandas as pd\n",
    "import plotly.express as px\n",
    "import odm\n",
    "import visualization_helpers\n",
    "from sqlalchemy import create_engine\n",
    "pd.options.display.max_columns = None\n",
    "from jupyter_dash import JupyterDash"
   ]
  },
  {
   "cell_type": "code",
   "execution_count": 2,
   "metadata": {},
   "outputs": [],
   "source": [
    "#connect to data source\n",
    "path = \"Data/WBE.db\"\n",
    "connection_string= f\"sqlite:///{path}\"\n",
    "engine = create_engine(connection_string)\n",
    "# Prepare dummy data \n",
    "polys = visualization_helpers.create_dummy_polygons(\"Data/polygons\")\n",
    "# import dummy data into db\n",
    "odm.replace_into_db(polys, \"Polygon\", engine)\n",
    "\n",
    "\n",
    "#collect and parse data in data source\n",
    "odm_instance = odm.Odm()\n",
    "odm_instance.read_db(connection_string)\n",
    "\n",
    "file_path = \"Data/Ville de Québec 202102.xlsx\"\n",
    "odm_instance.read_excel(file_path, table_names=[\"Site\"])\n",
    "\n",
    "samples = odm_instance.combine_per_sample()\n",
    "polys = odm_instance.data[\"Polygon\"]\n",
    "#edit the samples data so that they point to the dummy polygons\n",
    "east_poly_id = polys.loc[polys[\"Polygon.name\"].str.contains(\"east\"), [\"Polygon.polygonID\"]].values[0][0]\n",
    "west_poly_id = polys.loc[polys[\"Polygon.name\"].str.contains(\"west\"), [\"Polygon.polygonID\"]].values[0][0]\n",
    "\n",
    "def fill_poly_id(row):\n",
    "    if \"Quebec Est\" in row[\"Site.name\"]:\n",
    "        return east_poly_id\n",
    "    elif \"Quebec Ouest\" in row[\"Site.name\"]:\n",
    "        return  west_poly_id\n",
    "    return np.nan\n",
    "\n",
    "samples[\"Site.polygonID\"] = samples.apply(lambda x: fill_poly_id(x), axis=1)\n",
    "\n",
    "odm_instance.parse_geometry()\n"
   ]
  },
  {
   "cell_type": "code",
   "execution_count": 3,
   "metadata": {},
   "outputs": [
    {
     "name": "stdout",
     "output_type": "stream",
     "text": [
      "46\n",
      "46\n"
     ]
    }
   ],
   "source": [
    "print(len(samples))\n",
    "samples = samples[~samples.index.duplicated(keep='first')]\n",
    "print(len(samples))"
   ]
  },
  {
   "cell_type": "code",
   "execution_count": 4,
   "metadata": {},
   "outputs": [
    {
     "data": {
      "application/vnd.plotly.v1+json": {
       "config": {
        "plotlyServerURL": "https://plot.ly"
       },
       "data": [
        {
         "colorscale": [
          [
           0,
           "#636efa"
          ],
          [
           1,
           "#636efa"
          ]
         ],
         "geojson": {
          "features": [
           {
            "geometry": {
             "coordinates": [
              [
               [
                -71.22573852539062,
                46.79112793274763
               ],
               [
                -71.23878479003905,
                46.782665130957525
               ],
               [
                -71.24221801757812,
                46.770438735006586
               ],
               [
                -71.25732421875,
                46.76714653871027
               ],
               [
                -71.29302978515625,
                46.74738913515841
               ],
               [
                -71.34384155273438,
                46.74691863249301
               ],
               [
                -71.35276794433594,
                46.73515473113437
               ],
               [
                -71.39602661132812,
                46.73609593770121
               ],
               [
                -71.3836669921875,
                46.76902781837645
               ],
               [
                -71.40769958496094,
                46.785956378641224
               ],
               [
                -71.3836669921875,
                46.803819640791566
               ],
               [
                -71.42898559570312,
                46.83483121393447
               ],
               [
                -71.34521484375,
                46.85737385116763
               ],
               [
                -71.28959655761719,
                46.81133924039194
               ],
               [
                -71.22573852539062,
                46.79112793274763
               ]
              ]
             ],
             "type": "Polygon"
            },
            "id": 0,
            "properties": {
             "polygonID": "dummy_west_qc"
            },
            "type": "Feature"
           },
           {
            "geometry": {
             "coordinates": [
              [
               [
                -71.2240219116211,
                46.794418663019734
               ],
               [
                -71.28822326660156,
                46.81439377746013
               ],
               [
                -71.34178161621094,
                46.862069043222895
               ],
               [
                -71.33216857910155,
                46.873570528566766
               ],
               [
                -71.25423431396483,
                46.89586230605985
               ],
               [
                -71.21818542480469,
                46.858547687673266
               ],
               [
                -71.19415283203125,
                46.83483121393447
               ],
               [
                -71.19861602783203,
                46.81956259881518
               ],
               [
                -71.20479583740234,
                46.80428964656369
               ],
               [
                -71.2240219116211,
                46.794418663019734
               ]
              ]
             ],
             "type": "Polygon"
            },
            "id": 1,
            "properties": {
             "polygonID": "dummy_east_qc"
            },
            "type": "Feature"
           }
          ],
          "type": "FeatureCollection"
         },
         "hovertemplate": "Site.polygonID=%{location}<extra></extra>",
         "locations": [
          "dummy_east_qc",
          "dummy_west_qc",
          "dummy_east_qc",
          "dummy_west_qc",
          "dummy_east_qc",
          "dummy_west_qc",
          "dummy_east_qc",
          "dummy_west_qc",
          "dummy_east_qc",
          "dummy_west_qc",
          "dummy_east_qc",
          "dummy_west_qc",
          "dummy_east_qc",
          "dummy_west_qc",
          "dummy_east_qc",
          "dummy_west_qc",
          "dummy_east_qc",
          "dummy_west_qc",
          "dummy_east_qc",
          "dummy_west_qc",
          "dummy_east_qc",
          "dummy_west_qc",
          "dummy_east_qc",
          "dummy_west_qc",
          "dummy_east_qc",
          "dummy_west_qc",
          "dummy_east_qc",
          "dummy_west_qc",
          "dummy_east_qc",
          "dummy_west_qc",
          "dummy_east_qc",
          "dummy_west_qc",
          "dummy_east_qc",
          "dummy_west_qc",
          "dummy_east_qc",
          "dummy_west_qc",
          "dummy_east_qc",
          "dummy_west_qc",
          "dummy_east_qc",
          "dummy_west_qc",
          "dummy_east_qc",
          "dummy_west_qc",
          "dummy_east_qc",
          "dummy_east_qc",
          "dummy_west_qc",
          "dummy_west_qc"
         ],
         "name": "",
         "showlegend": true,
         "showscale": false,
         "subplot": "mapbox",
         "type": "choroplethmapbox",
         "z": [
          1,
          1,
          1,
          1,
          1,
          1,
          1,
          1,
          1,
          1,
          1,
          1,
          1,
          1,
          1,
          1,
          1,
          1,
          1,
          1,
          1,
          1,
          1,
          1,
          1,
          1,
          1,
          1,
          1,
          1,
          1,
          1,
          1,
          1,
          1,
          1,
          1,
          1,
          1,
          1,
          1,
          1,
          1,
          1,
          1,
          1
         ]
        }
       ],
       "layout": {
        "clickmode": "event+select",
        "height": 500,
        "legend": {
         "orientation": "h",
         "tracegroupgap": 0,
         "xanchor": "left",
         "yanchor": "top"
        },
        "mapbox": {
         "center": {},
         "domain": {
          "x": [
           0,
           1
          ],
          "y": [
           0,
           1
          ]
         },
         "zoom": 8
        },
        "margin": {
         "t": 60
        },
        "template": {
         "data": {
          "bar": [
           {
            "error_x": {
             "color": "#2a3f5f"
            },
            "error_y": {
             "color": "#2a3f5f"
            },
            "marker": {
             "line": {
              "color": "#E5ECF6",
              "width": 0.5
             }
            },
            "type": "bar"
           }
          ],
          "barpolar": [
           {
            "marker": {
             "line": {
              "color": "#E5ECF6",
              "width": 0.5
             }
            },
            "type": "barpolar"
           }
          ],
          "carpet": [
           {
            "aaxis": {
             "endlinecolor": "#2a3f5f",
             "gridcolor": "white",
             "linecolor": "white",
             "minorgridcolor": "white",
             "startlinecolor": "#2a3f5f"
            },
            "baxis": {
             "endlinecolor": "#2a3f5f",
             "gridcolor": "white",
             "linecolor": "white",
             "minorgridcolor": "white",
             "startlinecolor": "#2a3f5f"
            },
            "type": "carpet"
           }
          ],
          "choropleth": [
           {
            "colorbar": {
             "outlinewidth": 0,
             "ticks": ""
            },
            "type": "choropleth"
           }
          ],
          "contour": [
           {
            "colorbar": {
             "outlinewidth": 0,
             "ticks": ""
            },
            "colorscale": [
             [
              0,
              "#0d0887"
             ],
             [
              0.1111111111111111,
              "#46039f"
             ],
             [
              0.2222222222222222,
              "#7201a8"
             ],
             [
              0.3333333333333333,
              "#9c179e"
             ],
             [
              0.4444444444444444,
              "#bd3786"
             ],
             [
              0.5555555555555556,
              "#d8576b"
             ],
             [
              0.6666666666666666,
              "#ed7953"
             ],
             [
              0.7777777777777778,
              "#fb9f3a"
             ],
             [
              0.8888888888888888,
              "#fdca26"
             ],
             [
              1,
              "#f0f921"
             ]
            ],
            "type": "contour"
           }
          ],
          "contourcarpet": [
           {
            "colorbar": {
             "outlinewidth": 0,
             "ticks": ""
            },
            "type": "contourcarpet"
           }
          ],
          "heatmap": [
           {
            "colorbar": {
             "outlinewidth": 0,
             "ticks": ""
            },
            "colorscale": [
             [
              0,
              "#0d0887"
             ],
             [
              0.1111111111111111,
              "#46039f"
             ],
             [
              0.2222222222222222,
              "#7201a8"
             ],
             [
              0.3333333333333333,
              "#9c179e"
             ],
             [
              0.4444444444444444,
              "#bd3786"
             ],
             [
              0.5555555555555556,
              "#d8576b"
             ],
             [
              0.6666666666666666,
              "#ed7953"
             ],
             [
              0.7777777777777778,
              "#fb9f3a"
             ],
             [
              0.8888888888888888,
              "#fdca26"
             ],
             [
              1,
              "#f0f921"
             ]
            ],
            "type": "heatmap"
           }
          ],
          "heatmapgl": [
           {
            "colorbar": {
             "outlinewidth": 0,
             "ticks": ""
            },
            "colorscale": [
             [
              0,
              "#0d0887"
             ],
             [
              0.1111111111111111,
              "#46039f"
             ],
             [
              0.2222222222222222,
              "#7201a8"
             ],
             [
              0.3333333333333333,
              "#9c179e"
             ],
             [
              0.4444444444444444,
              "#bd3786"
             ],
             [
              0.5555555555555556,
              "#d8576b"
             ],
             [
              0.6666666666666666,
              "#ed7953"
             ],
             [
              0.7777777777777778,
              "#fb9f3a"
             ],
             [
              0.8888888888888888,
              "#fdca26"
             ],
             [
              1,
              "#f0f921"
             ]
            ],
            "type": "heatmapgl"
           }
          ],
          "histogram": [
           {
            "marker": {
             "colorbar": {
              "outlinewidth": 0,
              "ticks": ""
             }
            },
            "type": "histogram"
           }
          ],
          "histogram2d": [
           {
            "colorbar": {
             "outlinewidth": 0,
             "ticks": ""
            },
            "colorscale": [
             [
              0,
              "#0d0887"
             ],
             [
              0.1111111111111111,
              "#46039f"
             ],
             [
              0.2222222222222222,
              "#7201a8"
             ],
             [
              0.3333333333333333,
              "#9c179e"
             ],
             [
              0.4444444444444444,
              "#bd3786"
             ],
             [
              0.5555555555555556,
              "#d8576b"
             ],
             [
              0.6666666666666666,
              "#ed7953"
             ],
             [
              0.7777777777777778,
              "#fb9f3a"
             ],
             [
              0.8888888888888888,
              "#fdca26"
             ],
             [
              1,
              "#f0f921"
             ]
            ],
            "type": "histogram2d"
           }
          ],
          "histogram2dcontour": [
           {
            "colorbar": {
             "outlinewidth": 0,
             "ticks": ""
            },
            "colorscale": [
             [
              0,
              "#0d0887"
             ],
             [
              0.1111111111111111,
              "#46039f"
             ],
             [
              0.2222222222222222,
              "#7201a8"
             ],
             [
              0.3333333333333333,
              "#9c179e"
             ],
             [
              0.4444444444444444,
              "#bd3786"
             ],
             [
              0.5555555555555556,
              "#d8576b"
             ],
             [
              0.6666666666666666,
              "#ed7953"
             ],
             [
              0.7777777777777778,
              "#fb9f3a"
             ],
             [
              0.8888888888888888,
              "#fdca26"
             ],
             [
              1,
              "#f0f921"
             ]
            ],
            "type": "histogram2dcontour"
           }
          ],
          "mesh3d": [
           {
            "colorbar": {
             "outlinewidth": 0,
             "ticks": ""
            },
            "type": "mesh3d"
           }
          ],
          "parcoords": [
           {
            "line": {
             "colorbar": {
              "outlinewidth": 0,
              "ticks": ""
             }
            },
            "type": "parcoords"
           }
          ],
          "pie": [
           {
            "automargin": true,
            "type": "pie"
           }
          ],
          "scatter": [
           {
            "marker": {
             "colorbar": {
              "outlinewidth": 0,
              "ticks": ""
             }
            },
            "type": "scatter"
           }
          ],
          "scatter3d": [
           {
            "line": {
             "colorbar": {
              "outlinewidth": 0,
              "ticks": ""
             }
            },
            "marker": {
             "colorbar": {
              "outlinewidth": 0,
              "ticks": ""
             }
            },
            "type": "scatter3d"
           }
          ],
          "scattercarpet": [
           {
            "marker": {
             "colorbar": {
              "outlinewidth": 0,
              "ticks": ""
             }
            },
            "type": "scattercarpet"
           }
          ],
          "scattergeo": [
           {
            "marker": {
             "colorbar": {
              "outlinewidth": 0,
              "ticks": ""
             }
            },
            "type": "scattergeo"
           }
          ],
          "scattergl": [
           {
            "marker": {
             "colorbar": {
              "outlinewidth": 0,
              "ticks": ""
             }
            },
            "type": "scattergl"
           }
          ],
          "scattermapbox": [
           {
            "marker": {
             "colorbar": {
              "outlinewidth": 0,
              "ticks": ""
             }
            },
            "type": "scattermapbox"
           }
          ],
          "scatterpolar": [
           {
            "marker": {
             "colorbar": {
              "outlinewidth": 0,
              "ticks": ""
             }
            },
            "type": "scatterpolar"
           }
          ],
          "scatterpolargl": [
           {
            "marker": {
             "colorbar": {
              "outlinewidth": 0,
              "ticks": ""
             }
            },
            "type": "scatterpolargl"
           }
          ],
          "scatterternary": [
           {
            "marker": {
             "colorbar": {
              "outlinewidth": 0,
              "ticks": ""
             }
            },
            "type": "scatterternary"
           }
          ],
          "surface": [
           {
            "colorbar": {
             "outlinewidth": 0,
             "ticks": ""
            },
            "colorscale": [
             [
              0,
              "#0d0887"
             ],
             [
              0.1111111111111111,
              "#46039f"
             ],
             [
              0.2222222222222222,
              "#7201a8"
             ],
             [
              0.3333333333333333,
              "#9c179e"
             ],
             [
              0.4444444444444444,
              "#bd3786"
             ],
             [
              0.5555555555555556,
              "#d8576b"
             ],
             [
              0.6666666666666666,
              "#ed7953"
             ],
             [
              0.7777777777777778,
              "#fb9f3a"
             ],
             [
              0.8888888888888888,
              "#fdca26"
             ],
             [
              1,
              "#f0f921"
             ]
            ],
            "type": "surface"
           }
          ],
          "table": [
           {
            "cells": {
             "fill": {
              "color": "#EBF0F8"
             },
             "line": {
              "color": "white"
             }
            },
            "header": {
             "fill": {
              "color": "#C8D4E3"
             },
             "line": {
              "color": "white"
             }
            },
            "type": "table"
           }
          ]
         },
         "layout": {
          "annotationdefaults": {
           "arrowcolor": "#2a3f5f",
           "arrowhead": 0,
           "arrowwidth": 1
          },
          "autotypenumbers": "strict",
          "coloraxis": {
           "colorbar": {
            "outlinewidth": 0,
            "ticks": ""
           }
          },
          "colorscale": {
           "diverging": [
            [
             0,
             "#8e0152"
            ],
            [
             0.1,
             "#c51b7d"
            ],
            [
             0.2,
             "#de77ae"
            ],
            [
             0.3,
             "#f1b6da"
            ],
            [
             0.4,
             "#fde0ef"
            ],
            [
             0.5,
             "#f7f7f7"
            ],
            [
             0.6,
             "#e6f5d0"
            ],
            [
             0.7,
             "#b8e186"
            ],
            [
             0.8,
             "#7fbc41"
            ],
            [
             0.9,
             "#4d9221"
            ],
            [
             1,
             "#276419"
            ]
           ],
           "sequential": [
            [
             0,
             "#0d0887"
            ],
            [
             0.1111111111111111,
             "#46039f"
            ],
            [
             0.2222222222222222,
             "#7201a8"
            ],
            [
             0.3333333333333333,
             "#9c179e"
            ],
            [
             0.4444444444444444,
             "#bd3786"
            ],
            [
             0.5555555555555556,
             "#d8576b"
            ],
            [
             0.6666666666666666,
             "#ed7953"
            ],
            [
             0.7777777777777778,
             "#fb9f3a"
            ],
            [
             0.8888888888888888,
             "#fdca26"
            ],
            [
             1,
             "#f0f921"
            ]
           ],
           "sequentialminus": [
            [
             0,
             "#0d0887"
            ],
            [
             0.1111111111111111,
             "#46039f"
            ],
            [
             0.2222222222222222,
             "#7201a8"
            ],
            [
             0.3333333333333333,
             "#9c179e"
            ],
            [
             0.4444444444444444,
             "#bd3786"
            ],
            [
             0.5555555555555556,
             "#d8576b"
            ],
            [
             0.6666666666666666,
             "#ed7953"
            ],
            [
             0.7777777777777778,
             "#fb9f3a"
            ],
            [
             0.8888888888888888,
             "#fdca26"
            ],
            [
             1,
             "#f0f921"
            ]
           ]
          },
          "colorway": [
           "#636efa",
           "#EF553B",
           "#00cc96",
           "#ab63fa",
           "#FFA15A",
           "#19d3f3",
           "#FF6692",
           "#B6E880",
           "#FF97FF",
           "#FECB52"
          ],
          "font": {
           "color": "#2a3f5f"
          },
          "geo": {
           "bgcolor": "white",
           "lakecolor": "white",
           "landcolor": "#E5ECF6",
           "showlakes": true,
           "showland": true,
           "subunitcolor": "white"
          },
          "hoverlabel": {
           "align": "left"
          },
          "hovermode": "closest",
          "mapbox": {
           "style": "light"
          },
          "paper_bgcolor": "white",
          "plot_bgcolor": "#E5ECF6",
          "polar": {
           "angularaxis": {
            "gridcolor": "white",
            "linecolor": "white",
            "ticks": ""
           },
           "bgcolor": "#E5ECF6",
           "radialaxis": {
            "gridcolor": "white",
            "linecolor": "white",
            "ticks": ""
           }
          },
          "scene": {
           "xaxis": {
            "backgroundcolor": "#E5ECF6",
            "gridcolor": "white",
            "gridwidth": 2,
            "linecolor": "white",
            "showbackground": true,
            "ticks": "",
            "zerolinecolor": "white"
           },
           "yaxis": {
            "backgroundcolor": "#E5ECF6",
            "gridcolor": "white",
            "gridwidth": 2,
            "linecolor": "white",
            "showbackground": true,
            "ticks": "",
            "zerolinecolor": "white"
           },
           "zaxis": {
            "backgroundcolor": "#E5ECF6",
            "gridcolor": "white",
            "gridwidth": 2,
            "linecolor": "white",
            "showbackground": true,
            "ticks": "",
            "zerolinecolor": "white"
           }
          },
          "shapedefaults": {
           "line": {
            "color": "#2a3f5f"
           }
          },
          "ternary": {
           "aaxis": {
            "gridcolor": "white",
            "linecolor": "white",
            "ticks": ""
           },
           "baxis": {
            "gridcolor": "white",
            "linecolor": "white",
            "ticks": ""
           },
           "bgcolor": "#E5ECF6",
           "caxis": {
            "gridcolor": "white",
            "linecolor": "white",
            "ticks": ""
           }
          },
          "title": {
           "x": 0.05
          },
          "xaxis": {
           "automargin": true,
           "gridcolor": "white",
           "linecolor": "white",
           "ticks": "",
           "title": {
            "standoff": 15
           },
           "zerolinecolor": "white",
           "zerolinewidth": 2
          },
          "yaxis": {
           "automargin": true,
           "gridcolor": "white",
           "linecolor": "white",
           "ticks": "",
           "title": {
            "standoff": 15
           },
           "zerolinecolor": "white",
           "zerolinewidth": 2
          }
         }
        }
       }
      }
     },
     "metadata": {},
     "output_type": "display_data"
    }
   ],
   "source": [
    "plot_samples = samples.to_dict()\n",
    "fig = px.choropleth_mapbox(\n",
    "        data_frame=samples,\n",
    "        geojson=odm_instance.geo,\n",
    "        locations=\"Site.polygonID\",\n",
    "    )\n",
    "fig.update_layout(clickmode=\"event+select\", height=500, legend_orientation=\"h\", legend_yanchor=\"top\", legend_xanchor=\"left\")\n",
    "fig.show()"
   ]
  },
  {
   "cell_type": "code",
   "execution_count": 5,
   "metadata": {
    "tags": []
   },
   "outputs": [
    {
     "name": "stdout",
     "output_type": "stream",
     "text": [
      "Dash app running on http://localhost:8050/\n"
     ]
    }
   ],
   "source": [
    "from typing import Text\n",
    "import dash\n",
    "import json\n",
    "import pandas as pd\n",
    "import plotly.express as px\n",
    "pd.options.display.max_columns = None\n",
    "\n",
    "import plotly.express as px\n",
    "import plotly.io as pio\n",
    "import dash_core_components as dcc\n",
    "import dash_html_components as html\n",
    "from dash.dependencies import Input, Output\n",
    "\n",
    "pio.templates.default = \"plotly_white\"\n",
    "\n",
    "geo = odm_instance.geo\n",
    "map_center = odm_instance.map_center\n",
    "\n",
    "def draw_map():\n",
    "    fig = px.choropleth_mapbox(\n",
    "        samples,\n",
    "        geojson=geo,\n",
    "        locations=\"Site.polygonID\",\n",
    "        featureidkey=\"properties.polygonID\",\n",
    "        custom_data=[\"Site.name\"],\n",
    "        color=\"Site.name\",\n",
    "        labels={\"name\":\"Sampling Location\"},\n",
    "        center=map_center,\n",
    "        opacity=0.5,\n",
    "        mapbox_style=\"open-street-map\",\n",
    "        zoom=10,\n",
    "    )\n",
    "    fig.update_layout(clickmode=\"event+select\", height=800, legend_orientation=\"h\", legend_yanchor=\"top\", legend_xanchor=\"left\")\n",
    "    return fig\n",
    "\n",
    "def get_timeseries_names(names):\n",
    "    return [name for name in names if \"date\" in name.lower()]\n",
    "def get_values_names(names):\n",
    "    return [name for name in names if \"value\" in name.lower()]\n",
    "\n",
    "# Build App\n",
    "app = JupyterDash(__name__)\n",
    "app.layout = html.Div([\n",
    "    dcc.Store(id=\"site-store\"),\n",
    "    html.H1(\"Data exploration - COVID Wastewater data\", style={\"textAlign\":\"center\"}),\n",
    "    html.Br(),\n",
    "    html.Div([\n",
    "        html.Div([\n",
    "            html.Label(\"X-Axis\"),\n",
    "            html.Br(),\n",
    "            dcc.Dropdown(\n",
    "                id=\"x-dropdown-1\",\n",
    "            )],\n",
    "            style={'width': '45%', 'display': 'inlineBlock', 'float': 'left'}),\n",
    "        html.Div([\n",
    "            html.Label(\"Y-Axis\"),\n",
    "            html.Br(),\n",
    "            dcc.Dropdown(\n",
    "                id=\"y-dropdown-1\",\n",
    "            )],\n",
    "            style={'width': '45%', 'display': 'inlineBlock', 'float': 'left'}\n",
    "        ),\n",
    "        html.Br(),\n",
    "        html.Br(),\n",
    "        html.Br(),\n",
    "        html.Br(),\n",
    "\n",
    "        dcc.Graph(id='timeseries-1'),\n",
    "    ], style={'width': '45%', 'display': 'inlineBlock', 'float': 'right'}),\n",
    "    html.Div([\n",
    "        dcc.Graph(id='map-1', figure=draw_map()),\n",
    "    ], style={'width': '45%', 'display': 'inlineBlock', 'float': 'right'}),\n",
    "    html.Br(),\n",
    "\n",
    "\n",
    "])\n",
    "\n",
    "# Define callback to update graphs\n",
    "@app.callback(\n",
    "    Output('timeseries-1', 'figure'),\n",
    "    [Input(\"x-dropdown-1\", \"value\"),\n",
    "    Input(\"y-dropdown-1\", \"value\"),\n",
    "    Input(\"site-store\", \"data\")]\n",
    ")\n",
    "def time_series_1(x_col, y_col, data):\n",
    "    if x_col is None or y_col is None:\n",
    "        return px.scatter()\n",
    "    df = samples if data is None else pd.read_json(data)\n",
    "    return px.scatter(\n",
    "        df, x=x_col, y=y_col,\n",
    "        color_continuous_scale=\"Viridis\",\n",
    "        title=f\"{y_col} over {x_col}\"\n",
    "    )# Run app and display result inline in the notebook\n",
    "\n",
    "@app.callback(\n",
    "    Output(\"site-store\", \"data\"),\n",
    "    Input('map-1', 'clickData'))\n",
    "def filter_by_clicked_location(clickData):\n",
    "    if clickData is None:\n",
    "        return None\n",
    "    point = clickData[\"points\"][0]\n",
    "    site_name = point[\"customdata\"][0]\n",
    "\n",
    "    return samples.loc[samples[\"Site.name\"]== site_name].to_json(date_format='iso')\n",
    "\n",
    "@app.callback(\n",
    "    Output(\"y-dropdown-1\", \"options\"),\n",
    "    Input('site-store', 'data'))\n",
    "def update_y_dropdown(data):\n",
    "    df = samples if data is None else pd.read_json(data)\n",
    "    return [\n",
    "        {'label': c, 'value': c}\n",
    "        for c in samples.columns if c in get_values_names(df.columns.to_list())\n",
    "    ]\n",
    "\n",
    "@app.callback(\n",
    "    Output(\"x-dropdown-1\", \"options\"),\n",
    "    Input('site-store', 'data'))\n",
    "def update_x_dropdown(data):\n",
    "    df = samples if data is None else pd.read_json(data)\n",
    "    return [\n",
    "        {'label': c, 'value': c}\n",
    "        for c in samples.columns if c in get_timeseries_names(df.columns.to_list())\n",
    "    ]\n",
    "\n",
    "\n",
    "app.run_server(mode=\"external\", host=\"localhost\")"
   ]
  },
  {
   "cell_type": "code",
   "execution_count": null,
   "metadata": {},
   "outputs": [],
   "source": []
  }
 ],
 "metadata": {
  "kernelspec": {
   "display_name": "Python 3.8.8 64-bit ('conda': virtualenv)",
   "name": "python388jvsc74a57bd098b0a9b7b4eaaa670588a142fd0a9b87eaafe866f1db4228be72b4211d12040f"
  },
  "language_info": {
   "codemirror_mode": {
    "name": "ipython",
    "version": 3
   },
   "file_extension": ".py",
   "mimetype": "text/x-python",
   "name": "python",
   "nbconvert_exporter": "python",
   "pygments_lexer": "ipython3",
   "version": "3.8.8-final"
  }
 },
 "nbformat": 4,
 "nbformat_minor": 4
}