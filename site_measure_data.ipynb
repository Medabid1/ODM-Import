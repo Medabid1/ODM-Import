{
 "cells": [
  {
   "cell_type": "code",
   "execution_count": 1,
   "metadata": {},
   "outputs": [],
   "source": [
    "import pandas as pd\n",
    "import plotly.express as px"
   ]
  },
  {
   "cell_type": "code",
   "execution_count": 2,
   "metadata": {},
   "outputs": [
    {
     "name": "stderr",
     "output_type": "stream",
     "text": [
      "/opt/conda/lib/python3.8/site-packages/openpyxl/worksheet/_reader.py:308: UserWarning: Data Validation extension is not supported and will be removed\n",
      "  warn(msg)\n"
     ]
    }
   ],
   "source": [
    "df = pd.read_excel(\"Data/Site measure/Ville de Quebec 202012.xlsx\", engine=\"openpyxl\", sheet_name=\"SiteMeasure\")"
   ]
  },
  {
   "cell_type": "code",
   "execution_count": 3,
   "metadata": {},
   "outputs": [
    {
     "data": {
      "text/html": "<div>\n<style scoped>\n    .dataframe tbody tr th:only-of-type {\n        vertical-align: middle;\n    }\n\n    .dataframe tbody tr th {\n        vertical-align: top;\n    }\n\n    .dataframe thead th {\n        text-align: right;\n    }\n</style>\n<table border=\"1\" class=\"dataframe\">\n  <thead>\n    <tr style=\"text-align: right;\">\n      <th></th>\n      <th>siteMeasureID</th>\n      <th>siteID</th>\n      <th>instrumentID</th>\n      <th>reporterID</th>\n      <th>dateTime</th>\n      <th>type</th>\n      <th>aggregation</th>\n      <th>aggregationDesc</th>\n      <th>value</th>\n      <th>unit</th>\n      <th>notes</th>\n    </tr>\n  </thead>\n  <tbody>\n    <tr>\n      <th>0</th>\n      <td>Quebec_Ouest_WWTP_envRnF_2020-12-01</td>\n      <td>Quebec_Ouest_WWTP</td>\n      <td>NaN</td>\n      <td>NielsNicolai</td>\n      <td>2020-12-01</td>\n      <td>envRnF</td>\n      <td>NaN</td>\n      <td>NaN</td>\n      <td>12.3</td>\n      <td>mm</td>\n      <td>Forte pluie dosage de chimique au primaire pou...</td>\n    </tr>\n  </tbody>\n</table>\n</div>",
      "text/plain": "                         siteMeasureID             siteID  instrumentID  \\\n0  Quebec_Ouest_WWTP_envRnF_2020-12-01  Quebec_Ouest_WWTP           NaN   \n\n     reporterID   dateTime    type  aggregation  aggregationDesc value unit  \\\n0  NielsNicolai 2020-12-01  envRnF          NaN              NaN  12.3   mm   \n\n                                               notes  \n0  Forte pluie dosage de chimique au primaire pou...  "
     },
     "execution_count": 3,
     "metadata": {},
     "output_type": "execute_result"
    }
   ],
   "source": [
    "to_delete = []\n",
    "for col in df.columns.to_list():\n",
    "    if \"access\" in col.lower():\n",
    "        to_delete.append(col)\n",
    "df.drop(columns=to_delete, inplace=True)\n",
    "df.head(1)"
   ]
  },
  {
   "cell_type": "code",
   "execution_count": 5,
   "metadata": {},
   "outputs": [
    {
     "data": {
      "text/html": "<div>\n<style scoped>\n    .dataframe tbody tr th:only-of-type {\n        vertical-align: middle;\n    }\n\n    .dataframe tbody tr th {\n        vertical-align: top;\n    }\n\n    .dataframe thead th {\n        text-align: right;\n    }\n</style>\n<table border=\"1\" class=\"dataframe\">\n  <thead>\n    <tr style=\"text-align: right;\">\n      <th></th>\n      <th>SiteMeasure.siteID</th>\n      <th>SiteMeasure.envRnF.mm.nan.value</th>\n      <th>SiteMeasure.envRnF.mm.nan.notes</th>\n      <th>SiteMeasure.envRnF.mm.nan.dateTime</th>\n      <th>SiteMeasure.wwTemp.°C.nan.value</th>\n      <th>SiteMeasure.wwTemp.°C.nan.notes</th>\n      <th>SiteMeasure.wwTemp.°C.nan.dateTime</th>\n      <th>SiteMeasure.wwpH.ph.nan.value</th>\n      <th>SiteMeasure.wwpH.ph.nan.notes</th>\n      <th>SiteMeasure.wwpH.ph.nan.dateTime</th>\n      <th>...</th>\n      <th>SiteMeasure.wwTSS.mg-L.nan.dateTime</th>\n      <th>SiteMeasure.wwBOD5c.mg-L.nan.value</th>\n      <th>SiteMeasure.wwBOD5c.mg-L.nan.notes</th>\n      <th>SiteMeasure.wwBOD5c.mg-L.nan.dateTime</th>\n      <th>SiteMeasure.wwNH4N.mg-L.nan.value</th>\n      <th>SiteMeasure.wwNH4N.mg-L.nan.notes</th>\n      <th>SiteMeasure.wwNH4N.mg-L.nan.dateTime</th>\n      <th>SiteMeasure.wwPtot.mg-L.nan.value</th>\n      <th>SiteMeasure.wwPtot.mg-L.nan.notes</th>\n      <th>SiteMeasure.wwPtot.mg-L.nan.dateTime</th>\n    </tr>\n  </thead>\n  <tbody>\n    <tr>\n      <th>0</th>\n      <td>quebec_est_wwtp</td>\n      <td>81.2</td>\n      <td>normales;entretien d'un dessableur + forte plu...</td>\n      <td>2020-12-31</td>\n      <td>179.50</td>\n      <td>normales;entretien d'un dessableur + forte plu...</td>\n      <td>2020-12-31</td>\n      <td>118.20</td>\n      <td>normales;entretien d'un dessableur + forte plu...</td>\n      <td>2020-12-31</td>\n      <td>...</td>\n      <td>2020-12-31</td>\n      <td>2200.0</td>\n      <td>normales;entretien d'un dessableur + forte plu...</td>\n      <td>2020-12-31</td>\n      <td>147.75</td>\n      <td>normales;entretien d'un dessableur + forte plu...</td>\n      <td>2020-12-31</td>\n      <td>9.95</td>\n      <td>normales;entretien d'un dessableur;normales;no...</td>\n      <td>NaT</td>\n    </tr>\n    <tr>\n      <th>1</th>\n      <td>quebec_ouest_wwtp</td>\n      <td>75.1</td>\n      <td>forte pluie dosage de chimique au primaire pou...</td>\n      <td>2020-12-31</td>\n      <td>127.45</td>\n      <td>forte pluie dosage de chimique au primaire pou...</td>\n      <td>2020-12-31</td>\n      <td>109.25</td>\n      <td>forte pluie dosage de chimique au primaire pou...</td>\n      <td>2020-12-31</td>\n      <td>...</td>\n      <td>2020-12-31</td>\n      <td>1627.0</td>\n      <td>forte pluie dosage de chimique au primaire pou...</td>\n      <td>2020-12-31</td>\n      <td>117.70</td>\n      <td>forte pluie dosage de chimique au primaire pou...</td>\n      <td>2020-12-31</td>\n      <td>7.45</td>\n      <td>entretien d'un dessableur;normales;normales;fo...</td>\n      <td>NaT</td>\n    </tr>\n  </tbody>\n</table>\n<p>2 rows × 28 columns</p>\n</div>",
      "text/plain": "  SiteMeasure.siteID  SiteMeasure.envRnF.mm.nan.value  \\\n0    quebec_est_wwtp                             81.2   \n1  quebec_ouest_wwtp                             75.1   \n\n                     SiteMeasure.envRnF.mm.nan.notes  \\\n0  normales;entretien d'un dessableur + forte plu...   \n1  forte pluie dosage de chimique au primaire pou...   \n\n  SiteMeasure.envRnF.mm.nan.dateTime  SiteMeasure.wwTemp.°C.nan.value  \\\n0                         2020-12-31                           179.50   \n1                         2020-12-31                           127.45   \n\n                     SiteMeasure.wwTemp.°C.nan.notes  \\\n0  normales;entretien d'un dessableur + forte plu...   \n1  forte pluie dosage de chimique au primaire pou...   \n\n  SiteMeasure.wwTemp.°C.nan.dateTime  SiteMeasure.wwpH.ph.nan.value  \\\n0                         2020-12-31                         118.20   \n1                         2020-12-31                         109.25   \n\n                       SiteMeasure.wwpH.ph.nan.notes  \\\n0  normales;entretien d'un dessableur + forte plu...   \n1  forte pluie dosage de chimique au primaire pou...   \n\n  SiteMeasure.wwpH.ph.nan.dateTime  ...  SiteMeasure.wwTSS.mg-L.nan.dateTime  \\\n0                       2020-12-31  ...                           2020-12-31   \n1                       2020-12-31  ...                           2020-12-31   \n\n  SiteMeasure.wwBOD5c.mg-L.nan.value  \\\n0                             2200.0   \n1                             1627.0   \n\n                  SiteMeasure.wwBOD5c.mg-L.nan.notes  \\\n0  normales;entretien d'un dessableur + forte plu...   \n1  forte pluie dosage de chimique au primaire pou...   \n\n   SiteMeasure.wwBOD5c.mg-L.nan.dateTime SiteMeasure.wwNH4N.mg-L.nan.value  \\\n0                             2020-12-31                            147.75   \n1                             2020-12-31                            117.70   \n\n                   SiteMeasure.wwNH4N.mg-L.nan.notes  \\\n0  normales;entretien d'un dessableur + forte plu...   \n1  forte pluie dosage de chimique au primaire pou...   \n\n   SiteMeasure.wwNH4N.mg-L.nan.dateTime SiteMeasure.wwPtot.mg-L.nan.value  \\\n0                            2020-12-31                              9.95   \n1                            2020-12-31                              7.45   \n\n                   SiteMeasure.wwPtot.mg-L.nan.notes  \\\n0  normales;entretien d'un dessableur;normales;no...   \n1  entretien d'un dessableur;normales;normales;fo...   \n\n   SiteMeasure.wwPtot.mg-L.nan.dateTime  \n0                                   NaT  \n1                                   NaT  \n\n[2 rows x 28 columns]"
     },
     "execution_count": 5,
     "metadata": {},
     "output_type": "execute_result"
    }
   ],
   "source": [
    "import odm\n",
    "inst = odm.Odm()\n",
    "inst.read_excel(\"Data/Site measure/Ville de Quebec 202012.xlsx\")\n",
    "inst.data[\"SiteMeasure\"]\n"
   ]
  },
  {
   "cell_type": "code",
   "execution_count": null,
   "metadata": {},
   "outputs": [],
   "source": []
  }
 ],
 "metadata": {
  "kernelspec": {
   "display_name": "Python 3.8.8 64-bit ('base': conda)",
   "metadata": {
    "interpreter": {
     "hash": "98b0a9b7b4eaaa670588a142fd0a9b87eaafe866f1db4228be72b4211d12040f"
    }
   },
   "name": "python3"
  },
  "language_info": {
   "codemirror_mode": {
    "name": "ipython",
    "version": 3
   },
   "file_extension": ".py",
   "mimetype": "text/x-python",
   "name": "python",
   "nbconvert_exporter": "python",
   "pygments_lexer": "ipython3",
   "version": "3.8.8"
  },
  "orig_nbformat": 2
 },
 "nbformat": 4,
 "nbformat_minor": 2
}