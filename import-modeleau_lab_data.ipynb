{
 "cells": [
  {
   "cell_type": "markdown",
   "metadata": {},
   "source": [
    "# Import model*EAU* lab data into a data-model ready sheet"
   ]
  },
  {
   "cell_type": "code",
   "execution_count": 1,
   "metadata": {},
   "outputs": [],
   "source": [
    "import sqlalchemy\n",
    "import pandas as pd\n",
    "from lab_data import ModelEau"
   ]
  },
  {
   "cell_type": "markdown",
   "metadata": {},
   "source": [
    "1. Enter the path to the file containing the data you want to import.\n",
    "2. Enter the sheet name containing the raw data."
   ]
  },
  {
   "cell_type": "code",
   "execution_count": 2,
   "metadata": {},
   "outputs": [],
   "source": [
    "path = \"Data/Lab/COVIDProject_Lab Measurements.xlsx\"\n",
    "sheet_name = \"Lab analyses\""
   ]
  },
  {
   "cell_type": "code",
   "execution_count": 3,
   "metadata": {},
   "outputs": [],
   "source": [
    "df = pd.read_excel(path, sheet_name=sheet_name)\n",
    "df = ModelEau.clean_up(df)\n",
    "samples = ModelEau.get_samples_from_lab_sheet(df)\n",
    "measurements = ModelEau.get_measurements_from_lab_sheet(df)\n",
    "\n",
    "#Preparing for excel\n",
    "sample_columns_order = [\"sampleID\",\"siteID\",\"reporterID\",\"dateTime\",\"dateTimeStart\",\"dateTimeEnd\",\"type\",\"collection\",\"preTreatment\",\"pooled\",\"children\",\"parent\",\"sizeL\",\"fieldSampleTempC\",\"shippedOnIce\",\"storageTempC\",\"qualityFlag\",\"notes\"]\n",
    "ww_measure_order = [\"uWwMeasureID\", \"reporterID\",\"sampleID\",\"labID\",\"assayMethodID\",\"analysisDate\",\"reportDate\",\"fractionAnalyzed\",\"type\",\"value\",\"unit\",\"aggregation\",\"index\",\"qualityFlag\",\"accessToPublic\",\"accessToAllOrg\",\"accessToPHAC\",\"accessToLocalHA\",\"accessToProvHA\",\"accessToOtherProv\",\"accessToDetails\",\"notes\"]\n",
    "\n",
    "del samples[\"index\"]\n",
    "\n",
    "measurements = measurements[ww_measure_order]\n",
    "samples = samples[sample_columns_order]\n",
    "\n",
    "measurements.to_excel(\"Data/Lab/to_paste_wwmeasure.xlsx\")\n",
    "samples.to_excel(\"Data/Lab/to_paste_sample.xlsx\")"
   ]
  },
  {
   "cell_type": "markdown",
   "metadata": {},
   "source": [
    "## Stop here if you are using this sheet to get excel sheets from your lab data.\n",
    "\n",
    "Continue if you want to enter the lab data into a database"
   ]
  },
  {
   "cell_type": "code",
   "execution_count": 5,
   "metadata": {},
   "outputs": [],
   "source": [
    "import odm\n",
    "#preparing for DB:\n",
    "measurements = measurements.rename(columns={\"assayMethodID\": \"assayID\"})\n",
    "for col in [\"index\", \"reporterID\"]:\n",
    "    if col in samples.columns:\n",
    "        samples.drop([col],axis=1, inplace=True)\n",
    "if \"WwMeasureID\" not in measurements.columns:\n",
    "    measurements.insert(loc=0, column=\"WwMeasureID\", value=None)\n",
    "\n",
    "path = \"Data/WBE.db\"\n",
    "engine = sqlalchemy.create_engine(f\"sqlite:///{path}\")\n",
    "\n",
    "#Preparing for testing the \"Replace\" method\"\n",
    "engine.execute(\"delete from WWMeasure\")\n",
    "engine.execute(\"delete from Sample\")\n",
    "\n",
    "table_name = \"WWMeasure\"\n",
    "odm.replace_into_db(measurements, table_name, engine)\n",
    "table_name = \"Sample\"\n",
    "odm.replace_into_db(samples, table_name, engine)"
   ]
  },
  {
   "cell_type": "code",
   "execution_count": null,
   "metadata": {},
   "outputs": [],
   "source": []
  }
 ],
 "metadata": {
  "kernelspec": {
   "display_name": "Python 3 COVID",
   "language": "python",
   "name": "python3-covid"
  },
  "language_info": {
   "codemirror_mode": {
    "name": "ipython",
    "version": 3
   },
   "file_extension": ".py",
   "mimetype": "text/x-python",
   "name": "python",
   "nbconvert_exporter": "python",
   "pygments_lexer": "ipython3",
   "version": "3.8.8"
  },
  "orig_nbformat": 2
 },
 "nbformat": 4,
 "nbformat_minor": 2
}