{
 "cells": [
  {
   "cell_type": "code",
   "execution_count": 53,
   "metadata": {},
   "outputs": [],
   "source": [
    "import pandas as pd\n",
    "import plotly.express as px\n",
    "import matplotlib.pyplot as plt\n",
    "import odm\n",
    "pd.options.display.max_columns = None"
   ]
  },
  {
   "cell_type": "code",
   "execution_count": 2,
   "metadata": {},
   "outputs": [],
   "source": [
    "#connect to data source\n",
    "path = \"Data/WBE.db\"\n",
    "connection_string= f\"sqlite:///{path}\"\n",
    "#collect and parse data in data source\n",
    "odm_instance = odm.Odm()\n",
    "odm_instance.read_db(connection_string)"
   ]
  },
  {
   "cell_type": "code",
   "execution_count": 9,
   "metadata": {},
   "outputs": [
    {
     "data": {
      "text/plain": "['WWMeasure',\n 'SiteMeasure',\n 'Sample',\n 'Site',\n 'Polygon',\n 'CovidPublicHealthData']"
     },
     "execution_count": 9,
     "metadata": {},
     "output_type": "execute_result"
    }
   ],
   "source": [
    "types = {}\n",
    "tables = list(odm_instance.data.keys())\n",
    "tables"
   ]
  },
  {
   "cell_type": "code",
   "execution_count": 16,
   "metadata": {},
   "outputs": [
    {
     "name": "stderr",
     "output_type": "stream",
     "text": [
      "/opt/conda/lib/python3.8/site-packages/openpyxl/worksheet/_reader.py:308: UserWarning: Data Validation extension is not supported and will be removed\n",
      "  warn(msg)\n"
     ]
    }
   ],
   "source": [
    "for table in tables:\n",
    "    table = \"CPHD\" if table == \"CovidPublicHealthData\" else table\n",
    "    df = pd .read_excel(\"Data/Ville de Québec 202102.xlsx\", sheet_name=table)\n",
    "    columns = df.columns.to_list()\n",
    "    if table not in types.keys():\n",
    "        types[table] = {}\n",
    "    for col in columns:\n",
    "        pandas_type = str(df[col].dtype)\n",
    "        types[table][col] = pandas_type\n",
    "types\n",
    "import json\n",
    "\n",
    "with open(\"types.json\", \"w\") as f:\n",
    "    f.write(json.dumps(types, indent=4))"
   ]
  },
  {
   "cell_type": "code",
   "execution_count": 21,
   "metadata": {},
   "outputs": [],
   "source": [
    "import json\n",
    "\n",
    "with open('types.json') as f:\n",
    "  types = json.load(f)"
   ]
  },
  {
   "cell_type": "code",
   "execution_count": 52,
   "metadata": {},
   "outputs": [
    {
     "name": "stderr",
     "output_type": "stream",
     "text": [
      "/opt/conda/lib/python3.8/site-packages/openpyxl/worksheet/_reader.py:308: UserWarning: Data Validation extension is not supported and will be removed\n",
      "  warn(msg)\n"
     ]
    },
    {
     "data": {
      "text/plain": "0      True\n1      True\n2      True\n3      True\n4      True\n       ... \n439    True\n440    True\n441    True\n442    True\n443    True\nName: accessToLocalHA, Length: 444, dtype: boolean"
     },
     "execution_count": 52,
     "metadata": {},
     "output_type": "execute_result"
    }
   ],
   "source": [
    "bool(1)\n",
    "df = pd .read_excel(\"Data/Ville de Québec 202102.xlsx\", sheet_name=\"WWMeasure\")\n",
    "test=df[\"accessToLocalHA\"].str.replace(\"YES\", \"True\").replace(\"NO\", \"False\")\n",
    "test.astype(\"bool\")"
   ]
  },
  {
   "cell_type": "code",
   "execution_count": 33,
   "metadata": {},
   "outputs": [
    {
     "data": {
      "text/plain": "Index(['WWMeasureID', 'reporterID', 'sampleID', 'labID', 'assayMethodID',\n       'analysisDate', 'reportDate', 'fractionAnalyzed', 'type', 'value',\n       'unit', 'aggregation', 'index', 'qualityFlag', 'accessToPublic',\n       'accessToAllOrg', 'accessToPHAC', 'accessToLocalHA', 'accessToProvHA',\n       'accessToOtherProv', 'accessToDetails', 'notes'],\n      dtype='object')"
     },
     "execution_count": 33,
     "metadata": {},
     "output_type": "execute_result"
    }
   ],
   "source": [
    "df.columns"
   ]
  },
  {
   "cell_type": "code",
   "execution_count": 22,
   "metadata": {},
   "outputs": [
    {
     "data": {
      "text/plain": "{'WWMeasure': {'WWMeasureID': 'string',\n  'reporterID': 'string',\n  'sampleID': 'string',\n  'labID': 'string',\n  'assayMethodID': 'float',\n  'analysisDate': 'datetime',\n  'reportDate': 'datetime',\n  'fractionAnalyzed': 'categorical',\n  'type': 'categorical',\n  'value': 'float',\n  'unit': 'categorical',\n  'aggregation': 'categorical',\n  'index': 'float',\n  'qualityFlag': 'bool',\n  'accessToPublic': 'bool',\n  'accessToAllOrg': 'bool',\n  'accessToPHAC': 'bool',\n  'accessToLocalHA': 'bool',\n  'accessToProvHA': 'bool',\n  'accessToOtherProv': 'bool',\n  'accessToDetails': 'bool',\n  'notes': 'string'},\n 'SiteMeasure': {'siteMeasureID': 'string',\n  'siteID': 'string',\n  'instrumentID': 'string',\n  'reporterID': 'string',\n  'dateTime': 'datetime',\n  'type': 'categorical',\n  'aggregation': 'categorical',\n  'aggregationDesc': 'string',\n  'value': 'float',\n  'unit': 'categorical',\n  'accessToPublic': 'bool',\n  'accessToAllOrg': 'bool',\n  'accessToPHAC': 'bool',\n  'accessToLocalHA': 'bool',\n  'accessToProvHA': 'bool',\n  'accessToOtherProv': 'bool',\n  'accessToDetails': 'bool',\n  'notes': 'string'},\n 'Sample': {'sampleID': 'string',\n  'siteID': 'string',\n  'reporterID': 'string',\n  'dateTime': 'datetime',\n  'dateTimeStart': 'datetime',\n  'dateTimeEnd': 'datetime',\n  'type': 'categorical',\n  'collection': 'categorical',\n  'preTreatment': 'string',\n  'pooled': 'bool',\n  'children': 'string',\n  'parent': 'string',\n  'sizeL': 'float',\n  'fieldSampleTempC': 'float',\n  'shippedOnIce': 'bool',\n  'storageTempC': 'float',\n  'qualityFlag': 'bool',\n  'notes': 'string'},\n 'Site': {'siteID': 'string',\n  'name': 'string',\n  'description': 'string',\n  'type': 'string',\n  'geoLat': 'float',\n  'geoLong': 'float',\n  'polygonID': 'string',\n  'link': 'string',\n  'notes': 'string'},\n 'Polygon': {'polygonID': 'string',\n  'name': 'string',\n  'pop': 'float',\n  'type': 'categorical',\n  'wkt': 'string',\n  'link': 'string',\n  'notes': 'string'},\n 'CPHD': {'cphdID': 'string',\n  'reporterID': 'string',\n  'polygonID': 'string',\n  'date': 'datetime',\n  'type': 'categorical',\n  'dateType': 'categorical',\n  'value': 'float',\n  'notes': 'string'}}"
     },
     "execution_count": 22,
     "metadata": {},
     "output_type": "execute_result"
    }
   ],
   "source": [
    "types"
   ]
  }
 ],
 "metadata": {
  "kernelspec": {
   "display_name": "Python 3.8.8 64-bit ('base': conda)",
   "metadata": {
    "interpreter": {
     "hash": "98b0a9b7b4eaaa670588a142fd0a9b87eaafe866f1db4228be72b4211d12040f"
    }
   },
   "name": "python3"
  },
  "language_info": {
   "codemirror_mode": {
    "name": "ipython",
    "version": 3
   },
   "file_extension": ".py",
   "mimetype": "text/x-python",
   "name": "python",
   "nbconvert_exporter": "python",
   "pygments_lexer": "ipython3",
   "version": "3.8.8"
  },
  "orig_nbformat": 2
 },
 "nbformat": 4,
 "nbformat_minor": 2
}