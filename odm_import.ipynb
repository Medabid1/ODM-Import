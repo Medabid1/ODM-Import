{
 "cells": [
  {
   "cell_type": "code",
   "execution_count": 1,
   "metadata": {},
   "outputs": [],
   "source": [
    "import pandas as pd\n",
    "import plotly.express as px\n",
    "import odm\n",
    "pd.options.display.max_columns = None"
   ]
  },
  {
   "cell_type": "code",
   "execution_count": 7,
   "metadata": {},
   "outputs": [],
   "source": [
    "#connect to data source\n",
    "path = \"Data/WBE.db\"\n",
    "connection_string= f\"sqlite:///{path}\"\n",
    "#collect and parse data in data source\n",
    "odm_instance = odm.Odm()\n",
    "odm_instance.read_db(connection_string)\n",
    "file_path = \"Data/Ville de Québec 202102.xlsx\"\n",
    "odm_instance.read_excel(file_path, table_names=[\"Site\"])\n",
    "\n",
    "samples = odm_instance.combine_per_sample()"
   ]
  }
 ],
 "metadata": {
  "kernelspec": {
   "display_name": "Python 3 COVID",
   "language": "python",
   "name": "python3-covid"
  },
  "language_info": {
   "codemirror_mode": {
    "name": "ipython",
    "version": 3
   },
   "file_extension": ".py",
   "mimetype": "text/x-python",
   "name": "python",
   "nbconvert_exporter": "python",
   "pygments_lexer": "ipython3",
   "version": "3.8.8"
  },
  "orig_nbformat": 2
 },
 "nbformat": 4,
 "nbformat_minor": 2
}