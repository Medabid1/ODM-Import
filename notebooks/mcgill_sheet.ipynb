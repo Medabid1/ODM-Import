{
 "metadata": {
  "language_info": {
   "codemirror_mode": {
    "name": "ipython",
    "version": 3
   },
   "file_extension": ".py",
   "mimetype": "text/x-python",
   "name": "python",
   "nbconvert_exporter": "python",
   "pygments_lexer": "ipython3",
   "version": "3.9.2"
  },
  "orig_nbformat": 2,
  "kernelspec": {
   "name": "python392jvsc74a57bd0fff2645691be52a4acf54b6569930c06fb1b99dce13069d7478dfbb615d05851",
   "display_name": "Python 3.9.2 64-bit ('covid': conda)"
  }
 },
 "nbformat": 4,
 "nbformat_minor": 2,
 "cells": [
  {
   "cell_type": "code",
   "execution_count": 1,
   "metadata": {},
   "outputs": [],
   "source": [
    "import json\n",
    "import os\n",
    "import requests\n",
    "import sys\n",
    "current_directory = os.getcwd()\n",
    "project_directory = current_directory.split(\"/\")[:-1]\n",
    "project_directory = \"/\".join(project_directory)\n",
    "sys.path.insert(1, project_directory)\n",
    "import pandas as pd\n",
    "import plotly.express as px\n",
    "import plotly.graph_objects as go\n",
    "from plotly.subplots import make_subplots\n",
    "\n",
    "from wbe_odm import odm\n",
    "from wbe_odm.odm_mappers import mcgill_mapper\n",
    "from wbe_odm.odm_mappers import excel_template_mapper"
   ]
  },
  {
   "cell_type": "code",
   "execution_count": 13,
   "metadata": {},
   "outputs": [],
   "source": [
    "def load_from_mcgill(path_to_lab_data, path_to_static_data, path_to_mapping, sheet_name, lab_id, start_date=None, end_date=None):\n",
    "    mapper = mcgill_mapper.McGillMapper()\n",
    "    mapper.read(\n",
    "        path_to_lab_data,\n",
    "        path_to_static_data,\n",
    "        path_to_mapping,\n",
    "        sheet_name,\n",
    "        lab_id,\n",
    "        startdate=start_date,\n",
    "        enddate=end_date\n",
    "    )\n",
    "    odm_data = odm.Odm()\n",
    "    odm_data.load_from(mapper)\n",
    "    static_data = excel_template_mapper.ExcelTemplateMapper()\n",
    "    static_data.read(path_to_static_data)\n",
    "    odm_data.append_from(static_data)\n",
    "    return odm_data\n",
    "\n",
    "\n",
    "def get_available_sites(odm_data):\n",
    "    samples = odm_data.sample\n",
    "    available_sites = list(samples[\"siteID\"].unique())\n",
    "    site_dico = {}\n",
    "    for i, site in enumerate(available_sites):\n",
    "        if site == \"\":\n",
    "            continue\n",
    "        site_dico[i] = site\n",
    "    return site_dico\n",
    "\n",
    "def apply_quality_flag(odm_data, sample_ids, meas_types):\n",
    "    \"\"\"Puts the quality flag to True for the given measurement types\"\"\"\n",
    "    measures = odm_data.ww_measure\n",
    "    sample_filt = (measures[\"sampleID\"].isin(sample_ids))\n",
    "    type_filt = (measures[\"type\"].isin(meas_types))\n",
    "    measures.loc[sample_filt & type_filt, \"qualityFlag\"] = True\n",
    "    setattr(odm_data, \"ww_measure\", measures)\n",
    "    return odm_data"
   ]
  },
  {
   "source": [
    "### Quebec\n",
    "\n"
   ],
   "cell_type": "markdown",
   "metadata": {}
  },
  {
   "cell_type": "code",
   "execution_count": 3,
   "metadata": {},
   "outputs": [
    {
     "output_type": "stream",
     "name": "stderr",
     "text": [
      "/usr/local/Caskroom/miniconda/base/envs/covid/lib/python3.9/site-packages/openpyxl/worksheet/_reader.py:312: UserWarning: Data Validation extension is not supported and will be removed\n  warn(msg)\n"
     ]
    }
   ],
   "source": [
    "path_to_parser_help = \"../Data/Lab/McGill/Final/\"\n",
    "lab_data = \"/Users/jeandavidt/Desktop/latest-data/CentrEau-COVID_Resultats_Quebec_final.xlsx\"\n",
    "static_data = \"/Users/jeandavidt/Desktop/latest-data/Ville de Quebec - All data - v1.1.xlsx\"\n",
    "mapping = path_to_parser_help + \"mcgill_map.csv\"\n",
    "sheet_name = \"QC Data Daily Samples (McGill)\"\n",
    "lab_id = \"modeleau_lab\"\n",
    "start_date = \"2021-01-01\"\n",
    "end_date = None\n",
    "qc_lab_data = load_from_mcgill(lab_data, static_data, mapping, sheet_name, lab_id, start_date=start_date, end_date=end_date)\n"
   ]
  },
  {
   "cell_type": "code",
   "execution_count": 4,
   "metadata": {},
   "outputs": [
    {
     "output_type": "execute_result",
     "data": {
      "text/plain": [
       "                                         wwMeasureID reporterID  \\\n",
       "0  qc_01_cptp24h_pstgrit_2021-01-15_1_2021-02-18_...      betty   \n",
       "1  qc_01_cptp24h_pstgrit_2021-01-15_1_2021-02-18_...      betty   \n",
       "2  qc_01_cptp24h_pstgrit_2021-01-15_1_2021-02-18_...      betty   \n",
       "3  qc_01_cptp24h_pstgrit_2021-01-15_1_2021-02-18_...      betty   \n",
       "4  qc_01_cptp24h_pstgrit_2021-01-15_1_2021-01-20_...      betty   \n",
       "\n",
       "                             sampleID         labID assayMethodID  \\\n",
       "0  qc_01_cptp24h_pstgrit_2021-01-15_1  modeleau_lab                 \n",
       "1  qc_01_cptp24h_pstgrit_2021-01-15_1  modeleau_lab                 \n",
       "2  qc_01_cptp24h_pstgrit_2021-01-15_1  modeleau_lab                 \n",
       "3  qc_01_cptp24h_pstgrit_2021-01-15_1  modeleau_lab                 \n",
       "4  qc_01_cptp24h_pstgrit_2021-01-15_1  modeleau_lab                 \n",
       "\n",
       "  analysisDate reportDate fractionAnalyzed    type  value  ... qualityFlag  \\\n",
       "0   2021-02-18 2021-02-18            mixed   wqTSS    NaN  ...       False   \n",
       "1   2021-02-18 2021-02-18            mixed    wqPh   7.02  ...       False   \n",
       "2   2021-02-18 2021-02-18            mixed  wqCond    NaN  ...       False   \n",
       "3   2021-02-18 2021-02-18            mixed  wqTurb    NaN  ...       False   \n",
       "4   2021-01-20 2021-01-20            mixed   nBRSV  18.83  ...       False   \n",
       "\n",
       "  accessToPublic accessToAllOrg  accessToPHAC  accessToLocalHA  \\\n",
       "0          False          False         False            False   \n",
       "1          False          False         False            False   \n",
       "2          False          False         False            False   \n",
       "3          False          False         False            False   \n",
       "4          False          False         False            False   \n",
       "\n",
       "   accessToProvHA  accessToOtherProv  accessToDetails  notes  assayID  \n",
       "0           False              False            False            <NA>  \n",
       "1           False              False            False            <NA>  \n",
       "2           False              False            False            <NA>  \n",
       "3           False              False            False            <NA>  \n",
       "4           False              False            False            <NA>  \n",
       "\n",
       "[5 rows x 23 columns]"
      ],
      "text/html": "<div>\n<style scoped>\n    .dataframe tbody tr th:only-of-type {\n        vertical-align: middle;\n    }\n\n    .dataframe tbody tr th {\n        vertical-align: top;\n    }\n\n    .dataframe thead th {\n        text-align: right;\n    }\n</style>\n<table border=\"1\" class=\"dataframe\">\n  <thead>\n    <tr style=\"text-align: right;\">\n      <th></th>\n      <th>wwMeasureID</th>\n      <th>reporterID</th>\n      <th>sampleID</th>\n      <th>labID</th>\n      <th>assayMethodID</th>\n      <th>analysisDate</th>\n      <th>reportDate</th>\n      <th>fractionAnalyzed</th>\n      <th>type</th>\n      <th>value</th>\n      <th>...</th>\n      <th>qualityFlag</th>\n      <th>accessToPublic</th>\n      <th>accessToAllOrg</th>\n      <th>accessToPHAC</th>\n      <th>accessToLocalHA</th>\n      <th>accessToProvHA</th>\n      <th>accessToOtherProv</th>\n      <th>accessToDetails</th>\n      <th>notes</th>\n      <th>assayID</th>\n    </tr>\n  </thead>\n  <tbody>\n    <tr>\n      <th>0</th>\n      <td>qc_01_cptp24h_pstgrit_2021-01-15_1_2021-02-18_...</td>\n      <td>betty</td>\n      <td>qc_01_cptp24h_pstgrit_2021-01-15_1</td>\n      <td>modeleau_lab</td>\n      <td></td>\n      <td>2021-02-18</td>\n      <td>2021-02-18</td>\n      <td>mixed</td>\n      <td>wqTSS</td>\n      <td>NaN</td>\n      <td>...</td>\n      <td>False</td>\n      <td>False</td>\n      <td>False</td>\n      <td>False</td>\n      <td>False</td>\n      <td>False</td>\n      <td>False</td>\n      <td>False</td>\n      <td></td>\n      <td>&lt;NA&gt;</td>\n    </tr>\n    <tr>\n      <th>1</th>\n      <td>qc_01_cptp24h_pstgrit_2021-01-15_1_2021-02-18_...</td>\n      <td>betty</td>\n      <td>qc_01_cptp24h_pstgrit_2021-01-15_1</td>\n      <td>modeleau_lab</td>\n      <td></td>\n      <td>2021-02-18</td>\n      <td>2021-02-18</td>\n      <td>mixed</td>\n      <td>wqPh</td>\n      <td>7.02</td>\n      <td>...</td>\n      <td>False</td>\n      <td>False</td>\n      <td>False</td>\n      <td>False</td>\n      <td>False</td>\n      <td>False</td>\n      <td>False</td>\n      <td>False</td>\n      <td></td>\n      <td>&lt;NA&gt;</td>\n    </tr>\n    <tr>\n      <th>2</th>\n      <td>qc_01_cptp24h_pstgrit_2021-01-15_1_2021-02-18_...</td>\n      <td>betty</td>\n      <td>qc_01_cptp24h_pstgrit_2021-01-15_1</td>\n      <td>modeleau_lab</td>\n      <td></td>\n      <td>2021-02-18</td>\n      <td>2021-02-18</td>\n      <td>mixed</td>\n      <td>wqCond</td>\n      <td>NaN</td>\n      <td>...</td>\n      <td>False</td>\n      <td>False</td>\n      <td>False</td>\n      <td>False</td>\n      <td>False</td>\n      <td>False</td>\n      <td>False</td>\n      <td>False</td>\n      <td></td>\n      <td>&lt;NA&gt;</td>\n    </tr>\n    <tr>\n      <th>3</th>\n      <td>qc_01_cptp24h_pstgrit_2021-01-15_1_2021-02-18_...</td>\n      <td>betty</td>\n      <td>qc_01_cptp24h_pstgrit_2021-01-15_1</td>\n      <td>modeleau_lab</td>\n      <td></td>\n      <td>2021-02-18</td>\n      <td>2021-02-18</td>\n      <td>mixed</td>\n      <td>wqTurb</td>\n      <td>NaN</td>\n      <td>...</td>\n      <td>False</td>\n      <td>False</td>\n      <td>False</td>\n      <td>False</td>\n      <td>False</td>\n      <td>False</td>\n      <td>False</td>\n      <td>False</td>\n      <td></td>\n      <td>&lt;NA&gt;</td>\n    </tr>\n    <tr>\n      <th>4</th>\n      <td>qc_01_cptp24h_pstgrit_2021-01-15_1_2021-01-20_...</td>\n      <td>betty</td>\n      <td>qc_01_cptp24h_pstgrit_2021-01-15_1</td>\n      <td>modeleau_lab</td>\n      <td></td>\n      <td>2021-01-20</td>\n      <td>2021-01-20</td>\n      <td>mixed</td>\n      <td>nBRSV</td>\n      <td>18.83</td>\n      <td>...</td>\n      <td>False</td>\n      <td>False</td>\n      <td>False</td>\n      <td>False</td>\n      <td>False</td>\n      <td>False</td>\n      <td>False</td>\n      <td>False</td>\n      <td></td>\n      <td>&lt;NA&gt;</td>\n    </tr>\n  </tbody>\n</table>\n<p>5 rows × 23 columns</p>\n</div>"
     },
     "metadata": {},
     "execution_count": 4
    }
   ],
   "source": [
    "qc_lab_data.ww_measure.head()"
   ]
  },
  {
   "cell_type": "code",
   "execution_count": 6,
   "metadata": {},
   "outputs": [
    {
     "output_type": "execute_result",
     "data": {
      "text/plain": [
       "0          qc_01_cptp24h_raw_2021-01-15_1\n",
       "1          qc_02_cptp24h_raw_2021-01-15_1\n",
       "2          qc_01_cptp24h_raw_2021-01-16_1\n",
       "3          qc_02_cptp24h_raw_2021-01-16_1\n",
       "4          qc_01_cptp24h_raw_2021-01-17_1\n",
       "                      ...                \n",
       "103    qc_01_cptp24h_pstgrit_2021-03-19_1\n",
       "104    qc_01_cptp24h_pstgrit_2021-03-20_1\n",
       "105    qc_02_cptp24h_pstgrit_2021-03-18_1\n",
       "106    qc_02_cptp24h_pstgrit_2021-03-19_1\n",
       "107    qc_02_cptp24h_pstgrit_2021-03-20_1\n",
       "Name: sampleID, Length: 263, dtype: object"
      ]
     },
     "metadata": {},
     "execution_count": 6
    }
   ],
   "source": [
    "qc_lab_data.sample[\"sampleID\"].head()"
   ]
  },
  {
   "cell_type": "code",
   "execution_count": 5,
   "metadata": {},
   "outputs": [],
   "source": [
    "bad_samples = [\n",
    "    \"qc_01_cptp24h_pstgrit_2021-02-12_1\",\n",
    "    \"qc_01_cptp24h_pstgrit_2021-02-13_1\",\n",
    "    \"qc_01_cptp24h_pstgrit_2021-02-14_1\",\n",
    "    \"qc_01_cptp24h_pstgrit_2021-02-19_1\",\n",
    "    \"qc_01_cptp24h_pstgrit_2021-02-20_1\",\n",
    "    \"qc_01_cptp24h_pstgrit_2021-02-21_1\",\n",
    "    \"qc_01_cptp24h_pstgrit_2021-02-22_1\",\n",
    "    \"qc_01_cptp24h_pstgrit_2021-02-23_1\",\n",
    "    \"qc_01_cptp24h_pstgrit_2021-03-01_1\",\n",
    "    \"qc_01_cptp24h_pstgrit_2021-03-23_1\",\n",
    "    \n",
    "    \"qc_02_cptp24h_pstgrit_2021-02-12_1\",\n",
    "    \"qc_02_cptp24h_pstgrit_2021-02-13_1\",\n",
    "    \"qc_02_cptp24h_pstgrit_2021-02-14_1\",\n",
    "    \"qc_02_cptp24h_pstgrit_2021-02-15_1\",\n",
    "    \"qc_02_cptp24h_pstgrit_2021-02-16_1\",\n",
    "    \"qc_02_cptp24h_pstgrit_2021-02-19_1\",\n",
    "    \"qc_02_cptp24h_pstgrit_2021-02-20_1\",\n",
    "    \"qc_02_cptp24h_pstgrit_2021-02-21_1\",\n",
    "    \"qc_02_cptp24h_pstgrit_2021-02-22_1\",\n",
    "    \"qc_02_cptp24h_pstgrit_2021-02-23_1\",\n",
    "    \"qc_02_cptp24h_pstgrit_2021-03-23_1\",\n",
    "    \"qc_02_cptp24h_pstgrit_2021-03-24_1\",\n",
    "]\n",
    "qc_lab_data = apply_quality_flag(qc_lab_data, bad_samples, [\"covN2\", \"nPMMoV\"])"
   ]
  },
  {
   "cell_type": "code",
   "execution_count": 20,
   "metadata": {},
   "outputs": [],
   "source": [
    "def sample_time(row):\n",
    "    comp_start = row[\"dateTimeStart\"]\n",
    "    grab = row[\"dateTime\"]\n",
    "    if pd.isna(comp_start):\n",
    "        return grab\n",
    "    else:\n",
    "        return comp_start\n",
    "def date_from_sample_id(sample_id):\n",
    "    sample_slice = samples.loc[samples[\"sampleID\"] == sample_id]\n",
    "    try:\n",
    "        reportDate = sample_slice.iloc[0][\"reportDate\"]\n",
    "        return reportDate\n",
    "    except IndexError:\n",
    "        return pd.NaT"
   ]
  },
  {
   "cell_type": "code",
   "execution_count": 21,
   "metadata": {},
   "outputs": [
    {
     "output_type": "error",
     "ename": "KeyboardInterrupt",
     "evalue": "",
     "traceback": [
      "\u001b[0;31m---------------------------------------------------------------------------\u001b[0m",
      "\u001b[0;31mKeyboardInterrupt\u001b[0m                         Traceback (most recent call last)",
      "\u001b[0;32m<ipython-input-21-ddac3e9d7f36>\u001b[0m in \u001b[0;36m<module>\u001b[0;34m\u001b[0m\n\u001b[1;32m    122\u001b[0m \u001b[0msites\u001b[0m \u001b[0;34m=\u001b[0m \u001b[0;34m[\u001b[0m\u001b[0;34m\"qc_01\"\u001b[0m\u001b[0;34m,\u001b[0m \u001b[0;34m\"qc_02\"\u001b[0m\u001b[0;34m]\u001b[0m\u001b[0;34m\u001b[0m\u001b[0;34m\u001b[0m\u001b[0m\n\u001b[1;32m    123\u001b[0m \u001b[0mmax_norm\u001b[0m \u001b[0;34m=\u001b[0m \u001b[0;36m0.2\u001b[0m\u001b[0;34m\u001b[0m\u001b[0;34m\u001b[0m\u001b[0m\n\u001b[0;32m--> 124\u001b[0;31m \u001b[0mqc_graph\u001b[0m \u001b[0;34m=\u001b[0m \u001b[0mcreate_graph\u001b[0m\u001b[0;34m(\u001b[0m\u001b[0mqc_lab_data\u001b[0m\u001b[0;34m,\u001b[0m \u001b[0mregion\u001b[0m\u001b[0;34m,\u001b[0m \u001b[0msites\u001b[0m\u001b[0;34m,\u001b[0m \u001b[0mmax_norm\u001b[0m\u001b[0;34m)\u001b[0m\u001b[0;34m\u001b[0m\u001b[0;34m\u001b[0m\u001b[0m\n\u001b[0m",
      "\u001b[0;32m<ipython-input-21-ddac3e9d7f36>\u001b[0m in \u001b[0;36mcreate_graph\u001b[0;34m(data, region, sites, max_norm)\u001b[0m\n\u001b[1;32m     91\u001b[0m \u001b[0;34m\u001b[0m\u001b[0m\n\u001b[1;32m     92\u001b[0m \u001b[0;32mdef\u001b[0m \u001b[0mcreate_graph\u001b[0m\u001b[0;34m(\u001b[0m\u001b[0mdata\u001b[0m\u001b[0;34m,\u001b[0m \u001b[0mregion\u001b[0m\u001b[0;34m,\u001b[0m \u001b[0msites\u001b[0m\u001b[0;34m,\u001b[0m \u001b[0mmax_norm\u001b[0m\u001b[0;34m=\u001b[0m\u001b[0;32mNone\u001b[0m\u001b[0;34m)\u001b[0m\u001b[0;34m:\u001b[0m\u001b[0;34m\u001b[0m\u001b[0;34m\u001b[0m\u001b[0m\n\u001b[0;32m---> 93\u001b[0;31m     \u001b[0mgraph\u001b[0m \u001b[0;34m=\u001b[0m \u001b[0mgraph_normalized\u001b[0m\u001b[0;34m(\u001b[0m\u001b[0mdata\u001b[0m\u001b[0;34m,\u001b[0m \u001b[0mregion\u001b[0m\u001b[0;34m,\u001b[0m \u001b[0msites\u001b[0m\u001b[0;34m,\u001b[0m \u001b[0mmax_norm\u001b[0m\u001b[0;34m)\u001b[0m\u001b[0;34m\u001b[0m\u001b[0;34m\u001b[0m\u001b[0m\n\u001b[0m\u001b[1;32m     94\u001b[0m     \u001b[0mcases\u001b[0m \u001b[0;34m=\u001b[0m \u001b[0mget_cases_from_ledevoir\u001b[0m\u001b[0;34m(\u001b[0m\u001b[0mregion\u001b[0m\u001b[0;34m,\u001b[0m \u001b[0mstart_date\u001b[0m\u001b[0;34m=\u001b[0m\u001b[0;34m\"2021-01-01\"\u001b[0m\u001b[0;34m)\u001b[0m\u001b[0;34m\u001b[0m\u001b[0;34m\u001b[0m\u001b[0m\n\u001b[1;32m     95\u001b[0m     \u001b[0mcases_trace\u001b[0m \u001b[0;34m=\u001b[0m \u001b[0mgo\u001b[0m\u001b[0;34m.\u001b[0m\u001b[0mBar\u001b[0m\u001b[0;34m(\u001b[0m\u001b[0mx\u001b[0m\u001b[0;34m=\u001b[0m\u001b[0mcases\u001b[0m\u001b[0;34m.\u001b[0m\u001b[0mindex\u001b[0m\u001b[0;34m,\u001b[0m \u001b[0my\u001b[0m\u001b[0;34m=\u001b[0m\u001b[0mcases\u001b[0m\u001b[0;34m[\u001b[0m\u001b[0;34m\"dc\"\u001b[0m\u001b[0;34m]\u001b[0m\u001b[0;34m,\u001b[0m \u001b[0mname\u001b[0m\u001b[0;34m=\u001b[0m\u001b[0;34m\"Nouveaux cas<br>journaliers\"\u001b[0m\u001b[0;34m,\u001b[0m \u001b[0mmarker\u001b[0m\u001b[0;34m=\u001b[0m\u001b[0mdict\u001b[0m\u001b[0;34m(\u001b[0m\u001b[0mopacity\u001b[0m\u001b[0;34m=\u001b[0m\u001b[0;36m0.3\u001b[0m\u001b[0;34m)\u001b[0m\u001b[0;34m)\u001b[0m\u001b[0;34m\u001b[0m\u001b[0;34m\u001b[0m\u001b[0m\n",
      "\u001b[0;32m<ipython-input-21-ddac3e9d7f36>\u001b[0m in \u001b[0;36mgraph_normalized\u001b[0;34m(odm_data, region_name, site_list, max_normalized)\u001b[0m\n\u001b[1;32m     37\u001b[0m     \u001b[0;32mfor\u001b[0m \u001b[0msite\u001b[0m \u001b[0;32min\u001b[0m \u001b[0msite_list\u001b[0m\u001b[0;34m:\u001b[0m\u001b[0;34m\u001b[0m\u001b[0;34m\u001b[0m\u001b[0m\n\u001b[1;32m     38\u001b[0m         \u001b[0mname\u001b[0m \u001b[0;34m=\u001b[0m \u001b[0mget_site_name\u001b[0m\u001b[0;34m(\u001b[0m\u001b[0modm_data\u001b[0m\u001b[0;34m,\u001b[0m \u001b[0msite\u001b[0m\u001b[0;34m)\u001b[0m\u001b[0;34m\u001b[0m\u001b[0;34m\u001b[0m\u001b[0m\n\u001b[0;32m---> 39\u001b[0;31m         \u001b[0msite_measures\u001b[0m \u001b[0;34m=\u001b[0m \u001b[0mget_normalized_data\u001b[0m\u001b[0;34m(\u001b[0m\u001b[0modm_data\u001b[0m\u001b[0;34m,\u001b[0m \u001b[0msite\u001b[0m\u001b[0;34m)\u001b[0m\u001b[0;34m\u001b[0m\u001b[0;34m\u001b[0m\u001b[0m\n\u001b[0m\u001b[1;32m     40\u001b[0m         \u001b[0;32mif\u001b[0m \u001b[0msite_measures\u001b[0m \u001b[0;32mis\u001b[0m \u001b[0;32mNone\u001b[0m\u001b[0;34m:\u001b[0m\u001b[0;34m\u001b[0m\u001b[0;34m\u001b[0m\u001b[0m\n\u001b[1;32m     41\u001b[0m             \u001b[0mprint\u001b[0m\u001b[0;34m(\u001b[0m\u001b[0msite\u001b[0m\u001b[0;34m)\u001b[0m\u001b[0;34m\u001b[0m\u001b[0;34m\u001b[0m\u001b[0m\n",
      "\u001b[0;32m<ipython-input-21-ddac3e9d7f36>\u001b[0m in \u001b[0;36mget_normalized_data\u001b[0;34m(odm_data, site_id)\u001b[0m\n\u001b[1;32m     11\u001b[0m     \u001b[0mquality_filt\u001b[0m \u001b[0;34m=\u001b[0m \u001b[0;34m(\u001b[0m\u001b[0mmeasures\u001b[0m\u001b[0;34m[\u001b[0m\u001b[0;34m\"qualityFlag\"\u001b[0m\u001b[0;34m]\u001b[0m \u001b[0;34m==\u001b[0m \u001b[0;32mFalse\u001b[0m\u001b[0;34m)\u001b[0m\u001b[0;34m\u001b[0m\u001b[0;34m\u001b[0m\u001b[0m\n\u001b[1;32m     12\u001b[0m     \u001b[0mmeasures\u001b[0m \u001b[0;34m=\u001b[0m \u001b[0mmeasures\u001b[0m\u001b[0;34m.\u001b[0m\u001b[0mloc\u001b[0m\u001b[0;34m[\u001b[0m\u001b[0msample_filt\u001b[0m \u001b[0;34m&\u001b[0m \u001b[0mviral_filt\u001b[0m \u001b[0;34m&\u001b[0m \u001b[0munit_filt\u001b[0m \u001b[0;34m&\u001b[0m \u001b[0mquality_filt\u001b[0m\u001b[0;34m,\u001b[0m \u001b[0;34m[\u001b[0m\u001b[0;34m\"sampleID\"\u001b[0m\u001b[0;34m,\u001b[0m \u001b[0;34m\"type\"\u001b[0m\u001b[0;34m,\u001b[0m \u001b[0;34m\"value\"\u001b[0m\u001b[0;34m]\u001b[0m\u001b[0;34m]\u001b[0m\u001b[0;34m\u001b[0m\u001b[0;34m\u001b[0m\u001b[0m\n\u001b[0;32m---> 13\u001b[0;31m     \u001b[0mmeasures\u001b[0m\u001b[0;34m[\u001b[0m\u001b[0;34m\"sampleDate\"\u001b[0m\u001b[0;34m]\u001b[0m \u001b[0;34m=\u001b[0m \u001b[0mmeasures\u001b[0m\u001b[0;34m[\u001b[0m\u001b[0;34m\"sampleID\"\u001b[0m\u001b[0;34m]\u001b[0m\u001b[0;34m.\u001b[0m\u001b[0mapply\u001b[0m\u001b[0;34m(\u001b[0m\u001b[0mdate_from_sample_id\u001b[0m\u001b[0;34m)\u001b[0m\u001b[0;34m\u001b[0m\u001b[0;34m\u001b[0m\u001b[0m\n\u001b[0m\u001b[1;32m     14\u001b[0m     \u001b[0mmeasures\u001b[0m \u001b[0;34m=\u001b[0m \u001b[0mmeasures\u001b[0m\u001b[0;34m.\u001b[0m\u001b[0mdrop_duplicates\u001b[0m\u001b[0;34m(\u001b[0m\u001b[0msubset\u001b[0m\u001b[0;34m=\u001b[0m\u001b[0;34m[\u001b[0m\u001b[0;34m\"sampleID\"\u001b[0m\u001b[0;34m,\u001b[0m \u001b[0;34m\"type\"\u001b[0m\u001b[0;34m]\u001b[0m\u001b[0;34m)\u001b[0m\u001b[0;34m\u001b[0m\u001b[0;34m\u001b[0m\u001b[0m\n\u001b[1;32m     15\u001b[0m     \u001b[0mmeasures\u001b[0m \u001b[0;34m=\u001b[0m \u001b[0mmeasures\u001b[0m\u001b[0;34m.\u001b[0m\u001b[0mpivot\u001b[0m\u001b[0;34m(\u001b[0m\u001b[0mindex\u001b[0m\u001b[0;34m=\u001b[0m\u001b[0;34m[\u001b[0m\u001b[0;34m\"sampleID\"\u001b[0m\u001b[0;34m,\u001b[0m \u001b[0;34m\"sampleDate\"\u001b[0m\u001b[0;34m]\u001b[0m\u001b[0;34m,\u001b[0m \u001b[0mcolumns\u001b[0m\u001b[0;34m=\u001b[0m\u001b[0;34m\"type\"\u001b[0m\u001b[0;34m,\u001b[0m \u001b[0mvalues\u001b[0m\u001b[0;34m=\u001b[0m\u001b[0;34m\"value\"\u001b[0m\u001b[0;34m)\u001b[0m\u001b[0;34m\u001b[0m\u001b[0;34m\u001b[0m\u001b[0m\n",
      "\u001b[0;32m<ipython-input-21-ddac3e9d7f36>\u001b[0m in \u001b[0;36mget_normalized_data\u001b[0;34m(odm_data, site_id)\u001b[0m\n\u001b[1;32m     11\u001b[0m     \u001b[0mquality_filt\u001b[0m \u001b[0;34m=\u001b[0m \u001b[0;34m(\u001b[0m\u001b[0mmeasures\u001b[0m\u001b[0;34m[\u001b[0m\u001b[0;34m\"qualityFlag\"\u001b[0m\u001b[0;34m]\u001b[0m \u001b[0;34m==\u001b[0m \u001b[0;32mFalse\u001b[0m\u001b[0;34m)\u001b[0m\u001b[0;34m\u001b[0m\u001b[0;34m\u001b[0m\u001b[0m\n\u001b[1;32m     12\u001b[0m     \u001b[0mmeasures\u001b[0m \u001b[0;34m=\u001b[0m \u001b[0mmeasures\u001b[0m\u001b[0;34m.\u001b[0m\u001b[0mloc\u001b[0m\u001b[0;34m[\u001b[0m\u001b[0msample_filt\u001b[0m \u001b[0;34m&\u001b[0m \u001b[0mviral_filt\u001b[0m \u001b[0;34m&\u001b[0m \u001b[0munit_filt\u001b[0m \u001b[0;34m&\u001b[0m \u001b[0mquality_filt\u001b[0m\u001b[0;34m,\u001b[0m \u001b[0;34m[\u001b[0m\u001b[0;34m\"sampleID\"\u001b[0m\u001b[0;34m,\u001b[0m \u001b[0;34m\"type\"\u001b[0m\u001b[0;34m,\u001b[0m \u001b[0;34m\"value\"\u001b[0m\u001b[0;34m]\u001b[0m\u001b[0;34m]\u001b[0m\u001b[0;34m\u001b[0m\u001b[0;34m\u001b[0m\u001b[0m\n\u001b[0;32m---> 13\u001b[0;31m     \u001b[0mmeasures\u001b[0m\u001b[0;34m[\u001b[0m\u001b[0;34m\"sampleDate\"\u001b[0m\u001b[0;34m]\u001b[0m \u001b[0;34m=\u001b[0m \u001b[0mmeasures\u001b[0m\u001b[0;34m[\u001b[0m\u001b[0;34m\"sampleID\"\u001b[0m\u001b[0;34m]\u001b[0m\u001b[0;34m.\u001b[0m\u001b[0mapply\u001b[0m\u001b[0;34m(\u001b[0m\u001b[0mdate_from_sample_id\u001b[0m\u001b[0;34m)\u001b[0m\u001b[0;34m\u001b[0m\u001b[0;34m\u001b[0m\u001b[0m\n\u001b[0m\u001b[1;32m     14\u001b[0m     \u001b[0mmeasures\u001b[0m \u001b[0;34m=\u001b[0m \u001b[0mmeasures\u001b[0m\u001b[0;34m.\u001b[0m\u001b[0mdrop_duplicates\u001b[0m\u001b[0;34m(\u001b[0m\u001b[0msubset\u001b[0m\u001b[0;34m=\u001b[0m\u001b[0;34m[\u001b[0m\u001b[0;34m\"sampleID\"\u001b[0m\u001b[0;34m,\u001b[0m \u001b[0;34m\"type\"\u001b[0m\u001b[0;34m]\u001b[0m\u001b[0;34m)\u001b[0m\u001b[0;34m\u001b[0m\u001b[0;34m\u001b[0m\u001b[0m\n\u001b[1;32m     15\u001b[0m     \u001b[0mmeasures\u001b[0m \u001b[0;34m=\u001b[0m \u001b[0mmeasures\u001b[0m\u001b[0;34m.\u001b[0m\u001b[0mpivot\u001b[0m\u001b[0;34m(\u001b[0m\u001b[0mindex\u001b[0m\u001b[0;34m=\u001b[0m\u001b[0;34m[\u001b[0m\u001b[0;34m\"sampleID\"\u001b[0m\u001b[0;34m,\u001b[0m \u001b[0;34m\"sampleDate\"\u001b[0m\u001b[0;34m]\u001b[0m\u001b[0;34m,\u001b[0m \u001b[0mcolumns\u001b[0m\u001b[0;34m=\u001b[0m\u001b[0;34m\"type\"\u001b[0m\u001b[0;34m,\u001b[0m \u001b[0mvalues\u001b[0m\u001b[0;34m=\u001b[0m\u001b[0;34m\"value\"\u001b[0m\u001b[0;34m)\u001b[0m\u001b[0;34m\u001b[0m\u001b[0;34m\u001b[0m\u001b[0m\n",
      "\u001b[0;32m~/.vscode/extensions/ms-python.python-2021.3.680753044/pythonFiles/lib/python/debugpy/_vendored/pydevd/_pydevd_bundle/pydevd_frame.py\u001b[0m in \u001b[0;36mtrace_dispatch\u001b[0;34m(self, frame, event, arg)\u001b[0m\n\u001b[1;32m   1020\u001b[0m                     \u001b[0;32mif\u001b[0m \u001b[0mis_line\u001b[0m\u001b[0;34m:\u001b[0m\u001b[0;34m\u001b[0m\u001b[0;34m\u001b[0m\u001b[0m\n\u001b[1;32m   1021\u001b[0m                         \u001b[0mself\u001b[0m\u001b[0;34m.\u001b[0m\u001b[0mset_suspend\u001b[0m\u001b[0;34m(\u001b[0m\u001b[0mthread\u001b[0m\u001b[0;34m,\u001b[0m \u001b[0mstep_cmd\u001b[0m\u001b[0;34m,\u001b[0m \u001b[0moriginal_step_cmd\u001b[0m\u001b[0;34m=\u001b[0m\u001b[0minfo\u001b[0m\u001b[0;34m.\u001b[0m\u001b[0mpydev_original_step_cmd\u001b[0m\u001b[0;34m)\u001b[0m\u001b[0;34m\u001b[0m\u001b[0;34m\u001b[0m\u001b[0m\n\u001b[0;32m-> 1022\u001b[0;31m                         \u001b[0mself\u001b[0m\u001b[0;34m.\u001b[0m\u001b[0mdo_wait_suspend\u001b[0m\u001b[0;34m(\u001b[0m\u001b[0mthread\u001b[0m\u001b[0;34m,\u001b[0m \u001b[0mframe\u001b[0m\u001b[0;34m,\u001b[0m \u001b[0mevent\u001b[0m\u001b[0;34m,\u001b[0m \u001b[0marg\u001b[0m\u001b[0;34m)\u001b[0m\u001b[0;34m\u001b[0m\u001b[0;34m\u001b[0m\u001b[0m\n\u001b[0m\u001b[1;32m   1023\u001b[0m                     \u001b[0;32melif\u001b[0m \u001b[0mis_return\u001b[0m\u001b[0;34m:\u001b[0m  \u001b[0;31m# return event\u001b[0m\u001b[0;34m\u001b[0m\u001b[0;34m\u001b[0m\u001b[0m\n\u001b[1;32m   1024\u001b[0m                         \u001b[0mback\u001b[0m \u001b[0;34m=\u001b[0m \u001b[0mframe\u001b[0m\u001b[0;34m.\u001b[0m\u001b[0mf_back\u001b[0m\u001b[0;34m\u001b[0m\u001b[0;34m\u001b[0m\u001b[0m\n",
      "\u001b[0;32m~/.vscode/extensions/ms-python.python-2021.3.680753044/pythonFiles/lib/python/debugpy/_vendored/pydevd/_pydevd_bundle/pydevd_frame.py\u001b[0m in \u001b[0;36mdo_wait_suspend\u001b[0;34m(self, *args, **kwargs)\u001b[0m\n\u001b[1;32m    151\u001b[0m \u001b[0;34m\u001b[0m\u001b[0m\n\u001b[1;32m    152\u001b[0m     \u001b[0;32mdef\u001b[0m \u001b[0mdo_wait_suspend\u001b[0m\u001b[0;34m(\u001b[0m\u001b[0mself\u001b[0m\u001b[0;34m,\u001b[0m \u001b[0;34m*\u001b[0m\u001b[0margs\u001b[0m\u001b[0;34m,\u001b[0m \u001b[0;34m**\u001b[0m\u001b[0mkwargs\u001b[0m\u001b[0;34m)\u001b[0m\u001b[0;34m:\u001b[0m\u001b[0;34m\u001b[0m\u001b[0;34m\u001b[0m\u001b[0m\n\u001b[0;32m--> 153\u001b[0;31m         \u001b[0mself\u001b[0m\u001b[0;34m.\u001b[0m\u001b[0m_args\u001b[0m\u001b[0;34m[\u001b[0m\u001b[0;36m0\u001b[0m\u001b[0;34m]\u001b[0m\u001b[0;34m.\u001b[0m\u001b[0mdo_wait_suspend\u001b[0m\u001b[0;34m(\u001b[0m\u001b[0;34m*\u001b[0m\u001b[0margs\u001b[0m\u001b[0;34m,\u001b[0m \u001b[0;34m**\u001b[0m\u001b[0mkwargs\u001b[0m\u001b[0;34m)\u001b[0m\u001b[0;34m\u001b[0m\u001b[0;34m\u001b[0m\u001b[0m\n\u001b[0m\u001b[1;32m    154\u001b[0m \u001b[0;34m\u001b[0m\u001b[0m\n\u001b[1;32m    155\u001b[0m     \u001b[0;31m# IFDEF CYTHON\u001b[0m\u001b[0;34m\u001b[0m\u001b[0;34m\u001b[0m\u001b[0;34m\u001b[0m\u001b[0m\n",
      "\u001b[0;32m~/.vscode/extensions/ms-python.python-2021.3.680753044/pythonFiles/lib/python/debugpy/_vendored/pydevd/pydevd.py\u001b[0m in \u001b[0;36mdo_wait_suspend\u001b[0;34m(self, thread, frame, event, arg, exception_type)\u001b[0m\n\u001b[1;32m   1853\u001b[0m \u001b[0;34m\u001b[0m\u001b[0m\n\u001b[1;32m   1854\u001b[0m             \u001b[0;32mwith\u001b[0m \u001b[0mself\u001b[0m\u001b[0;34m.\u001b[0m\u001b[0m_threads_suspended_single_notification\u001b[0m\u001b[0;34m.\u001b[0m\u001b[0mnotify_thread_suspended\u001b[0m\u001b[0;34m(\u001b[0m\u001b[0mthread_id\u001b[0m\u001b[0;34m,\u001b[0m \u001b[0mstop_reason\u001b[0m\u001b[0;34m)\u001b[0m\u001b[0;34m:\u001b[0m\u001b[0;34m\u001b[0m\u001b[0;34m\u001b[0m\u001b[0m\n\u001b[0;32m-> 1855\u001b[0;31m                 \u001b[0mkeep_suspended\u001b[0m \u001b[0;34m=\u001b[0m \u001b[0mself\u001b[0m\u001b[0;34m.\u001b[0m\u001b[0m_do_wait_suspend\u001b[0m\u001b[0;34m(\u001b[0m\u001b[0mthread\u001b[0m\u001b[0;34m,\u001b[0m \u001b[0mframe\u001b[0m\u001b[0;34m,\u001b[0m \u001b[0mevent\u001b[0m\u001b[0;34m,\u001b[0m \u001b[0marg\u001b[0m\u001b[0;34m,\u001b[0m \u001b[0msuspend_type\u001b[0m\u001b[0;34m,\u001b[0m \u001b[0mfrom_this_thread\u001b[0m\u001b[0;34m,\u001b[0m \u001b[0mframes_tracker\u001b[0m\u001b[0;34m)\u001b[0m\u001b[0;34m\u001b[0m\u001b[0;34m\u001b[0m\u001b[0m\n\u001b[0m\u001b[1;32m   1856\u001b[0m \u001b[0;34m\u001b[0m\u001b[0m\n\u001b[1;32m   1857\u001b[0m         \u001b[0mframes_list\u001b[0m \u001b[0;34m=\u001b[0m \u001b[0;32mNone\u001b[0m\u001b[0;34m\u001b[0m\u001b[0;34m\u001b[0m\u001b[0m\n",
      "\u001b[0;32m~/.vscode/extensions/ms-python.python-2021.3.680753044/pythonFiles/lib/python/debugpy/_vendored/pydevd/pydevd.py\u001b[0m in \u001b[0;36m_do_wait_suspend\u001b[0;34m(self, thread, frame, event, arg, suspend_type, from_this_thread, frames_tracker)\u001b[0m\n\u001b[1;32m   1888\u001b[0m \u001b[0;34m\u001b[0m\u001b[0m\n\u001b[1;32m   1889\u001b[0m             \u001b[0mself\u001b[0m\u001b[0;34m.\u001b[0m\u001b[0mprocess_internal_commands\u001b[0m\u001b[0;34m(\u001b[0m\u001b[0;34m)\u001b[0m\u001b[0;34m\u001b[0m\u001b[0;34m\u001b[0m\u001b[0m\n\u001b[0;32m-> 1890\u001b[0;31m             \u001b[0mtime\u001b[0m\u001b[0;34m.\u001b[0m\u001b[0msleep\u001b[0m\u001b[0;34m(\u001b[0m\u001b[0;36m0.01\u001b[0m\u001b[0;34m)\u001b[0m\u001b[0;34m\u001b[0m\u001b[0;34m\u001b[0m\u001b[0m\n\u001b[0m\u001b[1;32m   1891\u001b[0m \u001b[0;34m\u001b[0m\u001b[0m\n\u001b[1;32m   1892\u001b[0m         \u001b[0mself\u001b[0m\u001b[0;34m.\u001b[0m\u001b[0mcancel_async_evaluation\u001b[0m\u001b[0;34m(\u001b[0m\u001b[0mget_current_thread_id\u001b[0m\u001b[0;34m(\u001b[0m\u001b[0mthread\u001b[0m\u001b[0;34m)\u001b[0m\u001b[0;34m,\u001b[0m \u001b[0mstr\u001b[0m\u001b[0;34m(\u001b[0m\u001b[0mid\u001b[0m\u001b[0;34m(\u001b[0m\u001b[0mframe\u001b[0m\u001b[0;34m)\u001b[0m\u001b[0;34m)\u001b[0m\u001b[0;34m)\u001b[0m\u001b[0;34m\u001b[0m\u001b[0;34m\u001b[0m\u001b[0m\n",
      "\u001b[0;31mKeyboardInterrupt\u001b[0m: "
     ]
    }
   ],
   "source": [
    "def get_normalized_data(odm_data, site_id):\n",
    "    samples = odm_data.sample\n",
    "    samples[\"reportDate\"] = samples.apply(sample_time, axis=1)\n",
    "    samples_from_site = samples.loc[samples[\"siteID\"].str.lower() == site_id, \"sampleID\"].unique()\n",
    "    \n",
    "    measures = odm_data.ww_measure\n",
    "    sample_filt = (measures[\"sampleID\"].isin(samples_from_site))\n",
    "    viral_filt = (measures[\"type\"].isin([\"covN2\", \"nPMMoV\"]))\n",
    "    unit_filt = (measures[\"unit\"] == \"gc/ml\")\n",
    "    quality_filt = (measures[\"qualityFlag\"] == False)\n",
    "    measures = measures.loc[sample_filt & viral_filt & unit_filt & quality_filt, [\"sampleID\", \"type\", \"value\"]]\n",
    "    measures[\"sampleDate\"] = measures[\"sampleID\"].apply(date_from_sample_id)\n",
    "    measures = measures.drop_duplicates(subset=[\"sampleID\", \"type\"])\n",
    "    measures = measures.pivot(index=[\"sampleID\", \"sampleDate\"], columns=\"type\", values=\"value\")\n",
    "    if \"covN2\" not in measures.columns:\n",
    "        print(f\"no sars measurements found for site {site_id}\")\n",
    "        return None\n",
    "    measures[\"normalized\"] = measures[\"covN2\"] / measures[\"nPMMoV\"]\n",
    "    measures = measures.sort_values(\"sampleDate\")\n",
    "    measures = measures.reset_index()\n",
    "    return measures.dropna(subset=[\"normalized\"])\n",
    "\n",
    "\n",
    "def prettify_name(name):\n",
    "    name_lst = name.split(\" \")\n",
    "    name_lst = [x.title() for x in name_lst]\n",
    "    name = \" \".join(name_lst)\n",
    "    name = name.replace(\"Quebec\", \"Québec\")\n",
    "    name = name.replace(\"Montreal\", \"Montréal\")\n",
    "    return name\n",
    "\n",
    "def graph_normalized(odm_data, region_name, site_list, max_normalized):\n",
    "    fig = make_subplots(rows=1, cols=1,\n",
    "                    specs=[[{\"secondary_y\": True}]])\n",
    "    traces = []\n",
    "    for site in site_list:\n",
    "        name = get_site_name(odm_data, site)\n",
    "        site_measures = get_normalized_data(odm_data, site)\n",
    "        if site_measures is None:\n",
    "            print(site)\n",
    "            continue\n",
    "        trace = go.Scatter(\n",
    "            x=site_measures[\"sampleDate\"],\n",
    "            y=site_measures[\"normalized\"],\n",
    "            name=prettify_name(name),\n",
    "            mode=\"lines+markers\",\n",
    "            text=site_measures[\"sampleID\"],\n",
    "            hoverinfo=\"text\"\n",
    "        )\n",
    "        traces.append(trace)\n",
    "    for trace in traces:\n",
    "        fig.add_trace(trace, secondary_y=True)    \n",
    "    fig.update_layout(\n",
    "        xaxis_title=\"Date\",\n",
    "        xaxis_tick0=\"2020-12-27\",\n",
    "        xaxis_dtick=7 * 24 * 3600000,\n",
    "        xaxis_tickformat=\"%d-%m-%Y\",\n",
    "        xaxis_tickangle=30, plot_bgcolor=\"white\",\n",
    "        xaxis_gridcolor=\"rgba(100,100,100,0.10)\",\n",
    "        yaxis_gridcolor=\"rgba(0,0,0,0)\",\n",
    "        xaxis_ticks=\"outside\"\n",
    "    )\n",
    "    fig.update_yaxes(title=\"SARS-CoV-2 / PMMoV\", secondary_y=True, range=[0, max_normalized])\n",
    "    if region_name == \"Capitale-Nationale\":\n",
    "        region_name = \"Région de Québec\"\n",
    "    fig.update_layout(title=dict(text=f\"Surveillance SRAS-CoV-2 via les eaux usées<br>{region_name}\"))\n",
    "    return fig\n",
    "\n",
    "def get_cases_from_ledevoir(region_name, start_date=None, end_date=None):\n",
    "    start_date = pd.to_datetime(start_date)\n",
    "    end_date = pd.to_datetime(end_date)\n",
    "    response = requests.get(\"https://ledevoir-coronavirus.herokuapp.com/api/v2/reports/ca/qc\")\n",
    "    j = json.loads(response.text)\n",
    "    region_codes = {}\n",
    "    for i in range(len(j[\"regions\"])):\n",
    "        region_codes[j[\"regions\"][i][\"name\"]] = i\n",
    "    region_code = region_codes[region_name]\n",
    "    cases = pd.DataFrame(j[\"regions\"][region_code][\"data\"])\n",
    "    cases[\"date\"] = pd.to_datetime(cases[\"date\"])\n",
    "    cases = cases.set_index(\"date\")\n",
    "    if pd.isna(start_date) and pd.isna(end_date):\n",
    "        pass\n",
    "    elif pd.isna(end_date):\n",
    "        cases = cases.loc[start_date:]\n",
    "    elif pd.isna(start_date):\n",
    "        cases = cases.loc[:end_date]\n",
    "    else:\n",
    "        cases = cases.loc[start_date : end_date]\n",
    "    return cases\n",
    "\n",
    "def create_graph(data, region, sites, max_norm=None):\n",
    "    graph = graph_normalized(data, region, sites, max_norm)\n",
    "    cases = get_cases_from_ledevoir(region, start_date=\"2021-01-01\")\n",
    "    cases_trace = go.Bar(x=cases.index, y=cases[\"dc\"], name=\"Nouveaux cas<br>journaliers\", marker=dict(opacity=0.3))\n",
    "    graph.add_trace(cases_trace, secondary_y=False)\n",
    "    graph.update_layout(legend=dict(yanchor=\"top\", xanchor=\"left\", orientation=\"h\", y=1.1, x=0))\n",
    "    graph.update_yaxes(title=\"Nouveaux cas\",side=\"right\", secondary_y=False)\n",
    "    graph.update_yaxes(side=\"left\", secondary_y=True)\n",
    "    graph.add_layout_image(\n",
    "    dict(\n",
    "        source=\"https://www.centreau.ulaval.ca/fileadmin/Documents/Image_de_marque/102378_MODIF_LOGO-CENTREAU_noir.jpg\",\n",
    "        xref=\"paper\", yref=\"paper\",\n",
    "        x=1, y=1.00,\n",
    "        sizex=0.25, sizey=0.25,\n",
    "        xanchor=\"right\", yanchor=\"bottom\"\n",
    "        )\n",
    "    )\n",
    "    graph.show()\n",
    "    return graph\n",
    "\n",
    "def get_site_name(odm_data, site_id):\n",
    "    sites = odm_data.site\n",
    "    site_rows = sites.loc[sites[\"siteID\"].str.lower() == str(site_id).lower()]\n",
    "    if len(site_rows) > 1:\n",
    "        return \"\"\n",
    "    else:\n",
    "        first_row =  site_rows.iloc[0]\n",
    "        return first_row.loc[\"name\"]\n",
    "\n",
    "region=\"Capitale-Nationale\"\n",
    "sites = [\"qc_01\", \"qc_02\"]\n",
    "max_norm = 0.2\n",
    "qc_graph = create_graph(qc_lab_data, region, sites, max_norm)"
   ]
  },
  {
   "cell_type": "code",
   "execution_count": null,
   "metadata": {},
   "outputs": [],
   "source": []
  },
  {
   "cell_type": "code",
   "execution_count": null,
   "metadata": {},
   "outputs": [],
   "source": []
  },
  {
   "cell_type": "code",
   "execution_count": null,
   "metadata": {},
   "outputs": [],
   "source": []
  },
  {
   "cell_type": "code",
   "execution_count": null,
   "metadata": {},
   "outputs": [],
   "source": []
  },
  {
   "cell_type": "code",
   "execution_count": 24,
   "metadata": {},
   "outputs": [
    {
     "output_type": "stream",
     "name": "stderr",
     "text": [
      "UsageError: Line magic function `%%timeit` not found.\n"
     ]
    }
   ],
   "source": [
    "path_to_parser_help = \"../Data/Lab/McGill/Final/\"\n",
    "lab_data = \"/Users/jeandavidt/Desktop/latest-data/CentrEau-COVID_Resultats_Montreal_final.xlsx\"\n",
    "static_data = path_to_parser_help + \"mcgill_static.xlsx\"\n",
    "mapping = path_to_parser_help + \"mcgill_map.csv\"\n",
    "sheet_name = \"Mtl Data Daily Samples (Poly)\"\n",
    "lab_id = \"frigon_lab\"\n",
    "start_date = None\n",
    "end_date = None\n",
    "poly_lab_data = load_from_mcgill(lab_data, static_data, mapping, sheet_name, lab_id, start_date=start_date, end_date=end_date)"
   ]
  },
  {
   "cell_type": "code",
   "execution_count": 22,
   "metadata": {},
   "outputs": [
    {
     "output_type": "stream",
     "name": "stderr",
     "text": [
      "/usr/local/Caskroom/miniconda/base/envs/covid/lib/python3.9/site-packages/openpyxl/worksheet/_reader.py:312: UserWarning:\n\nData Validation extension is not supported and will be removed\n\n"
     ]
    }
   ],
   "source": [
    "path_to_parser_help = \"../Data/Lab/McGill/Final/\"\n",
    "lab_data = \"/Users/jeandavidt/Desktop/latest-data/CentrEau-COVID_Resultats_Montreal_final.xlsx\"\n",
    "static_data = path_to_parser_help + \"mcgill_static.xlsx\"\n",
    "mapping = path_to_parser_help + \"mcgill_map.csv\"\n",
    "sheet_name = \"Mtl Data Daily Samples (McGill)\"\n",
    "lab_id = \"frigon_lab\"\n",
    "start_date = None\n",
    "end_date = None\n",
    "mcgill_lab_data = load_from_mcgill(lab_data, static_data, mapping, sheet_name, lab_id, start_date=start_date, end_date=end_date)"
   ]
  },
  {
   "cell_type": "code",
   "execution_count": 48,
   "metadata": {},
   "outputs": [
    {
     "output_type": "stream",
     "name": "stdout",
     "text": [
      "no sars measurements found for site mtl_01\n",
      "mtl_01\n",
      "no sars measurements found for site mtl_05\n",
      "mtl_05\n",
      "no sars measurements found for site mtl_16\n",
      "mtl_16\n",
      "no sars measurements found for site mtl_12\n",
      "mtl_12\n"
     ]
    },
    {
     "output_type": "display_data",
     "data": {
      "application/vnd.plotly.v1+json": {
       "config": {
        "plotlyServerURL": "https://plot.ly"
       },
       "data": [
        {
         "marker": {
          "opacity": 0.3
         },
         "name": "Nouveaux cas<br>journaliers",
         "type": "bar",
         "x": [
          "2021-01-01T00:00:00",
          "2021-01-02T00:00:00",
          "2021-01-03T00:00:00",
          "2021-01-04T00:00:00",
          "2021-01-05T00:00:00",
          "2021-01-06T00:00:00",
          "2021-01-07T00:00:00",
          "2021-01-08T00:00:00",
          "2021-01-09T00:00:00",
          "2021-01-10T00:00:00",
          "2021-01-11T00:00:00",
          "2021-01-12T00:00:00",
          "2021-01-13T00:00:00",
          "2021-01-14T00:00:00",
          "2021-01-15T00:00:00",
          "2021-01-16T00:00:00",
          "2021-01-17T00:00:00",
          "2021-01-18T00:00:00",
          "2021-01-19T00:00:00",
          "2021-01-20T00:00:00",
          "2021-01-21T00:00:00",
          "2021-01-22T00:00:00",
          "2021-01-23T00:00:00",
          "2021-01-24T00:00:00",
          "2021-01-25T00:00:00",
          "2021-01-26T00:00:00",
          "2021-01-27T00:00:00",
          "2021-01-28T00:00:00",
          "2021-01-29T00:00:00",
          "2021-01-30T00:00:00",
          "2021-01-31T00:00:00",
          "2021-02-01T00:00:00",
          "2021-02-02T00:00:00",
          "2021-02-03T00:00:00",
          "2021-02-04T00:00:00",
          "2021-02-05T00:00:00",
          "2021-02-06T00:00:00",
          "2021-02-07T00:00:00",
          "2021-02-08T00:00:00",
          "2021-02-09T00:00:00",
          "2021-02-10T00:00:00",
          "2021-02-11T00:00:00",
          "2021-02-12T00:00:00",
          "2021-02-13T00:00:00",
          "2021-02-14T00:00:00",
          "2021-02-15T00:00:00",
          "2021-02-16T00:00:00",
          "2021-02-17T00:00:00",
          "2021-02-18T00:00:00",
          "2021-02-19T00:00:00",
          "2021-02-20T00:00:00",
          "2021-02-21T00:00:00",
          "2021-02-22T00:00:00",
          "2021-02-23T00:00:00",
          "2021-02-24T00:00:00",
          "2021-02-25T00:00:00",
          "2021-02-26T00:00:00",
          "2021-02-27T00:00:00",
          "2021-02-28T00:00:00",
          "2021-03-01T00:00:00",
          "2021-03-02T00:00:00",
          "2021-03-03T00:00:00",
          "2021-03-04T00:00:00",
          "2021-03-05T00:00:00",
          "2021-03-06T00:00:00",
          "2021-03-07T00:00:00",
          "2021-03-08T00:00:00",
          "2021-03-09T00:00:00",
          "2021-03-10T00:00:00",
          "2021-03-11T00:00:00",
          "2021-03-12T00:00:00",
          "2021-03-13T00:00:00",
          "2021-03-14T00:00:00",
          "2021-03-15T00:00:00",
          "2021-03-16T00:00:00",
          "2021-03-17T00:00:00",
          "2021-03-18T00:00:00",
          "2021-03-19T00:00:00",
          "2021-03-20T00:00:00",
          "2021-03-21T00:00:00",
          "2021-03-22T00:00:00",
          "2021-03-23T00:00:00",
          "2021-03-24T00:00:00",
          "2021-03-25T00:00:00",
          "2021-03-26T00:00:00",
          "2021-03-27T00:00:00",
          "2021-03-28T00:00:00",
          "2021-03-29T00:00:00",
          "2021-03-30T00:00:00",
          "2021-03-31T00:00:00",
          "2021-04-01T00:00:00",
          "2021-04-02T00:00:00",
          "2021-04-03T00:00:00",
          "2021-04-04T00:00:00",
          "2021-04-05T00:00:00",
          "2021-04-06T00:00:00",
          "2021-04-07T00:00:00"
         ],
         "xaxis": "x",
         "y": [
          748,
          1231,
          927,
          793,
          771,
          821,
          1094,
          1280,
          1049,
          824,
          779,
          564,
          865,
          732,
          816,
          714,
          885,
          584,
          470,
          638,
          673,
          765,
          614,
          565,
          430,
          506,
          594,
          455,
          577,
          498,
          555,
          390,
          470,
          560,
          487,
          525,
          550,
          514,
          410,
          335,
          451,
          552,
          477,
          484,
          342,
          353,
          317,
          414,
          331,
          377,
          396,
          391,
          406,
          258,
          419,
          410,
          390,
          398,
          324,
          249,
          260,
          390,
          305,
          372,
          282,
          398,
          269,
          260,
          393,
          316,
          366,
          391,
          279,
          0,
          516,
          341,
          313,
          355,
          320,
          266,
          309,
          230,
          341,
          368,
          357,
          357,
          306,
          133,
          305,
          348,
          393,
          388,
          361,
          302,
          348,
          300,
          299
         ],
         "yaxis": "y"
        }
       ],
       "layout": {
        "images": [
         {
          "sizex": 0.25,
          "sizey": 0.25,
          "source": "https://www.centreau.ulaval.ca/fileadmin/Documents/Image_de_marque/102378_MODIF_LOGO-CENTREAU_noir.jpg",
          "x": 1,
          "xanchor": "right",
          "xref": "paper",
          "y": 1,
          "yanchor": "bottom",
          "yref": "paper"
         }
        ],
        "legend": {
         "orientation": "h",
         "x": 0,
         "xanchor": "left",
         "y": 1.1,
         "yanchor": "top"
        },
        "plot_bgcolor": "white",
        "template": {
         "data": {
          "bar": [
           {
            "error_x": {
             "color": "#2a3f5f"
            },
            "error_y": {
             "color": "#2a3f5f"
            },
            "marker": {
             "line": {
              "color": "#E5ECF6",
              "width": 0.5
             }
            },
            "type": "bar"
           }
          ],
          "barpolar": [
           {
            "marker": {
             "line": {
              "color": "#E5ECF6",
              "width": 0.5
             }
            },
            "type": "barpolar"
           }
          ],
          "carpet": [
           {
            "aaxis": {
             "endlinecolor": "#2a3f5f",
             "gridcolor": "white",
             "linecolor": "white",
             "minorgridcolor": "white",
             "startlinecolor": "#2a3f5f"
            },
            "baxis": {
             "endlinecolor": "#2a3f5f",
             "gridcolor": "white",
             "linecolor": "white",
             "minorgridcolor": "white",
             "startlinecolor": "#2a3f5f"
            },
            "type": "carpet"
           }
          ],
          "choropleth": [
           {
            "colorbar": {
             "outlinewidth": 0,
             "ticks": ""
            },
            "type": "choropleth"
           }
          ],
          "contour": [
           {
            "colorbar": {
             "outlinewidth": 0,
             "ticks": ""
            },
            "colorscale": [
             [
              0,
              "#0d0887"
             ],
             [
              0.1111111111111111,
              "#46039f"
             ],
             [
              0.2222222222222222,
              "#7201a8"
             ],
             [
              0.3333333333333333,
              "#9c179e"
             ],
             [
              0.4444444444444444,
              "#bd3786"
             ],
             [
              0.5555555555555556,
              "#d8576b"
             ],
             [
              0.6666666666666666,
              "#ed7953"
             ],
             [
              0.7777777777777778,
              "#fb9f3a"
             ],
             [
              0.8888888888888888,
              "#fdca26"
             ],
             [
              1,
              "#f0f921"
             ]
            ],
            "type": "contour"
           }
          ],
          "contourcarpet": [
           {
            "colorbar": {
             "outlinewidth": 0,
             "ticks": ""
            },
            "type": "contourcarpet"
           }
          ],
          "heatmap": [
           {
            "colorbar": {
             "outlinewidth": 0,
             "ticks": ""
            },
            "colorscale": [
             [
              0,
              "#0d0887"
             ],
             [
              0.1111111111111111,
              "#46039f"
             ],
             [
              0.2222222222222222,
              "#7201a8"
             ],
             [
              0.3333333333333333,
              "#9c179e"
             ],
             [
              0.4444444444444444,
              "#bd3786"
             ],
             [
              0.5555555555555556,
              "#d8576b"
             ],
             [
              0.6666666666666666,
              "#ed7953"
             ],
             [
              0.7777777777777778,
              "#fb9f3a"
             ],
             [
              0.8888888888888888,
              "#fdca26"
             ],
             [
              1,
              "#f0f921"
             ]
            ],
            "type": "heatmap"
           }
          ],
          "heatmapgl": [
           {
            "colorbar": {
             "outlinewidth": 0,
             "ticks": ""
            },
            "colorscale": [
             [
              0,
              "#0d0887"
             ],
             [
              0.1111111111111111,
              "#46039f"
             ],
             [
              0.2222222222222222,
              "#7201a8"
             ],
             [
              0.3333333333333333,
              "#9c179e"
             ],
             [
              0.4444444444444444,
              "#bd3786"
             ],
             [
              0.5555555555555556,
              "#d8576b"
             ],
             [
              0.6666666666666666,
              "#ed7953"
             ],
             [
              0.7777777777777778,
              "#fb9f3a"
             ],
             [
              0.8888888888888888,
              "#fdca26"
             ],
             [
              1,
              "#f0f921"
             ]
            ],
            "type": "heatmapgl"
           }
          ],
          "histogram": [
           {
            "marker": {
             "colorbar": {
              "outlinewidth": 0,
              "ticks": ""
             }
            },
            "type": "histogram"
           }
          ],
          "histogram2d": [
           {
            "colorbar": {
             "outlinewidth": 0,
             "ticks": ""
            },
            "colorscale": [
             [
              0,
              "#0d0887"
             ],
             [
              0.1111111111111111,
              "#46039f"
             ],
             [
              0.2222222222222222,
              "#7201a8"
             ],
             [
              0.3333333333333333,
              "#9c179e"
             ],
             [
              0.4444444444444444,
              "#bd3786"
             ],
             [
              0.5555555555555556,
              "#d8576b"
             ],
             [
              0.6666666666666666,
              "#ed7953"
             ],
             [
              0.7777777777777778,
              "#fb9f3a"
             ],
             [
              0.8888888888888888,
              "#fdca26"
             ],
             [
              1,
              "#f0f921"
             ]
            ],
            "type": "histogram2d"
           }
          ],
          "histogram2dcontour": [
           {
            "colorbar": {
             "outlinewidth": 0,
             "ticks": ""
            },
            "colorscale": [
             [
              0,
              "#0d0887"
             ],
             [
              0.1111111111111111,
              "#46039f"
             ],
             [
              0.2222222222222222,
              "#7201a8"
             ],
             [
              0.3333333333333333,
              "#9c179e"
             ],
             [
              0.4444444444444444,
              "#bd3786"
             ],
             [
              0.5555555555555556,
              "#d8576b"
             ],
             [
              0.6666666666666666,
              "#ed7953"
             ],
             [
              0.7777777777777778,
              "#fb9f3a"
             ],
             [
              0.8888888888888888,
              "#fdca26"
             ],
             [
              1,
              "#f0f921"
             ]
            ],
            "type": "histogram2dcontour"
           }
          ],
          "mesh3d": [
           {
            "colorbar": {
             "outlinewidth": 0,
             "ticks": ""
            },
            "type": "mesh3d"
           }
          ],
          "parcoords": [
           {
            "line": {
             "colorbar": {
              "outlinewidth": 0,
              "ticks": ""
             }
            },
            "type": "parcoords"
           }
          ],
          "pie": [
           {
            "automargin": true,
            "type": "pie"
           }
          ],
          "scatter": [
           {
            "marker": {
             "colorbar": {
              "outlinewidth": 0,
              "ticks": ""
             }
            },
            "type": "scatter"
           }
          ],
          "scatter3d": [
           {
            "line": {
             "colorbar": {
              "outlinewidth": 0,
              "ticks": ""
             }
            },
            "marker": {
             "colorbar": {
              "outlinewidth": 0,
              "ticks": ""
             }
            },
            "type": "scatter3d"
           }
          ],
          "scattercarpet": [
           {
            "marker": {
             "colorbar": {
              "outlinewidth": 0,
              "ticks": ""
             }
            },
            "type": "scattercarpet"
           }
          ],
          "scattergeo": [
           {
            "marker": {
             "colorbar": {
              "outlinewidth": 0,
              "ticks": ""
             }
            },
            "type": "scattergeo"
           }
          ],
          "scattergl": [
           {
            "marker": {
             "colorbar": {
              "outlinewidth": 0,
              "ticks": ""
             }
            },
            "type": "scattergl"
           }
          ],
          "scattermapbox": [
           {
            "marker": {
             "colorbar": {
              "outlinewidth": 0,
              "ticks": ""
             }
            },
            "type": "scattermapbox"
           }
          ],
          "scatterpolar": [
           {
            "marker": {
             "colorbar": {
              "outlinewidth": 0,
              "ticks": ""
             }
            },
            "type": "scatterpolar"
           }
          ],
          "scatterpolargl": [
           {
            "marker": {
             "colorbar": {
              "outlinewidth": 0,
              "ticks": ""
             }
            },
            "type": "scatterpolargl"
           }
          ],
          "scatterternary": [
           {
            "marker": {
             "colorbar": {
              "outlinewidth": 0,
              "ticks": ""
             }
            },
            "type": "scatterternary"
           }
          ],
          "surface": [
           {
            "colorbar": {
             "outlinewidth": 0,
             "ticks": ""
            },
            "colorscale": [
             [
              0,
              "#0d0887"
             ],
             [
              0.1111111111111111,
              "#46039f"
             ],
             [
              0.2222222222222222,
              "#7201a8"
             ],
             [
              0.3333333333333333,
              "#9c179e"
             ],
             [
              0.4444444444444444,
              "#bd3786"
             ],
             [
              0.5555555555555556,
              "#d8576b"
             ],
             [
              0.6666666666666666,
              "#ed7953"
             ],
             [
              0.7777777777777778,
              "#fb9f3a"
             ],
             [
              0.8888888888888888,
              "#fdca26"
             ],
             [
              1,
              "#f0f921"
             ]
            ],
            "type": "surface"
           }
          ],
          "table": [
           {
            "cells": {
             "fill": {
              "color": "#EBF0F8"
             },
             "line": {
              "color": "white"
             }
            },
            "header": {
             "fill": {
              "color": "#C8D4E3"
             },
             "line": {
              "color": "white"
             }
            },
            "type": "table"
           }
          ]
         },
         "layout": {
          "annotationdefaults": {
           "arrowcolor": "#2a3f5f",
           "arrowhead": 0,
           "arrowwidth": 1
          },
          "autotypenumbers": "strict",
          "coloraxis": {
           "colorbar": {
            "outlinewidth": 0,
            "ticks": ""
           }
          },
          "colorscale": {
           "diverging": [
            [
             0,
             "#8e0152"
            ],
            [
             0.1,
             "#c51b7d"
            ],
            [
             0.2,
             "#de77ae"
            ],
            [
             0.3,
             "#f1b6da"
            ],
            [
             0.4,
             "#fde0ef"
            ],
            [
             0.5,
             "#f7f7f7"
            ],
            [
             0.6,
             "#e6f5d0"
            ],
            [
             0.7,
             "#b8e186"
            ],
            [
             0.8,
             "#7fbc41"
            ],
            [
             0.9,
             "#4d9221"
            ],
            [
             1,
             "#276419"
            ]
           ],
           "sequential": [
            [
             0,
             "#0d0887"
            ],
            [
             0.1111111111111111,
             "#46039f"
            ],
            [
             0.2222222222222222,
             "#7201a8"
            ],
            [
             0.3333333333333333,
             "#9c179e"
            ],
            [
             0.4444444444444444,
             "#bd3786"
            ],
            [
             0.5555555555555556,
             "#d8576b"
            ],
            [
             0.6666666666666666,
             "#ed7953"
            ],
            [
             0.7777777777777778,
             "#fb9f3a"
            ],
            [
             0.8888888888888888,
             "#fdca26"
            ],
            [
             1,
             "#f0f921"
            ]
           ],
           "sequentialminus": [
            [
             0,
             "#0d0887"
            ],
            [
             0.1111111111111111,
             "#46039f"
            ],
            [
             0.2222222222222222,
             "#7201a8"
            ],
            [
             0.3333333333333333,
             "#9c179e"
            ],
            [
             0.4444444444444444,
             "#bd3786"
            ],
            [
             0.5555555555555556,
             "#d8576b"
            ],
            [
             0.6666666666666666,
             "#ed7953"
            ],
            [
             0.7777777777777778,
             "#fb9f3a"
            ],
            [
             0.8888888888888888,
             "#fdca26"
            ],
            [
             1,
             "#f0f921"
            ]
           ]
          },
          "colorway": [
           "#636efa",
           "#EF553B",
           "#00cc96",
           "#ab63fa",
           "#FFA15A",
           "#19d3f3",
           "#FF6692",
           "#B6E880",
           "#FF97FF",
           "#FECB52"
          ],
          "font": {
           "color": "#2a3f5f"
          },
          "geo": {
           "bgcolor": "white",
           "lakecolor": "white",
           "landcolor": "#E5ECF6",
           "showlakes": true,
           "showland": true,
           "subunitcolor": "white"
          },
          "hoverlabel": {
           "align": "left"
          },
          "hovermode": "closest",
          "mapbox": {
           "style": "light"
          },
          "paper_bgcolor": "white",
          "plot_bgcolor": "#E5ECF6",
          "polar": {
           "angularaxis": {
            "gridcolor": "white",
            "linecolor": "white",
            "ticks": ""
           },
           "bgcolor": "#E5ECF6",
           "radialaxis": {
            "gridcolor": "white",
            "linecolor": "white",
            "ticks": ""
           }
          },
          "scene": {
           "xaxis": {
            "backgroundcolor": "#E5ECF6",
            "gridcolor": "white",
            "gridwidth": 2,
            "linecolor": "white",
            "showbackground": true,
            "ticks": "",
            "zerolinecolor": "white"
           },
           "yaxis": {
            "backgroundcolor": "#E5ECF6",
            "gridcolor": "white",
            "gridwidth": 2,
            "linecolor": "white",
            "showbackground": true,
            "ticks": "",
            "zerolinecolor": "white"
           },
           "zaxis": {
            "backgroundcolor": "#E5ECF6",
            "gridcolor": "white",
            "gridwidth": 2,
            "linecolor": "white",
            "showbackground": true,
            "ticks": "",
            "zerolinecolor": "white"
           }
          },
          "shapedefaults": {
           "line": {
            "color": "#2a3f5f"
           }
          },
          "ternary": {
           "aaxis": {
            "gridcolor": "white",
            "linecolor": "white",
            "ticks": ""
           },
           "baxis": {
            "gridcolor": "white",
            "linecolor": "white",
            "ticks": ""
           },
           "bgcolor": "#E5ECF6",
           "caxis": {
            "gridcolor": "white",
            "linecolor": "white",
            "ticks": ""
           }
          },
          "title": {
           "x": 0.05
          },
          "xaxis": {
           "automargin": true,
           "gridcolor": "white",
           "linecolor": "white",
           "ticks": "",
           "title": {
            "standoff": 15
           },
           "zerolinecolor": "white",
           "zerolinewidth": 2
          },
          "yaxis": {
           "automargin": true,
           "gridcolor": "white",
           "linecolor": "white",
           "ticks": "",
           "title": {
            "standoff": 15
           },
           "zerolinecolor": "white",
           "zerolinewidth": 2
          }
         }
        },
        "title": {
         "text": "Surveillance SRAS-CoV-2 via les eaux usées<br>Montréal"
        },
        "xaxis": {
         "anchor": "y",
         "domain": [
          0,
          0.94
         ],
         "dtick": 604800000,
         "gridcolor": "rgba(100,100,100,0.10)",
         "tick0": "2020-12-27",
         "tickangle": 30,
         "tickformat": "%d-%m-%Y",
         "ticks": "outside",
         "title": {
          "text": "Date"
         }
        },
        "yaxis": {
         "anchor": "x",
         "domain": [
          0,
          1
         ],
         "gridcolor": "rgba(0,0,0,0)",
         "side": "right",
         "title": {
          "text": "Nouveaux cas"
         }
        },
        "yaxis2": {
         "anchor": "x",
         "overlaying": "y",
         "range": [
          0,
          1
         ],
         "side": "left",
         "title": {
          "text": "SARS-CoV-2 / PMMoV"
         }
        }
       }
      }
     },
     "metadata": {}
    }
   ],
   "source": [
    "region=\"Montréal\"\n",
    "sites = [\"mtl_01\", \"mtl_05\", \"mtl_16\", \"mtl_12\"]\n",
    "max_norm = 1\n",
    "graph = create_graph(existing_odm, region, sites, max_norm)\n",
    "\n",
    "images_folder = \"/Users/jeandavidt/Downloads/plotly_images/\"\n",
    "graph.write_image(images_folder+\"mtl_April1.png\", width=1000, scale=3)\n",
    "graph.write_image(images_folder+\"mtl_April1.svg\", width=1000)"
   ]
  },
  {
   "cell_type": "code",
   "execution_count": null,
   "metadata": {},
   "outputs": [],
   "source": []
  }
 ]
}