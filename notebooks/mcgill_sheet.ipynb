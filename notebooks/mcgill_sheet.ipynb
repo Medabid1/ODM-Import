{
 "metadata": {
  "language_info": {
   "codemirror_mode": {
    "name": "ipython",
    "version": 3
   },
   "file_extension": ".py",
   "mimetype": "text/x-python",
   "name": "python",
   "nbconvert_exporter": "python",
   "pygments_lexer": "ipython3",
   "version": "3.9.2"
  },
  "orig_nbformat": 2,
  "kernelspec": {
   "name": "python392jvsc74a57bd0fff2645691be52a4acf54b6569930c06fb1b99dce13069d7478dfbb615d05851",
   "display_name": "Python 3.9.2 64-bit ('covid': conda)"
  }
 },
 "nbformat": 4,
 "nbformat_minor": 2,
 "cells": [
  {
   "cell_type": "code",
   "execution_count": 1,
   "metadata": {},
   "outputs": [],
   "source": [
    "import json\n",
    "import os\n",
    "import requests\n",
    "import sys\n",
    "current_directory = os.getcwd()\n",
    "project_directory = current_directory.split(\"/\")[:-1]\n",
    "project_directory = \"/\".join(project_directory)\n",
    "sys.path.insert(1, project_directory)\n",
    "import pandas as pd\n",
    "import plotly.express as px\n",
    "import plotly.graph_objects as go\n",
    "from plotly.subplots import make_subplots\n",
    "\n",
    "from wbe_odm import odm\n",
    "from wbe_odm.odm_mappers import mcgill_mapper\n",
    "from wbe_odm.odm_mappers import excel_template_mapper"
   ]
  },
  {
   "cell_type": "code",
   "execution_count": 2,
   "metadata": {},
   "outputs": [],
   "source": [
    "def load_from_mcgill(path_to_lab_data, path_to_static_data, path_to_types, path_to_mapping, sheet_name, lab_id, start_date=None, end_date=None):\n",
    "    mapper = mcgill_mapper.McGillMapper()\n",
    "    mapper.read(\n",
    "        path_to_lab_data,\n",
    "        path_to_static_data,\n",
    "        path_to_types,\n",
    "        path_to_mapping,\n",
    "        sheet_name,\n",
    "        lab_id,\n",
    "        startdate=start_date,\n",
    "        enddate=end_date\n",
    "    )\n",
    "    odm_data = odm.Odm()\n",
    "    odm_data.load_from(mapper)\n",
    "    return odm_data\n",
    "\n",
    "\n",
    "def get_available_sites(odm_data):\n",
    "    samples = odm_data.sample\n",
    "    available_sites = list(samples[\"siteID\"].unique())\n",
    "    site_dico = {}\n",
    "    for i, site in enumerate(available_sites):\n",
    "        if site == \"\":\n",
    "            continue\n",
    "        site_dico[i] = site\n",
    "    return site_dico\n",
    "\n",
    "def apply_quality_flag(odm_data, sample_ids, meas_types):\n",
    "    \"\"\"Puts the quality flag to True for the given measurement types\"\"\"\n",
    "    measures = odm_data.ww_measure\n",
    "    sample_filt = (measures[\"sampleID\"].isin(sample_ids))\n",
    "    type_filt = (measures[\"type\"].isin(meas_types))\n",
    "    measures.loc[sample_filt & type_filt, \"qualityFlag\"] = True\n",
    "    setattr(odm_data, \"ww_measure\", measures)\n",
    "    return odm_data\n",
    "\n",
    "def get_normalized_data(odm_data, site_id):\n",
    "    def sample_time(row):\n",
    "        comp_start = row[\"dateTimeStart\"]\n",
    "        grab = row[\"dateTime\"]\n",
    "        if pd.isna(comp_start):\n",
    "            return grab\n",
    "        else:\n",
    "            return comp_start\n",
    "    samples = odm_data.sample\n",
    "    samples[\"reportDate\"] = samples.apply(sample_time, axis=1)\n",
    "    samples_from_site = samples.loc[samples[\"siteID\"] == site_id, \"sampleID\"].unique()\n",
    "    def date_from_sample_id(sample_id):\n",
    "        sample_slice = samples.loc[samples[\"sampleID\"] == sample_id]\n",
    "        try:\n",
    "            reportDate = sample_slice.iloc[0][\"reportDate\"]\n",
    "            return reportDate\n",
    "        except IndexError:\n",
    "            return pd.NaT\n",
    "    measures = odm_data.ww_measure\n",
    "    sample_filt = (measures[\"sampleID\"].isin(samples_from_site))\n",
    "    viral_filt = (measures[\"type\"].isin([\"covN2\", \"nPMMoV\"]))\n",
    "    unit_filt = (measures[\"unit\"] == \"gc/ml\")\n",
    "    quality_filt = (measures[\"qualityFlag\"] == False)\n",
    "    measures = measures.loc[sample_filt & viral_filt & unit_filt & quality_filt, [\"sampleID\", \"type\", \"value\"]]\n",
    "    measures[\"sampleDate\"] = measures[\"sampleID\"].apply(date_from_sample_id)\n",
    "    measures = measures.drop_duplicates(subset=[\"sampleID\", \"type\"])\n",
    "    measures = measures.pivot(index=[\"sampleID\", \"sampleDate\"], columns=\"type\", values=\"value\")\n",
    "    if \"covN2\" not in measures.columns:\n",
    "        print(f\"no sars measurements found for site {site_id}\")\n",
    "        return None\n",
    "    measures[\"normalized\"] = measures[\"covN2\"] / measures[\"nPMMoV\"]\n",
    "    measures = measures.sort_values(\"sampleDate\")\n",
    "    measures = measures.reset_index()\n",
    "    return measures.dropna(subset=[\"normalized\"])"
   ]
  },
  {
   "source": [
    "### Quebec\n",
    "\n"
   ],
   "cell_type": "markdown",
   "metadata": {}
  },
  {
   "cell_type": "code",
   "execution_count": 3,
   "metadata": {},
   "outputs": [
    {
     "output_type": "stream",
     "name": "stderr",
     "text": [
      "/usr/local/Caskroom/miniconda/base/envs/covid/lib/python3.9/site-packages/openpyxl/worksheet/_reader.py:312: UserWarning: Data Validation extension is not supported and will be removed\n  warn(msg)\n"
     ]
    }
   ],
   "source": [
    "path_to_folder = \"../Data/Lab/McGill/\"\n",
    "lab_data = \"/Users/jeandavidt/Downloads/20210317(b)_Results Template (McGill) Quebec.xlsx\"\n",
    "static_data = \"/Users/jeandavidt/Downloads/Ville de Quebec - All data - v1.1.xlsx\"\n",
    "types = path_to_folder + \"mcgill_types.csv\"\n",
    "mapping = path_to_folder + \"mcgill_map.csv\"\n",
    "sheet_name = \"QC Data Daily Samples (McGill)\"\n",
    "lab_id = \"modeleau_lab\"\n",
    "start_date = \"2021-01-01\"\n",
    "end_date = None\n",
    "qc_lab_data = load_from_mcgill(lab_data, static_data, types, mapping, sheet_name, lab_id, start_date=start_date, end_date=end_date)\n"
   ]
  },
  {
   "cell_type": "code",
   "execution_count": 4,
   "metadata": {},
   "outputs": [],
   "source": [
    "bad_samples = [\n",
    "    \"qc_1_cptp24h_pstgrit_2021-02-12_1\",\n",
    "    \"qc_1_cptp24h_pstgrit_2021-02-13_1\",\n",
    "    \"qc_1_cptp24h_pstgrit_2021-02-14_1\",\n",
    "    \"qc_1_cptp24h_pstgrit_2021-02-19_1\",\n",
    "    \"qc_1_cptp24h_pstgrit_2021-02-20_1\",\n",
    "    \"qc_1_cptp24h_pstgrit_2021-02-21_1\",\n",
    "    \"qc_1_cptp24h_pstgrit_2021-02-22_1\",\n",
    "    \"qc_1_cptp24h_pstgrit_2021-02-23_1\",\n",
    "    \"qc_1_cptp24h_pstgrit_2021-03-01_1\",\n",
    "    \"qc_1_cptp24h_pstgrit_2021-03-23_1\",\n",
    "    \n",
    "    \"qc_2_cptp24h_pstgrit_2021-02-12_1\",\n",
    "    \"qc_2_cptp24h_pstgrit_2021-02-13_1\",\n",
    "    \"qc_2_cptp24h_pstgrit_2021-02-14_1\",\n",
    "    \"qc_2_cptp24h_pstgrit_2021-02-15_1\",\n",
    "    \"qc_2_cptp24h_pstgrit_2021-02-16_1\",\n",
    "    \"qc_2_cptp24h_pstgrit_2021-02-19_1\",\n",
    "    \"qc_2_cptp24h_pstgrit_2021-02-20_1\",\n",
    "    \"qc_2_cptp24h_pstgrit_2021-02-21_1\",\n",
    "    \"qc_2_cptp24h_pstgrit_2021-02-22_1\",\n",
    "    \"qc_2_cptp24h_pstgrit_2021-02-23_1\",\n",
    "    \"qc_2_cptp24h_pstgrit_2021-03-23_1\",\n",
    "    \"qc_2_cptp24h_pstgrit_2021-03-24_1\",\n",
    "    \n",
    "]\n",
    "qc_lab_data = apply_quality_flag(qc_lab_data, bad_samples, [\"covN2\", \"nPMMoV\"])"
   ]
  },
  {
   "source": [
    "### Montreal data"
   ],
   "cell_type": "markdown",
   "metadata": {}
  },
  {
   "cell_type": "code",
   "execution_count": 5,
   "metadata": {},
   "outputs": [
    {
     "output_type": "stream",
     "name": "stderr",
     "text": [
      "/usr/local/Caskroom/miniconda/base/envs/covid/lib/python3.9/site-packages/openpyxl/worksheet/_reader.py:312: UserWarning: Data Validation extension is not supported and will be removed\n  warn(msg)\n"
     ]
    }
   ],
   "source": [
    "path_to_folder = \"../Data/Lab/McGill/\"\n",
    "lab_data = \"/Users/jeandavidt/Downloads/20210317(b)_Results Template (McGill) Montreal.xlsx\"\n",
    "static_data = path_to_folder + \"mcgill_static.xlsx\"\n",
    "types = path_to_folder + \"mcgill_types.csv\"\n",
    "mapping = path_to_folder + \"mcgill_map.csv\"\n",
    "sheet_name = \"Mtl Data Daily Samples (McGill)\"\n",
    "lab_id = \"frigon_lab\"\n",
    "start_date = \"2021-01-01\"\n",
    "end_date = None\n",
    "mcgill_lab_data = load_from_mcgill(lab_data, static_data, types, mapping, sheet_name, lab_id, start_date=start_date, end_date=end_date)"
   ]
  },
  {
   "cell_type": "code",
   "execution_count": 6,
   "metadata": {},
   "outputs": [],
   "source": [
    "existing_odm = odm.Odm()\n",
    "excel_mapper = excel_template_mapper.ExcelTemplateMapper()\n",
    "excel_mapper.read(static_data)\n",
    "existing_odm.load_from(excel_mapper)\n",
    "existing_odm.append_from(mcgill_lab_data)\n",
    "existing_odm.append_from(qc_lab_data)"
   ]
  },
  {
   "cell_type": "code",
   "execution_count": 7,
   "metadata": {},
   "outputs": [],
   "source": [
    "def get_site_name(odm_data, site_id):\n",
    "    sites = odm_data.site\n",
    "    return sites.loc[sites[\"siteID\"] == site_id].iloc[0].loc[\"name\"]\n",
    "\n",
    "def prettify_name(name):\n",
    "    name_lst = name.split(\" \")\n",
    "    name_lst = [x.title() for x in name_lst]\n",
    "    name = \" \".join(name_lst)\n",
    "    name = name.replace(\"Quebec\", \"Québec\")\n",
    "    name = name.replace(\"Montreal\", \"Montréal\")\n",
    "    return name\n",
    "\n",
    "def graph_normalized(odm_data, region_name, site_list, max_normalized):\n",
    "    fig = make_subplots(rows=1, cols=1,\n",
    "                    specs=[[{\"secondary_y\": True}]])\n",
    "    traces = []\n",
    "    for site in site_list:\n",
    "        name = get_site_name(odm_data, site)\n",
    "        site_measures = get_normalized_data(odm_data, site)\n",
    "        if site_measures is None:\n",
    "            print(site)\n",
    "            continue\n",
    "        trace = go.Scatter(\n",
    "            x=site_measures[\"sampleDate\"],\n",
    "            y=site_measures[\"normalized\"],\n",
    "            name=prettify_name(name),\n",
    "            mode=\"lines+markers\",\n",
    "            text=site_measures[\"sampleID\"],\n",
    "            hoverinfo=\"text\"\n",
    "        )\n",
    "        traces.append(trace)\n",
    "    for trace in traces:\n",
    "        fig.add_trace(trace, secondary_y=True)    \n",
    "    fig.update_layout(\n",
    "        xaxis_title=\"Date\",\n",
    "        xaxis_tick0=\"2020-12-27\",\n",
    "        xaxis_dtick=7 * 24 * 3600000,\n",
    "        xaxis_tickformat=\"%d-%m-%Y\",\n",
    "        xaxis_tickangle=30, plot_bgcolor=\"white\",\n",
    "        xaxis_gridcolor=\"rgba(100,100,100,0.10)\",\n",
    "        yaxis_gridcolor=\"rgba(0,0,0,0)\",\n",
    "        xaxis_ticks=\"outside\"\n",
    "    )\n",
    "    fig.update_yaxes(title=\"SARS-CoV-2 / PMMoV\", secondary_y=True, range=[0, max_normalized])\n",
    "    if region_name == \"Capitale-Nationale\":\n",
    "        region_name = \"Région de Québec\"\n",
    "    fig.update_layout(title=dict(text=f\"Surveillance SRAS-CoV-2 via les eaux usées<br>{region_name}\"))\n",
    "    return fig\n",
    "\n",
    "def get_cases_from_ledevoir(region_name, start_date=None, end_date=None):\n",
    "    start_date = pd.to_datetime(start_date)\n",
    "    end_date = pd.to_datetime(end_date)\n",
    "    response = requests.get(\"https://ledevoir-coronavirus.herokuapp.com/api/v2/reports/ca/qc\")\n",
    "    j = json.loads(response.text)\n",
    "    region_codes = {}\n",
    "    for i in range(len(j[\"regions\"])):\n",
    "        region_codes[j[\"regions\"][i][\"name\"]] = i\n",
    "    region_code = region_codes[region_name]\n",
    "    cases = pd.DataFrame(j[\"regions\"][region_code][\"data\"])\n",
    "    cases[\"date\"] = pd.to_datetime(cases[\"date\"])\n",
    "    cases = cases.set_index(\"date\")\n",
    "    if pd.isna(start_date) and pd.isna(end_date):\n",
    "        pass\n",
    "    elif pd.isna(end_date):\n",
    "        cases = cases.loc[start_date:]\n",
    "    elif pd.isna(start_date):\n",
    "        cases = cases.loc[:end_date]\n",
    "    else:\n",
    "        cases = cases.loc[start_date : end_date]\n",
    "    return cases\n",
    "\n",
    "def create_graph(data, region, sites, max_norm=None):\n",
    "    graph = graph_normalized(existing_odm, region, sites, max_norm)\n",
    "    cases = get_cases_from_ledevoir(region, start_date=\"2021-01-01\")\n",
    "    cases_trace = go.Bar(x=cases.index, y=cases[\"dc\"], name=\"Nouveaux cas<br>journaliers\", marker=dict(opacity=0.3))\n",
    "    graph.add_trace(cases_trace, secondary_y=False)\n",
    "    graph.update_layout(legend=dict(yanchor=\"top\", xanchor=\"left\", orientation=\"h\", y=1.1, x=0))\n",
    "    graph.update_yaxes(title=\"Nouveaux cas\",side=\"right\", secondary_y=False)\n",
    "    graph.update_yaxes(side=\"left\", secondary_y=True)\n",
    "    graph.add_layout_image(\n",
    "    dict(\n",
    "        source=\"https://www.centreau.ulaval.ca/fileadmin/Documents/Image_de_marque/102378_MODIF_LOGO-CENTREAU_noir.jpg\",\n",
    "        xref=\"paper\", yref=\"paper\",\n",
    "        x=1, y=1.00,\n",
    "        sizex=0.25, sizey=0.25,\n",
    "        xanchor=\"right\", yanchor=\"bottom\"\n",
    "    )\n",
    ")\n",
    "    graph.show()\n",
    "    return graph"
   ]
  },
  {
   "source": [
    "### Workaround for Kaleido (static image export) bug"
   ],
   "cell_type": "markdown",
   "metadata": {}
  },
  {
   "cell_type": "code",
   "execution_count": 15,
   "metadata": {},
   "outputs": [],
   "source": []
  },
  {
   "cell_type": "code",
   "execution_count": 8,
   "metadata": {},
   "outputs": [
    {
     "output_type": "display_data",
     "data": {
      "application/vnd.plotly.v1+json": {
       "config": {
        "plotlyServerURL": "https://plot.ly"
       },
       "data": [
        {
         "hoverinfo": "text",
         "mode": "lines+markers",
         "name": "Québec Station Est",
         "text": [
          "qc_1_cptp24h_pstgrit_2021-01-15_1",
          "qc_1_cptp24h_pstgrit_2021-01-16_1",
          "qc_1_cptp24h_pstgrit_2021-01-17_1",
          "qc_1_cptp24h_pstgrit_2021-01-22_1",
          "qc_1_cptp24h_pstgrit_2021-01-23_1",
          "qc_1_cptp24h_pstgrit_2021-01-24_1",
          "qc_1_cptp24h_pstgrit_2021-01-29_1",
          "qc_1_cptp24h_pstgrit_2021-01-30_1",
          "qc_1_cptp24h_pstgrit_2021-01-31_1",
          "qc_1_cptp24h_pstgrit_2021-02-01_1",
          "qc_1_cptp24h_pstgrit_2021-02-02_1",
          "qc_1_cptp24h_pstgrit_2021-02-03_1",
          "qc_1_cptp24h_pstgrit_2021-02-04_1",
          "qc_1_cptp24h_pstgrit_2021-02-05_1",
          "qc_1_cptp24h_pstgrit_2021-02-06_1",
          "qc_1_cptp24h_pstgrit_2021-02-07_1",
          "qc_1_cptp24h_pstgrit_2021-02-08_1",
          "qc_1_cptp24h_pstgrit_2021-02-09_1",
          "qc_1_cptp24h_pstgrit_2021-02-10_1",
          "qc_1_cptp24h_pstgrit_2021-02-11_1",
          "qc_1_cptp24h_pstgrit_2021-02-15_1",
          "qc_1_cptp24h_pstgrit_2021-02-16_1",
          "qc_1_cptp24h_pstgrit_2021-02-17_1",
          "qc_1_cptp24h_pstgrit_2021-02-18_1",
          "qc_1_cptp24h_pstgrit_2021-02-24_1",
          "qc_1_cptp24h_pstgrit_2021-02-25_1",
          "qc_1_cptp24h_pstgrit_2021-02-26_1",
          "qc_1_cptp24h_pstgrit_2021-02-27_1",
          "qc_1_cptp24h_pstgrit_2021-02-28_1",
          "qc_1_cptp24h_pstgrit_2021-03-02_1",
          "qc_1_cptp24h_pstgrit_2021-03-03_1",
          "qc_1_cptp24h_pstgrit_2021-03-04_1",
          "qc_1_cptp24h_pstgrit_2021-03-05_1",
          "qc_1_cptp24h_pstgrit_2021-03-06_1",
          "qc_1_cptp24h_pstgrit_2021-03-07_1",
          "qc_1_cptp24h_pstgrit_2021-03-08_1",
          "qc_1_cptp24h_pstgrit_2021-03-09_1",
          "qc_1_cptp24h_pstgrit_2021-03-10_1",
          "qc_1_cptp24h_pstgrit_2021-03-11_1",
          "qc_1_cptp24h_pstgrit_2021-03-12_1",
          "qc_1_cptp24h_pstgrit_2021-03-13_1",
          "qc_1_cptp24h_pstgrit_2021-03-14_1",
          "qc_1_cptp24h_pstgrit_2021-03-15_1",
          "qc_1_cptp24h_pstgrit_2021-03-16_1",
          "qc_1_cptp24h_pstgrit_2021-03-17_1",
          "qc_1_cptp24h_pstgrit_2021-03-18_1",
          "qc_1_cptp24h_pstgrit_2021-03-19_1",
          "qc_1_cptp24h_pstgrit_2021-03-20_1",
          "qc_1_cptp24h_pstgrit_2021-03-21_1",
          "qc_1_cptp24h_pstgrit_2021-03-22_1",
          "qc_1_cptp24h_pstgrit_2021-03-24_1",
          "qc_1_cptp24h_pstgrit_2021-03-25_1",
          "qc_1_cptp24h_pstgrit_2021-03-26_1",
          "qc_1_cptp24h_pstgrit_2021-03-27_1",
          "qc_1_cptp24h_pstgrit_2021-03-28_1",
          "qc_1_cptp24h_pstgrit_2021-03-29_1",
          "qc_1_cptp24h_pstgrit_2021-03-30_1"
         ],
         "type": "scatter",
         "x": [
          "2021-01-15T00:00:00",
          "2021-01-16T00:00:00",
          "2021-01-17T00:00:00",
          "2021-01-22T00:00:00",
          "2021-01-23T00:00:00",
          "2021-01-24T00:00:00",
          "2021-01-29T00:00:00",
          "2021-01-30T00:00:00",
          "2021-01-31T00:00:00",
          "2021-02-01T00:00:00",
          "2021-02-02T00:00:00",
          "2021-02-03T00:00:00",
          "2021-02-04T00:00:00",
          "2021-02-05T00:00:00",
          "2021-02-06T00:00:00",
          "2021-02-07T00:00:00",
          "2021-02-08T00:00:00",
          "2021-02-09T00:00:00",
          "2021-02-10T00:00:00",
          "2021-02-11T00:00:00",
          "2021-02-15T00:00:00",
          "2021-02-16T00:00:00",
          "2021-02-17T00:00:00",
          "2021-02-18T00:00:00",
          "2021-02-24T00:00:00",
          "2021-02-25T00:00:00",
          "2021-02-26T00:00:00",
          "2021-02-27T00:00:00",
          "2021-02-28T00:00:00",
          "2021-03-02T00:00:00",
          "2021-03-03T00:00:00",
          "2021-03-04T00:00:00",
          "2021-03-05T00:00:00",
          "2021-03-06T00:00:00",
          "2021-03-07T00:00:00",
          "2021-03-08T00:00:00",
          "2021-03-09T00:00:00",
          "2021-03-10T00:00:00",
          "2021-03-11T00:00:00",
          "2021-03-12T00:00:00",
          "2021-03-13T00:00:00",
          "2021-03-14T00:00:00",
          "2021-03-15T00:00:00",
          "2021-03-16T00:00:00",
          "2021-03-17T00:00:00",
          "2021-03-18T00:00:00",
          "2021-03-19T00:00:00",
          "2021-03-20T00:00:00",
          "2021-03-21T00:00:00",
          "2021-03-22T00:00:00",
          "2021-03-24T00:00:00",
          "2021-03-25T00:00:00",
          "2021-03-26T00:00:00",
          "2021-03-27T00:00:00",
          "2021-03-28T00:00:00",
          "2021-03-29T00:00:00",
          "2021-03-30T00:00:00"
         ],
         "xaxis": "x",
         "y": [
          0.016480696009056554,
          0.05124871448650193,
          0.09441013178387433,
          0.0036171567495358035,
          0.002642324366784343,
          0,
          0.02938810150170719,
          0.015945015741953655,
          0.03273581822055434,
          0.030092304529786763,
          0.015161900800153519,
          0.005448776623152689,
          0.005903212319978878,
          0.008253439945142993,
          0.004710526082492745,
          0.0075268307741937854,
          0.002785183390653195,
          0.006294865784831158,
          0.004203117887567682,
          0.005427394371698218,
          0.02469029880613067,
          0.023859976939353128,
          0.013616779881017853,
          0.02262875392807619,
          0.006760610863932517,
          0.0106666213956953,
          0.0020881161237778904,
          0.010168241530893733,
          0.003075091793671609,
          0.002225710256685242,
          0.011124836169458086,
          0.008153848427178244,
          0.0013930453606876866,
          0.008315180384780964,
          0.0063480849334413576,
          0.006455403831936126,
          0.0017029368993314695,
          0.0034011592190304374,
          0.003366853538904874,
          0.003934777390194087,
          0.002913294829498079,
          0.007219642723573754,
          0.018808037174851182,
          0.047261247134545235,
          0.03562566304613925,
          0.033442569903888233,
          0.04732221789050074,
          0.022032808986481352,
          0.043096296538123476,
          0.027612468114341388,
          0.06954638904636638,
          0.12835247868147856,
          0.05131998218481233,
          0.03192749069448603,
          0.09158463140634451,
          0.05098440041946949,
          0.05344121604246732
         ],
         "yaxis": "y2"
        },
        {
         "hoverinfo": "text",
         "mode": "lines+markers",
         "name": "Québec Station Ouest",
         "text": [
          "qc_2_cptp24h_pstgrit_2021-01-15_1",
          "qc_2_cptp24h_pstgrit_2021-01-16_1",
          "qc_2_cptp24h_pstgrit_2021-01-17_1",
          "qc_2_cptp24h_pstgrit_2021-01-22_1",
          "qc_2_cptp24h_pstgrit_2021-01-23_1",
          "qc_2_cptp24h_pstgrit_2021-01-24_1",
          "qc_2_cptp24h_pstgrit_2021-01-29_1",
          "qc_2_cptp24h_pstgrit_2021-01-30_1",
          "qc_2_cptp24h_pstgrit_2021-01-31_1",
          "qc_2_cptp24h_pstgrit_2021-02-01_1",
          "qc_2_cptp24h_pstgrit_2021-02-02_1",
          "qc_2_cptp24h_pstgrit_2021-02-03_1",
          "qc_2_cptp24h_pstgrit_2021-02-04_1",
          "qc_2_cptp24h_pstgrit_2021-02-05_1",
          "qc_2_cptp24h_pstgrit_2021-02-06_1",
          "qc_2_cptp24h_pstgrit_2021-02-07_1",
          "qc_2_cptp24h_pstgrit_2021-02-08_1",
          "qc_2_cptp24h_pstgrit_2021-02-09_1",
          "qc_2_cptp24h_pstgrit_2021-02-10_1",
          "qc_2_cptp24h_pstgrit_2021-02-11_1",
          "qc_2_cptp24h_pstgrit_2021-02-17_1",
          "qc_2_cptp24h_pstgrit_2021-02-18_1",
          "qc_2_cptp24h_pstgrit_2021-02-24_1",
          "qc_2_cptp24h_pstgrit_2021-02-25_1",
          "qc_2_cptp24h_pstgrit_2021-02-26_1",
          "qc_2_cptp24h_pstgrit_2021-02-27_1",
          "qc_2_cptp24h_pstgrit_2021-02-28_1",
          "qc_2_cptp24h_pstgrit_2021-03-01_1",
          "qc_2_cptp24h_pstgrit_2021-03-02_1",
          "qc_2_cptp24h_pstgrit_2021-03-03_1",
          "qc_2_cptp24h_pstgrit_2021-03-04_1",
          "qc_2_cptp24h_pstgrit_2021-03-05_1",
          "qc_2_cptp24h_pstgrit_2021-03-06_1",
          "qc_2_cptp24h_pstgrit_2021-03-07_1",
          "qc_2_cptp24h_pstgrit_2021-03-08_1",
          "qc_2_cptp24h_pstgrit_2021-03-09_1",
          "qc_2_cptp24h_pstgrit_2021-03-10_1",
          "qc_2_cptp24h_pstgrit_2021-03-11_1",
          "qc_2_cptp24h_pstgrit_2021-03-12_1",
          "qc_2_cptp24h_pstgrit_2021-03-13_1",
          "qc_2_cptp24h_pstgrit_2021-03-14_1",
          "qc_2_cptp24h_pstgrit_2021-03-15_1",
          "qc_2_cptp24h_pstgrit_2021-03-16_1",
          "qc_2_cptp24h_pstgrit_2021-03-17_1",
          "qc_2_cptp24h_pstgrit_2021-03-18_1",
          "qc_2_cptp24h_pstgrit_2021-03-19_1",
          "qc_2_cptp24h_pstgrit_2021-03-20_1",
          "qc_2_cptp24h_pstgrit_2021-03-21_1",
          "qc_2_cptp24h_pstgrit_2021-03-22_1",
          "qc_2_cptp24h_pstgrit_2021-03-25_1",
          "qc_2_cptp24h_pstgrit_2021-03-26_1",
          "qc_2_cptp24h_pstgrit_2021-03-27_1",
          "qc_2_cptp24h_pstgrit_2021-03-28_1",
          "qc_2_cptp24h_pstgrit_2021-03-29_1",
          "qc_2_cptp24h_pstgrit_2021-03-30_1"
         ],
         "type": "scatter",
         "x": [
          "2021-01-15T00:00:00",
          "2021-01-16T00:00:00",
          "2021-01-17T00:00:00",
          "2021-01-22T00:00:00",
          "2021-01-23T00:00:00",
          "2021-01-24T00:00:00",
          "2021-01-29T00:00:00",
          "2021-01-30T00:00:00",
          "2021-01-31T00:00:00",
          "2021-02-01T00:00:00",
          "2021-02-02T00:00:00",
          "2021-02-03T00:00:00",
          "2021-02-04T00:00:00",
          "2021-02-05T00:00:00",
          "2021-02-06T00:00:00",
          "2021-02-07T00:00:00",
          "2021-02-08T00:00:00",
          "2021-02-09T00:00:00",
          "2021-02-10T00:00:00",
          "2021-02-11T00:00:00",
          "2021-02-17T00:00:00",
          "2021-02-18T00:00:00",
          "2021-02-24T00:00:00",
          "2021-02-25T00:00:00",
          "2021-02-26T00:00:00",
          "2021-02-27T00:00:00",
          "2021-02-28T00:00:00",
          "2021-03-01T00:00:00",
          "2021-03-02T00:00:00",
          "2021-03-03T00:00:00",
          "2021-03-04T00:00:00",
          "2021-03-05T00:00:00",
          "2021-03-06T00:00:00",
          "2021-03-07T00:00:00",
          "2021-03-08T00:00:00",
          "2021-03-09T00:00:00",
          "2021-03-10T00:00:00",
          "2021-03-11T00:00:00",
          "2021-03-12T00:00:00",
          "2021-03-13T00:00:00",
          "2021-03-14T00:00:00",
          "2021-03-15T00:00:00",
          "2021-03-16T00:00:00",
          "2021-03-17T00:00:00",
          "2021-03-18T00:00:00",
          "2021-03-19T00:00:00",
          "2021-03-20T00:00:00",
          "2021-03-21T00:00:00",
          "2021-03-22T00:00:00",
          "2021-03-25T00:00:00",
          "2021-03-26T00:00:00",
          "2021-03-27T00:00:00",
          "2021-03-28T00:00:00",
          "2021-03-29T00:00:00",
          "2021-03-30T00:00:00"
         ],
         "xaxis": "x",
         "y": [
          0.025508876858567908,
          0.04519351954762694,
          0.0857968868666955,
          0.004567775791645702,
          0.004444411385418405,
          0.004179925272287245,
          0.026439544067799504,
          0.030673162924785283,
          0.03401769971158387,
          0.013265630640235757,
          0.017808854559809198,
          0.007632416905594774,
          0.010240532000150019,
          0.008832788460756353,
          0.012636407627486588,
          0.009093222201628223,
          0.002960964307522962,
          0.007937064007291715,
          0.010697663368743879,
          0.011168028626062526,
          0.010557421713104994,
          0.02875451858332593,
          0.006418227075451386,
          0.009822321543096335,
          0.004641919977586323,
          0.003731787473297788,
          0.0060570115557628595,
          0.009054138947098543,
          0.0056928531237212,
          0.014773094533168833,
          0.008661829659720397,
          0.004900935889578279,
          0.0017525413873425168,
          0.0033156540772059265,
          0.001782348163045705,
          0.0028571572669842333,
          0.0021195061362731873,
          0.0020915271045385776,
          0.002004457683000764,
          0.0032252562115155908,
          0.0010980336511279933,
          0.016692305139664746,
          0.01668596599772898,
          0.025940570056517846,
          0.03285749200887553,
          0.0362115354347439,
          0.029248742410166815,
          0.024267767624380484,
          0.012174660000315479,
          0.10298860586569487,
          0.05195528537022366,
          0.05537789351296346,
          0.04620194480699559,
          0.06738145734172207,
          0.1004691265656147
         ],
         "yaxis": "y2"
        },
        {
         "marker": {
          "opacity": 0.3
         },
         "name": "Nouveaux cas<br>journaliers",
         "type": "bar",
         "x": [
          "2021-01-01T00:00:00",
          "2021-01-02T00:00:00",
          "2021-01-03T00:00:00",
          "2021-01-04T00:00:00",
          "2021-01-05T00:00:00",
          "2021-01-06T00:00:00",
          "2021-01-07T00:00:00",
          "2021-01-08T00:00:00",
          "2021-01-09T00:00:00",
          "2021-01-10T00:00:00",
          "2021-01-11T00:00:00",
          "2021-01-12T00:00:00",
          "2021-01-13T00:00:00",
          "2021-01-14T00:00:00",
          "2021-01-15T00:00:00",
          "2021-01-16T00:00:00",
          "2021-01-17T00:00:00",
          "2021-01-18T00:00:00",
          "2021-01-19T00:00:00",
          "2021-01-20T00:00:00",
          "2021-01-21T00:00:00",
          "2021-01-22T00:00:00",
          "2021-01-23T00:00:00",
          "2021-01-24T00:00:00",
          "2021-01-25T00:00:00",
          "2021-01-26T00:00:00",
          "2021-01-27T00:00:00",
          "2021-01-28T00:00:00",
          "2021-01-29T00:00:00",
          "2021-01-30T00:00:00",
          "2021-01-31T00:00:00",
          "2021-02-01T00:00:00",
          "2021-02-02T00:00:00",
          "2021-02-03T00:00:00",
          "2021-02-04T00:00:00",
          "2021-02-05T00:00:00",
          "2021-02-06T00:00:00",
          "2021-02-07T00:00:00",
          "2021-02-08T00:00:00",
          "2021-02-09T00:00:00",
          "2021-02-10T00:00:00",
          "2021-02-11T00:00:00",
          "2021-02-12T00:00:00",
          "2021-02-13T00:00:00",
          "2021-02-14T00:00:00",
          "2021-02-15T00:00:00",
          "2021-02-16T00:00:00",
          "2021-02-17T00:00:00",
          "2021-02-18T00:00:00",
          "2021-02-19T00:00:00",
          "2021-02-20T00:00:00",
          "2021-02-21T00:00:00",
          "2021-02-22T00:00:00",
          "2021-02-23T00:00:00",
          "2021-02-24T00:00:00",
          "2021-02-25T00:00:00",
          "2021-02-26T00:00:00",
          "2021-02-27T00:00:00",
          "2021-02-28T00:00:00",
          "2021-03-01T00:00:00",
          "2021-03-02T00:00:00",
          "2021-03-03T00:00:00",
          "2021-03-04T00:00:00",
          "2021-03-05T00:00:00",
          "2021-03-06T00:00:00",
          "2021-03-07T00:00:00",
          "2021-03-08T00:00:00",
          "2021-03-09T00:00:00",
          "2021-03-10T00:00:00",
          "2021-03-11T00:00:00",
          "2021-03-12T00:00:00",
          "2021-03-13T00:00:00",
          "2021-03-14T00:00:00",
          "2021-03-15T00:00:00",
          "2021-03-16T00:00:00",
          "2021-03-17T00:00:00",
          "2021-03-18T00:00:00",
          "2021-03-19T00:00:00",
          "2021-03-20T00:00:00",
          "2021-03-21T00:00:00",
          "2021-03-22T00:00:00",
          "2021-03-23T00:00:00",
          "2021-03-24T00:00:00",
          "2021-03-25T00:00:00",
          "2021-03-26T00:00:00",
          "2021-03-27T00:00:00",
          "2021-03-28T00:00:00",
          "2021-03-29T00:00:00",
          "2021-03-30T00:00:00",
          "2021-03-31T00:00:00",
          "2021-04-01T00:00:00",
          "2021-04-02T00:00:00",
          "2021-04-03T00:00:00",
          "2021-04-04T00:00:00",
          "2021-04-05T00:00:00",
          "2021-04-06T00:00:00"
         ],
         "xaxis": "x",
         "y": [
          256,
          183,
          190,
          136,
          203,
          153,
          162,
          136,
          161,
          110,
          103,
          135,
          133,
          134,
          126,
          96,
          117,
          81,
          130,
          81,
          79,
          84,
          80,
          57,
          56,
          56,
          77,
          73,
          67,
          48,
          54,
          40,
          60,
          42,
          45,
          50,
          47,
          33,
          39,
          37,
          26,
          38,
          35,
          36,
          27,
          32,
          34,
          28,
          36,
          33,
          26,
          19,
          21,
          24,
          24,
          42,
          40,
          39,
          37,
          36,
          39,
          32,
          31,
          38,
          25,
          36,
          24,
          34,
          39,
          30,
          52,
          36,
          29,
          0,
          60,
          45,
          36,
          53,
          53,
          35,
          36,
          46,
          70,
          81,
          86,
          99,
          114,
          106,
          129,
          194,
          261,
          305,
          249,
          239,
          243,
          290
         ],
         "yaxis": "y"
        }
       ],
       "layout": {
        "images": [
         {
          "sizex": 0.25,
          "sizey": 0.25,
          "source": "https://www.centreau.ulaval.ca/fileadmin/Documents/Image_de_marque/102378_MODIF_LOGO-CENTREAU_noir.jpg",
          "x": 1,
          "xanchor": "right",
          "xref": "paper",
          "y": 1,
          "yanchor": "bottom",
          "yref": "paper"
         }
        ],
        "legend": {
         "orientation": "h",
         "x": 0,
         "xanchor": "left",
         "y": 1.1,
         "yanchor": "top"
        },
        "plot_bgcolor": "white",
        "template": {
         "data": {
          "bar": [
           {
            "error_x": {
             "color": "#2a3f5f"
            },
            "error_y": {
             "color": "#2a3f5f"
            },
            "marker": {
             "line": {
              "color": "#E5ECF6",
              "width": 0.5
             }
            },
            "type": "bar"
           }
          ],
          "barpolar": [
           {
            "marker": {
             "line": {
              "color": "#E5ECF6",
              "width": 0.5
             }
            },
            "type": "barpolar"
           }
          ],
          "carpet": [
           {
            "aaxis": {
             "endlinecolor": "#2a3f5f",
             "gridcolor": "white",
             "linecolor": "white",
             "minorgridcolor": "white",
             "startlinecolor": "#2a3f5f"
            },
            "baxis": {
             "endlinecolor": "#2a3f5f",
             "gridcolor": "white",
             "linecolor": "white",
             "minorgridcolor": "white",
             "startlinecolor": "#2a3f5f"
            },
            "type": "carpet"
           }
          ],
          "choropleth": [
           {
            "colorbar": {
             "outlinewidth": 0,
             "ticks": ""
            },
            "type": "choropleth"
           }
          ],
          "contour": [
           {
            "colorbar": {
             "outlinewidth": 0,
             "ticks": ""
            },
            "colorscale": [
             [
              0,
              "#0d0887"
             ],
             [
              0.1111111111111111,
              "#46039f"
             ],
             [
              0.2222222222222222,
              "#7201a8"
             ],
             [
              0.3333333333333333,
              "#9c179e"
             ],
             [
              0.4444444444444444,
              "#bd3786"
             ],
             [
              0.5555555555555556,
              "#d8576b"
             ],
             [
              0.6666666666666666,
              "#ed7953"
             ],
             [
              0.7777777777777778,
              "#fb9f3a"
             ],
             [
              0.8888888888888888,
              "#fdca26"
             ],
             [
              1,
              "#f0f921"
             ]
            ],
            "type": "contour"
           }
          ],
          "contourcarpet": [
           {
            "colorbar": {
             "outlinewidth": 0,
             "ticks": ""
            },
            "type": "contourcarpet"
           }
          ],
          "heatmap": [
           {
            "colorbar": {
             "outlinewidth": 0,
             "ticks": ""
            },
            "colorscale": [
             [
              0,
              "#0d0887"
             ],
             [
              0.1111111111111111,
              "#46039f"
             ],
             [
              0.2222222222222222,
              "#7201a8"
             ],
             [
              0.3333333333333333,
              "#9c179e"
             ],
             [
              0.4444444444444444,
              "#bd3786"
             ],
             [
              0.5555555555555556,
              "#d8576b"
             ],
             [
              0.6666666666666666,
              "#ed7953"
             ],
             [
              0.7777777777777778,
              "#fb9f3a"
             ],
             [
              0.8888888888888888,
              "#fdca26"
             ],
             [
              1,
              "#f0f921"
             ]
            ],
            "type": "heatmap"
           }
          ],
          "heatmapgl": [
           {
            "colorbar": {
             "outlinewidth": 0,
             "ticks": ""
            },
            "colorscale": [
             [
              0,
              "#0d0887"
             ],
             [
              0.1111111111111111,
              "#46039f"
             ],
             [
              0.2222222222222222,
              "#7201a8"
             ],
             [
              0.3333333333333333,
              "#9c179e"
             ],
             [
              0.4444444444444444,
              "#bd3786"
             ],
             [
              0.5555555555555556,
              "#d8576b"
             ],
             [
              0.6666666666666666,
              "#ed7953"
             ],
             [
              0.7777777777777778,
              "#fb9f3a"
             ],
             [
              0.8888888888888888,
              "#fdca26"
             ],
             [
              1,
              "#f0f921"
             ]
            ],
            "type": "heatmapgl"
           }
          ],
          "histogram": [
           {
            "marker": {
             "colorbar": {
              "outlinewidth": 0,
              "ticks": ""
             }
            },
            "type": "histogram"
           }
          ],
          "histogram2d": [
           {
            "colorbar": {
             "outlinewidth": 0,
             "ticks": ""
            },
            "colorscale": [
             [
              0,
              "#0d0887"
             ],
             [
              0.1111111111111111,
              "#46039f"
             ],
             [
              0.2222222222222222,
              "#7201a8"
             ],
             [
              0.3333333333333333,
              "#9c179e"
             ],
             [
              0.4444444444444444,
              "#bd3786"
             ],
             [
              0.5555555555555556,
              "#d8576b"
             ],
             [
              0.6666666666666666,
              "#ed7953"
             ],
             [
              0.7777777777777778,
              "#fb9f3a"
             ],
             [
              0.8888888888888888,
              "#fdca26"
             ],
             [
              1,
              "#f0f921"
             ]
            ],
            "type": "histogram2d"
           }
          ],
          "histogram2dcontour": [
           {
            "colorbar": {
             "outlinewidth": 0,
             "ticks": ""
            },
            "colorscale": [
             [
              0,
              "#0d0887"
             ],
             [
              0.1111111111111111,
              "#46039f"
             ],
             [
              0.2222222222222222,
              "#7201a8"
             ],
             [
              0.3333333333333333,
              "#9c179e"
             ],
             [
              0.4444444444444444,
              "#bd3786"
             ],
             [
              0.5555555555555556,
              "#d8576b"
             ],
             [
              0.6666666666666666,
              "#ed7953"
             ],
             [
              0.7777777777777778,
              "#fb9f3a"
             ],
             [
              0.8888888888888888,
              "#fdca26"
             ],
             [
              1,
              "#f0f921"
             ]
            ],
            "type": "histogram2dcontour"
           }
          ],
          "mesh3d": [
           {
            "colorbar": {
             "outlinewidth": 0,
             "ticks": ""
            },
            "type": "mesh3d"
           }
          ],
          "parcoords": [
           {
            "line": {
             "colorbar": {
              "outlinewidth": 0,
              "ticks": ""
             }
            },
            "type": "parcoords"
           }
          ],
          "pie": [
           {
            "automargin": true,
            "type": "pie"
           }
          ],
          "scatter": [
           {
            "marker": {
             "colorbar": {
              "outlinewidth": 0,
              "ticks": ""
             }
            },
            "type": "scatter"
           }
          ],
          "scatter3d": [
           {
            "line": {
             "colorbar": {
              "outlinewidth": 0,
              "ticks": ""
             }
            },
            "marker": {
             "colorbar": {
              "outlinewidth": 0,
              "ticks": ""
             }
            },
            "type": "scatter3d"
           }
          ],
          "scattercarpet": [
           {
            "marker": {
             "colorbar": {
              "outlinewidth": 0,
              "ticks": ""
             }
            },
            "type": "scattercarpet"
           }
          ],
          "scattergeo": [
           {
            "marker": {
             "colorbar": {
              "outlinewidth": 0,
              "ticks": ""
             }
            },
            "type": "scattergeo"
           }
          ],
          "scattergl": [
           {
            "marker": {
             "colorbar": {
              "outlinewidth": 0,
              "ticks": ""
             }
            },
            "type": "scattergl"
           }
          ],
          "scattermapbox": [
           {
            "marker": {
             "colorbar": {
              "outlinewidth": 0,
              "ticks": ""
             }
            },
            "type": "scattermapbox"
           }
          ],
          "scatterpolar": [
           {
            "marker": {
             "colorbar": {
              "outlinewidth": 0,
              "ticks": ""
             }
            },
            "type": "scatterpolar"
           }
          ],
          "scatterpolargl": [
           {
            "marker": {
             "colorbar": {
              "outlinewidth": 0,
              "ticks": ""
             }
            },
            "type": "scatterpolargl"
           }
          ],
          "scatterternary": [
           {
            "marker": {
             "colorbar": {
              "outlinewidth": 0,
              "ticks": ""
             }
            },
            "type": "scatterternary"
           }
          ],
          "surface": [
           {
            "colorbar": {
             "outlinewidth": 0,
             "ticks": ""
            },
            "colorscale": [
             [
              0,
              "#0d0887"
             ],
             [
              0.1111111111111111,
              "#46039f"
             ],
             [
              0.2222222222222222,
              "#7201a8"
             ],
             [
              0.3333333333333333,
              "#9c179e"
             ],
             [
              0.4444444444444444,
              "#bd3786"
             ],
             [
              0.5555555555555556,
              "#d8576b"
             ],
             [
              0.6666666666666666,
              "#ed7953"
             ],
             [
              0.7777777777777778,
              "#fb9f3a"
             ],
             [
              0.8888888888888888,
              "#fdca26"
             ],
             [
              1,
              "#f0f921"
             ]
            ],
            "type": "surface"
           }
          ],
          "table": [
           {
            "cells": {
             "fill": {
              "color": "#EBF0F8"
             },
             "line": {
              "color": "white"
             }
            },
            "header": {
             "fill": {
              "color": "#C8D4E3"
             },
             "line": {
              "color": "white"
             }
            },
            "type": "table"
           }
          ]
         },
         "layout": {
          "annotationdefaults": {
           "arrowcolor": "#2a3f5f",
           "arrowhead": 0,
           "arrowwidth": 1
          },
          "autotypenumbers": "strict",
          "coloraxis": {
           "colorbar": {
            "outlinewidth": 0,
            "ticks": ""
           }
          },
          "colorscale": {
           "diverging": [
            [
             0,
             "#8e0152"
            ],
            [
             0.1,
             "#c51b7d"
            ],
            [
             0.2,
             "#de77ae"
            ],
            [
             0.3,
             "#f1b6da"
            ],
            [
             0.4,
             "#fde0ef"
            ],
            [
             0.5,
             "#f7f7f7"
            ],
            [
             0.6,
             "#e6f5d0"
            ],
            [
             0.7,
             "#b8e186"
            ],
            [
             0.8,
             "#7fbc41"
            ],
            [
             0.9,
             "#4d9221"
            ],
            [
             1,
             "#276419"
            ]
           ],
           "sequential": [
            [
             0,
             "#0d0887"
            ],
            [
             0.1111111111111111,
             "#46039f"
            ],
            [
             0.2222222222222222,
             "#7201a8"
            ],
            [
             0.3333333333333333,
             "#9c179e"
            ],
            [
             0.4444444444444444,
             "#bd3786"
            ],
            [
             0.5555555555555556,
             "#d8576b"
            ],
            [
             0.6666666666666666,
             "#ed7953"
            ],
            [
             0.7777777777777778,
             "#fb9f3a"
            ],
            [
             0.8888888888888888,
             "#fdca26"
            ],
            [
             1,
             "#f0f921"
            ]
           ],
           "sequentialminus": [
            [
             0,
             "#0d0887"
            ],
            [
             0.1111111111111111,
             "#46039f"
            ],
            [
             0.2222222222222222,
             "#7201a8"
            ],
            [
             0.3333333333333333,
             "#9c179e"
            ],
            [
             0.4444444444444444,
             "#bd3786"
            ],
            [
             0.5555555555555556,
             "#d8576b"
            ],
            [
             0.6666666666666666,
             "#ed7953"
            ],
            [
             0.7777777777777778,
             "#fb9f3a"
            ],
            [
             0.8888888888888888,
             "#fdca26"
            ],
            [
             1,
             "#f0f921"
            ]
           ]
          },
          "colorway": [
           "#636efa",
           "#EF553B",
           "#00cc96",
           "#ab63fa",
           "#FFA15A",
           "#19d3f3",
           "#FF6692",
           "#B6E880",
           "#FF97FF",
           "#FECB52"
          ],
          "font": {
           "color": "#2a3f5f"
          },
          "geo": {
           "bgcolor": "white",
           "lakecolor": "white",
           "landcolor": "#E5ECF6",
           "showlakes": true,
           "showland": true,
           "subunitcolor": "white"
          },
          "hoverlabel": {
           "align": "left"
          },
          "hovermode": "closest",
          "mapbox": {
           "style": "light"
          },
          "paper_bgcolor": "white",
          "plot_bgcolor": "#E5ECF6",
          "polar": {
           "angularaxis": {
            "gridcolor": "white",
            "linecolor": "white",
            "ticks": ""
           },
           "bgcolor": "#E5ECF6",
           "radialaxis": {
            "gridcolor": "white",
            "linecolor": "white",
            "ticks": ""
           }
          },
          "scene": {
           "xaxis": {
            "backgroundcolor": "#E5ECF6",
            "gridcolor": "white",
            "gridwidth": 2,
            "linecolor": "white",
            "showbackground": true,
            "ticks": "",
            "zerolinecolor": "white"
           },
           "yaxis": {
            "backgroundcolor": "#E5ECF6",
            "gridcolor": "white",
            "gridwidth": 2,
            "linecolor": "white",
            "showbackground": true,
            "ticks": "",
            "zerolinecolor": "white"
           },
           "zaxis": {
            "backgroundcolor": "#E5ECF6",
            "gridcolor": "white",
            "gridwidth": 2,
            "linecolor": "white",
            "showbackground": true,
            "ticks": "",
            "zerolinecolor": "white"
           }
          },
          "shapedefaults": {
           "line": {
            "color": "#2a3f5f"
           }
          },
          "ternary": {
           "aaxis": {
            "gridcolor": "white",
            "linecolor": "white",
            "ticks": ""
           },
           "baxis": {
            "gridcolor": "white",
            "linecolor": "white",
            "ticks": ""
           },
           "bgcolor": "#E5ECF6",
           "caxis": {
            "gridcolor": "white",
            "linecolor": "white",
            "ticks": ""
           }
          },
          "title": {
           "x": 0.05
          },
          "xaxis": {
           "automargin": true,
           "gridcolor": "white",
           "linecolor": "white",
           "ticks": "",
           "title": {
            "standoff": 15
           },
           "zerolinecolor": "white",
           "zerolinewidth": 2
          },
          "yaxis": {
           "automargin": true,
           "gridcolor": "white",
           "linecolor": "white",
           "ticks": "",
           "title": {
            "standoff": 15
           },
           "zerolinecolor": "white",
           "zerolinewidth": 2
          }
         }
        },
        "title": {
         "text": "Surveillance SRAS-CoV-2 via les eaux usées<br>Région de Québec"
        },
        "xaxis": {
         "anchor": "y",
         "domain": [
          0,
          0.94
         ],
         "dtick": 604800000,
         "gridcolor": "rgba(100,100,100,0.10)",
         "tick0": "2020-12-27",
         "tickangle": 30,
         "tickformat": "%d-%m-%Y",
         "ticks": "outside",
         "title": {
          "text": "Date"
         }
        },
        "yaxis": {
         "anchor": "x",
         "domain": [
          0,
          1
         ],
         "gridcolor": "rgba(0,0,0,0)",
         "side": "right",
         "title": {
          "text": "Nouveaux cas"
         }
        },
        "yaxis2": {
         "anchor": "x",
         "overlaying": "y",
         "range": [
          0,
          0.2
         ],
         "side": "left",
         "title": {
          "text": "SARS-CoV-2 / PMMoV"
         }
        }
       }
      }
     },
     "metadata": {}
    }
   ],
   "source": [
    "region=\"Capitale-Nationale\"\n",
    "sites = [\"qc_1\", \"qc_2\"]\n",
    "max_norm = 0.2\n",
    "outlier_thresh = 0.3\n",
    "qc_graph = create_graph(existing_odm, region, sites, 0.2)\n",
    "\n",
    "images_folder = \"/Users/jeandavidt/Downloads/plotly_images/\"\n",
    "qc_graph.write_image(images_folder+\"qc_April1.png\", width=1000, scale=3)\n",
    "qc_graph.write_image(images_folder+\"qc_April1.svg\", width=1000)\n",
    "\n",
    "\n"
   ]
  },
  {
   "cell_type": "code",
   "execution_count": 9,
   "metadata": {},
   "outputs": [
    {
     "output_type": "display_data",
     "data": {
      "application/vnd.plotly.v1+json": {
       "config": {
        "plotlyServerURL": "https://plot.ly"
       },
       "data": [
        {
         "hoverinfo": "text",
         "mode": "lines+markers",
         "name": "Ville Saint-Laurent",
         "text": [
          "mtl_11_grb3_raw_2021-02-26_1",
          "mtl_11_cptp24h_raw_2021-02-26_1",
          "mtl_11_grb3_raw_2021-03-01_1",
          "mtl_11_cptp24h_raw_2021-03-01_1",
          "mtl_11_cptp24h_raw_2021-03-02_1",
          "mtl_11_grb3_raw_2021-03-02_1",
          "mtl_11_grb3_raw_2021-03-03_1",
          "mtl_11_cptp24h_raw_2021-03-03_1",
          "mtl_11_cptp24h_raw_2021-03-04_1",
          "mtl_11_grb3_raw_2021-03-04_1",
          "mtl_11_cptp24h_raw_2021-03-05_1",
          "mtl_11_grb3_raw_2021-03-05_1",
          "mtl_11_cptp24h_raw_2021-03-08_1",
          "mtl_11_grb3_raw_2021-03-08_1",
          "mtl_11_cptp24h_raw_2021-03-09_1",
          "mtl_11_grb3_raw_2021-03-09_1",
          "mtl_11_cptp24h_raw_2021-03-10_1",
          "mtl_11_grb3_raw_2021-03-10_1",
          "mtl_11_grb3_raw_2021-03-11_1",
          "mtl_11_cptp24h_raw_2021-03-11_1",
          "mtl_11_grb3_raw_2021-03-12_1",
          "mtl_11_cptp72h_raw_2021-03-15_1",
          "mtl_11_cptp48h_raw_2021-03-17_1",
          "mtl_11_cptp24h_raw_2021-03-18_1",
          "mtl_11_ps_filter_2021-03-19_1",
          "mtl_11_grb3_raw_2021-03-19_1",
          "mtl_11_ps_gauze_2021-03-19_1",
          "mtl_11_cptp24h_raw_2021-03-19_1",
          "mtl_11_cptp24h_raw_2021-03-20_1",
          "mtl_11_grb3_raw_2021-03-21_1",
          "mtl_11_cptp24h_raw_2021-03-22_1",
          "mtl_11_grb3_raw_2021-03-22_1",
          "mtl_11_cptp24h_raw_2021-03-23_1",
          "mtl_11_grb3_raw_2021-03-24_1",
          "mtl_11_cptp24h_raw_2021-03-24_1",
          "mtl_11_cptp24h_raw_2021-03-25_1",
          "mtl_11_cptp24h_raw_2021-03-26_1",
          "mtl_11_grb3_raw_2021-03-26_1",
          "mtl_11_cptp24h_raw_2021-03-27_1",
          "mtl_11_cptp24h_raw_2021-03-28_1",
          "mtl_11_cptp24h_raw_2021-03-29_1"
         ],
         "type": "scatter",
         "x": [
          "2021-02-26T00:00:00",
          "2021-02-26T00:00:00",
          "2021-03-01T00:00:00",
          "2021-03-01T00:00:00",
          "2021-03-02T00:00:00",
          "2021-03-02T00:00:00",
          "2021-03-03T00:00:00",
          "2021-03-03T00:00:00",
          "2021-03-04T00:00:00",
          "2021-03-04T00:00:00",
          "2021-03-05T00:00:00",
          "2021-03-05T00:00:00",
          "2021-03-08T00:00:00",
          "2021-03-08T00:00:00",
          "2021-03-09T00:00:00",
          "2021-03-09T00:00:00",
          "2021-03-10T00:00:00",
          "2021-03-10T00:00:00",
          "2021-03-11T00:00:00",
          "2021-03-11T00:00:00",
          "2021-03-12T00:00:00",
          "2021-03-15T00:00:00",
          "2021-03-17T00:00:00",
          "2021-03-18T00:00:00",
          "2021-03-19T00:00:00",
          "2021-03-19T00:00:00",
          "2021-03-19T00:00:00",
          "2021-03-19T00:00:00",
          "2021-03-20T00:00:00",
          "2021-03-21T00:00:00",
          "2021-03-22T00:00:00",
          "2021-03-22T00:00:00",
          "2021-03-23T00:00:00",
          "2021-03-24T00:00:00",
          "2021-03-24T00:00:00",
          "2021-03-25T13:00:00",
          "2021-03-26T13:00:00",
          "2021-03-26T13:40:00",
          "2021-03-27T13:55:00",
          "2021-03-28T13:55:00",
          "2021-03-29T13:55:00"
         ],
         "xaxis": "x",
         "y": [
          0.0005084190063542869,
          0.0005954921334585143,
          0.004944106249988344,
          0.013084110095299632,
          0.0022315729324646053,
          0.0007328045708806358,
          0.004722511189130758,
          0.03642167931828654,
          0.0588715397705528,
          0.0006959729482697119,
          0.004018404173846467,
          0.0035204873642745295,
          0.000846191495154152,
          0.01651510880632285,
          0.0014415339695700085,
          0.006318548095238699,
          0.0005916517983615992,
          0.0028084879203898257,
          0.0031151132432517235,
          0.0013107340518147485,
          0.0036309310887305793,
          0.042877001321273554,
          0.018744018061938202,
          0.02185492197425303,
          0.001998673061327997,
          0.0016411214056317417,
          3.2682365727442164,
          0.012950473063195921,
          0.013399184134902913,
          0.03294938335383346,
          0.004221042983857095,
          0.008557121322528345,
          0.0008688693236021002,
          0.004211783062887659,
          0.013301987378137238,
          0.0038564366669852153,
          0.006821422650683786,
          0.007646274220858621,
          0.0017254863953301437,
          0.0025827410093167426,
          0.014132717472365544
         ],
         "yaxis": "y2"
        },
        {
         "hoverinfo": "text",
         "mode": "lines+markers",
         "name": "Côte-Des-Neiges",
         "text": [
          "mtl_05_cptp24h_raw_2021-02-26_1",
          "mtl_05_grb3_raw_2021-02-26_1",
          "mtl_05_cptp24h_raw_2021-03-01_1",
          "mtl_05_grb3_raw_2021-03-01_1",
          "mtl_05_grb3_raw_2021-03-02_1",
          "mtl_05_cptp24h_raw_2021-03-02_1",
          "mtl_05_grb3_raw_2021-03-03_1",
          "mtl_05_cptp24h_raw_2021-03-03_1",
          "mtl_05_grb3_raw_2021-03-04_1",
          "mtl_05_cptp24h_raw_2021-03-04_1",
          "mtl_05_grb3_raw_2021-03-05_1",
          "mtl_05_cptp24h_raw_2021-03-05_1",
          "mtl_05_cptp24h_raw_2021-03-08_1",
          "mtl_05_grb3_raw_2021-03-08_1",
          "mtl_05_cptp24h_raw_2021-03-09_1",
          "mtl_05_grb3_raw_2021-03-09_1",
          "mtl_05_cptp24h_raw_2021-03-10_1",
          "mtl_05_grb3_raw_2021-03-10_1",
          "mtl_05_cptp24h_raw_2021-03-11_1",
          "mtl_05_grb3_raw_2021-03-11_1",
          "mtl_05_grb3_raw_2021-03-12_1",
          "mtl_05_cptp24h_raw_2021-03-12_1",
          "mtl_05_cptp72h_raw_2021-03-15_1",
          "mtl_05_cptp48h_raw_2021-03-17_1",
          "mtl_05_cptp24h_raw_2021-03-18_1",
          "mtl_05_grb3_raw_2021-03-19_1",
          "mtl_05_ps_gauze_2021-03-19_1",
          "mtl_05_ps_filter_2021-03-19_1",
          "mtl_05_ps_qtips_2021-03-19_1",
          "mtl_05_cptp24h_raw_2021-03-20_1",
          "mtl_05_cptp24h_raw_2021-03-21_1",
          "mtl_05_cptp24h_raw_2021-03-22_1",
          "mtl_05_grb3_raw_2021-03-22_1",
          "mtl_05_cptp24h_raw_2021-03-23_1",
          "mtl_05_ps_gauze_2021-03-24_1",
          "mtl_05_grb3_raw_2021-03-24_1",
          "mtl_05_ps_qtips_2021-03-24_1",
          "mtl_05_cptp24h_raw_2021-03-24_1",
          "mtl_05_cptp24h_raw_2021-03-25_1",
          "mtl_05_grb3_raw_2021-03-26_1",
          "mtl_05_cptp24h_raw_2021-03-27_1",
          "mtl_05_cptp24h_raw_2021-03-28_1",
          "mtl_05_cptp24h_raw_2021-03-29_1",
          "mtl_05_grb3_raw_2021-03-29_1"
         ],
         "type": "scatter",
         "x": [
          "2021-02-26T00:00:00",
          "2021-02-26T00:00:00",
          "2021-03-01T00:00:00",
          "2021-03-01T00:00:00",
          "2021-03-02T00:00:00",
          "2021-03-02T00:00:00",
          "2021-03-03T00:00:00",
          "2021-03-03T00:00:00",
          "2021-03-04T00:00:00",
          "2021-03-04T00:00:00",
          "2021-03-05T00:00:00",
          "2021-03-05T00:00:00",
          "2021-03-08T00:00:00",
          "2021-03-08T00:00:00",
          "2021-03-09T00:00:00",
          "2021-03-09T00:00:00",
          "2021-03-10T00:00:00",
          "2021-03-10T00:00:00",
          "2021-03-11T00:00:00",
          "2021-03-11T00:00:00",
          "2021-03-12T00:00:00",
          "2021-03-12T00:00:00",
          "2021-03-15T00:00:00",
          "2021-03-17T00:00:00",
          "2021-03-18T00:00:00",
          "2021-03-19T00:00:00",
          "2021-03-19T00:00:00",
          "2021-03-19T00:00:00",
          "2021-03-19T00:00:00",
          "2021-03-20T00:00:00",
          "2021-03-21T00:00:00",
          "2021-03-22T00:00:00",
          "2021-03-22T00:00:00",
          "2021-03-23T00:00:00",
          "2021-03-24T00:00:00",
          "2021-03-24T00:00:00",
          "2021-03-24T00:00:00",
          "2021-03-24T00:00:00",
          "2021-03-25T14:00:00",
          "2021-03-26T14:30:00",
          "2021-03-27T14:40:00",
          "2021-03-28T14:40:00",
          "2021-03-29T14:40:00",
          "2021-03-29T15:00:00"
         ],
         "xaxis": "x",
         "y": [
          0.09692930130112558,
          0.01540002894561142,
          0.09234235019980738,
          0.008421722373302895,
          0.040413302782839965,
          0.005962195695776953,
          0.0066743779443830835,
          0.002147015201109929,
          0.17232207730829274,
          0.0025079541542616154,
          0.21244108938884296,
          0.10474936704014771,
          0.25055321812125114,
          0.1643876619492054,
          0.12598385202151627,
          0.016352144436009117,
          0.06287462518932337,
          0.02459938338520807,
          0.075049702973859,
          0.006217232088181144,
          0.03328096899185607,
          0.11305424381756705,
          0.3625657150797018,
          0.13454486512656796,
          0.4548916887929736,
          0.17506402780071828,
          7.442364994266315,
          0.22437717634407547,
          0.000675311162502565,
          0.1889691475919239,
          0.5233384544305787,
          0.03031676295442286,
          0.0007156047919214292,
          0.20781160311997554,
          0.016731098856239836,
          0.03695131819213614,
          0.00048228906804146624,
          0.11737249520370006,
          0.061085755055767466,
          0.22742418405256737,
          0.4829153325018364,
          0.27040002738785546,
          0.2545783421061211,
          1.1624466197372336
         ],
         "yaxis": "y2"
        },
        {
         "hoverinfo": "text",
         "mode": "lines+markers",
         "name": "Bordeau",
         "text": [
          "mtl_16_cptp24h_raw_2021-02-26_1",
          "mtl_16_grb3_raw_2021-02-26_1",
          "mtl_16_cptp24h_raw_2021-03-01_1",
          "mtl_16_grb3_raw_2021-03-01_1",
          "mtl_16_grb3_raw_2021-03-02_1",
          "mtl_16_cptp24h_raw_2021-03-02_1",
          "mtl_16_grb3_raw_2021-03-03_1",
          "mtl_16_cptp24h_raw_2021-03-03_1",
          "mtl_16_grb3_raw_2021-03-04_1",
          "mtl_16_cptp24h_raw_2021-03-04_1",
          "mtl_16_grb3_raw_2021-03-05_1",
          "mtl_16_cptp24h_raw_2021-03-05_1",
          "mtl_16_cptp24h_raw_2021-03-08_1",
          "mtl_16_grb3_raw_2021-03-08_1",
          "mtl_16_cptp24h_raw_2021-03-09_1",
          "mtl_16_grb3_raw_2021-03-09_1",
          "mtl_16_cptp24h_raw_2021-03-10_1",
          "mtl_16_grb3_raw_2021-03-10_1",
          "mtl_16_cptp24h_raw_2021-03-11_1",
          "mtl_16_grb3_raw_2021-03-11_1",
          "mtl_16_grb3_raw_2021-03-12_1",
          "mtl_16_cptp24h_raw_2021-03-12_1",
          "mtl_16_cptp72h_raw_2021-03-15_1",
          "mtl_16_cptp48h_raw_2021-03-17_1",
          "mtl_16_cptp24h_raw_2021-03-18_1",
          "mtl_16_grb3_raw_2021-03-19_1",
          "mtl_16_ps_gauze_2021-03-19_1",
          "mtl_16_ps_filter_2021-03-19_1",
          "mtl_16_cptp24h_raw_2021-03-19_1",
          "mtl_16_ps_qtips_2021-03-19_1",
          "mtl_16_cptp24h_raw_2021-03-20_1",
          "mtl_16_cptp24h_raw_2021-03-21_1",
          "mtl_16_cptp24h_raw_2021-03-22_1",
          "mtl_16_grb3_raw_2021-03-22_1",
          "mtl_16_cptp24h_raw_2021-03-23_1",
          "mtl_16_ps_gauze_2021-03-24_1",
          "mtl_16_ps_filter_2021-03-24_1",
          "mtl_16_grb3_raw_2021-03-24_1",
          "mtl_16_ps_qtips_2021-03-24_1",
          "mtl_16_cptp24h_raw_2021-03-24_1",
          "mtl_16_cptp24h_raw_2021-03-25_1",
          "mtl_16_cptp24h_raw_2021-03-26_1",
          "mtl_16_grb3_raw_2021-03-26_1",
          "mtl_16_cptp24h_raw_2021-03-27_1",
          "mtl_16_cptp24h_raw_2021-03-28_1",
          "mtl_16_cptp24h_raw_2021-03-29_1",
          "mtl_16_grb3_raw_2021-03-29_1"
         ],
         "type": "scatter",
         "x": [
          "2021-02-26T00:00:00",
          "2021-02-26T00:00:00",
          "2021-03-01T00:00:00",
          "2021-03-01T00:00:00",
          "2021-03-02T00:00:00",
          "2021-03-02T00:00:00",
          "2021-03-03T00:00:00",
          "2021-03-03T00:00:00",
          "2021-03-04T00:00:00",
          "2021-03-04T00:00:00",
          "2021-03-05T00:00:00",
          "2021-03-05T00:00:00",
          "2021-03-08T00:00:00",
          "2021-03-08T00:00:00",
          "2021-03-09T00:00:00",
          "2021-03-09T00:00:00",
          "2021-03-10T00:00:00",
          "2021-03-10T00:00:00",
          "2021-03-11T00:00:00",
          "2021-03-11T00:00:00",
          "2021-03-12T00:00:00",
          "2021-03-12T00:00:00",
          "2021-03-15T00:00:00",
          "2021-03-17T00:00:00",
          "2021-03-18T00:00:00",
          "2021-03-19T00:00:00",
          "2021-03-19T00:00:00",
          "2021-03-19T00:00:00",
          "2021-03-19T00:00:00",
          "2021-03-19T00:00:00",
          "2021-03-20T00:00:00",
          "2021-03-21T00:00:00",
          "2021-03-22T00:00:00",
          "2021-03-22T00:00:00",
          "2021-03-23T00:00:00",
          "2021-03-24T00:00:00",
          "2021-03-24T00:00:00",
          "2021-03-24T00:00:00",
          "2021-03-24T00:00:00",
          "2021-03-24T00:00:00",
          "2021-03-25T11:30:00",
          "2021-03-26T11:30:00",
          "2021-03-26T11:45:00",
          "2021-03-27T12:10:00",
          "2021-03-28T12:10:00",
          "2021-03-29T12:10:00",
          "2021-03-29T12:50:00"
         ],
         "xaxis": "x",
         "y": [
          0.33108242063955373,
          0.5662467438172518,
          0.3784711491374333,
          0.16177527539283335,
          0.008430094123850257,
          0.5183508520076683,
          0.385334818240372,
          0.8975793677202992,
          0.05529572599113707,
          0.6174148505206485,
          0.11599187960134547,
          0.23544119981451453,
          0.1757869422463047,
          0.050772116761493964,
          0.09560647306353227,
          0.04313605398002824,
          0.28941328417260304,
          0.006311595031749002,
          0.038037954594443674,
          0.01339737359240157,
          0.011869268726069781,
          0.026851132816697036,
          0.2939271786207219,
          0.049877121552026484,
          0.2071212767286382,
          0.08850404690185867,
          10.19042793462982,
          0.04007270628223674,
          0.057306663270885384,
          0.0004981957996888251,
          0.44032375975202476,
          0.28637841426894733,
          0.4884557591290928,
          0.023448876679230964,
          0.10999934453055323,
          0.017940273352608494,
          0.008051353218102212,
          0.019348550435064123,
          0.006597135593104673,
          0.11936376569481642,
          0.024219442116176014,
          0.1921633937043849,
          1.5520690209514485,
          0.14982261476414357,
          0.049773760656631034,
          0.030250598795504808,
          0.03946691166342427
         ],
         "yaxis": "y2"
        },
        {
         "hoverinfo": "text",
         "mode": "lines+markers",
         "name": "Anjou",
         "text": [
          "mtl_12_cptp24h_raw_2021-02-26_1",
          "mtl_12_grb3_raw_2021-02-26_1",
          "mtl_12_cptp24h_raw_2021-03-01_1",
          "mtl_12_grb3_raw_2021-03-01_1",
          "mtl_12_grb3_raw_2021-03-02_1",
          "mtl_12_cptp24h_raw_2021-03-02_1",
          "mtl_12_grb3_raw_2021-03-03_1",
          "mtl_12_cptp24h_raw_2021-03-03_1",
          "mtl_12_cptp24h_raw_2021-03-04_1",
          "mtl_12_grb3_raw_2021-03-04_1",
          "mtl_12_cptp24h_raw_2021-03-05_1",
          "mtl_12_grb3_raw_2021-03-05_1",
          "mtl_12_cptp24h_raw_2021-03-08_1",
          "mtl_12_grb3_raw_2021-03-08_1",
          "mtl_12_cptp24h_raw_2021-03-09_1",
          "mtl_12_grb3_raw_2021-03-09_1",
          "mtl_12_grb3_raw_2021-03-10_1",
          "mtl_12_cptp24h_raw_2021-03-10_1",
          "mtl_12_grb3_raw_2021-03-11_1",
          "mtl_12_cptp24h_raw_2021-03-11_1",
          "mtl_12_grb3_raw_2021-03-12_1",
          "mtl_12_cptp24h_raw_2021-03-12_1",
          "mtl_12_cptp24h_raw_2021-03-16_1",
          "mtl_12_cptp24h_raw_2021-03-17_1",
          "mtl_12_cptp24h_raw_2021-03-18_1",
          "mtl_12_grb3_raw_2021-03-19_1",
          "mtl_12_ps_filter_2021-03-19_1",
          "mtl_12_cptp24h_raw_2021-03-19_1",
          "mtl_12_ps_qtips_2021-03-19_1",
          "mtl_12_cptp24h_raw_2021-03-20_1",
          "mtl_12_cptp24h_raw_2021-03-21_1",
          "mtl_12_grb3_raw_2021-03-22_1",
          "mtl_12_cptp24h_raw_2021-03-23_1",
          "mtl_12_grb3_raw_2021-03-24_1",
          "mtl_12_ps_gauze_2021-03-24_1",
          "mtl_12_ps_qtips_2021-03-24_1",
          "mtl_12_cptp24h_raw_2021-03-24_1",
          "mtl_12_cptp24h_raw_2021-03-25_1",
          "mtl_12_cptp24h_raw_2021-03-26_1",
          "mtl_12_grb3_raw_2021-03-26_1",
          "mtl_12_cptp24h_raw_2021-03-27_1",
          "mtl_12_cptp24h_raw_2021-03-28_1",
          "mtl_12_cptp24h_raw_2021-03-29_1",
          "mtl_12_grb3_raw_2021-03-29_1"
         ],
         "type": "scatter",
         "x": [
          "2021-02-26T00:00:00",
          "2021-02-26T00:00:00",
          "2021-03-01T00:00:00",
          "2021-03-01T00:00:00",
          "2021-03-02T00:00:00",
          "2021-03-02T00:00:00",
          "2021-03-03T00:00:00",
          "2021-03-03T00:00:00",
          "2021-03-04T00:00:00",
          "2021-03-04T00:00:00",
          "2021-03-05T00:00:00",
          "2021-03-05T00:00:00",
          "2021-03-08T00:00:00",
          "2021-03-08T00:00:00",
          "2021-03-09T00:00:00",
          "2021-03-09T00:00:00",
          "2021-03-10T00:00:00",
          "2021-03-10T00:00:00",
          "2021-03-11T00:00:00",
          "2021-03-11T00:00:00",
          "2021-03-12T00:00:00",
          "2021-03-12T00:00:00",
          "2021-03-16T00:00:00",
          "2021-03-17T00:00:00",
          "2021-03-18T00:00:00",
          "2021-03-19T00:00:00",
          "2021-03-19T00:00:00",
          "2021-03-19T00:00:00",
          "2021-03-19T00:00:00",
          "2021-03-20T00:00:00",
          "2021-03-21T00:00:00",
          "2021-03-22T00:00:00",
          "2021-03-23T00:00:00",
          "2021-03-24T00:00:00",
          "2021-03-24T00:00:00",
          "2021-03-24T00:00:00",
          "2021-03-24T00:00:00",
          "2021-03-25T10:00:00",
          "2021-03-26T10:00:00",
          "2021-03-26T10:00:00",
          "2021-03-27T09:59:59.995000",
          "2021-03-28T09:59:59.995000",
          "2021-03-29T10:00:00",
          "2021-03-29T10:15:00"
         ],
         "xaxis": "x",
         "y": [
          0.011562765619176116,
          0.0062829048667282835,
          0.011588547273666205,
          0.0032354507665969564,
          0.004959867637210951,
          0.0007986484052710253,
          0.001220457104211072,
          0.061768459598460154,
          0.060936979301624485,
          0.02412129200667351,
          0.002477396205981279,
          0.021601177759126327,
          0.0645889343200928,
          0.020419105655603315,
          0.024225606784492322,
          0.017109975279601862,
          0.0025565839397786215,
          0.0005270546966926009,
          0.00038614292475624593,
          0.0008760107348840682,
          0.0007299934177707878,
          0.003820769916712366,
          0.11167429529240787,
          0.025077156379177373,
          0.0691090080806395,
          0.017111137946925724,
          0.2345051059574568,
          0.09882077656415796,
          0.0760218869899565,
          0.02767848571378086,
          0.1860247038946028,
          0.022231339516335304,
          0.006555642961934277,
          0.01163130507808442,
          0.017305651250441874,
          0.03784559307981299,
          0.021783905464047276,
          0.0028951997345548837,
          0.009817973068945126,
          0.013092917511524886,
          0.025698014578269365,
          0.04562720075017166,
          0.040605452049101036,
          0.0023272894228692624
         ],
         "yaxis": "y2"
        },
        {
         "marker": {
          "opacity": 0.3
         },
         "name": "Nouveaux cas<br>journaliers",
         "type": "bar",
         "x": [
          "2021-01-01T00:00:00",
          "2021-01-02T00:00:00",
          "2021-01-03T00:00:00",
          "2021-01-04T00:00:00",
          "2021-01-05T00:00:00",
          "2021-01-06T00:00:00",
          "2021-01-07T00:00:00",
          "2021-01-08T00:00:00",
          "2021-01-09T00:00:00",
          "2021-01-10T00:00:00",
          "2021-01-11T00:00:00",
          "2021-01-12T00:00:00",
          "2021-01-13T00:00:00",
          "2021-01-14T00:00:00",
          "2021-01-15T00:00:00",
          "2021-01-16T00:00:00",
          "2021-01-17T00:00:00",
          "2021-01-18T00:00:00",
          "2021-01-19T00:00:00",
          "2021-01-20T00:00:00",
          "2021-01-21T00:00:00",
          "2021-01-22T00:00:00",
          "2021-01-23T00:00:00",
          "2021-01-24T00:00:00",
          "2021-01-25T00:00:00",
          "2021-01-26T00:00:00",
          "2021-01-27T00:00:00",
          "2021-01-28T00:00:00",
          "2021-01-29T00:00:00",
          "2021-01-30T00:00:00",
          "2021-01-31T00:00:00",
          "2021-02-01T00:00:00",
          "2021-02-02T00:00:00",
          "2021-02-03T00:00:00",
          "2021-02-04T00:00:00",
          "2021-02-05T00:00:00",
          "2021-02-06T00:00:00",
          "2021-02-07T00:00:00",
          "2021-02-08T00:00:00",
          "2021-02-09T00:00:00",
          "2021-02-10T00:00:00",
          "2021-02-11T00:00:00",
          "2021-02-12T00:00:00",
          "2021-02-13T00:00:00",
          "2021-02-14T00:00:00",
          "2021-02-15T00:00:00",
          "2021-02-16T00:00:00",
          "2021-02-17T00:00:00",
          "2021-02-18T00:00:00",
          "2021-02-19T00:00:00",
          "2021-02-20T00:00:00",
          "2021-02-21T00:00:00",
          "2021-02-22T00:00:00",
          "2021-02-23T00:00:00",
          "2021-02-24T00:00:00",
          "2021-02-25T00:00:00",
          "2021-02-26T00:00:00",
          "2021-02-27T00:00:00",
          "2021-02-28T00:00:00",
          "2021-03-01T00:00:00",
          "2021-03-02T00:00:00",
          "2021-03-03T00:00:00",
          "2021-03-04T00:00:00",
          "2021-03-05T00:00:00",
          "2021-03-06T00:00:00",
          "2021-03-07T00:00:00",
          "2021-03-08T00:00:00",
          "2021-03-09T00:00:00",
          "2021-03-10T00:00:00",
          "2021-03-11T00:00:00",
          "2021-03-12T00:00:00",
          "2021-03-13T00:00:00",
          "2021-03-14T00:00:00",
          "2021-03-15T00:00:00",
          "2021-03-16T00:00:00",
          "2021-03-17T00:00:00",
          "2021-03-18T00:00:00",
          "2021-03-19T00:00:00",
          "2021-03-20T00:00:00",
          "2021-03-21T00:00:00",
          "2021-03-22T00:00:00",
          "2021-03-23T00:00:00",
          "2021-03-24T00:00:00",
          "2021-03-25T00:00:00",
          "2021-03-26T00:00:00",
          "2021-03-27T00:00:00",
          "2021-03-28T00:00:00",
          "2021-03-29T00:00:00",
          "2021-03-30T00:00:00",
          "2021-03-31T00:00:00",
          "2021-04-01T00:00:00",
          "2021-04-02T00:00:00",
          "2021-04-03T00:00:00",
          "2021-04-04T00:00:00",
          "2021-04-05T00:00:00",
          "2021-04-06T00:00:00"
         ],
         "xaxis": "x",
         "y": [
          748,
          1231,
          927,
          793,
          771,
          821,
          1094,
          1280,
          1049,
          824,
          779,
          564,
          865,
          732,
          816,
          714,
          885,
          584,
          470,
          638,
          673,
          765,
          614,
          565,
          430,
          506,
          594,
          455,
          577,
          498,
          555,
          390,
          470,
          560,
          487,
          525,
          550,
          514,
          410,
          335,
          451,
          552,
          477,
          484,
          342,
          353,
          317,
          414,
          331,
          377,
          396,
          391,
          406,
          258,
          419,
          410,
          390,
          398,
          324,
          249,
          260,
          390,
          305,
          372,
          282,
          398,
          269,
          260,
          393,
          316,
          366,
          391,
          279,
          0,
          516,
          341,
          313,
          355,
          320,
          266,
          309,
          230,
          341,
          368,
          357,
          357,
          306,
          133,
          305,
          348,
          393,
          388,
          361,
          302,
          348,
          300
         ],
         "yaxis": "y"
        }
       ],
       "layout": {
        "images": [
         {
          "sizex": 0.25,
          "sizey": 0.25,
          "source": "https://www.centreau.ulaval.ca/fileadmin/Documents/Image_de_marque/102378_MODIF_LOGO-CENTREAU_noir.jpg",
          "x": 1,
          "xanchor": "right",
          "xref": "paper",
          "y": 1,
          "yanchor": "bottom",
          "yref": "paper"
         }
        ],
        "legend": {
         "orientation": "h",
         "x": 0,
         "xanchor": "left",
         "y": 1.1,
         "yanchor": "top"
        },
        "plot_bgcolor": "white",
        "template": {
         "data": {
          "bar": [
           {
            "error_x": {
             "color": "#2a3f5f"
            },
            "error_y": {
             "color": "#2a3f5f"
            },
            "marker": {
             "line": {
              "color": "#E5ECF6",
              "width": 0.5
             }
            },
            "type": "bar"
           }
          ],
          "barpolar": [
           {
            "marker": {
             "line": {
              "color": "#E5ECF6",
              "width": 0.5
             }
            },
            "type": "barpolar"
           }
          ],
          "carpet": [
           {
            "aaxis": {
             "endlinecolor": "#2a3f5f",
             "gridcolor": "white",
             "linecolor": "white",
             "minorgridcolor": "white",
             "startlinecolor": "#2a3f5f"
            },
            "baxis": {
             "endlinecolor": "#2a3f5f",
             "gridcolor": "white",
             "linecolor": "white",
             "minorgridcolor": "white",
             "startlinecolor": "#2a3f5f"
            },
            "type": "carpet"
           }
          ],
          "choropleth": [
           {
            "colorbar": {
             "outlinewidth": 0,
             "ticks": ""
            },
            "type": "choropleth"
           }
          ],
          "contour": [
           {
            "colorbar": {
             "outlinewidth": 0,
             "ticks": ""
            },
            "colorscale": [
             [
              0,
              "#0d0887"
             ],
             [
              0.1111111111111111,
              "#46039f"
             ],
             [
              0.2222222222222222,
              "#7201a8"
             ],
             [
              0.3333333333333333,
              "#9c179e"
             ],
             [
              0.4444444444444444,
              "#bd3786"
             ],
             [
              0.5555555555555556,
              "#d8576b"
             ],
             [
              0.6666666666666666,
              "#ed7953"
             ],
             [
              0.7777777777777778,
              "#fb9f3a"
             ],
             [
              0.8888888888888888,
              "#fdca26"
             ],
             [
              1,
              "#f0f921"
             ]
            ],
            "type": "contour"
           }
          ],
          "contourcarpet": [
           {
            "colorbar": {
             "outlinewidth": 0,
             "ticks": ""
            },
            "type": "contourcarpet"
           }
          ],
          "heatmap": [
           {
            "colorbar": {
             "outlinewidth": 0,
             "ticks": ""
            },
            "colorscale": [
             [
              0,
              "#0d0887"
             ],
             [
              0.1111111111111111,
              "#46039f"
             ],
             [
              0.2222222222222222,
              "#7201a8"
             ],
             [
              0.3333333333333333,
              "#9c179e"
             ],
             [
              0.4444444444444444,
              "#bd3786"
             ],
             [
              0.5555555555555556,
              "#d8576b"
             ],
             [
              0.6666666666666666,
              "#ed7953"
             ],
             [
              0.7777777777777778,
              "#fb9f3a"
             ],
             [
              0.8888888888888888,
              "#fdca26"
             ],
             [
              1,
              "#f0f921"
             ]
            ],
            "type": "heatmap"
           }
          ],
          "heatmapgl": [
           {
            "colorbar": {
             "outlinewidth": 0,
             "ticks": ""
            },
            "colorscale": [
             [
              0,
              "#0d0887"
             ],
             [
              0.1111111111111111,
              "#46039f"
             ],
             [
              0.2222222222222222,
              "#7201a8"
             ],
             [
              0.3333333333333333,
              "#9c179e"
             ],
             [
              0.4444444444444444,
              "#bd3786"
             ],
             [
              0.5555555555555556,
              "#d8576b"
             ],
             [
              0.6666666666666666,
              "#ed7953"
             ],
             [
              0.7777777777777778,
              "#fb9f3a"
             ],
             [
              0.8888888888888888,
              "#fdca26"
             ],
             [
              1,
              "#f0f921"
             ]
            ],
            "type": "heatmapgl"
           }
          ],
          "histogram": [
           {
            "marker": {
             "colorbar": {
              "outlinewidth": 0,
              "ticks": ""
             }
            },
            "type": "histogram"
           }
          ],
          "histogram2d": [
           {
            "colorbar": {
             "outlinewidth": 0,
             "ticks": ""
            },
            "colorscale": [
             [
              0,
              "#0d0887"
             ],
             [
              0.1111111111111111,
              "#46039f"
             ],
             [
              0.2222222222222222,
              "#7201a8"
             ],
             [
              0.3333333333333333,
              "#9c179e"
             ],
             [
              0.4444444444444444,
              "#bd3786"
             ],
             [
              0.5555555555555556,
              "#d8576b"
             ],
             [
              0.6666666666666666,
              "#ed7953"
             ],
             [
              0.7777777777777778,
              "#fb9f3a"
             ],
             [
              0.8888888888888888,
              "#fdca26"
             ],
             [
              1,
              "#f0f921"
             ]
            ],
            "type": "histogram2d"
           }
          ],
          "histogram2dcontour": [
           {
            "colorbar": {
             "outlinewidth": 0,
             "ticks": ""
            },
            "colorscale": [
             [
              0,
              "#0d0887"
             ],
             [
              0.1111111111111111,
              "#46039f"
             ],
             [
              0.2222222222222222,
              "#7201a8"
             ],
             [
              0.3333333333333333,
              "#9c179e"
             ],
             [
              0.4444444444444444,
              "#bd3786"
             ],
             [
              0.5555555555555556,
              "#d8576b"
             ],
             [
              0.6666666666666666,
              "#ed7953"
             ],
             [
              0.7777777777777778,
              "#fb9f3a"
             ],
             [
              0.8888888888888888,
              "#fdca26"
             ],
             [
              1,
              "#f0f921"
             ]
            ],
            "type": "histogram2dcontour"
           }
          ],
          "mesh3d": [
           {
            "colorbar": {
             "outlinewidth": 0,
             "ticks": ""
            },
            "type": "mesh3d"
           }
          ],
          "parcoords": [
           {
            "line": {
             "colorbar": {
              "outlinewidth": 0,
              "ticks": ""
             }
            },
            "type": "parcoords"
           }
          ],
          "pie": [
           {
            "automargin": true,
            "type": "pie"
           }
          ],
          "scatter": [
           {
            "marker": {
             "colorbar": {
              "outlinewidth": 0,
              "ticks": ""
             }
            },
            "type": "scatter"
           }
          ],
          "scatter3d": [
           {
            "line": {
             "colorbar": {
              "outlinewidth": 0,
              "ticks": ""
             }
            },
            "marker": {
             "colorbar": {
              "outlinewidth": 0,
              "ticks": ""
             }
            },
            "type": "scatter3d"
           }
          ],
          "scattercarpet": [
           {
            "marker": {
             "colorbar": {
              "outlinewidth": 0,
              "ticks": ""
             }
            },
            "type": "scattercarpet"
           }
          ],
          "scattergeo": [
           {
            "marker": {
             "colorbar": {
              "outlinewidth": 0,
              "ticks": ""
             }
            },
            "type": "scattergeo"
           }
          ],
          "scattergl": [
           {
            "marker": {
             "colorbar": {
              "outlinewidth": 0,
              "ticks": ""
             }
            },
            "type": "scattergl"
           }
          ],
          "scattermapbox": [
           {
            "marker": {
             "colorbar": {
              "outlinewidth": 0,
              "ticks": ""
             }
            },
            "type": "scattermapbox"
           }
          ],
          "scatterpolar": [
           {
            "marker": {
             "colorbar": {
              "outlinewidth": 0,
              "ticks": ""
             }
            },
            "type": "scatterpolar"
           }
          ],
          "scatterpolargl": [
           {
            "marker": {
             "colorbar": {
              "outlinewidth": 0,
              "ticks": ""
             }
            },
            "type": "scatterpolargl"
           }
          ],
          "scatterternary": [
           {
            "marker": {
             "colorbar": {
              "outlinewidth": 0,
              "ticks": ""
             }
            },
            "type": "scatterternary"
           }
          ],
          "surface": [
           {
            "colorbar": {
             "outlinewidth": 0,
             "ticks": ""
            },
            "colorscale": [
             [
              0,
              "#0d0887"
             ],
             [
              0.1111111111111111,
              "#46039f"
             ],
             [
              0.2222222222222222,
              "#7201a8"
             ],
             [
              0.3333333333333333,
              "#9c179e"
             ],
             [
              0.4444444444444444,
              "#bd3786"
             ],
             [
              0.5555555555555556,
              "#d8576b"
             ],
             [
              0.6666666666666666,
              "#ed7953"
             ],
             [
              0.7777777777777778,
              "#fb9f3a"
             ],
             [
              0.8888888888888888,
              "#fdca26"
             ],
             [
              1,
              "#f0f921"
             ]
            ],
            "type": "surface"
           }
          ],
          "table": [
           {
            "cells": {
             "fill": {
              "color": "#EBF0F8"
             },
             "line": {
              "color": "white"
             }
            },
            "header": {
             "fill": {
              "color": "#C8D4E3"
             },
             "line": {
              "color": "white"
             }
            },
            "type": "table"
           }
          ]
         },
         "layout": {
          "annotationdefaults": {
           "arrowcolor": "#2a3f5f",
           "arrowhead": 0,
           "arrowwidth": 1
          },
          "autotypenumbers": "strict",
          "coloraxis": {
           "colorbar": {
            "outlinewidth": 0,
            "ticks": ""
           }
          },
          "colorscale": {
           "diverging": [
            [
             0,
             "#8e0152"
            ],
            [
             0.1,
             "#c51b7d"
            ],
            [
             0.2,
             "#de77ae"
            ],
            [
             0.3,
             "#f1b6da"
            ],
            [
             0.4,
             "#fde0ef"
            ],
            [
             0.5,
             "#f7f7f7"
            ],
            [
             0.6,
             "#e6f5d0"
            ],
            [
             0.7,
             "#b8e186"
            ],
            [
             0.8,
             "#7fbc41"
            ],
            [
             0.9,
             "#4d9221"
            ],
            [
             1,
             "#276419"
            ]
           ],
           "sequential": [
            [
             0,
             "#0d0887"
            ],
            [
             0.1111111111111111,
             "#46039f"
            ],
            [
             0.2222222222222222,
             "#7201a8"
            ],
            [
             0.3333333333333333,
             "#9c179e"
            ],
            [
             0.4444444444444444,
             "#bd3786"
            ],
            [
             0.5555555555555556,
             "#d8576b"
            ],
            [
             0.6666666666666666,
             "#ed7953"
            ],
            [
             0.7777777777777778,
             "#fb9f3a"
            ],
            [
             0.8888888888888888,
             "#fdca26"
            ],
            [
             1,
             "#f0f921"
            ]
           ],
           "sequentialminus": [
            [
             0,
             "#0d0887"
            ],
            [
             0.1111111111111111,
             "#46039f"
            ],
            [
             0.2222222222222222,
             "#7201a8"
            ],
            [
             0.3333333333333333,
             "#9c179e"
            ],
            [
             0.4444444444444444,
             "#bd3786"
            ],
            [
             0.5555555555555556,
             "#d8576b"
            ],
            [
             0.6666666666666666,
             "#ed7953"
            ],
            [
             0.7777777777777778,
             "#fb9f3a"
            ],
            [
             0.8888888888888888,
             "#fdca26"
            ],
            [
             1,
             "#f0f921"
            ]
           ]
          },
          "colorway": [
           "#636efa",
           "#EF553B",
           "#00cc96",
           "#ab63fa",
           "#FFA15A",
           "#19d3f3",
           "#FF6692",
           "#B6E880",
           "#FF97FF",
           "#FECB52"
          ],
          "font": {
           "color": "#2a3f5f"
          },
          "geo": {
           "bgcolor": "white",
           "lakecolor": "white",
           "landcolor": "#E5ECF6",
           "showlakes": true,
           "showland": true,
           "subunitcolor": "white"
          },
          "hoverlabel": {
           "align": "left"
          },
          "hovermode": "closest",
          "mapbox": {
           "style": "light"
          },
          "paper_bgcolor": "white",
          "plot_bgcolor": "#E5ECF6",
          "polar": {
           "angularaxis": {
            "gridcolor": "white",
            "linecolor": "white",
            "ticks": ""
           },
           "bgcolor": "#E5ECF6",
           "radialaxis": {
            "gridcolor": "white",
            "linecolor": "white",
            "ticks": ""
           }
          },
          "scene": {
           "xaxis": {
            "backgroundcolor": "#E5ECF6",
            "gridcolor": "white",
            "gridwidth": 2,
            "linecolor": "white",
            "showbackground": true,
            "ticks": "",
            "zerolinecolor": "white"
           },
           "yaxis": {
            "backgroundcolor": "#E5ECF6",
            "gridcolor": "white",
            "gridwidth": 2,
            "linecolor": "white",
            "showbackground": true,
            "ticks": "",
            "zerolinecolor": "white"
           },
           "zaxis": {
            "backgroundcolor": "#E5ECF6",
            "gridcolor": "white",
            "gridwidth": 2,
            "linecolor": "white",
            "showbackground": true,
            "ticks": "",
            "zerolinecolor": "white"
           }
          },
          "shapedefaults": {
           "line": {
            "color": "#2a3f5f"
           }
          },
          "ternary": {
           "aaxis": {
            "gridcolor": "white",
            "linecolor": "white",
            "ticks": ""
           },
           "baxis": {
            "gridcolor": "white",
            "linecolor": "white",
            "ticks": ""
           },
           "bgcolor": "#E5ECF6",
           "caxis": {
            "gridcolor": "white",
            "linecolor": "white",
            "ticks": ""
           }
          },
          "title": {
           "x": 0.05
          },
          "xaxis": {
           "automargin": true,
           "gridcolor": "white",
           "linecolor": "white",
           "ticks": "",
           "title": {
            "standoff": 15
           },
           "zerolinecolor": "white",
           "zerolinewidth": 2
          },
          "yaxis": {
           "automargin": true,
           "gridcolor": "white",
           "linecolor": "white",
           "ticks": "",
           "title": {
            "standoff": 15
           },
           "zerolinecolor": "white",
           "zerolinewidth": 2
          }
         }
        },
        "title": {
         "text": "Surveillance SRAS-CoV-2 via les eaux usées<br>Montréal"
        },
        "xaxis": {
         "anchor": "y",
         "domain": [
          0,
          0.94
         ],
         "dtick": 604800000,
         "gridcolor": "rgba(100,100,100,0.10)",
         "tick0": "2020-12-27",
         "tickangle": 30,
         "tickformat": "%d-%m-%Y",
         "ticks": "outside",
         "title": {
          "text": "Date"
         }
        },
        "yaxis": {
         "anchor": "x",
         "domain": [
          0,
          1
         ],
         "gridcolor": "rgba(0,0,0,0)",
         "side": "right",
         "title": {
          "text": "Nouveaux cas"
         }
        },
        "yaxis2": {
         "anchor": "x",
         "overlaying": "y",
         "range": [
          0,
          1
         ],
         "side": "left",
         "title": {
          "text": "SARS-CoV-2 / PMMoV"
         }
        }
       }
      }
     },
     "metadata": {}
    }
   ],
   "source": [
    "region=\"Montréal\"\n",
    "sites = [\"mtl_11\", \"mtl_05\", \"mtl_16\", \"mtl_12\"]\n",
    "max_norm = 1\n",
    "graph = create_graph(existing_odm, region, sites, max_norm)\n",
    "\n",
    "images_folder = \"/Users/jeandavidt/Downloads/plotly_images/\"\n",
    "graph.write_image(images_folder+\"mtl_April1.png\", width=1000, scale=3)\n",
    "graph.write_image(images_folder+\"mtl_April1.svg\", width=1000)"
   ]
  },
  {
   "cell_type": "code",
   "execution_count": null,
   "metadata": {},
   "outputs": [],
   "source": []
  }
 ]
}