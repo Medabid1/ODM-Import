{
 "cells": [
  {
   "cell_type": "code",
   "execution_count": 1,
   "metadata": {},
   "outputs": [],
   "source": [
    "import json\n",
    "import os\n",
    "import requests\n",
    "import sys\n",
    "\n",
    "import pandas as pd\n",
    "import plotly.express as px\n",
    "import plotly.graph_objects as go\n",
    "from plotly.subplots import make_subplots\n",
    "\n",
    "from wbe_odm import odm\n",
    "from wbe_odm.odm_mappers import mcgill_mapper\n",
    "from wbe_odm.odm_mappers import excel_template_mapper"
   ]
  },
  {
   "cell_type": "code",
   "execution_count": 2,
   "metadata": {},
   "outputs": [],
   "source": [
    "def get_available_sites(odm_data):\n",
    "    samples = odm_data.sample\n",
    "    available_sites = list(samples[\"siteID\"].unique())\n",
    "    site_dico = {}\n",
    "    for i, site in enumerate(available_sites):\n",
    "        if site == \"\":\n",
    "            continue\n",
    "        site_dico[i] = site\n",
    "    return site_dico"
   ]
  },
  {
   "cell_type": "markdown",
   "metadata": {},
   "source": [
    "### Quebec\n",
    "\n"
   ]
  },
  {
   "cell_type": "code",
   "execution_count": 4,
   "metadata": {},
   "outputs": [
    {
     "name": "stderr",
     "output_type": "stream",
     "text": [
      "/usr/local/Caskroom/miniconda/base/envs/covid/lib/python3.9/site-packages/openpyxl/worksheet/_reader.py:312: UserWarning: Data Validation extension is not supported and will be removed\n",
      "  warn(msg)\n"
     ]
    }
   ],
   "source": [
    "path_to_parser_help = \"../Data/Lab/McGill/Final/\"\n",
    "lab_data = \"/Users/jeandavidt/Desktop/latest-data/CentrEau-COVID_Resultats_Quebec_final.xlsx\"\n",
    "static_data = \"/Users/jeandavidt/Desktop/latest-data/Ville de Quebec - All data - v1.1.xlsx\"\n",
    "mapping = path_to_parser_help + \"mcgill_map.csv\"\n",
    "sheet_name = \"QC Data Daily Samples (McGill)\"\n",
    "lab_id = \"frigon_lab\"\n",
    "start_date = \"2021-01-01\"\n",
    "end_date = None\n",
    "qc_lab = mcgill_mapper.McGillMapper()\n",
    "qc_lab.read(lab_data, static_data, sheet_name, lab_id)\n",
    "qc_odm = odm.Odm()\n",
    "qc_odm.load_from(qc_lab)"
   ]
  },
  {
   "cell_type": "code",
   "execution_count": 12,
   "metadata": {},
   "outputs": [
    {
     "data": {
      "text/html": "<div>\n<style scoped>\n    .dataframe tbody tr th:only-of-type {\n        vertical-align: middle;\n    }\n\n    .dataframe tbody tr th {\n        vertical-align: top;\n    }\n\n    .dataframe thead th {\n        text-align: right;\n    }\n</style>\n<table border=\"1\" class=\"dataframe\">\n  <thead>\n    <tr style=\"text-align: right;\">\n      <th>variableName</th>\n      <th>sampleID</th>\n      <th>type</th>\n      <th>value</th>\n      <th>unit</th>\n    </tr>\n  </thead>\n  <tbody>\n    <tr>\n      <th>4103</th>\n      <td>frigon_lab_spb_1_qc_01_cptp24h _rawww_1</td>\n      <td>nPMMoV</td>\n      <td>242244.413795</td>\n      <td>gc/ml</td>\n    </tr>\n    <tr>\n      <th>4104</th>\n      <td>frigon_lab_spb_1_qc_02_cptp24h _rawww_1</td>\n      <td>nPMMoV</td>\n      <td>88623.624672</td>\n      <td>gc/ml</td>\n    </tr>\n    <tr>\n      <th>4105</th>\n      <td>frigon_lab_spb_1_qc_01_cptp24h _rawww_1</td>\n      <td>nPMMoV</td>\n      <td>83259.516472</td>\n      <td>gc/ml</td>\n    </tr>\n    <tr>\n      <th>4106</th>\n      <td>frigon_lab_spb_1_qc_02_cptp24h _rawww_1</td>\n      <td>nPMMoV</td>\n      <td>115650.548175</td>\n      <td>gc/ml</td>\n    </tr>\n    <tr>\n      <th>4107</th>\n      <td>frigon_lab_spb_1_qc_01_cptp24h _rawww_1</td>\n      <td>nPMMoV</td>\n      <td>303896.921506</td>\n      <td>gc/ml</td>\n    </tr>\n    <tr>\n      <th>...</th>\n      <td>...</td>\n      <td>...</td>\n      <td>...</td>\n      <td>...</td>\n    </tr>\n    <tr>\n      <th>5958</th>\n      <td>qc_08_ps24h_filter_2021-04-21_1</td>\n      <td>covN2</td>\n      <td>0.011484</td>\n      <td>gc/ml</td>\n    </tr>\n    <tr>\n      <th>5959</th>\n      <td>qc_09_ps24h_filter_2021-04-21_1</td>\n      <td>covN2</td>\n      <td>0.008831</td>\n      <td>gc/ml</td>\n    </tr>\n    <tr>\n      <th>5960</th>\n      <td>frigon_lab__reference_1</td>\n      <td>covN2</td>\n      <td>0.062857</td>\n      <td>gc/ml</td>\n    </tr>\n    <tr>\n      <th>5961</th>\n      <td>frigon_lab__negative_1</td>\n      <td>covN2</td>\n      <td>0.492316</td>\n      <td>gc/ml</td>\n    </tr>\n    <tr>\n      <th>5967</th>\n      <td>frigon_lab__negative_1</td>\n      <td>covN2</td>\n      <td>1.0</td>\n      <td>gc/ml</td>\n    </tr>\n  </tbody>\n</table>\n<p>605 rows × 4 columns</p>\n</div>",
      "text/plain": "variableName                                 sampleID    type          value  \\\n4103          frigon_lab_spb_1_qc_01_cptp24h _rawww_1  nPMMoV  242244.413795   \n4104          frigon_lab_spb_1_qc_02_cptp24h _rawww_1  nPMMoV   88623.624672   \n4105          frigon_lab_spb_1_qc_01_cptp24h _rawww_1  nPMMoV   83259.516472   \n4106          frigon_lab_spb_1_qc_02_cptp24h _rawww_1  nPMMoV  115650.548175   \n4107          frigon_lab_spb_1_qc_01_cptp24h _rawww_1  nPMMoV  303896.921506   \n...                                               ...     ...            ...   \n5958                  qc_08_ps24h_filter_2021-04-21_1   covN2       0.011484   \n5959                  qc_09_ps24h_filter_2021-04-21_1   covN2       0.008831   \n5960                          frigon_lab__reference_1   covN2       0.062857   \n5961                           frigon_lab__negative_1   covN2       0.492316   \n5967                           frigon_lab__negative_1   covN2            1.0   \n\nvariableName   unit  \n4103          gc/ml  \n4104          gc/ml  \n4105          gc/ml  \n4106          gc/ml  \n4107          gc/ml  \n...             ...  \n5958          gc/ml  \n5959          gc/ml  \n5960          gc/ml  \n5961          gc/ml  \n5967          gc/ml  \n\n[605 rows x 4 columns]"
     },
     "execution_count": 12,
     "metadata": {},
     "output_type": "execute_result"
    }
   ],
   "source": [
    "ww = qc_lab.ww_measure\n",
    "ww.loc[ww[\"type\"].isin([\"covN2\", \"nPMMoV\"]) & ww[\"unit\"].isin([\"gc/ml\"]), [\"sampleID\", \"type\", \"value\", \"unit\"]]"
   ]
  },
  {
   "cell_type": "code",
   "execution_count": 5,
   "metadata": {},
   "outputs": [
    {
     "data": {
      "text/plain": "0    qc_01_cptp24h_pstgrit_2021-01-15_1\n1    qc_02_cptp24h_pstgrit_2021-01-15_1\n2    qc_01_cptp24h_pstgrit_2021-01-16_1\n3    qc_02_cptp24h_pstgrit_2021-01-16_1\n4    qc_01_cptp24h_pstgrit_2021-01-17_1\nName: sampleID, dtype: object"
     },
     "execution_count": 5,
     "metadata": {},
     "output_type": "execute_result"
    }
   ],
   "source": [
    "qc_lab_data.sample[\"sampleID\"].head()"
   ]
  },
  {
   "cell_type": "code",
   "execution_count": null,
   "metadata": {},
   "outputs": [],
   "source": []
  },
  {
   "cell_type": "code",
   "execution_count": 5,
   "metadata": {},
   "outputs": [],
   "source": [
    "bad_samples = [\n",
    "    \"qc_01_cptp24h_pstgrit_2021-02-12_1\",\n",
    "    \"qc_01_cptp24h_pstgrit_2021-02-13_1\",\n",
    "    \"qc_01_cptp24h_pstgrit_2021-02-14_1\",\n",
    "    \"qc_01_cptp24h_pstgrit_2021-02-19_1\",\n",
    "    \"qc_01_cptp24h_pstgrit_2021-02-20_1\",\n",
    "    \"qc_01_cptp24h_pstgrit_2021-02-21_1\",\n",
    "    \"qc_01_cptp24h_pstgrit_2021-02-22_1\",\n",
    "    \"qc_01_cptp24h_pstgrit_2021-02-23_1\",\n",
    "    \"qc_01_cptp24h_pstgrit_2021-03-01_1\",\n",
    "    \"qc_01_cptp24h_pstgrit_2021-03-23_1\",\n",
    "    \n",
    "    \"qc_02_cptp24h_pstgrit_2021-02-12_1\",\n",
    "    \"qc_02_cptp24h_pstgrit_2021-02-13_1\",\n",
    "    \"qc_02_cptp24h_pstgrit_2021-02-14_1\",\n",
    "    \"qc_02_cptp24h_pstgrit_2021-02-15_1\",\n",
    "    \"qc_02_cptp24h_pstgrit_2021-02-16_1\",\n",
    "    \"qc_02_cptp24h_pstgrit_2021-02-19_1\",\n",
    "    \"qc_02_cptp24h_pstgrit_2021-02-20_1\",\n",
    "    \"qc_02_cptp24h_pstgrit_2021-02-21_1\",\n",
    "    \"qc_02_cptp24h_pstgrit_2021-02-22_1\",\n",
    "    \"qc_02_cptp24h_pstgrit_2021-02-23_1\",\n",
    "    \"qc_02_cptp24h_pstgrit_2021-03-23_1\",\n",
    "    \"qc_02_cptp24h_pstgrit_2021-03-24_1\",\n",
    "]\n",
    "qc_lab_data = apply_quality_flag(qc_lab_data, bad_samples, [\"covN2\", \"nPMMoV\"])"
   ]
  },
  {
   "cell_type": "code",
   "execution_count": 11,
   "metadata": {},
   "outputs": [],
   "source": [
    "def sample_time(row):\n",
    "    comp_start = row[\"dateTimeStart\"]\n",
    "    grab = row[\"dateTime\"]\n",
    "    if pd.isna(comp_start):\n",
    "        return grab\n",
    "    else:\n",
    "        return comp_start\n",
    "def date_from_sample_id(sample_id, samples):\n",
    "    sample_slice = samples.loc[samples[\"sampleID\"] == sample_id]\n",
    "    try:\n",
    "        return sample_slice.iloc[0][\"reportDate\"]\n",
    "    except IndexError:\n",
    "        return pd.NaT"
   ]
  },
  {
   "cell_type": "code",
   "execution_count": 15,
   "metadata": {},
   "outputs": [
    {
     "ename": "IndexError",
     "evalue": "single positional indexer is out-of-bounds",
     "output_type": "error",
     "traceback": [
      "\u001b[0;31m---------------------------------------------------------------------------\u001b[0m",
      "\u001b[0;31mIndexError\u001b[0m                                Traceback (most recent call last)",
      "\u001b[0;32m<ipython-input-15-624bb5975aff>\u001b[0m in \u001b[0;36m<module>\u001b[0;34m\u001b[0m\n\u001b[1;32m    120\u001b[0m \u001b[0msites\u001b[0m \u001b[0;34m=\u001b[0m \u001b[0;34m[\u001b[0m\u001b[0;34m\"QC_1.0\"\u001b[0m\u001b[0;34m,\u001b[0m \u001b[0;34m\"QC_2.0\"\u001b[0m\u001b[0;34m]\u001b[0m\u001b[0;34m\u001b[0m\u001b[0;34m\u001b[0m\u001b[0m\n\u001b[1;32m    121\u001b[0m \u001b[0mmax_norm\u001b[0m \u001b[0;34m=\u001b[0m \u001b[0;36m0.2\u001b[0m\u001b[0;34m\u001b[0m\u001b[0;34m\u001b[0m\u001b[0m\n\u001b[0;32m--> 122\u001b[0;31m \u001b[0mqc_graph\u001b[0m \u001b[0;34m=\u001b[0m \u001b[0mcreate_graph\u001b[0m\u001b[0;34m(\u001b[0m\u001b[0mqc_lab_data\u001b[0m\u001b[0;34m,\u001b[0m \u001b[0mregion\u001b[0m\u001b[0;34m,\u001b[0m \u001b[0msites\u001b[0m\u001b[0;34m,\u001b[0m \u001b[0mmax_norm\u001b[0m\u001b[0;34m)\u001b[0m\u001b[0;34m\u001b[0m\u001b[0;34m\u001b[0m\u001b[0m\n\u001b[0m",
      "\u001b[0;32m<ipython-input-15-624bb5975aff>\u001b[0m in \u001b[0;36mcreate_graph\u001b[0;34m(data, region, sites, max_norm)\u001b[0m\n\u001b[1;32m     90\u001b[0m \u001b[0;34m\u001b[0m\u001b[0m\n\u001b[1;32m     91\u001b[0m \u001b[0;32mdef\u001b[0m \u001b[0mcreate_graph\u001b[0m\u001b[0;34m(\u001b[0m\u001b[0mdata\u001b[0m\u001b[0;34m,\u001b[0m \u001b[0mregion\u001b[0m\u001b[0;34m,\u001b[0m \u001b[0msites\u001b[0m\u001b[0;34m,\u001b[0m \u001b[0mmax_norm\u001b[0m\u001b[0;34m=\u001b[0m\u001b[0;32mNone\u001b[0m\u001b[0;34m)\u001b[0m\u001b[0;34m:\u001b[0m\u001b[0;34m\u001b[0m\u001b[0;34m\u001b[0m\u001b[0m\n\u001b[0;32m---> 92\u001b[0;31m     \u001b[0mgraph\u001b[0m \u001b[0;34m=\u001b[0m \u001b[0mgraph_normalized\u001b[0m\u001b[0;34m(\u001b[0m\u001b[0mdata\u001b[0m\u001b[0;34m,\u001b[0m \u001b[0mregion\u001b[0m\u001b[0;34m,\u001b[0m \u001b[0msites\u001b[0m\u001b[0;34m,\u001b[0m \u001b[0mmax_norm\u001b[0m\u001b[0;34m)\u001b[0m\u001b[0;34m\u001b[0m\u001b[0;34m\u001b[0m\u001b[0m\n\u001b[0m\u001b[1;32m     93\u001b[0m     \u001b[0mcases\u001b[0m \u001b[0;34m=\u001b[0m \u001b[0mget_cases_from_ledevoir\u001b[0m\u001b[0;34m(\u001b[0m\u001b[0mregion\u001b[0m\u001b[0;34m,\u001b[0m \u001b[0mstart_date\u001b[0m\u001b[0;34m=\u001b[0m\u001b[0;34m\"2021-01-01\"\u001b[0m\u001b[0;34m)\u001b[0m\u001b[0;34m\u001b[0m\u001b[0;34m\u001b[0m\u001b[0m\n\u001b[1;32m     94\u001b[0m     \u001b[0mcases_trace\u001b[0m \u001b[0;34m=\u001b[0m \u001b[0mgo\u001b[0m\u001b[0;34m.\u001b[0m\u001b[0mBar\u001b[0m\u001b[0;34m(\u001b[0m\u001b[0mx\u001b[0m\u001b[0;34m=\u001b[0m\u001b[0mcases\u001b[0m\u001b[0;34m.\u001b[0m\u001b[0mindex\u001b[0m\u001b[0;34m,\u001b[0m \u001b[0my\u001b[0m\u001b[0;34m=\u001b[0m\u001b[0mcases\u001b[0m\u001b[0;34m[\u001b[0m\u001b[0;34m\"dc\"\u001b[0m\u001b[0;34m]\u001b[0m\u001b[0;34m,\u001b[0m \u001b[0mname\u001b[0m\u001b[0;34m=\u001b[0m\u001b[0;34m\"Nouveaux cas<br>journaliers\"\u001b[0m\u001b[0;34m,\u001b[0m \u001b[0mmarker\u001b[0m\u001b[0;34m=\u001b[0m\u001b[0mdict\u001b[0m\u001b[0;34m(\u001b[0m\u001b[0mopacity\u001b[0m\u001b[0;34m=\u001b[0m\u001b[0;36m0.3\u001b[0m\u001b[0;34m)\u001b[0m\u001b[0;34m)\u001b[0m\u001b[0;34m\u001b[0m\u001b[0;34m\u001b[0m\u001b[0m\n",
      "\u001b[0;32m<ipython-input-15-624bb5975aff>\u001b[0m in \u001b[0;36mgraph_normalized\u001b[0;34m(odm_data, region_name, site_list, max_normalized)\u001b[0m\n\u001b[1;32m     37\u001b[0m     \u001b[0mtraces\u001b[0m \u001b[0;34m=\u001b[0m \u001b[0;34m[\u001b[0m\u001b[0;34m]\u001b[0m\u001b[0;34m\u001b[0m\u001b[0;34m\u001b[0m\u001b[0m\n\u001b[1;32m     38\u001b[0m     \u001b[0;32mfor\u001b[0m \u001b[0msite\u001b[0m \u001b[0;32min\u001b[0m \u001b[0msite_list\u001b[0m\u001b[0;34m:\u001b[0m\u001b[0;34m\u001b[0m\u001b[0;34m\u001b[0m\u001b[0m\n\u001b[0;32m---> 39\u001b[0;31m         \u001b[0mname\u001b[0m \u001b[0;34m=\u001b[0m \u001b[0mget_site_name\u001b[0m\u001b[0;34m(\u001b[0m\u001b[0modm_data\u001b[0m\u001b[0;34m,\u001b[0m \u001b[0msite\u001b[0m\u001b[0;34m)\u001b[0m\u001b[0;34m\u001b[0m\u001b[0;34m\u001b[0m\u001b[0m\n\u001b[0m\u001b[1;32m     40\u001b[0m         \u001b[0msite_measures\u001b[0m \u001b[0;34m=\u001b[0m \u001b[0mget_normalized_data\u001b[0m\u001b[0;34m(\u001b[0m\u001b[0modm_data\u001b[0m\u001b[0;34m,\u001b[0m \u001b[0msite\u001b[0m\u001b[0;34m)\u001b[0m\u001b[0;34m\u001b[0m\u001b[0;34m\u001b[0m\u001b[0m\n\u001b[1;32m     41\u001b[0m         \u001b[0;32mif\u001b[0m \u001b[0msite_measures\u001b[0m \u001b[0;32mis\u001b[0m \u001b[0;32mNone\u001b[0m\u001b[0;34m:\u001b[0m\u001b[0;34m\u001b[0m\u001b[0;34m\u001b[0m\u001b[0m\n",
      "\u001b[0;32m<ipython-input-15-624bb5975aff>\u001b[0m in \u001b[0;36mget_site_name\u001b[0;34m(odm_data, site_id)\u001b[0m\n\u001b[1;32m    114\u001b[0m     \u001b[0;32mif\u001b[0m \u001b[0mlen\u001b[0m\u001b[0;34m(\u001b[0m\u001b[0msite_rows\u001b[0m\u001b[0;34m)\u001b[0m \u001b[0;34m>\u001b[0m \u001b[0;36m1\u001b[0m\u001b[0;34m:\u001b[0m\u001b[0;34m\u001b[0m\u001b[0;34m\u001b[0m\u001b[0m\n\u001b[1;32m    115\u001b[0m         \u001b[0;32mreturn\u001b[0m \u001b[0;34m\"\"\u001b[0m\u001b[0;34m\u001b[0m\u001b[0;34m\u001b[0m\u001b[0m\n\u001b[0;32m--> 116\u001b[0;31m     \u001b[0mfirst_row\u001b[0m \u001b[0;34m=\u001b[0m  \u001b[0msite_rows\u001b[0m\u001b[0;34m.\u001b[0m\u001b[0miloc\u001b[0m\u001b[0;34m[\u001b[0m\u001b[0;36m0\u001b[0m\u001b[0;34m]\u001b[0m\u001b[0;34m\u001b[0m\u001b[0;34m\u001b[0m\u001b[0m\n\u001b[0m\u001b[1;32m    117\u001b[0m     \u001b[0;32mreturn\u001b[0m \u001b[0mfirst_row\u001b[0m\u001b[0;34m.\u001b[0m\u001b[0mloc\u001b[0m\u001b[0;34m[\u001b[0m\u001b[0;34m\"name\"\u001b[0m\u001b[0;34m]\u001b[0m\u001b[0;34m\u001b[0m\u001b[0;34m\u001b[0m\u001b[0m\n\u001b[1;32m    118\u001b[0m \u001b[0;34m\u001b[0m\u001b[0m\n",
      "\u001b[0;32m/usr/local/Caskroom/miniconda/base/envs/covid/lib/python3.9/site-packages/pandas/core/indexing.py\u001b[0m in \u001b[0;36m__getitem__\u001b[0;34m(self, key)\u001b[0m\n\u001b[1;32m    893\u001b[0m \u001b[0;34m\u001b[0m\u001b[0m\n\u001b[1;32m    894\u001b[0m             \u001b[0mmaybe_callable\u001b[0m \u001b[0;34m=\u001b[0m \u001b[0mcom\u001b[0m\u001b[0;34m.\u001b[0m\u001b[0mapply_if_callable\u001b[0m\u001b[0;34m(\u001b[0m\u001b[0mkey\u001b[0m\u001b[0;34m,\u001b[0m \u001b[0mself\u001b[0m\u001b[0;34m.\u001b[0m\u001b[0mobj\u001b[0m\u001b[0;34m)\u001b[0m\u001b[0;34m\u001b[0m\u001b[0;34m\u001b[0m\u001b[0m\n\u001b[0;32m--> 895\u001b[0;31m             \u001b[0;32mreturn\u001b[0m \u001b[0mself\u001b[0m\u001b[0;34m.\u001b[0m\u001b[0m_getitem_axis\u001b[0m\u001b[0;34m(\u001b[0m\u001b[0mmaybe_callable\u001b[0m\u001b[0;34m,\u001b[0m \u001b[0maxis\u001b[0m\u001b[0;34m=\u001b[0m\u001b[0maxis\u001b[0m\u001b[0;34m)\u001b[0m\u001b[0;34m\u001b[0m\u001b[0;34m\u001b[0m\u001b[0m\n\u001b[0m\u001b[1;32m    896\u001b[0m \u001b[0;34m\u001b[0m\u001b[0m\n\u001b[1;32m    897\u001b[0m     \u001b[0;32mdef\u001b[0m \u001b[0m_is_scalar_access\u001b[0m\u001b[0;34m(\u001b[0m\u001b[0mself\u001b[0m\u001b[0;34m,\u001b[0m \u001b[0mkey\u001b[0m\u001b[0;34m:\u001b[0m \u001b[0mTuple\u001b[0m\u001b[0;34m)\u001b[0m\u001b[0;34m:\u001b[0m\u001b[0;34m\u001b[0m\u001b[0;34m\u001b[0m\u001b[0m\n",
      "\u001b[0;32m/usr/local/Caskroom/miniconda/base/envs/covid/lib/python3.9/site-packages/pandas/core/indexing.py\u001b[0m in \u001b[0;36m_getitem_axis\u001b[0;34m(self, key, axis)\u001b[0m\n\u001b[1;32m   1499\u001b[0m \u001b[0;34m\u001b[0m\u001b[0m\n\u001b[1;32m   1500\u001b[0m             \u001b[0;31m# validate the location\u001b[0m\u001b[0;34m\u001b[0m\u001b[0;34m\u001b[0m\u001b[0;34m\u001b[0m\u001b[0m\n\u001b[0;32m-> 1501\u001b[0;31m             \u001b[0mself\u001b[0m\u001b[0;34m.\u001b[0m\u001b[0m_validate_integer\u001b[0m\u001b[0;34m(\u001b[0m\u001b[0mkey\u001b[0m\u001b[0;34m,\u001b[0m \u001b[0maxis\u001b[0m\u001b[0;34m)\u001b[0m\u001b[0;34m\u001b[0m\u001b[0;34m\u001b[0m\u001b[0m\n\u001b[0m\u001b[1;32m   1502\u001b[0m \u001b[0;34m\u001b[0m\u001b[0m\n\u001b[1;32m   1503\u001b[0m             \u001b[0;32mreturn\u001b[0m \u001b[0mself\u001b[0m\u001b[0;34m.\u001b[0m\u001b[0mobj\u001b[0m\u001b[0;34m.\u001b[0m\u001b[0m_ixs\u001b[0m\u001b[0;34m(\u001b[0m\u001b[0mkey\u001b[0m\u001b[0;34m,\u001b[0m \u001b[0maxis\u001b[0m\u001b[0;34m=\u001b[0m\u001b[0maxis\u001b[0m\u001b[0;34m)\u001b[0m\u001b[0;34m\u001b[0m\u001b[0;34m\u001b[0m\u001b[0m\n",
      "\u001b[0;32m/usr/local/Caskroom/miniconda/base/envs/covid/lib/python3.9/site-packages/pandas/core/indexing.py\u001b[0m in \u001b[0;36m_validate_integer\u001b[0;34m(self, key, axis)\u001b[0m\n\u001b[1;32m   1442\u001b[0m         \u001b[0mlen_axis\u001b[0m \u001b[0;34m=\u001b[0m \u001b[0mlen\u001b[0m\u001b[0;34m(\u001b[0m\u001b[0mself\u001b[0m\u001b[0;34m.\u001b[0m\u001b[0mobj\u001b[0m\u001b[0;34m.\u001b[0m\u001b[0m_get_axis\u001b[0m\u001b[0;34m(\u001b[0m\u001b[0maxis\u001b[0m\u001b[0;34m)\u001b[0m\u001b[0;34m)\u001b[0m\u001b[0;34m\u001b[0m\u001b[0;34m\u001b[0m\u001b[0m\n\u001b[1;32m   1443\u001b[0m         \u001b[0;32mif\u001b[0m \u001b[0mkey\u001b[0m \u001b[0;34m>=\u001b[0m \u001b[0mlen_axis\u001b[0m \u001b[0;32mor\u001b[0m \u001b[0mkey\u001b[0m \u001b[0;34m<\u001b[0m \u001b[0;34m-\u001b[0m\u001b[0mlen_axis\u001b[0m\u001b[0;34m:\u001b[0m\u001b[0;34m\u001b[0m\u001b[0;34m\u001b[0m\u001b[0m\n\u001b[0;32m-> 1444\u001b[0;31m             \u001b[0;32mraise\u001b[0m \u001b[0mIndexError\u001b[0m\u001b[0;34m(\u001b[0m\u001b[0;34m\"single positional indexer is out-of-bounds\"\u001b[0m\u001b[0;34m)\u001b[0m\u001b[0;34m\u001b[0m\u001b[0;34m\u001b[0m\u001b[0m\n\u001b[0m\u001b[1;32m   1445\u001b[0m \u001b[0;34m\u001b[0m\u001b[0m\n\u001b[1;32m   1446\u001b[0m     \u001b[0;31m# -------------------------------------------------------------------\u001b[0m\u001b[0;34m\u001b[0m\u001b[0;34m\u001b[0m\u001b[0;34m\u001b[0m\u001b[0m\n",
      "\u001b[0;31mIndexError\u001b[0m: single positional indexer is out-of-bounds"
     ]
    }
   ],
   "source": [
    "def get_normalized_data(odm_data, site_id):\n",
    "    samples = odm_data.sample\n",
    "    samples[\"reportDate\"] = samples.apply(sample_time, axis=1)\n",
    "    samples_from_site = samples.loc[samples[\"siteID\"].str.lower() == site_id, \"sampleID\"].unique()\n",
    "    \n",
    "    measures = odm_data.ww_measure\n",
    "    sample_filt = (measures[\"sampleID\"].isin(samples_from_site))\n",
    "    viral_filt = (measures[\"type\"].isin([\"covN2\", \"nPMMoV\"]))\n",
    "    unit_filt = (measures[\"unit\"] == \"gc/ml\")\n",
    "    quality_filt = (measures[\"qualityFlag\"] == False)\n",
    "    measures = measures.loc[sample_filt & viral_filt & unit_filt & quality_filt, [\"sampleID\", \"type\", \"value\"]]\n",
    "    samples = odm_data.sample\n",
    "    measures[\"sampleDate\"] = measures[\"sampleID\"].apply(\n",
    "        lambda row: date_from_sample_id(row, samples))\n",
    "    measures = measures.drop_duplicates(subset=[\"sampleID\", \"type\"])\n",
    "    measures = measures.pivot(index=[\"sampleID\", \"sampleDate\"], columns=\"type\", values=\"value\")\n",
    "    if \"covN2\" not in measures.columns:\n",
    "        print(f\"no sars measurements found for site {site_id}\")\n",
    "        return None\n",
    "    measures[\"normalized\"] = measures[\"covN2\"] / measures[\"nPMMoV\"]\n",
    "    measures = measures.sort_values(\"sampleDate\")\n",
    "    measures = measures.reset_index()\n",
    "    return measures.dropna(subset=[\"normalized\"])\n",
    "\n",
    "\n",
    "def prettify_name(name):\n",
    "    name_lst = name.split(\" \")\n",
    "    name_lst = [x.title() for x in name_lst]\n",
    "    name = \" \".join(name_lst)\n",
    "    name = name.replace(\"Quebec\", \"Québec\")\n",
    "    name = name.replace(\"Montreal\", \"Montréal\")\n",
    "    return name\n",
    "\n",
    "def graph_normalized(odm_data, region_name, site_list, max_normalized):\n",
    "    fig = make_subplots(rows=1, cols=1,\n",
    "                    specs=[[{\"secondary_y\": True}]])\n",
    "    traces = []\n",
    "    for site in site_list:\n",
    "        name = get_site_name(odm_data, site)\n",
    "        site_measures = get_normalized_data(odm_data, site)\n",
    "        if site_measures is None:\n",
    "            print(site)\n",
    "            continue\n",
    "        trace = go.Scatter(\n",
    "            x=site_measures[\"sampleDate\"],\n",
    "            y=site_measures[\"normalized\"],\n",
    "            name=prettify_name(name),\n",
    "            mode=\"lines+markers\",\n",
    "            text=site_measures[\"sampleID\"],\n",
    "            hoverinfo=\"text\"\n",
    "        )\n",
    "        traces.append(trace)\n",
    "    for trace in traces:\n",
    "        fig.add_trace(trace, secondary_y=True)    \n",
    "    fig.update_layout(\n",
    "        xaxis_title=\"Date\",\n",
    "        xaxis_tick0=\"2020-12-27\",\n",
    "        xaxis_dtick=7 * 24 * 3600000,\n",
    "        xaxis_tickformat=\"%d-%m-%Y\",\n",
    "        xaxis_tickangle=30, plot_bgcolor=\"white\",\n",
    "        xaxis_gridcolor=\"rgba(100,100,100,0.10)\",\n",
    "        yaxis_gridcolor=\"rgba(0,0,0,0)\",\n",
    "        xaxis_ticks=\"outside\"\n",
    "    )\n",
    "    fig.update_yaxes(title=\"SARS-CoV-2 / PMMoV\", secondary_y=True, range=[0, max_normalized])\n",
    "    if region_name == \"Capitale-Nationale\":\n",
    "        region_name = \"Région de Québec\"\n",
    "    fig.update_layout(title=dict(text=f\"Surveillance SRAS-CoV-2 via les eaux usées<br>{region_name}\"))\n",
    "    return fig\n",
    "\n",
    "def get_cases_from_ledevoir(region_name, start_date=None, end_date=None):\n",
    "    start_date = pd.to_datetime(start_date)\n",
    "    end_date = pd.to_datetime(end_date)\n",
    "    response = requests.get(\"https://ledevoir-coronavirus.herokuapp.com/api/v2/reports/ca/qc\")\n",
    "    j = json.loads(response.text)\n",
    "    region_codes = {j[\"regions\"][i][\"name\"]: i for i in range(len(j[\"regions\"]))}\n",
    "    region_code = region_codes[region_name]\n",
    "    cases = pd.DataFrame(j[\"regions\"][region_code][\"data\"])\n",
    "    cases[\"date\"] = pd.to_datetime(cases[\"date\"])\n",
    "    cases = cases.set_index(\"date\")\n",
    "    if pd.isna(start_date) and pd.isna(end_date):\n",
    "        pass\n",
    "    elif pd.isna(end_date):\n",
    "        cases = cases.loc[start_date:]\n",
    "    elif pd.isna(start_date):\n",
    "        cases = cases.loc[:end_date]\n",
    "    else:\n",
    "        cases = cases.loc[start_date : end_date]\n",
    "    return cases\n",
    "\n",
    "def create_graph(data, region, sites, max_norm=None):\n",
    "    graph = graph_normalized(data, region, sites, max_norm)\n",
    "    cases = get_cases_from_ledevoir(region, start_date=\"2021-01-01\")\n",
    "    cases_trace = go.Bar(x=cases.index, y=cases[\"dc\"], name=\"Nouveaux cas<br>journaliers\", marker=dict(opacity=0.3))\n",
    "    graph.add_trace(cases_trace, secondary_y=False)\n",
    "    graph.update_layout(legend=dict(yanchor=\"top\", xanchor=\"left\", orientation=\"h\", y=1.1, x=0))\n",
    "    graph.update_yaxes(title=\"Nouveaux cas\",side=\"right\", secondary_y=False)\n",
    "    graph.update_yaxes(side=\"left\", secondary_y=True)\n",
    "    graph.add_layout_image(\n",
    "    dict(\n",
    "        source=\"https://www.centreau.ulaval.ca/fileadmin/Documents/Image_de_marque/102378_MODIF_LOGO-CENTREAU_noir.jpg\",\n",
    "        xref=\"paper\", yref=\"paper\",\n",
    "        x=1, y=1.00,\n",
    "        sizex=0.25, sizey=0.25,\n",
    "        xanchor=\"right\", yanchor=\"bottom\"\n",
    "        )\n",
    "    )\n",
    "    graph.show()\n",
    "    return graph\n",
    "\n",
    "def get_site_name(odm_data, site_id):\n",
    "    sites = odm_data.site\n",
    "    site_rows = sites.loc[sites[\"siteID\"].str.lower() == str(site_id).lower()]\n",
    "    if len(site_rows) > 1:\n",
    "        return \"\"\n",
    "    first_row =  site_rows.iloc[0]\n",
    "    return first_row.loc[\"name\"]\n",
    "\n",
    "region=\"Capitale-Nationale\"\n",
    "sites = [\"QC_1.0\", \"QC_2.0\"]\n",
    "max_norm = 0.2\n",
    "qc_graph = create_graph(qc_lab_data, region, sites, max_norm)"
   ]
  },
  {
   "cell_type": "code",
   "execution_count": null,
   "metadata": {},
   "outputs": [],
   "source": []
  },
  {
   "cell_type": "code",
   "execution_count": null,
   "metadata": {},
   "outputs": [],
   "source": []
  },
  {
   "cell_type": "code",
   "execution_count": null,
   "metadata": {},
   "outputs": [],
   "source": []
  },
  {
   "cell_type": "code",
   "execution_count": null,
   "metadata": {},
   "outputs": [],
   "source": []
  },
  {
   "cell_type": "code",
   "execution_count": 24,
   "metadata": {},
   "outputs": [
    {
     "name": "stderr",
     "output_type": "stream",
     "text": [
      "UsageError: Line magic function `%%timeit` not found.\n"
     ]
    }
   ],
   "source": [
    "path_to_parser_help = \"../Data/Lab/McGill/Final/\"\n",
    "lab_data = \"/Users/jeandavidt/Desktop/latest-data/CentrEau-COVID_Resultats_Montreal_final.xlsx\"\n",
    "static_data = path_to_parser_help + \"mcgill_static.xlsx\"\n",
    "mapping = path_to_parser_help + \"mcgill_map.csv\"\n",
    "sheet_name = \"Mtl Data Daily Samples (Poly)\"\n",
    "lab_id = \"frigon_lab\"\n",
    "start_date = None\n",
    "end_date = None\n",
    "poly_lab_data = load_from_mcgill(lab_data, static_data, mapping, sheet_name, lab_id, start_date=start_date, end_date=end_date)"
   ]
  },
  {
   "cell_type": "code",
   "execution_count": 22,
   "metadata": {},
   "outputs": [
    {
     "name": "stderr",
     "output_type": "stream",
     "text": [
      "/usr/local/Caskroom/miniconda/base/envs/covid/lib/python3.9/site-packages/openpyxl/worksheet/_reader.py:312: UserWarning:\n",
      "\n",
      "Data Validation extension is not supported and will be removed\n",
      "\n"
     ]
    }
   ],
   "source": [
    "path_to_parser_help = \"../Data/Lab/McGill/Final/\"\n",
    "lab_data = \"/Users/jeandavidt/Desktop/latest-data/CentrEau-COVID_Resultats_Montreal_final.xlsx\"\n",
    "static_data = path_to_parser_help + \"mcgill_static.xlsx\"\n",
    "mapping = path_to_parser_help + \"mcgill_map.csv\"\n",
    "sheet_name = \"Mtl Data Daily Samples (McGill)\"\n",
    "lab_id = \"frigon_lab\"\n",
    "start_date = None\n",
    "end_date = None\n",
    "mcgill_lab_data = load_from_mcgill(lab_data, static_data, mapping, sheet_name, lab_id, start_date=start_date, end_date=end_date)"
   ]
  },
  {
   "cell_type": "code",
   "execution_count": 48,
   "metadata": {},
   "outputs": [
    {
     "name": "stdout",
     "output_type": "stream",
     "text": [
      "no sars measurements found for site mtl_01\n",
      "mtl_01\n",
      "no sars measurements found for site mtl_05\n",
      "mtl_05\n",
      "no sars measurements found for site mtl_16\n",
      "mtl_16\n",
      "no sars measurements found for site mtl_12\n",
      "mtl_12\n"
     ]
    },
    {
     "data": {
      "application/vnd.plotly.v1+json": {
       "config": {
        "plotlyServerURL": "https://plot.ly"
       },
       "data": [
        {
         "marker": {
          "opacity": 0.3
         },
         "name": "Nouveaux cas<br>journaliers",
         "type": "bar",
         "x": [
          "2021-01-01T00:00:00",
          "2021-01-02T00:00:00",
          "2021-01-03T00:00:00",
          "2021-01-04T00:00:00",
          "2021-01-05T00:00:00",
          "2021-01-06T00:00:00",
          "2021-01-07T00:00:00",
          "2021-01-08T00:00:00",
          "2021-01-09T00:00:00",
          "2021-01-10T00:00:00",
          "2021-01-11T00:00:00",
          "2021-01-12T00:00:00",
          "2021-01-13T00:00:00",
          "2021-01-14T00:00:00",
          "2021-01-15T00:00:00",
          "2021-01-16T00:00:00",
          "2021-01-17T00:00:00",
          "2021-01-18T00:00:00",
          "2021-01-19T00:00:00",
          "2021-01-20T00:00:00",
          "2021-01-21T00:00:00",
          "2021-01-22T00:00:00",
          "2021-01-23T00:00:00",
          "2021-01-24T00:00:00",
          "2021-01-25T00:00:00",
          "2021-01-26T00:00:00",
          "2021-01-27T00:00:00",
          "2021-01-28T00:00:00",
          "2021-01-29T00:00:00",
          "2021-01-30T00:00:00",
          "2021-01-31T00:00:00",
          "2021-02-01T00:00:00",
          "2021-02-02T00:00:00",
          "2021-02-03T00:00:00",
          "2021-02-04T00:00:00",
          "2021-02-05T00:00:00",
          "2021-02-06T00:00:00",
          "2021-02-07T00:00:00",
          "2021-02-08T00:00:00",
          "2021-02-09T00:00:00",
          "2021-02-10T00:00:00",
          "2021-02-11T00:00:00",
          "2021-02-12T00:00:00",
          "2021-02-13T00:00:00",
          "2021-02-14T00:00:00",
          "2021-02-15T00:00:00",
          "2021-02-16T00:00:00",
          "2021-02-17T00:00:00",
          "2021-02-18T00:00:00",
          "2021-02-19T00:00:00",
          "2021-02-20T00:00:00",
          "2021-02-21T00:00:00",
          "2021-02-22T00:00:00",
          "2021-02-23T00:00:00",
          "2021-02-24T00:00:00",
          "2021-02-25T00:00:00",
          "2021-02-26T00:00:00",
          "2021-02-27T00:00:00",
          "2021-02-28T00:00:00",
          "2021-03-01T00:00:00",
          "2021-03-02T00:00:00",
          "2021-03-03T00:00:00",
          "2021-03-04T00:00:00",
          "2021-03-05T00:00:00",
          "2021-03-06T00:00:00",
          "2021-03-07T00:00:00",
          "2021-03-08T00:00:00",
          "2021-03-09T00:00:00",
          "2021-03-10T00:00:00",
          "2021-03-11T00:00:00",
          "2021-03-12T00:00:00",
          "2021-03-13T00:00:00",
          "2021-03-14T00:00:00",
          "2021-03-15T00:00:00",
          "2021-03-16T00:00:00",
          "2021-03-17T00:00:00",
          "2021-03-18T00:00:00",
          "2021-03-19T00:00:00",
          "2021-03-20T00:00:00",
          "2021-03-21T00:00:00",
          "2021-03-22T00:00:00",
          "2021-03-23T00:00:00",
          "2021-03-24T00:00:00",
          "2021-03-25T00:00:00",
          "2021-03-26T00:00:00",
          "2021-03-27T00:00:00",
          "2021-03-28T00:00:00",
          "2021-03-29T00:00:00",
          "2021-03-30T00:00:00",
          "2021-03-31T00:00:00",
          "2021-04-01T00:00:00",
          "2021-04-02T00:00:00",
          "2021-04-03T00:00:00",
          "2021-04-04T00:00:00",
          "2021-04-05T00:00:00",
          "2021-04-06T00:00:00",
          "2021-04-07T00:00:00"
         ],
         "xaxis": "x",
         "y": [
          748,
          1231,
          927,
          793,
          771,
          821,
          1094,
          1280,
          1049,
          824,
          779,
          564,
          865,
          732,
          816,
          714,
          885,
          584,
          470,
          638,
          673,
          765,
          614,
          565,
          430,
          506,
          594,
          455,
          577,
          498,
          555,
          390,
          470,
          560,
          487,
          525,
          550,
          514,
          410,
          335,
          451,
          552,
          477,
          484,
          342,
          353,
          317,
          414,
          331,
          377,
          396,
          391,
          406,
          258,
          419,
          410,
          390,
          398,
          324,
          249,
          260,
          390,
          305,
          372,
          282,
          398,
          269,
          260,
          393,
          316,
          366,
          391,
          279,
          0,
          516,
          341,
          313,
          355,
          320,
          266,
          309,
          230,
          341,
          368,
          357,
          357,
          306,
          133,
          305,
          348,
          393,
          388,
          361,
          302,
          348,
          300,
          299
         ],
         "yaxis": "y"
        }
       ],
       "layout": {
        "images": [
         {
          "sizex": 0.25,
          "sizey": 0.25,
          "source": "https://www.centreau.ulaval.ca/fileadmin/Documents/Image_de_marque/102378_MODIF_LOGO-CENTREAU_noir.jpg",
          "x": 1,
          "xanchor": "right",
          "xref": "paper",
          "y": 1,
          "yanchor": "bottom",
          "yref": "paper"
         }
        ],
        "legend": {
         "orientation": "h",
         "x": 0,
         "xanchor": "left",
         "y": 1.1,
         "yanchor": "top"
        },
        "plot_bgcolor": "white",
        "template": {
         "data": {
          "bar": [
           {
            "error_x": {
             "color": "#2a3f5f"
            },
            "error_y": {
             "color": "#2a3f5f"
            },
            "marker": {
             "line": {
              "color": "#E5ECF6",
              "width": 0.5
             }
            },
            "type": "bar"
           }
          ],
          "barpolar": [
           {
            "marker": {
             "line": {
              "color": "#E5ECF6",
              "width": 0.5
             }
            },
            "type": "barpolar"
           }
          ],
          "carpet": [
           {
            "aaxis": {
             "endlinecolor": "#2a3f5f",
             "gridcolor": "white",
             "linecolor": "white",
             "minorgridcolor": "white",
             "startlinecolor": "#2a3f5f"
            },
            "baxis": {
             "endlinecolor": "#2a3f5f",
             "gridcolor": "white",
             "linecolor": "white",
             "minorgridcolor": "white",
             "startlinecolor": "#2a3f5f"
            },
            "type": "carpet"
           }
          ],
          "choropleth": [
           {
            "colorbar": {
             "outlinewidth": 0,
             "ticks": ""
            },
            "type": "choropleth"
           }
          ],
          "contour": [
           {
            "colorbar": {
             "outlinewidth": 0,
             "ticks": ""
            },
            "colorscale": [
             [
              0,
              "#0d0887"
             ],
             [
              0.1111111111111111,
              "#46039f"
             ],
             [
              0.2222222222222222,
              "#7201a8"
             ],
             [
              0.3333333333333333,
              "#9c179e"
             ],
             [
              0.4444444444444444,
              "#bd3786"
             ],
             [
              0.5555555555555556,
              "#d8576b"
             ],
             [
              0.6666666666666666,
              "#ed7953"
             ],
             [
              0.7777777777777778,
              "#fb9f3a"
             ],
             [
              0.8888888888888888,
              "#fdca26"
             ],
             [
              1,
              "#f0f921"
             ]
            ],
            "type": "contour"
           }
          ],
          "contourcarpet": [
           {
            "colorbar": {
             "outlinewidth": 0,
             "ticks": ""
            },
            "type": "contourcarpet"
           }
          ],
          "heatmap": [
           {
            "colorbar": {
             "outlinewidth": 0,
             "ticks": ""
            },
            "colorscale": [
             [
              0,
              "#0d0887"
             ],
             [
              0.1111111111111111,
              "#46039f"
             ],
             [
              0.2222222222222222,
              "#7201a8"
             ],
             [
              0.3333333333333333,
              "#9c179e"
             ],
             [
              0.4444444444444444,
              "#bd3786"
             ],
             [
              0.5555555555555556,
              "#d8576b"
             ],
             [
              0.6666666666666666,
              "#ed7953"
             ],
             [
              0.7777777777777778,
              "#fb9f3a"
             ],
             [
              0.8888888888888888,
              "#fdca26"
             ],
             [
              1,
              "#f0f921"
             ]
            ],
            "type": "heatmap"
           }
          ],
          "heatmapgl": [
           {
            "colorbar": {
             "outlinewidth": 0,
             "ticks": ""
            },
            "colorscale": [
             [
              0,
              "#0d0887"
             ],
             [
              0.1111111111111111,
              "#46039f"
             ],
             [
              0.2222222222222222,
              "#7201a8"
             ],
             [
              0.3333333333333333,
              "#9c179e"
             ],
             [
              0.4444444444444444,
              "#bd3786"
             ],
             [
              0.5555555555555556,
              "#d8576b"
             ],
             [
              0.6666666666666666,
              "#ed7953"
             ],
             [
              0.7777777777777778,
              "#fb9f3a"
             ],
             [
              0.8888888888888888,
              "#fdca26"
             ],
             [
              1,
              "#f0f921"
             ]
            ],
            "type": "heatmapgl"
           }
          ],
          "histogram": [
           {
            "marker": {
             "colorbar": {
              "outlinewidth": 0,
              "ticks": ""
             }
            },
            "type": "histogram"
           }
          ],
          "histogram2d": [
           {
            "colorbar": {
             "outlinewidth": 0,
             "ticks": ""
            },
            "colorscale": [
             [
              0,
              "#0d0887"
             ],
             [
              0.1111111111111111,
              "#46039f"
             ],
             [
              0.2222222222222222,
              "#7201a8"
             ],
             [
              0.3333333333333333,
              "#9c179e"
             ],
             [
              0.4444444444444444,
              "#bd3786"
             ],
             [
              0.5555555555555556,
              "#d8576b"
             ],
             [
              0.6666666666666666,
              "#ed7953"
             ],
             [
              0.7777777777777778,
              "#fb9f3a"
             ],
             [
              0.8888888888888888,
              "#fdca26"
             ],
             [
              1,
              "#f0f921"
             ]
            ],
            "type": "histogram2d"
           }
          ],
          "histogram2dcontour": [
           {
            "colorbar": {
             "outlinewidth": 0,
             "ticks": ""
            },
            "colorscale": [
             [
              0,
              "#0d0887"
             ],
             [
              0.1111111111111111,
              "#46039f"
             ],
             [
              0.2222222222222222,
              "#7201a8"
             ],
             [
              0.3333333333333333,
              "#9c179e"
             ],
             [
              0.4444444444444444,
              "#bd3786"
             ],
             [
              0.5555555555555556,
              "#d8576b"
             ],
             [
              0.6666666666666666,
              "#ed7953"
             ],
             [
              0.7777777777777778,
              "#fb9f3a"
             ],
             [
              0.8888888888888888,
              "#fdca26"
             ],
             [
              1,
              "#f0f921"
             ]
            ],
            "type": "histogram2dcontour"
           }
          ],
          "mesh3d": [
           {
            "colorbar": {
             "outlinewidth": 0,
             "ticks": ""
            },
            "type": "mesh3d"
           }
          ],
          "parcoords": [
           {
            "line": {
             "colorbar": {
              "outlinewidth": 0,
              "ticks": ""
             }
            },
            "type": "parcoords"
           }
          ],
          "pie": [
           {
            "automargin": true,
            "type": "pie"
           }
          ],
          "scatter": [
           {
            "marker": {
             "colorbar": {
              "outlinewidth": 0,
              "ticks": ""
             }
            },
            "type": "scatter"
           }
          ],
          "scatter3d": [
           {
            "line": {
             "colorbar": {
              "outlinewidth": 0,
              "ticks": ""
             }
            },
            "marker": {
             "colorbar": {
              "outlinewidth": 0,
              "ticks": ""
             }
            },
            "type": "scatter3d"
           }
          ],
          "scattercarpet": [
           {
            "marker": {
             "colorbar": {
              "outlinewidth": 0,
              "ticks": ""
             }
            },
            "type": "scattercarpet"
           }
          ],
          "scattergeo": [
           {
            "marker": {
             "colorbar": {
              "outlinewidth": 0,
              "ticks": ""
             }
            },
            "type": "scattergeo"
           }
          ],
          "scattergl": [
           {
            "marker": {
             "colorbar": {
              "outlinewidth": 0,
              "ticks": ""
             }
            },
            "type": "scattergl"
           }
          ],
          "scattermapbox": [
           {
            "marker": {
             "colorbar": {
              "outlinewidth": 0,
              "ticks": ""
             }
            },
            "type": "scattermapbox"
           }
          ],
          "scatterpolar": [
           {
            "marker": {
             "colorbar": {
              "outlinewidth": 0,
              "ticks": ""
             }
            },
            "type": "scatterpolar"
           }
          ],
          "scatterpolargl": [
           {
            "marker": {
             "colorbar": {
              "outlinewidth": 0,
              "ticks": ""
             }
            },
            "type": "scatterpolargl"
           }
          ],
          "scatterternary": [
           {
            "marker": {
             "colorbar": {
              "outlinewidth": 0,
              "ticks": ""
             }
            },
            "type": "scatterternary"
           }
          ],
          "surface": [
           {
            "colorbar": {
             "outlinewidth": 0,
             "ticks": ""
            },
            "colorscale": [
             [
              0,
              "#0d0887"
             ],
             [
              0.1111111111111111,
              "#46039f"
             ],
             [
              0.2222222222222222,
              "#7201a8"
             ],
             [
              0.3333333333333333,
              "#9c179e"
             ],
             [
              0.4444444444444444,
              "#bd3786"
             ],
             [
              0.5555555555555556,
              "#d8576b"
             ],
             [
              0.6666666666666666,
              "#ed7953"
             ],
             [
              0.7777777777777778,
              "#fb9f3a"
             ],
             [
              0.8888888888888888,
              "#fdca26"
             ],
             [
              1,
              "#f0f921"
             ]
            ],
            "type": "surface"
           }
          ],
          "table": [
           {
            "cells": {
             "fill": {
              "color": "#EBF0F8"
             },
             "line": {
              "color": "white"
             }
            },
            "header": {
             "fill": {
              "color": "#C8D4E3"
             },
             "line": {
              "color": "white"
             }
            },
            "type": "table"
           }
          ]
         },
         "layout": {
          "annotationdefaults": {
           "arrowcolor": "#2a3f5f",
           "arrowhead": 0,
           "arrowwidth": 1
          },
          "autotypenumbers": "strict",
          "coloraxis": {
           "colorbar": {
            "outlinewidth": 0,
            "ticks": ""
           }
          },
          "colorscale": {
           "diverging": [
            [
             0,
             "#8e0152"
            ],
            [
             0.1,
             "#c51b7d"
            ],
            [
             0.2,
             "#de77ae"
            ],
            [
             0.3,
             "#f1b6da"
            ],
            [
             0.4,
             "#fde0ef"
            ],
            [
             0.5,
             "#f7f7f7"
            ],
            [
             0.6,
             "#e6f5d0"
            ],
            [
             0.7,
             "#b8e186"
            ],
            [
             0.8,
             "#7fbc41"
            ],
            [
             0.9,
             "#4d9221"
            ],
            [
             1,
             "#276419"
            ]
           ],
           "sequential": [
            [
             0,
             "#0d0887"
            ],
            [
             0.1111111111111111,
             "#46039f"
            ],
            [
             0.2222222222222222,
             "#7201a8"
            ],
            [
             0.3333333333333333,
             "#9c179e"
            ],
            [
             0.4444444444444444,
             "#bd3786"
            ],
            [
             0.5555555555555556,
             "#d8576b"
            ],
            [
             0.6666666666666666,
             "#ed7953"
            ],
            [
             0.7777777777777778,
             "#fb9f3a"
            ],
            [
             0.8888888888888888,
             "#fdca26"
            ],
            [
             1,
             "#f0f921"
            ]
           ],
           "sequentialminus": [
            [
             0,
             "#0d0887"
            ],
            [
             0.1111111111111111,
             "#46039f"
            ],
            [
             0.2222222222222222,
             "#7201a8"
            ],
            [
             0.3333333333333333,
             "#9c179e"
            ],
            [
             0.4444444444444444,
             "#bd3786"
            ],
            [
             0.5555555555555556,
             "#d8576b"
            ],
            [
             0.6666666666666666,
             "#ed7953"
            ],
            [
             0.7777777777777778,
             "#fb9f3a"
            ],
            [
             0.8888888888888888,
             "#fdca26"
            ],
            [
             1,
             "#f0f921"
            ]
           ]
          },
          "colorway": [
           "#636efa",
           "#EF553B",
           "#00cc96",
           "#ab63fa",
           "#FFA15A",
           "#19d3f3",
           "#FF6692",
           "#B6E880",
           "#FF97FF",
           "#FECB52"
          ],
          "font": {
           "color": "#2a3f5f"
          },
          "geo": {
           "bgcolor": "white",
           "lakecolor": "white",
           "landcolor": "#E5ECF6",
           "showlakes": true,
           "showland": true,
           "subunitcolor": "white"
          },
          "hoverlabel": {
           "align": "left"
          },
          "hovermode": "closest",
          "mapbox": {
           "style": "light"
          },
          "paper_bgcolor": "white",
          "plot_bgcolor": "#E5ECF6",
          "polar": {
           "angularaxis": {
            "gridcolor": "white",
            "linecolor": "white",
            "ticks": ""
           },
           "bgcolor": "#E5ECF6",
           "radialaxis": {
            "gridcolor": "white",
            "linecolor": "white",
            "ticks": ""
           }
          },
          "scene": {
           "xaxis": {
            "backgroundcolor": "#E5ECF6",
            "gridcolor": "white",
            "gridwidth": 2,
            "linecolor": "white",
            "showbackground": true,
            "ticks": "",
            "zerolinecolor": "white"
           },
           "yaxis": {
            "backgroundcolor": "#E5ECF6",
            "gridcolor": "white",
            "gridwidth": 2,
            "linecolor": "white",
            "showbackground": true,
            "ticks": "",
            "zerolinecolor": "white"
           },
           "zaxis": {
            "backgroundcolor": "#E5ECF6",
            "gridcolor": "white",
            "gridwidth": 2,
            "linecolor": "white",
            "showbackground": true,
            "ticks": "",
            "zerolinecolor": "white"
           }
          },
          "shapedefaults": {
           "line": {
            "color": "#2a3f5f"
           }
          },
          "ternary": {
           "aaxis": {
            "gridcolor": "white",
            "linecolor": "white",
            "ticks": ""
           },
           "baxis": {
            "gridcolor": "white",
            "linecolor": "white",
            "ticks": ""
           },
           "bgcolor": "#E5ECF6",
           "caxis": {
            "gridcolor": "white",
            "linecolor": "white",
            "ticks": ""
           }
          },
          "title": {
           "x": 0.05
          },
          "xaxis": {
           "automargin": true,
           "gridcolor": "white",
           "linecolor": "white",
           "ticks": "",
           "title": {
            "standoff": 15
           },
           "zerolinecolor": "white",
           "zerolinewidth": 2
          },
          "yaxis": {
           "automargin": true,
           "gridcolor": "white",
           "linecolor": "white",
           "ticks": "",
           "title": {
            "standoff": 15
           },
           "zerolinecolor": "white",
           "zerolinewidth": 2
          }
         }
        },
        "title": {
         "text": "Surveillance SRAS-CoV-2 via les eaux usées<br>Montréal"
        },
        "xaxis": {
         "anchor": "y",
         "domain": [
          0,
          0.94
         ],
         "dtick": 604800000,
         "gridcolor": "rgba(100,100,100,0.10)",
         "tick0": "2020-12-27",
         "tickangle": 30,
         "tickformat": "%d-%m-%Y",
         "ticks": "outside",
         "title": {
          "text": "Date"
         }
        },
        "yaxis": {
         "anchor": "x",
         "domain": [
          0,
          1
         ],
         "gridcolor": "rgba(0,0,0,0)",
         "side": "right",
         "title": {
          "text": "Nouveaux cas"
         }
        },
        "yaxis2": {
         "anchor": "x",
         "overlaying": "y",
         "range": [
          0,
          1
         ],
         "side": "left",
         "title": {
          "text": "SARS-CoV-2 / PMMoV"
         }
        }
       }
      }
     },
     "metadata": {},
     "output_type": "display_data"
    }
   ],
   "source": [
    "region=\"Montréal\"\n",
    "sites = [\"mtl_01\", \"mtl_05\", \"mtl_16\", \"mtl_12\"]\n",
    "max_norm = 1\n",
    "graph = create_graph(existing_odm, region, sites, max_norm)\n",
    "\n",
    "images_folder = \"/Users/jeandavidt/Downloads/plotly_images/\"\n",
    "graph.write_image(images_folder+\"mtl_April1.png\", width=1000, scale=3)\n",
    "graph.write_image(images_folder+\"mtl_April1.svg\", width=1000)"
   ]
  },
  {
   "cell_type": "code",
   "execution_count": null,
   "metadata": {},
   "outputs": [],
   "source": []
  }
 ],
 "metadata": {
  "kernelspec": {
   "display_name": "Python 3.9.2 64-bit ('covid': conda)",
   "name": "python392jvsc74a57bd0fff2645691be52a4acf54b6569930c06fb1b99dce13069d7478dfbb615d05851"
  },
  "language_info": {
   "name": "python",
   "version": ""
  },
  "orig_nbformat": 2
 },
 "nbformat": 4,
 "nbformat_minor": 2
}