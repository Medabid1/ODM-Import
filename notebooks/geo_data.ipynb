{
 "cells": [
  {
   "cell_type": "code",
   "execution_count": 1,
   "metadata": {},
   "outputs": [],
   "source": [
    "import os\n",
    "os.chdir(\"../\")\n",
    "\n",
    "from wbe_odm import odm\n",
    "from wbe_odm.odm_mappers import excel_template_mapper\n",
    "\n",
    "import pandas as pd\n",
    "import plotly.express as px\n",
    "import json"
   ]
  },
  {
   "cell_type": "code",
   "execution_count": 2,
   "metadata": {},
   "outputs": [],
   "source": [
    "data_path = \"/Users/jeandavidt/Downloads/Ville de Quebec - All data - v1.1.xlsx\"\n",
    "mapper = excel_template_mapper.ExcelTemplateMapper()\n",
    "mapper.read(data_path, sheet_names=None)\n",
    "odm_data = odm.Odm()\n",
    "odm_data.load_from(mapper)"
   ]
  },
  {
   "cell_type": "code",
   "execution_count": 3,
   "metadata": {},
   "outputs": [],
   "source": [
    "polygons = odm_data.polygon\n",
    "polygons['color'] = \"grey\"\n",
    "colors = px.colors.qualitative.Plotly\n",
    "for i in range(len(polygons)):\n",
    "    polygons.loc[i,\"color\"] = colors[i%len(colors)]\n",
    "for col in [\"pop\", \"link\"]:\n",
    "    if col in polygons.columns:\n",
    "        polygons.drop(columns=[col], inplace=True)\n",
    "polys = odm_data.get_geoJSON()\n",
    "with open(\"polygons.geojson\", \"w\") as f:\n",
    "    f.write(json.dumps(polys))"
   ]
  },
  {
   "cell_type": "code",
   "execution_count": 6,
   "metadata": {},
   "outputs": [],
   "source": [
    "def get_site_geoJSON(odm_data):\n",
    "    def make_point_feature(row):\n",
    "        props_to_add = [\"siteID\", \"name\", \"description\", \"clean_type\", \"polygonID\"]\n",
    "        return {\n",
    "            \"type\": \"Feature\",\n",
    "            \"geometry\": {\n",
    "                \"type\": \"Point\",\n",
    "                \"coordinates\": [row[\"geoLong\"], row[\"geoLat\"]],\n",
    "                },\n",
    "            \"properties\": {\n",
    "                k: row[k] for k in props_to_add\n",
    "            }\n",
    "        }\n",
    "    sites = odm_data.site\n",
    "    site_types = {\n",
    "        \"wwtpmuc\": \"Station de traitement des eaux usées municipale pour égouts combinés\",\n",
    "        \"pstat\": \"Station de pompage\",\n",
    "        \"ltcf\": \"Établissement de soins de longue durée\",\n",
    "        \"airpln\":\"Avion\",\n",
    "        \"corFcil\": \"Prison\",\n",
    "        \"school\": \"École\",\n",
    "        \"hosptl\": \"Hôpital\",\n",
    "        \"shelter\": \"Refuge\",\n",
    "        \"swgTrck\": \"Camion de vidange\",\n",
    "        \"uCampus\": \"Campus universitaire\",\n",
    "        \"mSwrPpl\": \"Collecteur d'égouts\",\n",
    "        \"holdTnk\": \"Bassin de stockage\",\n",
    "        \"retPond\": \"Bassin de rétention\",\n",
    "        \"wwtpMuS\": \"Station de traitement des eaux usées municipales pour égouts sanitaires seulement\",\n",
    "        \"wwtpInd\": \"Station de traitement des eaux usées industrielle\",\n",
    "        \"lagoon\": \"Système de lagunage pour traitement des eaux usées\",\n",
    "        \"septTnk\": \"Fosse septique.\",\n",
    "        \"river\": \"Rivière\",\n",
    "        \"lake\": \"Lac\",\n",
    "        \"estuary\": \"Estuaire\",\n",
    "        \"sea\": \"Mer\",\n",
    "        \"ocean\": \"Océan\",\n",
    "    }\n",
    "    sites = odm_data.site\n",
    "    sites[\"clean_type\"] = sites[\"type\"].str.lower().map(site_types)\n",
    "    sites[\"clean_type\"]\n",
    "    sites[\"features\"] = sites.apply(lambda row: make_point_feature(row), axis=1)\n",
    "    point_list = list(sites[\"features\"])\n",
    "    js = {\n",
    "        \"type\": \"FeatureCollection\",\n",
    "        \"features\": point_list\n",
    "    }\n",
    "    return js\n",
    "\n",
    "dico_points = get_site_geoJSON(odm_data)\n",
    "with open(\"sites.geojson\", \"w\") as f:\n",
    "    f.write(json.dumps(dico_points))"
   ]
  },
  {
   "cell_type": "code",
   "execution_count": 34,
   "metadata": {},
   "outputs": [],
   "source": []
  }
 ],
 "metadata": {
  "kernelspec": {
   "display_name": "Python 3.9.2 64-bit ('covid': conda)",
   "name": "python392jvsc74a57bd0fff2645691be52a4acf54b6569930c06fb1b99dce13069d7478dfbb615d05851"
  },
  "language_info": {
   "codemirror_mode": {
    "name": "ipython",
    "version": 3
   },
   "file_extension": ".py",
   "mimetype": "text/x-python",
   "name": "python",
   "nbconvert_exporter": "python",
   "pygments_lexer": "ipython3",
   "version": "3.9.2"
  },
  "orig_nbformat": 2
 },
 "nbformat": 4,
 "nbformat_minor": 2
}