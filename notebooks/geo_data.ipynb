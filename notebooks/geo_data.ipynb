{
 "cells": [
  {
   "cell_type": "code",
   "execution_count": 1,
   "metadata": {},
   "outputs": [],
   "source": [
    "import os\n",
    "os.chdir(\"../\")\n",
    "\n",
    "from wbe_odm import odm\n",
    "from wbe_odm.odm_mappers import excel_template_mapper, mcgill_mapper, csv_mapper\n",
    "\n",
    "import pandas as pd\n",
    "import plotly.express as px\n",
    "import json"
   ]
  },
  {
   "cell_type": "code",
   "execution_count": 7,
   "metadata": {},
   "outputs": [],
   "source": [
    "PLOTLY_COLORS = px.colors.qualitative.Plotly\n",
    "\n",
    "COLORS = {\n",
    "    \"Very High\": \"#c13525\",\n",
    "    \"High\": \"#ff8652\",\n",
    "    \"Medium\": \"#ffbb43\",\n",
    "    \"Low\": \"#b6e9d1\",\n",
    "    \"Very Low\": \"#6da06f\",\n",
    "}\n",
    "\n",
    "DATA_FOLDER = \"/Users/jeandavidt/OneDrive - Université Laval/COVID/Latest Data\"\n",
    "CSV_FOLDER = \"/Users/jeandavidt/OneDrive - Université Laval/COVID/Latest Data/odm_csv\"\n",
    "QC_STATIC_DATA = os.path.join(DATA_FOLDER, \"Ville de Quebec - All data - v1.1.xlsx\")\n",
    "QC_LAB_DATA = os.path.join(DATA_FOLDER, \"CentrEau-COVID_Resultats_Quebec_final.xlsx\")\n",
    "QC_SHEET_NAME =  \"QC Data Daily Samples (McGill)\"\n",
    "\n",
    "MTL_STATIC_DATA = os.path.join(DATA_FOLDER, \"mcgill_static.xlsx\")\n",
    "MTL_LAB_DATA = os.path.join(DATA_FOLDER, \"CentrEau-COVID_Resultats_Montreal_final.xlsx\")\n",
    "MTL_POLY_SHEET_NAME = \"Mtl Data Daily Samples (Poly)\"\n",
    "MTL_MCGILL_SHEET_NAME = \"Mtl Data Daily Samples (McGill)\"\n"
   ]
  },
  {
   "cell_type": "code",
   "execution_count": 8,
   "metadata": {},
   "outputs": [
    {
     "ename": "FileNotFoundError",
     "evalue": "[Errno 2] No such file or directory: '/Users/jeandavidt/OneDrive - Université Laval /COVID/Latest Data/odm_csv'",
     "output_type": "error",
     "traceback": [
      "\u001b[0;31m---------------------------------------------------------------------------\u001b[0m",
      "\u001b[0;31mFileNotFoundError\u001b[0m                         Traceback (most recent call last)",
      "\u001b[0;32m<ipython-input-8-6f65f6bfe3cc>\u001b[0m in \u001b[0;36m<module>\u001b[0;34m\u001b[0m\n\u001b[1;32m     17\u001b[0m \u001b[0;32melse\u001b[0m\u001b[0;34m:\u001b[0m\u001b[0;34m\u001b[0m\u001b[0;34m\u001b[0m\u001b[0m\n\u001b[1;32m     18\u001b[0m     \u001b[0mfrom_csv\u001b[0m \u001b[0;34m=\u001b[0m \u001b[0mcsv_mapper\u001b[0m\u001b[0;34m.\u001b[0m\u001b[0mCsvMapper\u001b[0m\u001b[0;34m(\u001b[0m\u001b[0;34m)\u001b[0m\u001b[0;34m\u001b[0m\u001b[0;34m\u001b[0m\u001b[0m\n\u001b[0;32m---> 19\u001b[0;31m     \u001b[0mfrom_csv\u001b[0m\u001b[0;34m.\u001b[0m\u001b[0mread\u001b[0m\u001b[0;34m(\u001b[0m\u001b[0mCSV_FOLDER\u001b[0m\u001b[0;34m)\u001b[0m\u001b[0;34m\u001b[0m\u001b[0;34m\u001b[0m\u001b[0m\n\u001b[0m\u001b[1;32m     20\u001b[0m     \u001b[0mstore\u001b[0m\u001b[0;34m.\u001b[0m\u001b[0mappend_from\u001b[0m\u001b[0;34m(\u001b[0m\u001b[0mfrom_csv\u001b[0m\u001b[0;34m)\u001b[0m\u001b[0;34m\u001b[0m\u001b[0;34m\u001b[0m\u001b[0m\n",
      "\u001b[0;32m~/dev/jeandavidt/ODM Import/wbe_odm/odm_mappers/csv_mapper.py\u001b[0m in \u001b[0;36mread\u001b[0;34m(self, directory, table_names)\u001b[0m\n\u001b[1;32m     35\u001b[0m             \u001b[0mtable_names\u001b[0m \u001b[0;34m=\u001b[0m \u001b[0;34m[\u001b[0m\u001b[0mx\u001b[0m \u001b[0;32mfor\u001b[0m \u001b[0mx\u001b[0m \u001b[0;32min\u001b[0m \u001b[0mself\u001b[0m\u001b[0;34m.\u001b[0m\u001b[0mconversion_dict\u001b[0m\u001b[0;34m.\u001b[0m\u001b[0mkeys\u001b[0m\u001b[0;34m(\u001b[0m\u001b[0;34m)\u001b[0m\u001b[0;34m]\u001b[0m\u001b[0;34m\u001b[0m\u001b[0;34m\u001b[0m\u001b[0m\n\u001b[1;32m     36\u001b[0m \u001b[0;34m\u001b[0m\u001b[0m\n\u001b[0;32m---> 37\u001b[0;31m         \u001b[0mdir_files\u001b[0m \u001b[0;34m=\u001b[0m \u001b[0mos\u001b[0m\u001b[0;34m.\u001b[0m\u001b[0mlistdir\u001b[0m\u001b[0;34m(\u001b[0m\u001b[0mdirectory\u001b[0m\u001b[0;34m)\u001b[0m\u001b[0;34m\u001b[0m\u001b[0;34m\u001b[0m\u001b[0m\n\u001b[0m\u001b[1;32m     38\u001b[0m         csv_files = [\n\u001b[1;32m     39\u001b[0m             \u001b[0mfile\u001b[0m \u001b[0;32mfor\u001b[0m \u001b[0mfile\u001b[0m \u001b[0;32min\u001b[0m \u001b[0mdir_files\u001b[0m\u001b[0;34m\u001b[0m\u001b[0;34m\u001b[0m\u001b[0m\n",
      "\u001b[0;31mFileNotFoundError\u001b[0m: [Errno 2] No such file or directory: '/Users/jeandavidt/OneDrive - Université Laval /COVID/Latest Data/odm_csv'"
     ]
    }
   ],
   "source": [
    "RELOAD = False\n",
    "store = odm.Odm()\n",
    "if RELOAD:\n",
    "    qc_lab = mcgill_mapper.McGillMapper()\n",
    "    mcgill_lab = mcgill_mapper.McGillMapper()\n",
    "    poly_lab = mcgill_mapper.McGillMapper()\n",
    "\n",
    "    qc_lab.read(QC_LAB_DATA, QC_STATIC_DATA, QC_SHEET_NAME, \"frigon_lab\")\n",
    "\n",
    "    mcgill_lab.read(MTL_LAB_DATA, MTL_STATIC_DATA, MTL_MCGILL_SHEET_NAME, \"frigon_lab\")\n",
    "\n",
    "    poly_lab.read(MTL_LAB_DATA, MTL_STATIC_DATA, MTL_POLY_SHEET_NAME, \"dorner_lab\")\n",
    "\n",
    "    store.append_from(qc_lab)\n",
    "    store.append_from(mcgill_lab)\n",
    "    store.append_from(poly_lab)\n",
    "else:\n",
    "    from_csv = csv_mapper.CsvMapper()\n",
    "    from_csv.read(CSV_FOLDER)\n",
    "    store.append_from(from_csv)"
   ]
  },
  {
   "cell_type": "code",
   "execution_count": 4,
   "metadata": {},
   "outputs": [],
   "source": [
    "store.to_csv(DATA_FOLDER, \"test\")"
   ]
  },
  {
   "cell_type": "code",
   "execution_count": null,
   "metadata": {},
   "outputs": [
    {
     "ename": "ValueError",
     "evalue": "The truth value of a DataFrame is ambiguous. Use a.empty, a.bool(), a.item(), a.any() or a.all().",
     "output_type": "error",
     "traceback": [
      "\u001b[0;31m---------------------------------------------------------------------------\u001b[0m",
      "\u001b[0;31mValueError\u001b[0m                                Traceback (most recent call last)",
      "\u001b[0;32m<ipython-input-4-6a1d63476b62>\u001b[0m in \u001b[0;36m<module>\u001b[0;34m\u001b[0m\n\u001b[0;32m----> 1\u001b[0;31m \u001b[0mone_table\u001b[0m \u001b[0;34m=\u001b[0m \u001b[0mstore\u001b[0m\u001b[0;34m.\u001b[0m\u001b[0mcombine_per_sample\u001b[0m\u001b[0;34m(\u001b[0m\u001b[0;34m)\u001b[0m\u001b[0;34m\u001b[0m\u001b[0;34m\u001b[0m\u001b[0m\n\u001b[0m",
      "\u001b[0;32m~/dev/jeandavidt/ODM Import/wbe_odm/odm.py\u001b[0m in \u001b[0;36mcombine_per_sample\u001b[0;34m(self)\u001b[0m\n\u001b[1;32m    566\u001b[0m \u001b[0;34m\u001b[0m\u001b[0m\n\u001b[1;32m    567\u001b[0m         \u001b[0msample\u001b[0m \u001b[0;34m=\u001b[0m \u001b[0mself\u001b[0m\u001b[0;34m.\u001b[0m\u001b[0m__parse_sample\u001b[0m\u001b[0;34m(\u001b[0m\u001b[0;34m)\u001b[0m\u001b[0;34m\u001b[0m\u001b[0;34m\u001b[0m\u001b[0m\n\u001b[0;32m--> 568\u001b[0;31m         \u001b[0mmerged\u001b[0m \u001b[0;34m=\u001b[0m \u001b[0mcombine_ww_measure_and_sample\u001b[0m\u001b[0;34m(\u001b[0m\u001b[0mww_measure\u001b[0m\u001b[0;34m,\u001b[0m \u001b[0msample\u001b[0m\u001b[0;34m)\u001b[0m\u001b[0;34m\u001b[0m\u001b[0;34m\u001b[0m\u001b[0m\n\u001b[0m\u001b[1;32m    569\u001b[0m \u001b[0;34m\u001b[0m\u001b[0m\n\u001b[1;32m    570\u001b[0m         \u001b[0msite_measure\u001b[0m \u001b[0;34m=\u001b[0m \u001b[0mself\u001b[0m\u001b[0;34m.\u001b[0m\u001b[0m__parse_site_measure\u001b[0m\u001b[0;34m(\u001b[0m\u001b[0;34m)\u001b[0m\u001b[0;34m\u001b[0m\u001b[0;34m\u001b[0m\u001b[0m\n",
      "\u001b[0;32m~/dev/jeandavidt/ODM Import/wbe_odm/odm.py\u001b[0m in \u001b[0;36mcombine_ww_measure_and_sample\u001b[0;34m(ww, sample)\u001b[0m\n\u001b[1;32m    448\u001b[0m                 \u001b[0mA\u001b[0m \u001b[0mcombined\u001b[0m \u001b[0mtable\u001b[0m \u001b[0mcontaining\u001b[0m \u001b[0mthe\u001b[0m \u001b[0mdata\u001b[0m \u001b[0;32mfrom\u001b[0m \u001b[0mboth\u001b[0m \u001b[0mDataFrames\u001b[0m\u001b[0;34m\u001b[0m\u001b[0;34m\u001b[0m\u001b[0m\n\u001b[1;32m    449\u001b[0m             \"\"\"\n\u001b[0;32m--> 450\u001b[0;31m             \u001b[0;32mif\u001b[0m \u001b[0;32mnot\u001b[0m \u001b[0mww\u001b[0m \u001b[0;32mand\u001b[0m \u001b[0;32mnot\u001b[0m \u001b[0msample\u001b[0m\u001b[0;34m:\u001b[0m\u001b[0;34m\u001b[0m\u001b[0;34m\u001b[0m\u001b[0m\n\u001b[0m\u001b[1;32m    451\u001b[0m                 \u001b[0;32mreturn\u001b[0m \u001b[0mpd\u001b[0m\u001b[0;34m.\u001b[0m\u001b[0mDataFrame\u001b[0m\u001b[0;34m(\u001b[0m\u001b[0;34m)\u001b[0m\u001b[0;34m\u001b[0m\u001b[0;34m\u001b[0m\u001b[0m\n\u001b[1;32m    452\u001b[0m             \u001b[0;32melif\u001b[0m \u001b[0;32mnot\u001b[0m \u001b[0msample\u001b[0m\u001b[0;34m:\u001b[0m\u001b[0;34m\u001b[0m\u001b[0;34m\u001b[0m\u001b[0m\n",
      "\u001b[0;32m/usr/local/Caskroom/miniconda/base/envs/covid/lib/python3.9/site-packages/pandas/core/generic.py\u001b[0m in \u001b[0;36m__nonzero__\u001b[0;34m(self)\u001b[0m\n\u001b[1;32m   1440\u001b[0m     \u001b[0;34m@\u001b[0m\u001b[0mfinal\u001b[0m\u001b[0;34m\u001b[0m\u001b[0;34m\u001b[0m\u001b[0m\n\u001b[1;32m   1441\u001b[0m     \u001b[0;32mdef\u001b[0m \u001b[0m__nonzero__\u001b[0m\u001b[0;34m(\u001b[0m\u001b[0mself\u001b[0m\u001b[0;34m)\u001b[0m\u001b[0;34m:\u001b[0m\u001b[0;34m\u001b[0m\u001b[0;34m\u001b[0m\u001b[0m\n\u001b[0;32m-> 1442\u001b[0;31m         raise ValueError(\n\u001b[0m\u001b[1;32m   1443\u001b[0m             \u001b[0;34mf\"The truth value of a {type(self).__name__} is ambiguous. \"\u001b[0m\u001b[0;34m\u001b[0m\u001b[0;34m\u001b[0m\u001b[0m\n\u001b[1;32m   1444\u001b[0m             \u001b[0;34m\"Use a.empty, a.bool(), a.item(), a.any() or a.all().\"\u001b[0m\u001b[0;34m\u001b[0m\u001b[0;34m\u001b[0m\u001b[0m\n",
      "\u001b[0;31mValueError\u001b[0m: The truth value of a DataFrame is ambiguous. Use a.empty, a.bool(), a.item(), a.any() or a.all()."
     ]
    }
   ],
   "source": [
    "one_table = store.combine_per_sample()"
   ]
  },
  {
   "cell_type": "code",
   "execution_count": null,
   "metadata": {},
   "outputs": [],
   "source": []
  },
  {
   "cell_type": "code",
   "execution_count": 3,
   "metadata": {},
   "outputs": [],
   "source": [
    "polygons = store.polygon\n",
    "polygons['color'] = \"grey\"\n",
    "for i in range(len(polygons)):\n",
    "    polygons.loc[i,\"color\"] = COLORS[i%len(COLORS)]\n",
    "for col in [\"pop\", \"link\"]:\n",
    "    if col in polygons.columns:\n",
    "        polygons.drop(columns=[col], inplace=True)\n",
    "polys = store.get_geoJSON()\n",
    "with open(\"polygons.geojson\", \"w\") as f:\n",
    "    f.write(json.dumps(polys))"
   ]
  },
  {
   "cell_type": "code",
   "execution_count": 6,
   "metadata": {},
   "outputs": [],
   "source": [
    "def get_site_geoJSON(odm_data):\n",
    "    def make_point_feature(row):\n",
    "        props_to_add = [\"siteID\", \"name\", \"description\", \"clean_type\", \"polygonID\"]\n",
    "        return {\n",
    "            \"type\": \"Feature\",\n",
    "            \"geometry\": {\n",
    "                \"type\": \"Point\",\n",
    "                \"coordinates\": [row[\"geoLong\"], row[\"geoLat\"]],\n",
    "                },\n",
    "            \"properties\": {\n",
    "                k: row[k] for k in props_to_add\n",
    "            }\n",
    "        }\n",
    "    sites = odm_data.site\n",
    "    site_types = {\n",
    "        \"wwtpmuc\": \"Station de traitement des eaux usées municipale pour égouts combinés\",\n",
    "        \"pstat\": \"Station de pompage\",\n",
    "        \"ltcf\": \"Établissement de soins de longue durée\",\n",
    "        \"airpln\":\"Avion\",\n",
    "        \"corFcil\": \"Prison\",\n",
    "        \"school\": \"École\",\n",
    "        \"hosptl\": \"Hôpital\",\n",
    "        \"shelter\": \"Refuge\",\n",
    "        \"swgTrck\": \"Camion de vidange\",\n",
    "        \"uCampus\": \"Campus universitaire\",\n",
    "        \"mSwrPpl\": \"Collecteur d'égouts\",\n",
    "        \"holdTnk\": \"Bassin de stockage\",\n",
    "        \"retPond\": \"Bassin de rétention\",\n",
    "        \"wwtpMuS\": \"Station de traitement des eaux usées municipales pour égouts sanitaires seulement\",\n",
    "        \"wwtpInd\": \"Station de traitement des eaux usées industrielle\",\n",
    "        \"lagoon\": \"Système de lagunage pour traitement des eaux usées\",\n",
    "        \"septTnk\": \"Fosse septique.\",\n",
    "        \"river\": \"Rivière\",\n",
    "        \"lake\": \"Lac\",\n",
    "        \"estuary\": \"Estuaire\",\n",
    "        \"sea\": \"Mer\",\n",
    "        \"ocean\": \"Océan\",\n",
    "    }\n",
    "    sites = odm_data.site\n",
    "    sites[\"clean_type\"] = sites[\"type\"].str.lower().map(site_types)\n",
    "    sites[\"clean_type\"]\n",
    "    sites[\"features\"] = sites.apply(lambda row: make_point_feature(row), axis=1)\n",
    "    point_list = list(sites[\"features\"])\n",
    "    js = {\n",
    "        \"type\": \"FeatureCollection\",\n",
    "        \"features\": point_list\n",
    "    }\n",
    "    return js\n"
   ]
  },
  {
   "cell_type": "code",
   "execution_count": 34,
   "metadata": {},
   "outputs": [],
   "source": [
    "\n",
    "dico_points = get_site_geoJSON(store)\n",
    "with open(\"sites.geojson\", \"w\") as f:\n",
    "    f.write(json.dumps(dico_points))"
   ]
  }
 ],
 "metadata": {
  "kernelspec": {
   "display_name": "Python 3.9.2 64-bit ('covid': conda)",
   "name": "python392jvsc74a57bd0fff2645691be52a4acf54b6569930c06fb1b99dce13069d7478dfbb615d05851"
  },
  "language_info": {
   "codemirror_mode": {
    "name": "ipython",
    "version": 3
   },
   "file_extension": ".py",
   "mimetype": "text/x-python",
   "name": "python",
   "nbconvert_exporter": "python",
   "pygments_lexer": "ipython3",
   "version": "3.9.2"
  },
  "orig_nbformat": 2
 },
 "nbformat": 4,
 "nbformat_minor": 2
}