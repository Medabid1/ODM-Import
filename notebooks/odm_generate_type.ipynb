{
 "cells": [
  {
   "cell_type": "code",
   "execution_count": 53,
   "metadata": {},
   "outputs": [],
   "source": [
    "import pandas as pd\n",
    "import plotly.express as px\n",
    "import matplotlib.pyplot as plt\n",
    "import odm\n",
    "pd.options.display.max_columns = None"
   ]
  },
  {
   "cell_type": "code",
   "execution_count": 2,
   "metadata": {},
   "outputs": [],
   "source": [
    "#connect to data source\n",
    "path = \"Data/WBE.db\"\n",
    "connection_string= f\"sqlite:///{path}\"\n",
    "#collect and parse data in data source\n",
    "odm_instance = odm.Odm()\n",
    "odm_instance.read_db(connection_string)"
   ]
  },
  {
   "cell_type": "code",
   "execution_count": 9,
   "metadata": {},
   "outputs": [
    {
     "data": {
      "text/plain": "['WWMeasure',\n 'SiteMeasure',\n 'Sample',\n 'Site',\n 'Polygon',\n 'CovidPublicHealthData']"
     },
     "execution_count": 9,
     "metadata": {},
     "output_type": "execute_result"
    }
   ],
   "source": [
    "types = {}\n",
    "tables = list(odm_instance.data.keys())\n",
    "tables"
   ]
  },
  {
   "cell_type": "code",
   "execution_count": 16,
   "metadata": {},
   "outputs": [
    {
     "name": "stderr",
     "output_type": "stream",
     "text": [
      "/opt/conda/lib/python3.8/site-packages/openpyxl/worksheet/_reader.py:308: UserWarning: Data Validation extension is not supported and will be removed\n",
      "  warn(msg)\n"
     ]
    }
   ],
   "source": [
    "def build_types():\n",
    "    import json\n",
    "    tables = list(odm_instance.data.keys())\n",
    "    for table in tables:\n",
    "        table = \"CPHD\" if table == \"CovidPublicHealthData\" else table\n",
    "        df = pd .read_excel(\"Data/Ville de Québec 202102.xlsx\", sheet_name=table)\n",
    "        columns = df.columns.to_list()\n",
    "        if table not in types.keys():\n",
    "            types[table] = {}\n",
    "        for col in columns:\n",
    "            pandas_type = str(df[col].dtype)\n",
    "            types[table][col] = pandas_type\n",
    "    with open(\"types.json\", \"w\") as f:\n",
    "        f.write(json.dumps(types, indent=4))"
   ]
  }
 ],
 "metadata": {
  "kernelspec": {
   "display_name": "Python 3.8.8 64-bit ('base': conda)",
   "metadata": {
    "interpreter": {
     "hash": "98b0a9b7b4eaaa670588a142fd0a9b87eaafe866f1db4228be72b4211d12040f"
    }
   },
   "name": "python3"
  },
  "language_info": {
   "codemirror_mode": {
    "name": "ipython",
    "version": 3
   },
   "file_extension": ".py",
   "mimetype": "text/x-python",
   "name": "python",
   "nbconvert_exporter": "python",
   "pygments_lexer": "ipython3",
   "version": "3.8.8-final"
  },
  "orig_nbformat": 2
 },
 "nbformat": 4,
 "nbformat_minor": 2
}