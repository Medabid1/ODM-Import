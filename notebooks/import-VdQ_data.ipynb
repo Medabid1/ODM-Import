{
 "cells": [
  {
   "cell_type": "markdown",
   "metadata": {},
   "source": [
    "# Import model*EAU* lab data into a data-model ready sheet"
   ]
  },
  {
   "cell_type": "code",
   "execution_count": 1,
   "metadata": {},
   "outputs": [],
   "source": [
    "import datetime\n",
    "import sqlalchemy\n",
    "import pandas as pd\n",
    "import sys\n",
    "sys.path.insert(1, '/workspaces/ODM Import/')\n",
    "from wbe_odm.odm_mappers import vdq_mapper\n",
    "from wbe_odm import odm"
   ]
  },
  {
   "cell_type": "markdown",
   "metadata": {},
   "source": [
    "1. Enter the path to the file containing the data you want to import.\n",
    "2. Enter the sheet name containing the raw data."
   ]
  },
  {
   "cell_type": "code",
   "execution_count": 2,
   "metadata": {},
   "outputs": [],
   "source": [
    "filepath = \"/workspaces/ODM Import/Data/Site measure/Échantillonnage COVID ULaval.xlsx\"\n",
    "mapper = vdq_mapper.VdQPlantMapper()\n",
    "mapper.read(filepath)\n",
    "odm_instance = odm.Odm()\n",
    "odm_instance.load_from(mapper)\n",
    "\n",
    "today = datetime.datetime.today().strftime(\"%Y-%m-%d\")\n",
    "\n",
    "odm_instance.to_csv(\"/workspaces/ODM Import/Data/Site measure/script_results\", file_prefix=f\"VdQ_{today}\")"
   ]
  },
  {
   "cell_type": "code",
   "execution_count": null,
   "metadata": {},
   "outputs": [],
   "source": []
  }
 ],
 "metadata": {
  "kernelspec": {
   "display_name": "Python 3.9.2 64-bit ('base': conda)",
   "name": "python392jvsc74a57bd098b0a9b7b4eaaa670588a142fd0a9b87eaafe866f1db4228be72b4211d12040f"
  },
  "language_info": {
   "codemirror_mode": {
    "name": "ipython",
    "version": 3
   },
   "file_extension": ".py",
   "mimetype": "text/x-python",
   "name": "python",
   "nbconvert_exporter": "python",
   "pygments_lexer": "ipython3",
   "version": "3.9.2"
  },
  "orig_nbformat": 2
 },
 "nbformat": 4,
 "nbformat_minor": 2
}