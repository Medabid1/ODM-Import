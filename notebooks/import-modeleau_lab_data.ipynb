{
 "cells": [
  {
   "cell_type": "markdown",
   "metadata": {},
   "source": [
    "# Import wastewater data from Ville de Québecinto a data-model ready sheet"
   ]
  },
  {
   "cell_type": "code",
   "execution_count": 1,
   "metadata": {},
   "outputs": [],
   "source": [
    "import datetime\n",
    "import sqlalchemy\n",
    "import pandas as pd\n",
    "import sys\n",
    "sys.path.insert(1, '/workspaces/ODM Import/')\n",
    "from wbe_odm.odm_mappers import modeleau_mapper\n",
    "from wbe_odm import odm"
   ]
  },
  {
   "cell_type": "markdown",
   "metadata": {},
   "source": [
    "1. Enter the path to the file containing the data you want to import.\n",
    "2. Enter the sheet name containing the raw data."
   ]
  },
  {
   "cell_type": "code",
   "execution_count": 2,
   "metadata": {},
   "outputs": [],
   "source": [
    "filepath = \"/workspaces/ODM Import/Data/Lab/modelEAU/COVIDProject_Lab Measurements.xlsx\"\n",
    "sheet_name = \"Lab analyses\"\n",
    "mapper = modeleau_mapper.ModelEauMapper()\n",
    "mapper.read(filepath, sheet_name)\n",
    "odm_instance = odm.Odm()\n",
    "odm_instance.load_from(mapper)\n",
    "\n",
    "today = datetime.datetime.today().strftime(\"%Y-%m-%d\")\n",
    "\n",
    "odm_instance.to_csv(\"/workspaces/ODM Import/Data/Lab/modelEAU/script_results\", file_prefix=f\"modelEAULab_{today}\")"
   ]
  },
  {
   "cell_type": "markdown",
   "metadata": {},
   "source": [
    "## Stop here if you are using this sheet to get excel sheets from your lab data.\n",
    "\n",
    "Continue if you want to enter the lab data into a database"
   ]
  },
  {
   "cell_type": "code",
   "execution_count": 5,
   "metadata": {},
   "outputs": [],
   "source": [
    "import odm\n",
    "#preparing for DB:\n",
    "measurements = measurements.rename(columns={\"assayMethodID\": \"assayID\"})\n",
    "for col in [\"index\", \"reporterID\"]:\n",
    "    if col in samples.columns:\n",
    "        samples.drop([col],axis=1, inplace=True)\n",
    "if \"WwMeasureID\" not in measurements.columns:\n",
    "    measurements.insert(loc=0, column=\"WwMeasureID\", value=None)\n",
    "\n",
    "path = \"Data/WBE.db\"\n",
    "engine = sqlalchemy.create_engine(f\"sqlite:///{path}\")\n",
    "\n",
    "#Preparing for testing the \"Replace\" method\"\n",
    "engine.execute(\"delete from WWMeasure\")\n",
    "engine.execute(\"delete from Sample\")\n",
    "\n",
    "table_name = \"WWMeasure\"\n",
    "odm.replace_into_db(measurements, table_name, engine)\n",
    "table_name = \"Sample\"\n",
    "odm.replace_into_db(samples, table_name, engine)"
   ]
  },
  {
   "cell_type": "code",
   "execution_count": null,
   "metadata": {},
   "outputs": [],
   "source": []
  }
 ],
 "metadata": {
  "kernelspec": {
   "display_name": "Python 3.9.2 64-bit ('base': conda)",
   "name": "python392jvsc74a57bd098b0a9b7b4eaaa670588a142fd0a9b87eaafe866f1db4228be72b4211d12040f"
  },
  "language_info": {
   "codemirror_mode": {
    "name": "ipython",
    "version": 3
   },
   "file_extension": ".py",
   "mimetype": "text/x-python",
   "name": "python",
   "nbconvert_exporter": "python",
   "pygments_lexer": "ipython3",
   "version": "3.9.2"
  },
  "orig_nbformat": 2
 },
 "nbformat": 4,
 "nbformat_minor": 2
}