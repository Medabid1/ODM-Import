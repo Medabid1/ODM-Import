{
 "cells": [
  {
   "cell_type": "markdown",
   "metadata": {},
   "source": [
    "# Import wastewater data from Ville de Québec into a data-model ready sheet"
   ]
  },
  {
   "cell_type": "code",
   "execution_count": 1,
   "metadata": {},
   "outputs": [],
   "source": [
    "import datetime\n",
    "import sqlalchemy\n",
    "import pandas as pd\n",
    "import sys\n",
    "from wbe_odm.odm_mappers import modeleau_mapper\n",
    "from wbe_odm import odm"
   ]
  },
  {
   "cell_type": "markdown",
   "metadata": {},
   "source": [
    "1. Enter the path to the file containing the data you want to import.\n",
    "2. Enter the sheet name containing the raw data."
   ]
  },
  {
   "cell_type": "code",
   "execution_count": 2,
   "metadata": {},
   "outputs": [],
   "source": [
    "filepath = \"/workspaces/ODM Import/Data/Lab/modelEAU/COVIDProject_Lab Measurements.xlsx\"\n",
    "sheet_name = \"Lab analyses\"\n",
    "mapper = modeleau_mapper.ModelEauMapper()\n",
    "mapper.read(filepath, sheet_name)\n",
    "odm_instance = odm.Odm()\n",
    "odm_instance.load_from(mapper)\n",
    "\n",
    "today = datetime.datetime.today().strftime(\"%Y-%m-%d\")\n",
    "\n",
    "odm_instance.to_csv(\"/workspaces/ODM Import/Data/Lab/modelEAU/script_results\", file_prefix=f\"modelEAULab_{today}\")"
   ]
  },
  {
   "cell_type": "markdown",
   "metadata": {},
   "source": [
    "## Stop here if you are using this sheet to get excel sheets from your lab data.\n",
    "\n",
    "Continue if you want to enter the lab data into a database"
   ]
  },
  {
   "cell_type": "code",
   "execution_count": 2,
   "metadata": {},
   "outputs": [
    {
     "ename": "NameError",
     "evalue": "name 'measurements' is not defined",
     "output_type": "error",
     "traceback": [
      "\u001b[0;31m---------------------------------------------------------------------------\u001b[0m",
      "\u001b[0;31mNameError\u001b[0m                                 Traceback (most recent call last)",
      "\u001b[0;32m<ipython-input-2-5444ade71f5a>\u001b[0m in \u001b[0;36m<module>\u001b[0;34m\u001b[0m\n\u001b[1;32m      1\u001b[0m \u001b[0;32mfrom\u001b[0m \u001b[0mwbe_odm\u001b[0m\u001b[0;34m.\u001b[0m\u001b[0modm\u001b[0m \u001b[0;32mimport\u001b[0m \u001b[0mOdm\u001b[0m\u001b[0;34m\u001b[0m\u001b[0;34m\u001b[0m\u001b[0m\n\u001b[1;32m      2\u001b[0m \u001b[0;31m#preparing for DB:\u001b[0m\u001b[0;34m\u001b[0m\u001b[0;34m\u001b[0m\u001b[0;34m\u001b[0m\u001b[0m\n\u001b[0;32m----> 3\u001b[0;31m \u001b[0mmeasurements\u001b[0m \u001b[0;34m=\u001b[0m \u001b[0mmeasurements\u001b[0m\u001b[0;34m.\u001b[0m\u001b[0mrename\u001b[0m\u001b[0;34m(\u001b[0m\u001b[0mcolumns\u001b[0m\u001b[0;34m=\u001b[0m\u001b[0;34m{\u001b[0m\u001b[0;34m\"assayMethodID\"\u001b[0m\u001b[0;34m:\u001b[0m \u001b[0;34m\"assayID\"\u001b[0m\u001b[0;34m}\u001b[0m\u001b[0;34m)\u001b[0m\u001b[0;34m\u001b[0m\u001b[0;34m\u001b[0m\u001b[0m\n\u001b[0m\u001b[1;32m      4\u001b[0m \u001b[0;32mfor\u001b[0m \u001b[0mcol\u001b[0m \u001b[0;32min\u001b[0m \u001b[0;34m[\u001b[0m\u001b[0;34m\"index\"\u001b[0m\u001b[0;34m,\u001b[0m \u001b[0;34m\"reporterID\"\u001b[0m\u001b[0;34m]\u001b[0m\u001b[0;34m:\u001b[0m\u001b[0;34m\u001b[0m\u001b[0;34m\u001b[0m\u001b[0m\n\u001b[1;32m      5\u001b[0m     \u001b[0;32mif\u001b[0m \u001b[0mcol\u001b[0m \u001b[0;32min\u001b[0m \u001b[0msamples\u001b[0m\u001b[0;34m.\u001b[0m\u001b[0mcolumns\u001b[0m\u001b[0;34m:\u001b[0m\u001b[0;34m\u001b[0m\u001b[0;34m\u001b[0m\u001b[0m\n",
      "\u001b[0;31mNameError\u001b[0m: name 'measurements' is not defined"
     ]
    }
   ],
   "source": [
    "#preparing for DB:\n",
    "measurements = measurements.rename(columns={\"assayMethodID\": \"assayID\"})\n",
    "for col in [\"index\", \"reporterID\"]:\n",
    "    if col in samples.columns:\n",
    "        samples.drop([col],axis=1, inplace=True)\n",
    "if \"WwMeasureID\" not in measurements.columns:\n",
    "    measurements.insert(loc=0, column=\"WwMeasureID\", value=None)\n",
    "\n",
    "path = \"Data/WBE.db\"\n",
    "engine = sqlalchemy.create_engine(f\"sqlite:///{path}\")\n",
    "\n",
    "#Preparing for testing the \"Replace\" method\"\n",
    "engine.execute(\"delete from WWMeasure\")\n",
    "engine.execute(\"delete from Sample\")\n",
    "\n",
    "table_name = \"WWMeasure\"\n",
    "odm.replace_into_db(measurements, table_name, engine)\n",
    "table_name = \"Sample\"\n",
    "odm.replace_into_db(samples, table_name, engine)"
   ]
  },
  {
   "cell_type": "code",
   "execution_count": null,
   "metadata": {},
   "outputs": [],
   "source": []
  }
 ],
 "metadata": {
  "kernelspec": {
   "display_name": "Python 3.9.2 64-bit ('covid': conda)",
   "name": "python392jvsc74a57bd0fff2645691be52a4acf54b6569930c06fb1b99dce13069d7478dfbb615d05851"
  },
  "language_info": {
   "codemirror_mode": {
    "name": "ipython",
    "version": 3
   },
   "file_extension": ".py",
   "mimetype": "text/x-python",
   "name": "python",
   "nbconvert_exporter": "python",
   "pygments_lexer": "ipython3",
   "version": "3.9.2"
  },
  "orig_nbformat": 2
 },
 "nbformat": 4,
 "nbformat_minor": 2
}