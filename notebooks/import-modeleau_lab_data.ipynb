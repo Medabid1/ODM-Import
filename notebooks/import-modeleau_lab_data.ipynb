{
 "cells": [
  {
   "cell_type": "markdown",
   "metadata": {},
   "source": [
    "# Import wastewater data from Ville de Québec into a data-model ready sheet"
   ]
  },
  {
   "cell_type": "code",
   "execution_count": 1,
   "metadata": {},
   "outputs": [],
   "source": [
    "import datetime\n",
    "import sqlalchemy\n",
    "import pandas as pd\n",
    "import sys\n",
    "from wbe_odm.odm_mappers import modeleau_mapper\n",
    "from wbe_odm import odm"
   ]
  },
  {
   "cell_type": "markdown",
   "metadata": {},
   "source": [
    "1. Enter the path to the file containing the data you want to import.\n",
    "2. Enter the sheet name containing the raw data."
   ]
  },
  {
   "cell_type": "code",
   "execution_count": 2,
   "metadata": {},
   "outputs": [],
   "source": [
    "filepath = \"/workspaces/ODM Import/Data/Lab/modelEAU/COVIDProject_Lab Measurements.xlsx\"\n",
    "sheet_name = \"Lab analyses\"\n",
    "mapper = modeleau_mapper.ModelEauMapper()\n",
    "mapper.read(filepath, sheet_name)\n",
    "odm_instance = odm.Odm()\n",
    "odm_instance.load_from(mapper)\n",
    "\n",
    "today = datetime.datetime.today().strftime(\"%Y-%m-%d\")\n",
    "\n",
    "odm_instance.to_csv(\"/workspaces/ODM Import/Data/Lab/modelEAU/script_results\", file_prefix=f\"modelEAULab_{today}\")"
   ]
  }
 ],
 "metadata": {
  "kernelspec": {
   "display_name": "Python 3.9.2 64-bit ('covid': conda)",
   "name": "python392jvsc74a57bd0fff2645691be52a4acf54b6569930c06fb1b99dce13069d7478dfbb615d05851"
  },
  "language_info": {
   "name": "python",
   "version": ""
  },
  "orig_nbformat": 2
 },
 "nbformat": 4,
 "nbformat_minor": 2
}