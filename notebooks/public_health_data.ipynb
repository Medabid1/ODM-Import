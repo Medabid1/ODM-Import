{
 "metadata": {
  "language_info": {
   "codemirror_mode": {
    "name": "ipython",
    "version": 3
   },
   "file_extension": ".py",
   "mimetype": "text/x-python",
   "name": "python",
   "nbconvert_exporter": "python",
   "pygments_lexer": "ipython3",
   "version": "3.9.2"
  },
  "orig_nbformat": 2,
  "kernelspec": {
   "name": "python3",
   "display_name": "Python 3.9.2 64-bit ('covid': conda)",
   "metadata": {
    "interpreter": {
     "hash": "fff2645691be52a4acf54b6569930c06fb1b99dce13069d7478dfbb615d05851"
    }
   }
  }
 },
 "nbformat": 4,
 "nbformat_minor": 2,
 "cells": [
  {
   "cell_type": "code",
   "execution_count": 28,
   "metadata": {},
   "outputs": [],
   "source": [
    "import pandas as pd\n",
    "import requests\n",
    "\n",
    "response = requests.get(\"https://ledevoir-coronavirus.herokuapp.com/api/v2/reports/ca/qc\")\n"
   ]
  },
  {
   "cell_type": "code",
   "execution_count": 5,
   "metadata": {},
   "outputs": [],
   "source": [
    "import json\n",
    "j = json.loads(response.text)"
   ]
  },
  {
   "cell_type": "code",
   "execution_count": 44,
   "metadata": {},
   "outputs": [
    {
     "output_type": "error",
     "ename": "AttributeError",
     "evalue": "'Response' object has no attribute 'keys'",
     "traceback": [
      "\u001b[0;31m---------------------------------------------------------------------------\u001b[0m",
      "\u001b[0;31mAttributeError\u001b[0m                            Traceback (most recent call last)",
      "\u001b[0;32m<ipython-input-44-188cbbee4291>\u001b[0m in \u001b[0;36m<module>\u001b[0;34m\u001b[0m\n\u001b[0;32m----> 1\u001b[0;31m \u001b[0mresponse\u001b[0m\u001b[0;34m.\u001b[0m\u001b[0mkeys\u001b[0m\u001b[0;34m(\u001b[0m\u001b[0;34m)\u001b[0m\u001b[0;34m\u001b[0m\u001b[0;34m\u001b[0m\u001b[0m\n\u001b[0m",
      "\u001b[0;31mAttributeError\u001b[0m: 'Response' object has no attribute 'keys'"
     ]
    }
   ],
   "source": [
    "response."
   ]
  },
  {
   "cell_type": "code",
   "execution_count": 15,
   "metadata": {},
   "outputs": [
    {
     "output_type": "execute_result",
     "data": {
      "text/plain": [
       "dict_keys(['code', 'name', 'data', 'regions', 'distributions', 'center', 'variants', 'update'])"
      ]
     },
     "metadata": {},
     "execution_count": 15
    }
   ],
   "source": [
    "j.keys()"
   ]
  },
  {
   "cell_type": "code",
   "execution_count": null,
   "metadata": {},
   "outputs": [],
   "source": []
  },
  {
   "cell_type": "code",
   "execution_count": 67,
   "metadata": {},
   "outputs": [
    {
     "output_type": "execute_result",
     "data": {
      "text/plain": [
       "{'Montréal': 0,\n",
       " 'Montérégie': 1,\n",
       " 'Laval': 2,\n",
       " 'Capitale-Nationale': 3,\n",
       " 'Lanaudière': 4,\n",
       " 'Laurentides': 5,\n",
       " 'Mauricie–Centre-du-Québec': 6,\n",
       " 'Chaudière-Appalaches': 7,\n",
       " 'Estrie': 8,\n",
       " 'Saguenay–Lac-Saint-Jean': 9,\n",
       " 'Outaouais': 10,\n",
       " 'Bas-Saint-Laurent': 11,\n",
       " 'Gaspésie–Îles-de-la-Madeleine': 12,\n",
       " 'Abitibi-Témiscamingue': 13,\n",
       " 'Côte-Nord': 14,\n",
       " 'Terres-Cries-de-la-Baie-James': 15,\n",
       " 'Nord-du-Québec': 16,\n",
       " 'Nunavik': 17}"
      ]
     },
     "metadata": {},
     "execution_count": 67
    }
   ],
   "source": [
    "region_codes = {}\n",
    "for i in range(len(j[\"regions\"])):\n",
    "    region_codes[j[\"regions\"][i][\"name\"]] = i\n",
    "region_codes"
   ]
  },
  {
   "cell_type": "code",
   "execution_count": 36,
   "metadata": {},
   "outputs": [
    {
     "output_type": "execute_result",
     "data": {
      "text/plain": [
       "dict_keys(['code', 'name', 'data', 'level', 'instructions', 'center'])"
      ]
     },
     "metadata": {},
     "execution_count": 36
    }
   ],
   "source": [
    "j[\"regions\"][0].keys()"
   ]
  },
  {
   "cell_type": "code",
   "execution_count": 38,
   "metadata": {},
   "outputs": [
    {
     "output_type": "execute_result",
     "data": {
      "text/plain": [
       "'Palier 4 – Alerte maximale'"
      ]
     },
     "metadata": {},
     "execution_count": 38
    }
   ],
   "source": [
    "j[\"regions\"][0][\"instructions\"]"
   ]
  },
  {
   "cell_type": "code",
   "execution_count": 39,
   "metadata": {},
   "outputs": [
    {
     "output_type": "execute_result",
     "data": {
      "text/plain": [
       "4"
      ]
     },
     "metadata": {},
     "execution_count": 39
    }
   ],
   "source": [
    "j[\"regions\"][0][\"level\"]"
   ]
  },
  {
   "cell_type": "code",
   "execution_count": 40,
   "metadata": {},
   "outputs": [
    {
     "output_type": "execute_result",
     "data": {
      "text/plain": [
       "6"
      ]
     },
     "metadata": {},
     "execution_count": 40
    }
   ],
   "source": [
    "j[\"regions\"][0][\"code\"]"
   ]
  },
  {
   "cell_type": "code",
   "execution_count": null,
   "metadata": {},
   "outputs": [],
   "source": [
    "legend = {\n",
    "    \"c\": \"cas cumulatif\",\n",
    "    \"dc\": \"cas journaliers\",\n",
    "    \"\" \n",
    "}"
   ]
  },
  {
   "cell_type": "code",
   "execution_count": 57,
   "metadata": {},
   "outputs": [],
   "source": [
    "mtl = j[\"regions\"][0][\"data\"]\n",
    "qc =  j[\"regions\"][3][\"data\"]"
   ]
  },
  {
   "cell_type": "code",
   "execution_count": 59,
   "metadata": {},
   "outputs": [],
   "source": [
    "mtl = pd.DataFrame(mtl)\n",
    "qc = pd.DataFrame(qc)"
   ]
  },
  {
   "cell_type": "code",
   "execution_count": 78,
   "metadata": {},
   "outputs": [
    {
     "output_type": "display_data",
     "data": {
      "application/vnd.plotly.v1+json": {
       "config": {
        "plotlyServerURL": "https://plot.ly"
       },
       "data": [
        {
         "alignmentgroup": "True",
         "hovertemplate": "Date=%{x}<br>Cas journaliers=%{y}<extra></extra>",
         "legendgroup": "",
         "marker": {
          "color": "#636efa"
         },
         "name": "",
         "offsetgroup": "",
         "orientation": "v",
         "showlegend": false,
         "textposition": "auto",
         "type": "bar",
         "x": [
          "01/22/20",
          "01/23/20",
          "01/24/20",
          "01/25/20",
          "01/26/20",
          "01/27/20",
          "01/28/20",
          "01/29/20",
          "01/30/20",
          "01/31/20",
          "02/01/20",
          "02/02/20",
          "02/03/20",
          "02/04/20",
          "02/05/20",
          "02/06/20",
          "02/07/20",
          "02/08/20",
          "02/09/20",
          "02/10/20",
          "02/11/20",
          "02/12/20",
          "02/13/20",
          "02/14/20",
          "02/15/20",
          "02/16/20",
          "02/17/20",
          "02/18/20",
          "02/19/20",
          "02/20/20",
          "02/21/20",
          "02/22/20",
          "02/23/20",
          "02/24/20",
          "02/25/20",
          "02/26/20",
          "02/27/20",
          "02/28/20",
          "02/29/20",
          "03/01/20",
          "03/02/20",
          "03/03/20",
          "03/04/20",
          "03/05/20",
          "03/06/20",
          "03/07/20",
          "03/08/20",
          "03/09/20",
          "03/10/20",
          "03/11/20",
          "03/12/20",
          "03/13/20",
          "03/14/20",
          "03/15/20",
          "03/16/20",
          "03/17/20",
          "03/18/20",
          "03/19/20",
          "03/20/20",
          "03/21/20",
          "03/22/20",
          "03/23/20",
          "03/24/20",
          "03/25/20",
          "03/26/20",
          "03/27/20",
          "03/28/20",
          "03/29/20",
          "03/30/20",
          "03/31/20",
          "04/01/20",
          "04/02/20",
          "04/03/20",
          "04/04/20",
          "04/05/20",
          "04/06/20",
          "04/07/20",
          "04/08/20",
          "04/09/20",
          "04/10/20",
          "04/11/20",
          "04/12/20",
          "04/13/20",
          "04/14/20",
          "04/15/20",
          "04/16/20",
          "04/17/20",
          "04/18/20",
          "04/19/20",
          "04/20/20",
          "04/21/20",
          "04/22/20",
          "04/23/20",
          "04/24/20",
          "04/25/20",
          "04/26/20",
          "04/27/20",
          "04/28/20",
          "04/29/20",
          "04/30/20",
          "05/01/20",
          "05/02/20",
          "05/03/20",
          "05/04/20",
          "05/05/20",
          "05/06/20",
          "05/07/20",
          "05/08/20",
          "05/09/20",
          "05/10/20",
          "05/11/20",
          "05/12/20",
          "05/13/20",
          "05/14/20",
          "05/15/20",
          "05/16/20",
          "05/17/20",
          "05/18/20",
          "05/19/20",
          "05/20/20",
          "05/21/20",
          "05/22/20",
          "05/23/20",
          "05/24/20",
          "05/25/20",
          "05/26/20",
          "05/27/20",
          "05/28/20",
          "05/29/20",
          "05/30/20",
          "05/31/20",
          "06/01/20",
          "06/02/20",
          "06/03/20",
          "06/04/20",
          "06/05/20",
          "06/06/20",
          "06/07/20",
          "06/08/20",
          "06/09/20",
          "06/10/20",
          "06/11/20",
          "06/12/20",
          "06/13/20",
          "06/14/20",
          "06/15/20",
          "06/16/20",
          "06/17/20",
          "06/18/20",
          "06/19/20",
          "06/20/20",
          "06/21/20",
          "06/22/20",
          "06/23/20",
          "06/24/20",
          "06/25/20",
          "06/26/20",
          "06/27/20",
          "06/28/20",
          "06/29/20",
          "06/30/20",
          "07/01/20",
          "07/02/20",
          "07/03/20",
          "07/04/20",
          "07/05/20",
          "07/06/20",
          "07/07/20",
          "07/08/20",
          "07/09/20",
          "07/10/20",
          "07/11/20",
          "07/12/20",
          "07/13/20",
          "07/14/20",
          "07/15/20",
          "07/16/20",
          "07/17/20",
          "07/18/20",
          "07/19/20",
          "07/20/20",
          "07/21/20",
          "07/22/20",
          "07/23/20",
          "07/24/20",
          "07/25/20",
          "07/26/20",
          "07/27/20",
          "07/28/20",
          "07/29/20",
          "07/30/20",
          "07/31/20",
          "08/01/20",
          "08/02/20",
          "08/03/20",
          "08/04/20",
          "08/05/20",
          "08/06/20",
          "08/07/20",
          "08/08/20",
          "08/09/20",
          "08/10/20",
          "08/11/20",
          "08/12/20",
          "08/13/20",
          "08/14/20",
          "08/15/20",
          "08/16/20",
          "08/17/20",
          "08/18/20",
          "08/19/20",
          "08/20/20",
          "08/21/20",
          "08/22/20",
          "08/23/20",
          "08/24/20",
          "08/25/20",
          "08/26/20",
          "08/27/20",
          "08/28/20",
          "08/29/20",
          "08/30/20",
          "08/31/20",
          "09/01/20",
          "09/02/20",
          "09/03/20",
          "09/04/20",
          "09/05/20",
          "09/06/20",
          "09/07/20",
          "09/08/20",
          "09/09/20",
          "09/10/20",
          "09/11/20",
          "09/12/20",
          "09/13/20",
          "09/14/20",
          "09/15/20",
          "09/16/20",
          "09/17/20",
          "09/18/20",
          "09/19/20",
          "09/20/20",
          "09/21/20",
          "09/22/20",
          "09/23/20",
          "09/24/20",
          "09/25/20",
          "09/26/20",
          "09/27/20",
          "09/28/20",
          "09/29/20",
          "09/30/20",
          "10/01/20",
          "10/02/20",
          "10/03/20",
          "10/04/20",
          "10/05/20",
          "10/06/20",
          "10/07/20",
          "10/08/20",
          "10/09/20",
          "10/10/20",
          "10/11/20",
          "10/12/20",
          "10/13/20",
          "10/14/20",
          "10/15/20",
          "10/16/20",
          "10/17/20",
          "10/18/20",
          "10/19/20",
          "10/20/20",
          "10/21/20",
          "10/22/20",
          "10/23/20",
          "10/24/20",
          "10/25/20",
          "10/26/20",
          "10/27/20",
          "10/28/20",
          "10/29/20",
          "10/30/20",
          "10/31/20",
          "11/01/20",
          "11/02/20",
          "11/03/20",
          "11/04/20",
          "11/05/20",
          "11/06/20",
          "11/07/20",
          "11/08/20",
          "11/09/20",
          "11/10/20",
          "11/11/20",
          "11/12/20",
          "11/13/20",
          "11/14/20",
          "11/15/20",
          "11/16/20",
          "11/17/20",
          "11/18/20",
          "11/19/20",
          "11/20/20",
          "11/21/20",
          "11/22/20",
          "11/23/20",
          "11/24/20",
          "11/25/20",
          "11/26/20",
          "11/27/20",
          "11/28/20",
          "11/29/20",
          "11/30/20",
          "12/01/20",
          "12/02/20",
          "12/03/20",
          "12/04/20",
          "12/05/20",
          "12/06/20",
          "12/07/20",
          "12/08/20",
          "12/09/20",
          "12/10/20",
          "12/11/20",
          "12/12/20",
          "12/13/20",
          "12/14/20",
          "12/15/20",
          "12/16/20",
          "12/17/20",
          "12/18/20",
          "12/19/20",
          "12/20/20",
          "12/21/20",
          "12/22/20",
          "12/23/20",
          "12/24/20",
          "12/25/20",
          "12/26/20",
          "12/27/20",
          "12/28/20",
          "12/29/20",
          "12/30/20",
          "12/31/20",
          "01/01/21",
          "01/02/21",
          "01/03/21",
          "01/04/21",
          "01/05/21",
          "01/06/21",
          "01/07/21",
          "01/08/21",
          "01/09/21",
          "01/10/21",
          "01/11/21",
          "01/12/21",
          "01/13/21",
          "01/14/21",
          "01/15/21",
          "01/16/21",
          "01/17/21",
          "01/18/21",
          "01/19/21",
          "01/20/21",
          "01/21/21",
          "01/22/21",
          "01/23/21",
          "01/24/21",
          "01/25/21",
          "01/26/21",
          "01/27/21",
          "01/28/21",
          "01/29/21",
          "01/30/21",
          "01/31/21",
          "02/01/21",
          "02/02/21",
          "02/03/21",
          "02/04/21",
          "02/05/21",
          "02/06/21",
          "02/07/21",
          "02/08/21",
          "02/09/21",
          "02/10/21",
          "02/11/21",
          "02/12/21",
          "02/13/21",
          "02/14/21",
          "02/15/21",
          "02/16/21",
          "02/17/21",
          "02/18/21",
          "02/19/21",
          "02/20/21",
          "02/21/21",
          "02/22/21",
          "02/23/21",
          "02/24/21",
          "02/25/21",
          "02/26/21",
          "02/27/21",
          "02/28/21",
          "03/01/21",
          "03/02/21",
          "03/03/21",
          "03/04/21",
          "03/05/21",
          "03/06/21",
          "03/07/21",
          "03/08/21",
          "03/09/21",
          "03/10/21",
          "03/11/21",
          "03/12/21",
          "03/13/21",
          "03/14/21",
          "03/15/21",
          "03/16/21",
          "03/17/21",
          "03/18/21",
          "03/19/21",
          "03/20/21",
          "03/21/21",
          "03/22/21",
          "03/23/21",
          "03/24/21",
          "03/25/21",
          "03/26/21",
          "03/27/21",
          "03/28/21",
          "03/29/21",
          "03/30/21",
          "03/31/21"
         ],
         "xaxis": "x",
         "y": [
          0,
          0,
          0,
          0,
          0,
          0,
          0,
          0,
          0,
          0,
          0,
          0,
          0,
          0,
          0,
          0,
          0,
          0,
          0,
          0,
          0,
          0,
          0,
          0,
          0,
          0,
          0,
          0,
          0,
          0,
          0,
          0,
          0,
          0,
          0,
          0,
          0,
          0,
          1,
          0,
          0,
          0,
          0,
          0,
          0,
          0,
          0,
          0,
          0,
          0,
          0,
          0,
          0,
          3,
          0,
          0,
          4,
          2,
          0,
          3,
          0,
          20,
          46,
          16,
          8,
          3,
          42,
          16,
          10,
          39,
          34,
          23,
          10,
          29,
          36,
          12,
          18,
          17,
          20,
          15,
          13,
          4,
          36,
          31,
          17,
          23,
          18,
          17,
          13,
          16,
          15,
          17,
          11,
          24,
          38,
          42,
          13,
          14,
          18,
          28,
          32,
          23,
          27,
          21,
          23,
          25,
          22,
          19,
          46,
          22,
          25,
          17,
          18,
          15,
          18,
          18,
          20,
          27,
          13,
          18,
          14,
          22,
          34,
          25,
          33,
          29,
          30,
          30,
          31,
          31,
          25,
          13,
          14,
          15,
          12,
          16,
          15,
          20,
          14,
          8,
          10,
          7,
          10,
          13,
          5,
          3,
          8,
          3,
          9,
          14,
          5,
          2,
          2,
          4,
          7,
          6,
          0,
          0,
          0,
          19,
          3,
          0,
          4,
          2,
          2,
          6,
          2,
          2,
          2,
          4,
          4,
          1,
          1,
          19,
          2,
          4,
          2,
          1,
          3,
          4,
          2,
          1,
          0,
          3,
          8,
          9,
          9,
          2,
          0,
          0,
          9,
          1,
          0,
          4,
          1,
          0,
          0,
          3,
          2,
          4,
          3,
          1,
          3,
          3,
          0,
          6,
          0,
          2,
          3,
          4,
          6,
          8,
          8,
          4,
          3,
          3,
          1,
          1,
          2,
          2,
          10,
          5,
          16,
          31,
          23,
          37,
          18,
          30,
          32,
          51,
          39,
          44,
          24,
          42,
          29,
          42,
          60,
          60,
          53,
          54,
          86,
          60,
          92,
          92,
          92,
          95,
          103,
          132,
          68,
          158,
          125,
          169,
          134,
          128,
          183,
          153,
          193,
          265,
          201,
          132,
          199,
          144,
          184,
          153,
          95,
          158,
          140,
          93,
          174,
          185,
          227,
          272,
          91,
          190,
          168,
          117,
          135,
          116,
          91,
          129,
          59,
          119,
          80,
          49,
          80,
          80,
          69,
          74,
          80,
          55,
          68,
          74,
          82,
          76,
          147,
          85,
          124,
          119,
          102,
          72,
          51,
          86,
          121,
          135,
          120,
          65,
          110,
          151,
          99,
          139,
          130,
          131,
          172,
          165,
          121,
          192,
          163,
          134,
          310,
          139,
          160,
          142,
          228,
          188,
          214,
          210,
          229,
          205,
          169,
          205,
          208,
          225,
          207,
          121,
          167,
          218,
          191,
          233,
          273,
          156,
          165,
          175,
          219,
          223,
          254,
          256,
          183,
          190,
          136,
          203,
          153,
          162,
          136,
          161,
          110,
          103,
          135,
          133,
          134,
          126,
          96,
          117,
          81,
          130,
          81,
          79,
          84,
          80,
          57,
          56,
          56,
          77,
          73,
          67,
          48,
          54,
          40,
          60,
          42,
          45,
          50,
          47,
          33,
          39,
          37,
          26,
          38,
          35,
          36,
          27,
          32,
          34,
          28,
          36,
          33,
          26,
          19,
          21,
          24,
          24,
          42,
          40,
          39,
          37,
          36,
          39,
          32,
          31,
          38,
          25,
          36,
          24,
          34,
          39,
          30,
          52,
          36,
          29,
          0,
          60,
          45,
          36,
          53,
          53,
          35,
          36,
          46,
          70,
          81,
          86,
          99,
          114,
          106,
          129,
          194
         ],
         "yaxis": "y"
        }
       ],
       "layout": {
        "barmode": "relative",
        "legend": {
         "tracegroupgap": 0
        },
        "template": {
         "data": {
          "bar": [
           {
            "error_x": {
             "color": "#2a3f5f"
            },
            "error_y": {
             "color": "#2a3f5f"
            },
            "marker": {
             "line": {
              "color": "#E5ECF6",
              "width": 0.5
             }
            },
            "type": "bar"
           }
          ],
          "barpolar": [
           {
            "marker": {
             "line": {
              "color": "#E5ECF6",
              "width": 0.5
             }
            },
            "type": "barpolar"
           }
          ],
          "carpet": [
           {
            "aaxis": {
             "endlinecolor": "#2a3f5f",
             "gridcolor": "white",
             "linecolor": "white",
             "minorgridcolor": "white",
             "startlinecolor": "#2a3f5f"
            },
            "baxis": {
             "endlinecolor": "#2a3f5f",
             "gridcolor": "white",
             "linecolor": "white",
             "minorgridcolor": "white",
             "startlinecolor": "#2a3f5f"
            },
            "type": "carpet"
           }
          ],
          "choropleth": [
           {
            "colorbar": {
             "outlinewidth": 0,
             "ticks": ""
            },
            "type": "choropleth"
           }
          ],
          "contour": [
           {
            "colorbar": {
             "outlinewidth": 0,
             "ticks": ""
            },
            "colorscale": [
             [
              0,
              "#0d0887"
             ],
             [
              0.1111111111111111,
              "#46039f"
             ],
             [
              0.2222222222222222,
              "#7201a8"
             ],
             [
              0.3333333333333333,
              "#9c179e"
             ],
             [
              0.4444444444444444,
              "#bd3786"
             ],
             [
              0.5555555555555556,
              "#d8576b"
             ],
             [
              0.6666666666666666,
              "#ed7953"
             ],
             [
              0.7777777777777778,
              "#fb9f3a"
             ],
             [
              0.8888888888888888,
              "#fdca26"
             ],
             [
              1,
              "#f0f921"
             ]
            ],
            "type": "contour"
           }
          ],
          "contourcarpet": [
           {
            "colorbar": {
             "outlinewidth": 0,
             "ticks": ""
            },
            "type": "contourcarpet"
           }
          ],
          "heatmap": [
           {
            "colorbar": {
             "outlinewidth": 0,
             "ticks": ""
            },
            "colorscale": [
             [
              0,
              "#0d0887"
             ],
             [
              0.1111111111111111,
              "#46039f"
             ],
             [
              0.2222222222222222,
              "#7201a8"
             ],
             [
              0.3333333333333333,
              "#9c179e"
             ],
             [
              0.4444444444444444,
              "#bd3786"
             ],
             [
              0.5555555555555556,
              "#d8576b"
             ],
             [
              0.6666666666666666,
              "#ed7953"
             ],
             [
              0.7777777777777778,
              "#fb9f3a"
             ],
             [
              0.8888888888888888,
              "#fdca26"
             ],
             [
              1,
              "#f0f921"
             ]
            ],
            "type": "heatmap"
           }
          ],
          "heatmapgl": [
           {
            "colorbar": {
             "outlinewidth": 0,
             "ticks": ""
            },
            "colorscale": [
             [
              0,
              "#0d0887"
             ],
             [
              0.1111111111111111,
              "#46039f"
             ],
             [
              0.2222222222222222,
              "#7201a8"
             ],
             [
              0.3333333333333333,
              "#9c179e"
             ],
             [
              0.4444444444444444,
              "#bd3786"
             ],
             [
              0.5555555555555556,
              "#d8576b"
             ],
             [
              0.6666666666666666,
              "#ed7953"
             ],
             [
              0.7777777777777778,
              "#fb9f3a"
             ],
             [
              0.8888888888888888,
              "#fdca26"
             ],
             [
              1,
              "#f0f921"
             ]
            ],
            "type": "heatmapgl"
           }
          ],
          "histogram": [
           {
            "marker": {
             "colorbar": {
              "outlinewidth": 0,
              "ticks": ""
             }
            },
            "type": "histogram"
           }
          ],
          "histogram2d": [
           {
            "colorbar": {
             "outlinewidth": 0,
             "ticks": ""
            },
            "colorscale": [
             [
              0,
              "#0d0887"
             ],
             [
              0.1111111111111111,
              "#46039f"
             ],
             [
              0.2222222222222222,
              "#7201a8"
             ],
             [
              0.3333333333333333,
              "#9c179e"
             ],
             [
              0.4444444444444444,
              "#bd3786"
             ],
             [
              0.5555555555555556,
              "#d8576b"
             ],
             [
              0.6666666666666666,
              "#ed7953"
             ],
             [
              0.7777777777777778,
              "#fb9f3a"
             ],
             [
              0.8888888888888888,
              "#fdca26"
             ],
             [
              1,
              "#f0f921"
             ]
            ],
            "type": "histogram2d"
           }
          ],
          "histogram2dcontour": [
           {
            "colorbar": {
             "outlinewidth": 0,
             "ticks": ""
            },
            "colorscale": [
             [
              0,
              "#0d0887"
             ],
             [
              0.1111111111111111,
              "#46039f"
             ],
             [
              0.2222222222222222,
              "#7201a8"
             ],
             [
              0.3333333333333333,
              "#9c179e"
             ],
             [
              0.4444444444444444,
              "#bd3786"
             ],
             [
              0.5555555555555556,
              "#d8576b"
             ],
             [
              0.6666666666666666,
              "#ed7953"
             ],
             [
              0.7777777777777778,
              "#fb9f3a"
             ],
             [
              0.8888888888888888,
              "#fdca26"
             ],
             [
              1,
              "#f0f921"
             ]
            ],
            "type": "histogram2dcontour"
           }
          ],
          "mesh3d": [
           {
            "colorbar": {
             "outlinewidth": 0,
             "ticks": ""
            },
            "type": "mesh3d"
           }
          ],
          "parcoords": [
           {
            "line": {
             "colorbar": {
              "outlinewidth": 0,
              "ticks": ""
             }
            },
            "type": "parcoords"
           }
          ],
          "pie": [
           {
            "automargin": true,
            "type": "pie"
           }
          ],
          "scatter": [
           {
            "marker": {
             "colorbar": {
              "outlinewidth": 0,
              "ticks": ""
             }
            },
            "type": "scatter"
           }
          ],
          "scatter3d": [
           {
            "line": {
             "colorbar": {
              "outlinewidth": 0,
              "ticks": ""
             }
            },
            "marker": {
             "colorbar": {
              "outlinewidth": 0,
              "ticks": ""
             }
            },
            "type": "scatter3d"
           }
          ],
          "scattercarpet": [
           {
            "marker": {
             "colorbar": {
              "outlinewidth": 0,
              "ticks": ""
             }
            },
            "type": "scattercarpet"
           }
          ],
          "scattergeo": [
           {
            "marker": {
             "colorbar": {
              "outlinewidth": 0,
              "ticks": ""
             }
            },
            "type": "scattergeo"
           }
          ],
          "scattergl": [
           {
            "marker": {
             "colorbar": {
              "outlinewidth": 0,
              "ticks": ""
             }
            },
            "type": "scattergl"
           }
          ],
          "scattermapbox": [
           {
            "marker": {
             "colorbar": {
              "outlinewidth": 0,
              "ticks": ""
             }
            },
            "type": "scattermapbox"
           }
          ],
          "scatterpolar": [
           {
            "marker": {
             "colorbar": {
              "outlinewidth": 0,
              "ticks": ""
             }
            },
            "type": "scatterpolar"
           }
          ],
          "scatterpolargl": [
           {
            "marker": {
             "colorbar": {
              "outlinewidth": 0,
              "ticks": ""
             }
            },
            "type": "scatterpolargl"
           }
          ],
          "scatterternary": [
           {
            "marker": {
             "colorbar": {
              "outlinewidth": 0,
              "ticks": ""
             }
            },
            "type": "scatterternary"
           }
          ],
          "surface": [
           {
            "colorbar": {
             "outlinewidth": 0,
             "ticks": ""
            },
            "colorscale": [
             [
              0,
              "#0d0887"
             ],
             [
              0.1111111111111111,
              "#46039f"
             ],
             [
              0.2222222222222222,
              "#7201a8"
             ],
             [
              0.3333333333333333,
              "#9c179e"
             ],
             [
              0.4444444444444444,
              "#bd3786"
             ],
             [
              0.5555555555555556,
              "#d8576b"
             ],
             [
              0.6666666666666666,
              "#ed7953"
             ],
             [
              0.7777777777777778,
              "#fb9f3a"
             ],
             [
              0.8888888888888888,
              "#fdca26"
             ],
             [
              1,
              "#f0f921"
             ]
            ],
            "type": "surface"
           }
          ],
          "table": [
           {
            "cells": {
             "fill": {
              "color": "#EBF0F8"
             },
             "line": {
              "color": "white"
             }
            },
            "header": {
             "fill": {
              "color": "#C8D4E3"
             },
             "line": {
              "color": "white"
             }
            },
            "type": "table"
           }
          ]
         },
         "layout": {
          "annotationdefaults": {
           "arrowcolor": "#2a3f5f",
           "arrowhead": 0,
           "arrowwidth": 1
          },
          "autotypenumbers": "strict",
          "coloraxis": {
           "colorbar": {
            "outlinewidth": 0,
            "ticks": ""
           }
          },
          "colorscale": {
           "diverging": [
            [
             0,
             "#8e0152"
            ],
            [
             0.1,
             "#c51b7d"
            ],
            [
             0.2,
             "#de77ae"
            ],
            [
             0.3,
             "#f1b6da"
            ],
            [
             0.4,
             "#fde0ef"
            ],
            [
             0.5,
             "#f7f7f7"
            ],
            [
             0.6,
             "#e6f5d0"
            ],
            [
             0.7,
             "#b8e186"
            ],
            [
             0.8,
             "#7fbc41"
            ],
            [
             0.9,
             "#4d9221"
            ],
            [
             1,
             "#276419"
            ]
           ],
           "sequential": [
            [
             0,
             "#0d0887"
            ],
            [
             0.1111111111111111,
             "#46039f"
            ],
            [
             0.2222222222222222,
             "#7201a8"
            ],
            [
             0.3333333333333333,
             "#9c179e"
            ],
            [
             0.4444444444444444,
             "#bd3786"
            ],
            [
             0.5555555555555556,
             "#d8576b"
            ],
            [
             0.6666666666666666,
             "#ed7953"
            ],
            [
             0.7777777777777778,
             "#fb9f3a"
            ],
            [
             0.8888888888888888,
             "#fdca26"
            ],
            [
             1,
             "#f0f921"
            ]
           ],
           "sequentialminus": [
            [
             0,
             "#0d0887"
            ],
            [
             0.1111111111111111,
             "#46039f"
            ],
            [
             0.2222222222222222,
             "#7201a8"
            ],
            [
             0.3333333333333333,
             "#9c179e"
            ],
            [
             0.4444444444444444,
             "#bd3786"
            ],
            [
             0.5555555555555556,
             "#d8576b"
            ],
            [
             0.6666666666666666,
             "#ed7953"
            ],
            [
             0.7777777777777778,
             "#fb9f3a"
            ],
            [
             0.8888888888888888,
             "#fdca26"
            ],
            [
             1,
             "#f0f921"
            ]
           ]
          },
          "colorway": [
           "#636efa",
           "#EF553B",
           "#00cc96",
           "#ab63fa",
           "#FFA15A",
           "#19d3f3",
           "#FF6692",
           "#B6E880",
           "#FF97FF",
           "#FECB52"
          ],
          "font": {
           "color": "#2a3f5f"
          },
          "geo": {
           "bgcolor": "white",
           "lakecolor": "white",
           "landcolor": "#E5ECF6",
           "showlakes": true,
           "showland": true,
           "subunitcolor": "white"
          },
          "hoverlabel": {
           "align": "left"
          },
          "hovermode": "closest",
          "mapbox": {
           "style": "light"
          },
          "paper_bgcolor": "white",
          "plot_bgcolor": "#E5ECF6",
          "polar": {
           "angularaxis": {
            "gridcolor": "white",
            "linecolor": "white",
            "ticks": ""
           },
           "bgcolor": "#E5ECF6",
           "radialaxis": {
            "gridcolor": "white",
            "linecolor": "white",
            "ticks": ""
           }
          },
          "scene": {
           "xaxis": {
            "backgroundcolor": "#E5ECF6",
            "gridcolor": "white",
            "gridwidth": 2,
            "linecolor": "white",
            "showbackground": true,
            "ticks": "",
            "zerolinecolor": "white"
           },
           "yaxis": {
            "backgroundcolor": "#E5ECF6",
            "gridcolor": "white",
            "gridwidth": 2,
            "linecolor": "white",
            "showbackground": true,
            "ticks": "",
            "zerolinecolor": "white"
           },
           "zaxis": {
            "backgroundcolor": "#E5ECF6",
            "gridcolor": "white",
            "gridwidth": 2,
            "linecolor": "white",
            "showbackground": true,
            "ticks": "",
            "zerolinecolor": "white"
           }
          },
          "shapedefaults": {
           "line": {
            "color": "#2a3f5f"
           }
          },
          "ternary": {
           "aaxis": {
            "gridcolor": "white",
            "linecolor": "white",
            "ticks": ""
           },
           "baxis": {
            "gridcolor": "white",
            "linecolor": "white",
            "ticks": ""
           },
           "bgcolor": "#E5ECF6",
           "caxis": {
            "gridcolor": "white",
            "linecolor": "white",
            "ticks": ""
           }
          },
          "title": {
           "x": 0.05
          },
          "xaxis": {
           "automargin": true,
           "gridcolor": "white",
           "linecolor": "white",
           "ticks": "",
           "title": {
            "standoff": 15
           },
           "zerolinecolor": "white",
           "zerolinewidth": 2
          },
          "yaxis": {
           "automargin": true,
           "gridcolor": "white",
           "linecolor": "white",
           "ticks": "",
           "title": {
            "standoff": 15
           },
           "zerolinecolor": "white",
           "zerolinewidth": 2
          }
         }
        },
        "title": {
         "text": "Cas journaliers Capitale-Nationale"
        },
        "xaxis": {
         "anchor": "y",
         "domain": [
          0,
          1
         ],
         "title": {
          "text": "Date"
         }
        },
        "yaxis": {
         "anchor": "x",
         "domain": [
          0,
          1
         ],
         "title": {
          "text": "Cas journaliers"
         }
        }
       }
      }
     },
     "metadata": {}
    }
   ],
   "source": [
    "region = \"Capitale-Nationale\"\n",
    "df =  pd.DataFrame(j[\"regions\"][region_codes[region]][\"data\"])\n",
    "fig = px.bar(df, x=\"date\", y=\"dc\", labels={\"date\":\"Date\", \"dc\":\"Cas journaliers\"}, title=f\"Cas journaliers {region}\")\n",
    "fig.show()"
   ]
  },
  {
   "cell_type": "code",
   "execution_count": 17,
   "metadata": {},
   "outputs": [
    {
     "output_type": "execute_result",
     "data": {
      "text/plain": [
       "[{'type': 'c',\n",
       "  'data': [{'name': '0-9 ans', 'prop': 7.85, 'c': 24411, 'nc': 285.874},\n",
       "   {'name': '10-19 ans', 'prop': 11.71, 'c': 36416, 'nc': 426.463},\n",
       "   {'name': '20-29 ans', 'prop': 15.29, 'c': 47562, 'nc': 556.993},\n",
       "   {'name': '30-39 ans', 'prop': 14.21, 'c': 44208, 'nc': 517.714},\n",
       "   {'name': '40-49 ans', 'prop': 14.93, 'c': 46441, 'nc': 543.865},\n",
       "   {'name': '50-59 ans', 'prop': 13.11, 'c': 40784, 'nc': 477.616},\n",
       "   {'name': '60-69 ans', 'prop': 8.13, 'c': 25300, 'nc': 296.285},\n",
       "   {'name': '70-79 ans', 'prop': 5.39, 'c': 16768, 'nc': 196.368},\n",
       "   {'name': '80-89 ans', 'prop': 5.85, 'c': 18202, 'nc': 213.161},\n",
       "   {'name': '90 ans et plus', 'prop': 3.52, 'c': 10954, 'nc': 128.281}]},\n",
       " {'type': 'r',\n",
       "  'data': [{'name': '0-9 ans', 'prop': 8.03, 'c': 23436, 'nc': 274.456},\n",
       "   {'name': '10-19 ans', 'prop': 12.01, 'c': 35066, 'nc': 410.653},\n",
       "   {'name': '20-29 ans', 'prop': 15.88, 'c': 46353, 'nc': 542.834},\n",
       "   {'name': '30-39 ans', 'prop': 14.73, 'c': 43001, 'nc': 503.579},\n",
       "   {'name': '40-49 ans', 'prop': 15.46, 'c': 45142, 'nc': 528.652},\n",
       "   {'name': '50-59 ans', 'prop': 13.54, 'c': 39510, 'nc': 462.697},\n",
       "   {'name': '60-69 ans', 'prop': 8.21, 'c': 23966, 'nc': 280.663},\n",
       "   {'name': '70-79 ans', 'prop': 4.91, 'c': 14339, 'nc': 167.922},\n",
       "   {'name': '80-89 ans', 'prop': 4.64, 'c': 13555, 'nc': 158.741},\n",
       "   {'name': '90 ans et plus', 'prop': 2.54, 'c': 7418, 'nc': 86.871}]},\n",
       " {'type': 'd',\n",
       "  'data': [{'name': '0-9 ans', 'prop': 0, 'c': 0, 'nc': 0},\n",
       "   {'name': '10-19 ans', 'prop': 0.01, 'c': 1, 'nc': 0.012},\n",
       "   {'name': '20-29 ans', 'prop': 0.07, 'c': 7, 'nc': 0.082},\n",
       "   {'name': '30-39 ans', 'prop': 0.13, 'c': 14, 'nc': 0.164},\n",
       "   {'name': '40-49 ans', 'prop': 0.37, 'c': 39, 'nc': 0.457},\n",
       "   {'name': '50-59 ans', 'prop': 1.73, 'c': 185, 'nc': 2.167},\n",
       "   {'name': '60-69 ans', 'prop': 5.92, 'c': 632, 'nc': 7.401},\n",
       "   {'name': '70-79 ans', 'prop': 18.94, 'c': 2020, 'nc': 23.656},\n",
       "   {'name': '80-89 ans', 'prop': 39.42, 'c': 4205, 'nc': 49.244},\n",
       "   {'name': '90 ans et plus', 'prop': 32.82, 'c': 3501, 'nc': 41}]},\n",
       " {'type': 'h',\n",
       "  'data': [{'name': '0-9 ans', 'prop': 0.82, 'c': 174, 'nc': 2.038},\n",
       "   {'name': '10-19 ans', 'prop': 0.61, 'c': 128, 'nc': 1.499},\n",
       "   {'name': '20-29 ans', 'prop': 2.15, 'c': 455, 'nc': 5.328},\n",
       "   {'name': '30-39 ans', 'prop': 3.94, 'c': 833, 'nc': 9.755},\n",
       "   {'name': '40-49 ans', 'prop': 5.74, 'c': 1213, 'nc': 14.205},\n",
       "   {'name': '50-59 ans', 'prop': 10.67, 'c': 2256, 'nc': 26.42},\n",
       "   {'name': '60-69 ans', 'prop': 15.29, 'c': 3232, 'nc': 37.85},\n",
       "   {'name': '70-79 ans', 'prop': 22.33, 'c': 4722, 'nc': 55.299},\n",
       "   {'name': '80-89 ans', 'prop': 25.97, 'c': 5490, 'nc': 64.293},\n",
       "   {'name': '90 ans et plus', 'prop': 12.49, 'c': 2640, 'nc': 30.917}]},\n",
       " {'type': 'i',\n",
       "  'data': [{'name': '0-9 ans', 'prop': 0.7, 'c': 24, 'nc': 0.281},\n",
       "   {'name': '10-19 ans', 'prop': 0.67, 'c': 23, 'nc': 0.269},\n",
       "   {'name': '20-29 ans', 'prop': 2.32, 'c': 80, 'nc': 0.937},\n",
       "   {'name': '30-39 ans', 'prop': 4.03, 'c': 139, 'nc': 1.628},\n",
       "   {'name': '40-49 ans', 'prop': 8.12, 'c': 280, 'nc': 3.279},\n",
       "   {'name': '50-59 ans', 'prop': 16.3, 'c': 562, 'nc': 6.582},\n",
       "   {'name': '60-69 ans', 'prop': 24.86, 'c': 857, 'nc': 10.036},\n",
       "   {'name': '70-79 ans', 'prop': 28.49, 'c': 982, 'nc': 11.5},\n",
       "   {'name': '80-89 ans', 'prop': 12.53, 'c': 432, 'nc': 5.059},\n",
       "   {'name': '90 ans et plus', 'prop': 1.97, 'c': 68, 'nc': 0.796}]}]"
      ]
     },
     "metadata": {},
     "execution_count": 17
    }
   ],
   "source": [
    "j[\"distributions\"]"
   ]
  },
  {
   "cell_type": "code",
   "execution_count": 9,
   "metadata": {},
   "outputs": [],
   "source": [
    "qc = j[\"data\"]"
   ]
  },
  {
   "cell_type": "code",
   "execution_count": 10,
   "metadata": {},
   "outputs": [],
   "source": [
    "df = json_normalize(qc)"
   ]
  },
  {
   "cell_type": "code",
   "execution_count": 13,
   "metadata": {},
   "outputs": [],
   "source": [
    "df.date = df.date.astype(\"datetime64[ns]\")"
   ]
  },
  {
   "cell_type": "code",
   "execution_count": 24,
   "metadata": {},
   "outputs": [
    {
     "output_type": "execute_result",
     "data": {
      "text/plain": [
       "Index(['date', 'ddc', 'ddr', 'ddh', 'ddo', 'r', 't', 'dt', 'h', 'i', 'v', 'dv',\n",
       "       'nddc', 'nddr', 'nddh', 'nddo', 'nr', 'nt', 'ndt', 'nh', 'ni', 'nv',\n",
       "       'ndv', 'c', 'dc', 'd', 'dd', 'nc', 'ndc', 'nd', 'ndd'],\n",
       "      dtype='object')"
      ]
     },
     "metadata": {},
     "execution_count": 24
    }
   ],
   "source": [
    "df.columns"
   ]
  },
  {
   "cell_type": "code",
   "execution_count": 25,
   "metadata": {},
   "outputs": [
    {
     "output_type": "display_data",
     "data": {
      "application/vnd.plotly.v1+json": {
       "config": {
        "plotlyServerURL": "https://plot.ly"
       },
       "data": [
        {
         "hovertemplate": "x=%{x}<br>y=%{y}<extra></extra>",
         "legendgroup": "",
         "marker": {
          "color": "#636efa",
          "symbol": "circle"
         },
         "mode": "markers",
         "name": "",
         "orientation": "v",
         "showlegend": false,
         "type": "scatter",
         "x": [
          "2020-01-22T00:00:00",
          "2020-01-23T00:00:00",
          "2020-01-24T00:00:00",
          "2020-01-25T00:00:00",
          "2020-01-26T00:00:00",
          "2020-01-27T00:00:00",
          "2020-01-28T00:00:00",
          "2020-01-29T00:00:00",
          "2020-01-30T00:00:00",
          "2020-01-31T00:00:00",
          "2020-02-01T00:00:00",
          "2020-02-02T00:00:00",
          "2020-02-03T00:00:00",
          "2020-02-04T00:00:00",
          "2020-02-05T00:00:00",
          "2020-02-06T00:00:00",
          "2020-02-07T00:00:00",
          "2020-02-08T00:00:00",
          "2020-02-09T00:00:00",
          "2020-02-10T00:00:00",
          "2020-02-11T00:00:00",
          "2020-02-12T00:00:00",
          "2020-02-13T00:00:00",
          "2020-02-14T00:00:00",
          "2020-02-15T00:00:00",
          "2020-02-16T00:00:00",
          "2020-02-17T00:00:00",
          "2020-02-18T00:00:00",
          "2020-02-19T00:00:00",
          "2020-02-20T00:00:00",
          "2020-02-21T00:00:00",
          "2020-02-22T00:00:00",
          "2020-02-23T00:00:00",
          "2020-02-24T00:00:00",
          "2020-02-25T00:00:00",
          "2020-02-26T00:00:00",
          "2020-02-27T00:00:00",
          "2020-02-28T00:00:00",
          "2020-02-29T00:00:00",
          "2020-03-01T00:00:00",
          "2020-03-02T00:00:00",
          "2020-03-03T00:00:00",
          "2020-03-04T00:00:00",
          "2020-03-05T00:00:00",
          "2020-03-06T00:00:00",
          "2020-03-07T00:00:00",
          "2020-03-08T00:00:00",
          "2020-03-09T00:00:00",
          "2020-03-10T00:00:00",
          "2020-03-11T00:00:00",
          "2020-03-12T00:00:00",
          "2020-03-13T00:00:00",
          "2020-03-14T00:00:00",
          "2020-03-15T00:00:00",
          "2020-03-16T00:00:00",
          "2020-03-17T00:00:00",
          "2020-03-18T00:00:00",
          "2020-03-19T00:00:00",
          "2020-03-20T00:00:00",
          "2020-03-21T00:00:00",
          "2020-03-22T00:00:00",
          "2020-03-23T00:00:00",
          "2020-03-24T00:00:00",
          "2020-03-25T00:00:00",
          "2020-03-26T00:00:00",
          "2020-03-27T00:00:00",
          "2020-03-28T00:00:00",
          "2020-03-29T00:00:00",
          "2020-03-30T00:00:00",
          "2020-03-31T00:00:00",
          "2020-04-01T00:00:00",
          "2020-04-02T00:00:00",
          "2020-04-03T00:00:00",
          "2020-04-04T00:00:00",
          "2020-04-05T00:00:00",
          "2020-04-06T00:00:00",
          "2020-04-07T00:00:00",
          "2020-04-08T00:00:00",
          "2020-04-09T00:00:00",
          "2020-04-10T00:00:00",
          "2020-04-11T00:00:00",
          "2020-04-12T00:00:00",
          "2020-04-13T00:00:00",
          "2020-04-14T00:00:00",
          "2020-04-15T00:00:00",
          "2020-04-16T00:00:00",
          "2020-04-17T00:00:00",
          "2020-04-18T00:00:00",
          "2020-04-19T00:00:00",
          "2020-04-20T00:00:00",
          "2020-04-21T00:00:00",
          "2020-04-22T00:00:00",
          "2020-04-23T00:00:00",
          "2020-04-24T00:00:00",
          "2020-04-25T00:00:00",
          "2020-04-26T00:00:00",
          "2020-04-27T00:00:00",
          "2020-04-28T00:00:00",
          "2020-04-29T00:00:00",
          "2020-04-30T00:00:00",
          "2020-05-01T00:00:00",
          "2020-05-02T00:00:00",
          "2020-05-03T00:00:00",
          "2020-05-04T00:00:00",
          "2020-05-05T00:00:00",
          "2020-05-06T00:00:00",
          "2020-05-07T00:00:00",
          "2020-05-08T00:00:00",
          "2020-05-09T00:00:00",
          "2020-05-10T00:00:00",
          "2020-05-11T00:00:00",
          "2020-05-12T00:00:00",
          "2020-05-13T00:00:00",
          "2020-05-14T00:00:00",
          "2020-05-15T00:00:00",
          "2020-05-16T00:00:00",
          "2020-05-17T00:00:00",
          "2020-05-18T00:00:00",
          "2020-05-19T00:00:00",
          "2020-05-20T00:00:00",
          "2020-05-21T00:00:00",
          "2020-05-22T00:00:00",
          "2020-05-23T00:00:00",
          "2020-05-24T00:00:00",
          "2020-05-25T00:00:00",
          "2020-05-26T00:00:00",
          "2020-05-27T00:00:00",
          "2020-05-28T00:00:00",
          "2020-05-29T00:00:00",
          "2020-05-30T00:00:00",
          "2020-05-31T00:00:00",
          "2020-06-01T00:00:00",
          "2020-06-02T00:00:00",
          "2020-06-03T00:00:00",
          "2020-06-04T00:00:00",
          "2020-06-05T00:00:00",
          "2020-06-06T00:00:00",
          "2020-06-07T00:00:00",
          "2020-06-08T00:00:00",
          "2020-06-09T00:00:00",
          "2020-06-10T00:00:00",
          "2020-06-11T00:00:00",
          "2020-06-12T00:00:00",
          "2020-06-13T00:00:00",
          "2020-06-14T00:00:00",
          "2020-06-15T00:00:00",
          "2020-06-16T00:00:00",
          "2020-06-17T00:00:00",
          "2020-06-18T00:00:00",
          "2020-06-19T00:00:00",
          "2020-06-20T00:00:00",
          "2020-06-21T00:00:00",
          "2020-06-22T00:00:00",
          "2020-06-23T00:00:00",
          "2020-06-24T00:00:00",
          "2020-06-25T00:00:00",
          "2020-06-26T00:00:00",
          "2020-06-27T00:00:00",
          "2020-06-28T00:00:00",
          "2020-06-29T00:00:00",
          "2020-06-30T00:00:00",
          "2020-07-01T00:00:00",
          "2020-07-02T00:00:00",
          "2020-07-03T00:00:00",
          "2020-07-04T00:00:00",
          "2020-07-05T00:00:00",
          "2020-07-06T00:00:00",
          "2020-07-07T00:00:00",
          "2020-07-08T00:00:00",
          "2020-07-09T00:00:00",
          "2020-07-10T00:00:00",
          "2020-07-11T00:00:00",
          "2020-07-12T00:00:00",
          "2020-07-13T00:00:00",
          "2020-07-14T00:00:00",
          "2020-07-15T00:00:00",
          "2020-07-16T00:00:00",
          "2020-07-17T00:00:00",
          "2020-07-18T00:00:00",
          "2020-07-19T00:00:00",
          "2020-07-20T00:00:00",
          "2020-07-21T00:00:00",
          "2020-07-22T00:00:00",
          "2020-07-23T00:00:00",
          "2020-07-24T00:00:00",
          "2020-07-25T00:00:00",
          "2020-07-26T00:00:00",
          "2020-07-27T00:00:00",
          "2020-07-28T00:00:00",
          "2020-07-29T00:00:00",
          "2020-07-30T00:00:00",
          "2020-07-31T00:00:00",
          "2020-08-01T00:00:00",
          "2020-08-02T00:00:00",
          "2020-08-03T00:00:00",
          "2020-08-04T00:00:00",
          "2020-08-05T00:00:00",
          "2020-08-06T00:00:00",
          "2020-08-07T00:00:00",
          "2020-08-08T00:00:00",
          "2020-08-09T00:00:00",
          "2020-08-10T00:00:00",
          "2020-08-11T00:00:00",
          "2020-08-12T00:00:00",
          "2020-08-13T00:00:00",
          "2020-08-14T00:00:00",
          "2020-08-15T00:00:00",
          "2020-08-16T00:00:00",
          "2020-08-17T00:00:00",
          "2020-08-18T00:00:00",
          "2020-08-19T00:00:00",
          "2020-08-20T00:00:00",
          "2020-08-21T00:00:00",
          "2020-08-22T00:00:00",
          "2020-08-23T00:00:00",
          "2020-08-24T00:00:00",
          "2020-08-25T00:00:00",
          "2020-08-26T00:00:00",
          "2020-08-27T00:00:00",
          "2020-08-28T00:00:00",
          "2020-08-29T00:00:00",
          "2020-08-30T00:00:00",
          "2020-08-31T00:00:00",
          "2020-09-01T00:00:00",
          "2020-09-02T00:00:00",
          "2020-09-03T00:00:00",
          "2020-09-04T00:00:00",
          "2020-09-05T00:00:00",
          "2020-09-06T00:00:00",
          "2020-09-07T00:00:00",
          "2020-09-08T00:00:00",
          "2020-09-09T00:00:00",
          "2020-09-10T00:00:00",
          "2020-09-11T00:00:00",
          "2020-09-12T00:00:00",
          "2020-09-13T00:00:00",
          "2020-09-14T00:00:00",
          "2020-09-15T00:00:00",
          "2020-09-16T00:00:00",
          "2020-09-17T00:00:00",
          "2020-09-18T00:00:00",
          "2020-09-19T00:00:00",
          "2020-09-20T00:00:00",
          "2020-09-21T00:00:00",
          "2020-09-22T00:00:00",
          "2020-09-23T00:00:00",
          "2020-09-24T00:00:00",
          "2020-09-25T00:00:00",
          "2020-09-26T00:00:00",
          "2020-09-27T00:00:00",
          "2020-09-28T00:00:00",
          "2020-09-29T00:00:00",
          "2020-09-30T00:00:00",
          "2020-10-01T00:00:00",
          "2020-10-02T00:00:00",
          "2020-10-03T00:00:00",
          "2020-10-04T00:00:00",
          "2020-10-05T00:00:00",
          "2020-10-06T00:00:00",
          "2020-10-07T00:00:00",
          "2020-10-08T00:00:00",
          "2020-10-09T00:00:00",
          "2020-10-10T00:00:00",
          "2020-10-11T00:00:00",
          "2020-10-12T00:00:00",
          "2020-10-13T00:00:00",
          "2020-10-14T00:00:00",
          "2020-10-15T00:00:00",
          "2020-10-16T00:00:00",
          "2020-10-17T00:00:00",
          "2020-10-18T00:00:00",
          "2020-10-19T00:00:00",
          "2020-10-20T00:00:00",
          "2020-10-21T00:00:00",
          "2020-10-22T00:00:00",
          "2020-10-23T00:00:00",
          "2020-10-24T00:00:00",
          "2020-10-25T00:00:00",
          "2020-10-26T00:00:00",
          "2020-10-27T00:00:00",
          "2020-10-28T00:00:00",
          "2020-10-29T00:00:00",
          "2020-10-30T00:00:00",
          "2020-10-31T00:00:00",
          "2020-11-01T00:00:00",
          "2020-11-02T00:00:00",
          "2020-11-03T00:00:00",
          "2020-11-04T00:00:00",
          "2020-11-05T00:00:00",
          "2020-11-06T00:00:00",
          "2020-11-07T00:00:00",
          "2020-11-08T00:00:00",
          "2020-11-09T00:00:00",
          "2020-11-10T00:00:00",
          "2020-11-11T00:00:00",
          "2020-11-12T00:00:00",
          "2020-11-13T00:00:00",
          "2020-11-14T00:00:00",
          "2020-11-15T00:00:00",
          "2020-11-16T00:00:00",
          "2020-11-17T00:00:00",
          "2020-11-18T00:00:00",
          "2020-11-19T00:00:00",
          "2020-11-20T00:00:00",
          "2020-11-21T00:00:00",
          "2020-11-22T00:00:00",
          "2020-11-23T00:00:00",
          "2020-11-24T00:00:00",
          "2020-11-25T00:00:00",
          "2020-11-26T00:00:00",
          "2020-11-27T00:00:00",
          "2020-11-28T00:00:00",
          "2020-11-29T00:00:00",
          "2020-11-30T00:00:00",
          "2020-12-01T00:00:00",
          "2020-12-02T00:00:00",
          "2020-12-03T00:00:00",
          "2020-12-04T00:00:00",
          "2020-12-05T00:00:00",
          "2020-12-06T00:00:00",
          "2020-12-07T00:00:00",
          "2020-12-08T00:00:00",
          "2020-12-09T00:00:00",
          "2020-12-10T00:00:00",
          "2020-12-11T00:00:00",
          "2020-12-12T00:00:00",
          "2020-12-13T00:00:00",
          "2020-12-14T00:00:00",
          "2020-12-15T00:00:00",
          "2020-12-16T00:00:00",
          "2020-12-17T00:00:00",
          "2020-12-18T00:00:00",
          "2020-12-19T00:00:00",
          "2020-12-20T00:00:00",
          "2020-12-21T00:00:00",
          "2020-12-22T00:00:00",
          "2020-12-23T00:00:00",
          "2020-12-24T00:00:00",
          "2020-12-25T00:00:00",
          "2020-12-26T00:00:00",
          "2020-12-27T00:00:00",
          "2020-12-28T00:00:00",
          "2020-12-29T00:00:00",
          "2020-12-30T00:00:00",
          "2020-12-31T00:00:00",
          "2021-01-01T00:00:00",
          "2021-01-02T00:00:00",
          "2021-01-03T00:00:00",
          "2021-01-04T00:00:00",
          "2021-01-05T00:00:00",
          "2021-01-06T00:00:00",
          "2021-01-07T00:00:00",
          "2021-01-08T00:00:00",
          "2021-01-09T00:00:00",
          "2021-01-10T00:00:00",
          "2021-01-11T00:00:00",
          "2021-01-12T00:00:00",
          "2021-01-13T00:00:00",
          "2021-01-14T00:00:00",
          "2021-01-15T00:00:00",
          "2021-01-16T00:00:00",
          "2021-01-17T00:00:00",
          "2021-01-18T00:00:00",
          "2021-01-19T00:00:00",
          "2021-01-20T00:00:00",
          "2021-01-21T00:00:00",
          "2021-01-22T00:00:00",
          "2021-01-23T00:00:00",
          "2021-01-24T00:00:00",
          "2021-01-25T00:00:00",
          "2021-01-26T00:00:00",
          "2021-01-27T00:00:00",
          "2021-01-28T00:00:00",
          "2021-01-29T00:00:00",
          "2021-01-30T00:00:00",
          "2021-01-31T00:00:00",
          "2021-02-01T00:00:00",
          "2021-02-02T00:00:00",
          "2021-02-03T00:00:00",
          "2021-02-04T00:00:00",
          "2021-02-05T00:00:00",
          "2021-02-06T00:00:00",
          "2021-02-07T00:00:00",
          "2021-02-08T00:00:00",
          "2021-02-09T00:00:00",
          "2021-02-10T00:00:00",
          "2021-02-11T00:00:00",
          "2021-02-12T00:00:00",
          "2021-02-13T00:00:00",
          "2021-02-14T00:00:00",
          "2021-02-15T00:00:00",
          "2021-02-16T00:00:00",
          "2021-02-17T00:00:00",
          "2021-02-18T00:00:00",
          "2021-02-19T00:00:00",
          "2021-02-20T00:00:00",
          "2021-02-21T00:00:00",
          "2021-02-22T00:00:00",
          "2021-02-23T00:00:00",
          "2021-02-24T00:00:00",
          "2021-02-25T00:00:00",
          "2021-02-26T00:00:00",
          "2021-02-27T00:00:00",
          "2021-02-28T00:00:00",
          "2021-03-01T00:00:00",
          "2021-03-02T00:00:00",
          "2021-03-03T00:00:00",
          "2021-03-04T00:00:00",
          "2021-03-05T00:00:00",
          "2021-03-06T00:00:00",
          "2021-03-07T00:00:00",
          "2021-03-08T00:00:00",
          "2021-03-09T00:00:00",
          "2021-03-10T00:00:00",
          "2021-03-11T00:00:00",
          "2021-03-12T00:00:00",
          "2021-03-13T00:00:00",
          "2021-03-14T00:00:00",
          "2021-03-15T00:00:00",
          "2021-03-16T00:00:00",
          "2021-03-17T00:00:00",
          "2021-03-18T00:00:00",
          "2021-03-19T00:00:00",
          "2021-03-20T00:00:00",
          "2021-03-21T00:00:00",
          "2021-03-22T00:00:00",
          "2021-03-23T00:00:00",
          "2021-03-24T00:00:00",
          "2021-03-25T00:00:00",
          "2021-03-26T00:00:00",
          "2021-03-27T00:00:00",
          "2021-03-28T00:00:00",
          "2021-03-29T00:00:00",
          "2021-03-30T00:00:00",
          "2021-03-31T00:00:00"
         ],
         "xaxis": "x",
         "y": [
          0,
          0,
          0,
          0,
          0,
          0,
          0,
          0,
          0,
          0,
          0,
          0,
          0,
          0,
          0,
          0,
          0,
          0,
          0,
          0,
          0,
          0,
          0,
          0,
          0,
          0,
          0,
          0,
          0,
          0,
          0,
          0,
          0,
          0,
          0,
          0.012,
          0,
          0,
          0,
          0,
          0,
          0,
          0,
          0.012,
          0.012,
          0,
          0.012,
          0,
          0.012,
          0.035,
          0.059,
          0.047,
          0.082,
          0.176,
          0.129,
          0.281,
          0.234,
          0.316,
          0.211,
          0.492,
          0.445,
          4.79,
          4.509,
          3.818,
          3.396,
          4.591,
          5.586,
          4.005,
          6.909,
          8.572,
          5.258,
          10.622,
          6.827,
          10.493,
          11.09,
          7.448,
          8.9,
          8.092,
          10.317,
          8.959,
          7.202,
          6.488,
          8.326,
          8.092,
          7.167,
          11.676,
          11.02,
          8.467,
          9.79,
          11.266,
          9.451,
          9.825,
          10.224,
          9.111,
          7.624,
          9.837,
          10.247,
          9.076,
          9.802,
          11.055,
          12.999,
          11.805,
          25.869,
          8.877,
          9.298,
          10.657,
          10.669,
          10.68,
          9.79,
          8.607,
          8.76,
          8.853,
          8.268,
          9.287,
          8.151,
          8.935,
          8.631,
          8.28,
          6.675,
          6.769,
          8.432,
          7.565,
          8.162,
          6.71,
          6.71,
          7.19,
          6.336,
          6.593,
          6.207,
          4.907,
          4.778,
          3.455,
          2.799,
          3.408,
          3.033,
          2.986,
          2.647,
          2.635,
          2.319,
          1.616,
          1.827,
          1.686,
          2.12,
          1.85,
          1.499,
          1.195,
          1.077,
          1.37,
          1.405,
          1.956,
          1.452,
          1.077,
          0.808,
          0.574,
          0.621,
          1.663,
          0.902,
          0.995,
          0.902,
          0.843,
          0.796,
          0.773,
          0.808,
          1.042,
          1.195,
          0.925,
          0.867,
          0.703,
          0.96,
          1.604,
          1.171,
          1.066,
          1.335,
          1.171,
          1.276,
          1.511,
          1.663,
          1.651,
          1.85,
          1.944,
          1.757,
          2.108,
          1.663,
          1.663,
          1.909,
          2.003,
          1.979,
          1.698,
          1.979,
          1.312,
          1.429,
          2.12,
          1.71,
          1.651,
          1.44,
          1.44,
          1.815,
          1.558,
          1.265,
          1.476,
          1.218,
          1.827,
          1.066,
          1.113,
          1.218,
          1.019,
          0.937,
          0.785,
          0.644,
          0.539,
          0.749,
          1.007,
          1.089,
          1.218,
          0.867,
          0.796,
          0.726,
          1.663,
          1.3,
          0.796,
          1.265,
          1.405,
          1.64,
          1.429,
          1.546,
          2.19,
          2.155,
          2.049,
          2.401,
          2.53,
          1.909,
          2.108,
          2.202,
          2.565,
          2.857,
          3.267,
          3.232,
          3.42,
          3.548,
          5.844,
          3.466,
          5.001,
          5.422,
          6.851,
          5.727,
          5.516,
          6.816,
          7.46,
          8.174,
          10.493,
          8.783,
          9.357,
          9.814,
          10.926,
          12.32,
          12.952,
          12.636,
          13.948,
          15.974,
          10.54,
          12.624,
          12.905,
          12.847,
          11.032,
          9.872,
          13.772,
          9.884,
          11.348,
          12.355,
          14.978,
          12.812,
          12.156,
          9.216,
          12.554,
          12.097,
          10.598,
          11.816,
          10.294,
          9.462,
          11.278,
          10.879,
          12.062,
          12.976,
          12.46,
          11.301,
          12.144,
          10.2,
          12.05,
          13.327,
          13.268,
          14.451,
          15.564,
          14.486,
          13.608,
          20.635,
          16.02,
          10.704,
          16.957,
          14.182,
          14.264,
          11.5,
          13.807,
          14.135,
          14.744,
          13.924,
          13.514,
          13.631,
          13.163,
          12.882,
          20.88,
          11.125,
          17.332,
          16.337,
          15.611,
          13.784,
          17.73,
          17.215,
          15.751,
          23.785,
          19.803,
          18.468,
          18.316,
          20.236,
          21.571,
          20.061,
          22.227,
          23.351,
          18.972,
          20.389,
          22.216,
          21.724,
          20.763,
          23.867,
          25.132,
          24.687,
          25.565,
          26.314,
          27.509,
          41.468,
          26.56,
          24.616,
          25.354,
          27.076,
          33.587,
          33.153,
          29.734,
          32.181,
          27.919,
          14.287,
          41.492,
          29.792,
          18.515,
          30.308,
          36.62,
          30.308,
          21.888,
          22.649,
          24.253,
          24.968,
          22.461,
          26.057,
          20.424,
          19.136,
          16.231,
          17.59,
          19.018,
          19.1,
          19.733,
          17.063,
          14.088,
          13.655,
          15.552,
          16.02,
          15.166,
          16.009,
          14.322,
          10.423,
          12.332,
          12.332,
          12.8,
          12.894,
          14.1,
          12.659,
          9.989,
          9.673,
          11.582,
          13.128,
          11.523,
          12.285,
          10.657,
          8.526,
          7.835,
          9.369,
          10.54,
          9.369,
          9.006,
          7.799,
          9.427,
          8.654,
          9.439,
          10.048,
          9.544,
          10.048,
          8.631,
          7.179,
          6.886,
          8.537,
          8.28,
          9.345,
          8.771,
          8.28,
          6.781,
          7.612,
          9.275,
          8.643,
          8.818,
          9.076,
          7.893,
          6.956,
          7.39,
          8.537,
          8.526,
          8.971,
          9.486,
          7.963,
          7.858,
          8.303,
          9.076,
          12.097,
          11.816,
          11.781,
          10.891,
          6.312,
          10.118,
          12.004
         ],
         "yaxis": "y"
        }
       ],
       "layout": {
        "legend": {
         "tracegroupgap": 0
        },
        "margin": {
         "t": 60
        },
        "template": {
         "data": {
          "bar": [
           {
            "error_x": {
             "color": "#2a3f5f"
            },
            "error_y": {
             "color": "#2a3f5f"
            },
            "marker": {
             "line": {
              "color": "#E5ECF6",
              "width": 0.5
             }
            },
            "type": "bar"
           }
          ],
          "barpolar": [
           {
            "marker": {
             "line": {
              "color": "#E5ECF6",
              "width": 0.5
             }
            },
            "type": "barpolar"
           }
          ],
          "carpet": [
           {
            "aaxis": {
             "endlinecolor": "#2a3f5f",
             "gridcolor": "white",
             "linecolor": "white",
             "minorgridcolor": "white",
             "startlinecolor": "#2a3f5f"
            },
            "baxis": {
             "endlinecolor": "#2a3f5f",
             "gridcolor": "white",
             "linecolor": "white",
             "minorgridcolor": "white",
             "startlinecolor": "#2a3f5f"
            },
            "type": "carpet"
           }
          ],
          "choropleth": [
           {
            "colorbar": {
             "outlinewidth": 0,
             "ticks": ""
            },
            "type": "choropleth"
           }
          ],
          "contour": [
           {
            "colorbar": {
             "outlinewidth": 0,
             "ticks": ""
            },
            "colorscale": [
             [
              0,
              "#0d0887"
             ],
             [
              0.1111111111111111,
              "#46039f"
             ],
             [
              0.2222222222222222,
              "#7201a8"
             ],
             [
              0.3333333333333333,
              "#9c179e"
             ],
             [
              0.4444444444444444,
              "#bd3786"
             ],
             [
              0.5555555555555556,
              "#d8576b"
             ],
             [
              0.6666666666666666,
              "#ed7953"
             ],
             [
              0.7777777777777778,
              "#fb9f3a"
             ],
             [
              0.8888888888888888,
              "#fdca26"
             ],
             [
              1,
              "#f0f921"
             ]
            ],
            "type": "contour"
           }
          ],
          "contourcarpet": [
           {
            "colorbar": {
             "outlinewidth": 0,
             "ticks": ""
            },
            "type": "contourcarpet"
           }
          ],
          "heatmap": [
           {
            "colorbar": {
             "outlinewidth": 0,
             "ticks": ""
            },
            "colorscale": [
             [
              0,
              "#0d0887"
             ],
             [
              0.1111111111111111,
              "#46039f"
             ],
             [
              0.2222222222222222,
              "#7201a8"
             ],
             [
              0.3333333333333333,
              "#9c179e"
             ],
             [
              0.4444444444444444,
              "#bd3786"
             ],
             [
              0.5555555555555556,
              "#d8576b"
             ],
             [
              0.6666666666666666,
              "#ed7953"
             ],
             [
              0.7777777777777778,
              "#fb9f3a"
             ],
             [
              0.8888888888888888,
              "#fdca26"
             ],
             [
              1,
              "#f0f921"
             ]
            ],
            "type": "heatmap"
           }
          ],
          "heatmapgl": [
           {
            "colorbar": {
             "outlinewidth": 0,
             "ticks": ""
            },
            "colorscale": [
             [
              0,
              "#0d0887"
             ],
             [
              0.1111111111111111,
              "#46039f"
             ],
             [
              0.2222222222222222,
              "#7201a8"
             ],
             [
              0.3333333333333333,
              "#9c179e"
             ],
             [
              0.4444444444444444,
              "#bd3786"
             ],
             [
              0.5555555555555556,
              "#d8576b"
             ],
             [
              0.6666666666666666,
              "#ed7953"
             ],
             [
              0.7777777777777778,
              "#fb9f3a"
             ],
             [
              0.8888888888888888,
              "#fdca26"
             ],
             [
              1,
              "#f0f921"
             ]
            ],
            "type": "heatmapgl"
           }
          ],
          "histogram": [
           {
            "marker": {
             "colorbar": {
              "outlinewidth": 0,
              "ticks": ""
             }
            },
            "type": "histogram"
           }
          ],
          "histogram2d": [
           {
            "colorbar": {
             "outlinewidth": 0,
             "ticks": ""
            },
            "colorscale": [
             [
              0,
              "#0d0887"
             ],
             [
              0.1111111111111111,
              "#46039f"
             ],
             [
              0.2222222222222222,
              "#7201a8"
             ],
             [
              0.3333333333333333,
              "#9c179e"
             ],
             [
              0.4444444444444444,
              "#bd3786"
             ],
             [
              0.5555555555555556,
              "#d8576b"
             ],
             [
              0.6666666666666666,
              "#ed7953"
             ],
             [
              0.7777777777777778,
              "#fb9f3a"
             ],
             [
              0.8888888888888888,
              "#fdca26"
             ],
             [
              1,
              "#f0f921"
             ]
            ],
            "type": "histogram2d"
           }
          ],
          "histogram2dcontour": [
           {
            "colorbar": {
             "outlinewidth": 0,
             "ticks": ""
            },
            "colorscale": [
             [
              0,
              "#0d0887"
             ],
             [
              0.1111111111111111,
              "#46039f"
             ],
             [
              0.2222222222222222,
              "#7201a8"
             ],
             [
              0.3333333333333333,
              "#9c179e"
             ],
             [
              0.4444444444444444,
              "#bd3786"
             ],
             [
              0.5555555555555556,
              "#d8576b"
             ],
             [
              0.6666666666666666,
              "#ed7953"
             ],
             [
              0.7777777777777778,
              "#fb9f3a"
             ],
             [
              0.8888888888888888,
              "#fdca26"
             ],
             [
              1,
              "#f0f921"
             ]
            ],
            "type": "histogram2dcontour"
           }
          ],
          "mesh3d": [
           {
            "colorbar": {
             "outlinewidth": 0,
             "ticks": ""
            },
            "type": "mesh3d"
           }
          ],
          "parcoords": [
           {
            "line": {
             "colorbar": {
              "outlinewidth": 0,
              "ticks": ""
             }
            },
            "type": "parcoords"
           }
          ],
          "pie": [
           {
            "automargin": true,
            "type": "pie"
           }
          ],
          "scatter": [
           {
            "marker": {
             "colorbar": {
              "outlinewidth": 0,
              "ticks": ""
             }
            },
            "type": "scatter"
           }
          ],
          "scatter3d": [
           {
            "line": {
             "colorbar": {
              "outlinewidth": 0,
              "ticks": ""
             }
            },
            "marker": {
             "colorbar": {
              "outlinewidth": 0,
              "ticks": ""
             }
            },
            "type": "scatter3d"
           }
          ],
          "scattercarpet": [
           {
            "marker": {
             "colorbar": {
              "outlinewidth": 0,
              "ticks": ""
             }
            },
            "type": "scattercarpet"
           }
          ],
          "scattergeo": [
           {
            "marker": {
             "colorbar": {
              "outlinewidth": 0,
              "ticks": ""
             }
            },
            "type": "scattergeo"
           }
          ],
          "scattergl": [
           {
            "marker": {
             "colorbar": {
              "outlinewidth": 0,
              "ticks": ""
             }
            },
            "type": "scattergl"
           }
          ],
          "scattermapbox": [
           {
            "marker": {
             "colorbar": {
              "outlinewidth": 0,
              "ticks": ""
             }
            },
            "type": "scattermapbox"
           }
          ],
          "scatterpolar": [
           {
            "marker": {
             "colorbar": {
              "outlinewidth": 0,
              "ticks": ""
             }
            },
            "type": "scatterpolar"
           }
          ],
          "scatterpolargl": [
           {
            "marker": {
             "colorbar": {
              "outlinewidth": 0,
              "ticks": ""
             }
            },
            "type": "scatterpolargl"
           }
          ],
          "scatterternary": [
           {
            "marker": {
             "colorbar": {
              "outlinewidth": 0,
              "ticks": ""
             }
            },
            "type": "scatterternary"
           }
          ],
          "surface": [
           {
            "colorbar": {
             "outlinewidth": 0,
             "ticks": ""
            },
            "colorscale": [
             [
              0,
              "#0d0887"
             ],
             [
              0.1111111111111111,
              "#46039f"
             ],
             [
              0.2222222222222222,
              "#7201a8"
             ],
             [
              0.3333333333333333,
              "#9c179e"
             ],
             [
              0.4444444444444444,
              "#bd3786"
             ],
             [
              0.5555555555555556,
              "#d8576b"
             ],
             [
              0.6666666666666666,
              "#ed7953"
             ],
             [
              0.7777777777777778,
              "#fb9f3a"
             ],
             [
              0.8888888888888888,
              "#fdca26"
             ],
             [
              1,
              "#f0f921"
             ]
            ],
            "type": "surface"
           }
          ],
          "table": [
           {
            "cells": {
             "fill": {
              "color": "#EBF0F8"
             },
             "line": {
              "color": "white"
             }
            },
            "header": {
             "fill": {
              "color": "#C8D4E3"
             },
             "line": {
              "color": "white"
             }
            },
            "type": "table"
           }
          ]
         },
         "layout": {
          "annotationdefaults": {
           "arrowcolor": "#2a3f5f",
           "arrowhead": 0,
           "arrowwidth": 1
          },
          "autotypenumbers": "strict",
          "coloraxis": {
           "colorbar": {
            "outlinewidth": 0,
            "ticks": ""
           }
          },
          "colorscale": {
           "diverging": [
            [
             0,
             "#8e0152"
            ],
            [
             0.1,
             "#c51b7d"
            ],
            [
             0.2,
             "#de77ae"
            ],
            [
             0.3,
             "#f1b6da"
            ],
            [
             0.4,
             "#fde0ef"
            ],
            [
             0.5,
             "#f7f7f7"
            ],
            [
             0.6,
             "#e6f5d0"
            ],
            [
             0.7,
             "#b8e186"
            ],
            [
             0.8,
             "#7fbc41"
            ],
            [
             0.9,
             "#4d9221"
            ],
            [
             1,
             "#276419"
            ]
           ],
           "sequential": [
            [
             0,
             "#0d0887"
            ],
            [
             0.1111111111111111,
             "#46039f"
            ],
            [
             0.2222222222222222,
             "#7201a8"
            ],
            [
             0.3333333333333333,
             "#9c179e"
            ],
            [
             0.4444444444444444,
             "#bd3786"
            ],
            [
             0.5555555555555556,
             "#d8576b"
            ],
            [
             0.6666666666666666,
             "#ed7953"
            ],
            [
             0.7777777777777778,
             "#fb9f3a"
            ],
            [
             0.8888888888888888,
             "#fdca26"
            ],
            [
             1,
             "#f0f921"
            ]
           ],
           "sequentialminus": [
            [
             0,
             "#0d0887"
            ],
            [
             0.1111111111111111,
             "#46039f"
            ],
            [
             0.2222222222222222,
             "#7201a8"
            ],
            [
             0.3333333333333333,
             "#9c179e"
            ],
            [
             0.4444444444444444,
             "#bd3786"
            ],
            [
             0.5555555555555556,
             "#d8576b"
            ],
            [
             0.6666666666666666,
             "#ed7953"
            ],
            [
             0.7777777777777778,
             "#fb9f3a"
            ],
            [
             0.8888888888888888,
             "#fdca26"
            ],
            [
             1,
             "#f0f921"
            ]
           ]
          },
          "colorway": [
           "#636efa",
           "#EF553B",
           "#00cc96",
           "#ab63fa",
           "#FFA15A",
           "#19d3f3",
           "#FF6692",
           "#B6E880",
           "#FF97FF",
           "#FECB52"
          ],
          "font": {
           "color": "#2a3f5f"
          },
          "geo": {
           "bgcolor": "white",
           "lakecolor": "white",
           "landcolor": "#E5ECF6",
           "showlakes": true,
           "showland": true,
           "subunitcolor": "white"
          },
          "hoverlabel": {
           "align": "left"
          },
          "hovermode": "closest",
          "mapbox": {
           "style": "light"
          },
          "paper_bgcolor": "white",
          "plot_bgcolor": "#E5ECF6",
          "polar": {
           "angularaxis": {
            "gridcolor": "white",
            "linecolor": "white",
            "ticks": ""
           },
           "bgcolor": "#E5ECF6",
           "radialaxis": {
            "gridcolor": "white",
            "linecolor": "white",
            "ticks": ""
           }
          },
          "scene": {
           "xaxis": {
            "backgroundcolor": "#E5ECF6",
            "gridcolor": "white",
            "gridwidth": 2,
            "linecolor": "white",
            "showbackground": true,
            "ticks": "",
            "zerolinecolor": "white"
           },
           "yaxis": {
            "backgroundcolor": "#E5ECF6",
            "gridcolor": "white",
            "gridwidth": 2,
            "linecolor": "white",
            "showbackground": true,
            "ticks": "",
            "zerolinecolor": "white"
           },
           "zaxis": {
            "backgroundcolor": "#E5ECF6",
            "gridcolor": "white",
            "gridwidth": 2,
            "linecolor": "white",
            "showbackground": true,
            "ticks": "",
            "zerolinecolor": "white"
           }
          },
          "shapedefaults": {
           "line": {
            "color": "#2a3f5f"
           }
          },
          "ternary": {
           "aaxis": {
            "gridcolor": "white",
            "linecolor": "white",
            "ticks": ""
           },
           "baxis": {
            "gridcolor": "white",
            "linecolor": "white",
            "ticks": ""
           },
           "bgcolor": "#E5ECF6",
           "caxis": {
            "gridcolor": "white",
            "linecolor": "white",
            "ticks": ""
           }
          },
          "title": {
           "x": 0.05
          },
          "xaxis": {
           "automargin": true,
           "gridcolor": "white",
           "linecolor": "white",
           "ticks": "",
           "title": {
            "standoff": 15
           },
           "zerolinecolor": "white",
           "zerolinewidth": 2
          },
          "yaxis": {
           "automargin": true,
           "gridcolor": "white",
           "linecolor": "white",
           "ticks": "",
           "title": {
            "standoff": 15
           },
           "zerolinecolor": "white",
           "zerolinewidth": 2
          }
         }
        },
        "xaxis": {
         "anchor": "y",
         "domain": [
          0,
          1
         ],
         "title": {
          "text": "x"
         }
        },
        "yaxis": {
         "anchor": "x",
         "domain": [
          0,
          1
         ],
         "title": {
          "text": "y"
         }
        }
       }
      }
     },
     "metadata": {}
    }
   ],
   "source": [
    "import plotly.express as px\n",
    "px.scatter(x=df.date, y=df.ndc)"
   ]
  },
  {
   "cell_type": "code",
   "execution_count": null,
   "metadata": {},
   "outputs": [],
   "source": []
  }
 ]
}